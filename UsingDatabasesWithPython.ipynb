{
 "cells": [
  {
   "cell_type": "code",
   "execution_count": null,
   "metadata": {
    "collapsed": true,
    "deletable": true,
    "editable": true
   },
   "outputs": [],
   "source": [
    "# Object oriented programming"
   ]
  },
  {
   "cell_type": "code",
   "execution_count": 1,
   "metadata": {
    "collapsed": false,
    "deletable": true,
    "editable": true
   },
   "outputs": [
    {
     "name": "stdout",
     "output_type": "stream",
     "text": [
      "chuck\n",
      "chuck\n",
      "chuck\n"
     ]
    }
   ],
   "source": [
    "stuff=list()\n",
    "stuff.append('python')\n",
    "stuff.append('chuck')\n",
    "stuff.sort()\n",
    "print(stuff[0])\n",
    "\n",
    "print(stuff.__getitem__(0))\n",
    "print(list.__getitem__(stuff,0))"
   ]
  },
  {
   "cell_type": "code",
   "execution_count": null,
   "metadata": {
    "collapsed": true,
    "deletable": true,
    "editable": true
   },
   "outputs": [],
   "source": []
  },
  {
   "cell_type": "code",
   "execution_count": null,
   "metadata": {
    "collapsed": true,
    "deletable": true,
    "editable": true
   },
   "outputs": [],
   "source": []
  },
  {
   "cell_type": "code",
   "execution_count": 31,
   "metadata": {
    "collapsed": false,
    "deletable": true,
    "editable": true
   },
   "outputs": [],
   "source": [
    "class PartyAnimal:\n",
    "    x=0\n",
    "    \n",
    "    def party(self):\n",
    "        self.x=self.x+1\n",
    "        print(\"So far\", self.x)\n",
    "    def summation(self, PartyAnymal):\n",
    "        print(self.x+PartyAnymal.x)\n",
    "        #return len(self.x)"
   ]
  },
  {
   "cell_type": "code",
   "execution_count": 32,
   "metadata": {
    "collapsed": false,
    "deletable": true,
    "editable": true
   },
   "outputs": [
    {
     "name": "stdout",
     "output_type": "stream",
     "text": [
      "Type <class '__main__.PartyAnimal'>\n",
      "Dir ['__class__', '__delattr__', '__dict__', '__dir__', '__doc__', '__eq__', '__format__', '__ge__', '__getattribute__', '__gt__', '__hash__', '__init__', '__le__', '__lt__', '__module__', '__ne__', '__new__', '__reduce__', '__reduce_ex__', '__repr__', '__setattr__', '__sizeof__', '__str__', '__subclasshook__', '__weakref__', 'party', 'summation', 'x']\n",
      "So far 1\n",
      "So far 2\n",
      "So far 3\n"
     ]
    }
   ],
   "source": [
    "an=PartyAnimal()\n",
    "print(\"Type\", type(an))\n",
    "print(\"Dir\", dir(an))\n",
    "\n",
    "an.party()\n",
    "an.party()\n",
    "an.party()"
   ]
  },
  {
   "cell_type": "code",
   "execution_count": 33,
   "metadata": {
    "collapsed": false,
    "deletable": true,
    "editable": true
   },
   "outputs": [
    {
     "name": "stdout",
     "output_type": "stream",
     "text": [
      "So far 1\n",
      "4\n"
     ]
    }
   ],
   "source": [
    "b=PartyAnimal()\n",
    "b.party()\n",
    "an.summation(b)"
   ]
  },
  {
   "cell_type": "code",
   "execution_count": null,
   "metadata": {
    "collapsed": false,
    "deletable": true,
    "editable": true
   },
   "outputs": [],
   "source": []
  },
  {
   "cell_type": "code",
   "execution_count": null,
   "metadata": {
    "collapsed": false,
    "deletable": true,
    "editable": true
   },
   "outputs": [],
   "source": []
  },
  {
   "cell_type": "markdown",
   "metadata": {
    "deletable": true,
    "editable": true
   },
   "source": [
    "## Object lifecycle"
   ]
  },
  {
   "cell_type": "code",
   "execution_count": 40,
   "metadata": {
    "collapsed": true,
    "deletable": true,
    "editable": true
   },
   "outputs": [],
   "source": [
    "class PartyAnimal:\n",
    "    x=0 \n",
    "    def __init__(self):\n",
    "        print(\"I am constructed\")\n",
    "    def party(self):\n",
    "        self.x=self.x+1\n",
    "        print(\"So far\", self.x)        \n",
    "    def __del__(self):\n",
    "        print(\"I am destructed\",self.x)"
   ]
  },
  {
   "cell_type": "code",
   "execution_count": 41,
   "metadata": {
    "collapsed": false,
    "deletable": true,
    "editable": true,
    "scrolled": false
   },
   "outputs": [
    {
     "name": "stdout",
     "output_type": "stream",
     "text": [
      "I am constructed\n",
      "So far 1\n",
      "So far 2\n",
      "So far 3\n"
     ]
    }
   ],
   "source": [
    "an=PartyAnimal()\n",
    "\n",
    "an.party()\n",
    "\n",
    "an.party()\n",
    "\n",
    "an.party()"
   ]
  },
  {
   "cell_type": "code",
   "execution_count": 42,
   "metadata": {
    "collapsed": true,
    "deletable": true,
    "editable": true
   },
   "outputs": [],
   "source": [
    "an.x=32"
   ]
  },
  {
   "cell_type": "code",
   "execution_count": 43,
   "metadata": {
    "collapsed": false,
    "deletable": true,
    "editable": true
   },
   "outputs": [
    {
     "name": "stdout",
     "output_type": "stream",
     "text": [
      "So far 33\n"
     ]
    }
   ],
   "source": [
    "an.party()"
   ]
  },
  {
   "cell_type": "code",
   "execution_count": 44,
   "metadata": {
    "collapsed": false,
    "deletable": true,
    "editable": true
   },
   "outputs": [
    {
     "name": "stdout",
     "output_type": "stream",
     "text": [
      "I am destructed 33\n"
     ]
    }
   ],
   "source": [
    "an=42"
   ]
  },
  {
   "cell_type": "code",
   "execution_count": 39,
   "metadata": {
    "collapsed": false,
    "deletable": true,
    "editable": true
   },
   "outputs": [
    {
     "data": {
      "text/plain": [
       "int"
      ]
     },
     "execution_count": 39,
     "metadata": {},
     "output_type": "execute_result"
    }
   ],
   "source": [
    "type(an)"
   ]
  },
  {
   "cell_type": "markdown",
   "metadata": {
    "deletable": true,
    "editable": true
   },
   "source": [
    "## Constructrors"
   ]
  },
  {
   "cell_type": "code",
   "execution_count": 19,
   "metadata": {
    "collapsed": false,
    "deletable": true,
    "editable": true
   },
   "outputs": [
    {
     "name": "stdout",
     "output_type": "stream",
     "text": [
      "Sally constructed\n",
      "Sally party count 1\n",
      "Jim constructed\n",
      "Jim party count 1\n",
      "Sally party count 2\n"
     ]
    }
   ],
   "source": [
    "class PartyAnimal:\n",
    "    x=0\n",
    "    name=\"\"\n",
    "    \n",
    "    def __init__(self,nam):\n",
    "        self.name=nam\n",
    "        print self.name, \"constructed\"\n",
    "        \n",
    "    def party(self):\n",
    "        self.x=self.x+1\n",
    "        print self.name,\"party count\",self.x\n",
    "        \n",
    "s=PartyAnimal(\"Sally\")\n",
    "s.party()\n",
    "\n",
    "j=PartyAnimal(\"Jim\")\n",
    "j.party()\n",
    "s.party()"
   ]
  },
  {
   "cell_type": "markdown",
   "metadata": {
    "deletable": true,
    "editable": true
   },
   "source": [
    "## Inheritance"
   ]
  },
  {
   "cell_type": "code",
   "execution_count": 20,
   "metadata": {
    "collapsed": true,
    "deletable": true,
    "editable": true
   },
   "outputs": [],
   "source": [
    "class PartyAnimal:\n",
    "    x=0\n",
    "    name=\"\"\n",
    "    \n",
    "    def __init__(self,nam):\n",
    "        self.name=nam\n",
    "        print self.name, \"constructed\"\n",
    "        \n",
    "    def party(self):\n",
    "        self.x=self.x+1\n",
    "        print self.name,\"party count\",self.x\n",
    "        \n",
    "class FootballFan(PartyAnimal):\n",
    "    points=0\n",
    "    def touchdown(self):\n",
    "        self.points=self.points+7\n",
    "        self.party()\n",
    "        print self.name, \"points\", self.points"
   ]
  },
  {
   "cell_type": "code",
   "execution_count": 21,
   "metadata": {
    "collapsed": false,
    "deletable": true,
    "editable": true
   },
   "outputs": [
    {
     "name": "stdout",
     "output_type": "stream",
     "text": [
      "Sally constructed\n"
     ]
    }
   ],
   "source": [
    "s=PartyAnimal(\"Sally\")"
   ]
  },
  {
   "cell_type": "code",
   "execution_count": 22,
   "metadata": {
    "collapsed": false,
    "deletable": true,
    "editable": true
   },
   "outputs": [
    {
     "name": "stdout",
     "output_type": "stream",
     "text": [
      "Sally party count 1\n"
     ]
    }
   ],
   "source": [
    "s.party()"
   ]
  },
  {
   "cell_type": "code",
   "execution_count": 23,
   "metadata": {
    "collapsed": false,
    "deletable": true,
    "editable": true
   },
   "outputs": [
    {
     "name": "stdout",
     "output_type": "stream",
     "text": [
      "Jim constructed\n"
     ]
    }
   ],
   "source": [
    "j=FootballFan(\"Jim\")"
   ]
  },
  {
   "cell_type": "code",
   "execution_count": 24,
   "metadata": {
    "collapsed": false,
    "deletable": true,
    "editable": true
   },
   "outputs": [
    {
     "name": "stdout",
     "output_type": "stream",
     "text": [
      "Jim party count 1\n"
     ]
    }
   ],
   "source": [
    "j.party()"
   ]
  },
  {
   "cell_type": "code",
   "execution_count": 25,
   "metadata": {
    "collapsed": false,
    "deletable": true,
    "editable": true
   },
   "outputs": [
    {
     "name": "stdout",
     "output_type": "stream",
     "text": [
      "Jim party count 2\n",
      "Jim points 7\n"
     ]
    }
   ],
   "source": [
    "j.touchdown()"
   ]
  },
  {
   "cell_type": "markdown",
   "metadata": {
    "collapsed": true,
    "deletable": true,
    "editable": true
   },
   "source": [
    "## Week2, Relational Databases"
   ]
  },
  {
   "cell_type": "code",
   "execution_count": null,
   "metadata": {
    "collapsed": true,
    "deletable": true,
    "editable": true
   },
   "outputs": [],
   "source": [
    "#we have a database sql1.db in working directory\n",
    "#Creating a table\n",
    "CREATE TABLE Users (\n",
    "    name VARCHAR(128),\n",
    "    email VARCHAR(128)\n",
    ")\n",
    "\n",
    "#CRUD: create read update delete\n",
    "\n",
    "INSERT INTO Users (name, email) VALUES ('Kristin', 'kf@umich.edu')\n",
    "\n",
    "DELETE FROM Users Where email='fred@umich.edu'\n",
    "\n",
    "UPDATE Users SET name='Charles' WHERE email='csev@umich.edu'\n",
    "\n",
    "SELECT * FROM Users\n",
    "\n",
    "SELECT * FROM Users ORDER BY email\n",
    "\n",
    "SELECT * FROM Users ORDER BY name\n",
    " "
   ]
  },
  {
   "cell_type": "markdown",
   "metadata": {
    "deletable": true,
    "editable": true
   },
   "source": [
    "## twspider : storing twitter data in the database"
   ]
  },
  {
   "cell_type": "code",
   "execution_count": 47,
   "metadata": {
    "collapsed": false,
    "deletable": true,
    "editable": true
   },
   "outputs": [
    {
     "name": "stdout",
     "output_type": "stream",
     "text": [
      "Enter a Twitter account, or quit: nyirock\n",
      "Retrieving https://api.twitter.com/1.1/friends/list.json?oauth_timestamp=1500243880&oauth_signature=lZZ0Kd%2BvI%2BB5HWHHWQAviezjLQY%3D&screen_name=nyirock&count=5&oauth_consumer_key=4Se8J018D88z8jWQTOkRKQ5jY&oauth_nonce=74933877&oauth_signature_method=HMAC-SHA1&oauth_version=1.0&oauth_token=2789693187-XKWOu889GcaeU1BOERBvrRLvfbgvUVkV68da9MW\n",
      "Remaining 14\n",
      "lonelyplanet\n",
      "NatGeoTravel\n",
      "PopSci\n",
      "sciencemagazine\n",
      "NatGeoPhotos\n",
      "New accounts= 5  revisited= 0\n",
      "Enter a Twitter account, or quit: lonelyplanet\n",
      "Retrieving https://api.twitter.com/1.1/friends/list.json?oauth_timestamp=1500243899&oauth_signature=Oe%2BTiso3llASVz1ikp4B2ET6F8Y%3D&screen_name=lonelyplanet&count=5&oauth_consumer_key=4Se8J018D88z8jWQTOkRKQ5jY&oauth_nonce=01036997&oauth_signature_method=HMAC-SHA1&oauth_version=1.0&oauth_token=2789693187-XKWOu889GcaeU1BOERBvrRLvfbgvUVkV68da9MW\n",
      "Remaining 13\n",
      "TeamHandstand\n",
      "gregfoot\n",
      "kaustubhyk\n",
      "GBCedarPark\n",
      "MegoYugo\n",
      "New accounts= 5  revisited= 0\n",
      "Enter a Twitter account, or quit: lonelyplanet\n",
      "Retrieving https://api.twitter.com/1.1/friends/list.json?oauth_timestamp=1500243912&oauth_signature=%2BdxHP0XsTei%2Bu%2FBd890ieDGZkW4%3D&screen_name=lonelyplanet&count=5&oauth_consumer_key=4Se8J018D88z8jWQTOkRKQ5jY&oauth_nonce=15756866&oauth_signature_method=HMAC-SHA1&oauth_version=1.0&oauth_token=2789693187-XKWOu889GcaeU1BOERBvrRLvfbgvUVkV68da9MW\n",
      "Remaining 12\n",
      "TeamHandstand\n",
      "gregfoot\n",
      "kaustubhyk\n",
      "GBCedarPark\n",
      "MegoYugo\n",
      "New accounts= 0  revisited= 5\n",
      "Enter a Twitter account, or quit: quit\n"
     ]
    }
   ],
   "source": [
    "from urllib.request import urlopen\n",
    "import urllib.error\n",
    "import twurl\n",
    "import json\n",
    "import sqlite3\n",
    "import ssl\n",
    "\n",
    "\n",
    "TWITTER_URL = 'https://api.twitter.com/1.1/friends/list.json'\n",
    "\n",
    "conn = sqlite3.connect('spider.sqlite')\n",
    "cur = conn.cursor()\n",
    "\n",
    "cur.execute('''\n",
    "            CREATE TABLE IF NOT EXISTS Twitter\n",
    "            (name TEXT, retrieved INTEGER, friends INTEGER)''')\n",
    "# Ignore SSL certificate errors\n",
    "ctx = ssl.create_default_context()\n",
    "ctx.check_hostname = False\n",
    "ctx.verify_mode = ssl.CERT_NONE\n",
    "\n",
    "while True:\n",
    "    acct = input('Enter a Twitter account, or quit: ')\n",
    "    if (acct == 'quit'): break\n",
    "    if (len(acct) < 1):\n",
    "        cur.execute('SELECT name FROM Twitter WHERE retrieved = 0 LIMIT 1')\n",
    "        try:\n",
    "            acct = cur.fetchone()[0]\n",
    "        except:\n",
    "            print('No unretrieved Twitter accounts found')\n",
    "            continue\n",
    "\n",
    "    url = twurl.augment(TWITTER_URL, {'screen_name': acct, 'count': '5'})\n",
    "    print('Retrieving', url)\n",
    "    connection = urlopen(url, context=ctx)\n",
    "    data = connection.read().decode()\n",
    "    headers = dict(connection.getheaders())\n",
    "\n",
    "    print('Remaining', headers['x-rate-limit-remaining'])\n",
    "    js = json.loads(data)\n",
    "    # Debugging\n",
    "    # print json.dumps(js, indent=4)\n",
    "\n",
    "    cur.execute('UPDATE Twitter SET retrieved=1 WHERE name = ?', (acct, ))\n",
    "\n",
    "    countnew = 0\n",
    "    countold = 0\n",
    "    for u in js['users']:\n",
    "        friend = u['screen_name']\n",
    "        print(friend)\n",
    "        cur.execute('SELECT friends FROM Twitter WHERE name = ? LIMIT 1',\n",
    "                    (friend, ))\n",
    "        try:\n",
    "            count = cur.fetchone()[0]\n",
    "            cur.execute('UPDATE Twitter SET friends = ? WHERE name = ?',\n",
    "                        (count+1, friend))\n",
    "            countold = countold + 1\n",
    "        except:\n",
    "            cur.execute('''INSERT INTO Twitter (name, retrieved, friends)\n",
    "                        VALUES (?, 0, 1)''', (friend, ))\n",
    "            countnew = countnew + 1\n",
    "    print('New accounts=', countnew, ' revisited=', countold)\n",
    "    conn.commit()\n",
    "\n",
    "cur.close()"
   ]
  },
  {
   "cell_type": "markdown",
   "metadata": {
    "deletable": true,
    "editable": true
   },
   "source": [
    "assignment 1"
   ]
  },
  {
   "cell_type": "code",
   "execution_count": null,
   "metadata": {
    "collapsed": true,
    "deletable": true,
    "editable": true
   },
   "outputs": [],
   "source": [
    "CREATE TABLE Ages ( \n",
    "  name VARCHAR(128), \n",
    "  age INTEGER\n",
    ")\n",
    "\n",
    "DELETE FROM Ages;\n",
    "INSERT INTO Ages (name, age) VALUES ('Ainslie', 32);\n",
    "INSERT INTO Ages (name, age) VALUES ('Hania', 27);\n",
    "INSERT INTO Ages (name, age) VALUES ('Rahil', 31);\n",
    "INSERT INTO Ages (name, age) VALUES ('Oluwademilade', 30);\n",
    "INSERT INTO Ages (name, age) VALUES ('Hamish', 19);\n",
    "\n",
    "SELECT hex(name || age) AS X FROM Ages ORDER BY X"
   ]
  },
  {
   "cell_type": "code",
   "execution_count": 57,
   "metadata": {
    "collapsed": false,
    "deletable": true,
    "editable": true
   },
   "outputs": [
    {
     "name": "stdout",
     "output_type": "stream",
     "text": [
      "('41696E736C69653332',)\n",
      "('48616D6973683139',)\n",
      "('48616E69613237',)\n",
      "('4F6C75776164656D696C6164653330',)\n",
      "('526168696C3331',)\n"
     ]
    }
   ],
   "source": [
    "#created and populated assignment1.db\n",
    "import sqlite3\n",
    "conn = sqlite3.connect('assignment1.db')\n",
    "cur = conn.cursor()\n",
    "\n",
    "cur.execute('''SELECT hex(name || age) AS X FROM Ages ORDER BY X''')\n",
    "for row in cur:\n",
    "    print(row)\n",
    "cur.close()"
   ]
  },
  {
   "cell_type": "code",
   "execution_count": 55,
   "metadata": {
    "collapsed": false,
    "deletable": true,
    "editable": true
   },
   "outputs": [
    {
     "name": "stdout",
     "output_type": "stream",
     "text": [
      "<built-in method fetchall of sqlite3.Cursor object at 0x000000978A468A40>\n"
     ]
    }
   ],
   "source": [
    "print(data.fetchall)"
   ]
  },
  {
   "cell_type": "markdown",
   "metadata": {
    "deletable": true,
    "editable": true
   },
   "source": [
    "To get credit for this assignment, perform the instructions below and upload your SQLite3 database here:\n",
    "(Must have a .sqlite suffix)\n",
    "Hint: The top organizational count is 536.\n",
    "You do not need to export or convert the database - simply upload the .sqlite file that your program creates. See the example code for the use of the connect() statement. "
   ]
  },
  {
   "cell_type": "code",
   "execution_count": 4,
   "metadata": {
    "collapsed": false,
    "deletable": true,
    "editable": true
   },
   "outputs": [
    {
     "name": "stdout",
     "output_type": "stream",
     "text": [
      "Enter file name: \n",
      "cwen@iupui.edu 5\n",
      "zqian@umich.edu 4\n",
      "david.horwitz@uct.ac.za 4\n",
      "louis@media.berkeley.edu 3\n",
      "gsilver@umich.edu 3\n",
      "stephen.marquard@uct.ac.za 2\n",
      "rjlowe@iupui.edu 2\n",
      "wagnermr@iupui.edu 1\n",
      "antranig@caret.cam.ac.uk 1\n",
      "gopal.ramasammycook@gmail.com 1\n",
      "Wall time: 13.4 s\n"
     ]
    }
   ],
   "source": [
    "%%time\n",
    "import sqlite3\n",
    "\n",
    "conn = sqlite3.connect('emaildb.sqlite')\n",
    "cur = conn.cursor()\n",
    "\n",
    "cur.execute('''\n",
    "DROP TABLE IF EXISTS Counts''')\n",
    "\n",
    "cur.execute('''\n",
    "CREATE TABLE Counts (email TEXT, count INTEGER)''')\n",
    "\n",
    "fname = input('Enter file name: ')\n",
    "if (len(fname) < 1): fname = 'mbox-short.txt'\n",
    "fh = open(fname)\n",
    "for line in fh:\n",
    "    if not line.startswith('From: '): continue\n",
    "    pieces = line.split()\n",
    "    email = pieces[1]\n",
    "    cur.execute('SELECT count FROM Counts WHERE email = ? ', (email,))\n",
    "    row = cur.fetchone()\n",
    "    if row is None:\n",
    "        cur.execute('''INSERT INTO Counts (email, count)\n",
    "                VALUES (?, 1)''', (email,))\n",
    "    else:\n",
    "        cur.execute('UPDATE Counts SET count = count + 1 WHERE email = ?',\n",
    "                    (email,))\n",
    "    conn.commit()\n",
    "\n",
    "# https://www.sqlite.org/lang_select.html\n",
    "sqlstr = 'SELECT email, count FROM Counts ORDER BY count DESC LIMIT 10'\n",
    "\n",
    "for row in cur.execute(sqlstr):\n",
    "    print(str(row[0]), row[1])\n",
    "\n",
    "cur.close()\n"
   ]
  },
  {
   "cell_type": "code",
   "execution_count": 18,
   "metadata": {
    "collapsed": false,
    "deletable": true,
    "editable": true
   },
   "outputs": [
    {
     "name": "stdout",
     "output_type": "stream",
     "text": [
      "Enter file name: mbox.txt\n",
      "zqian@umich.edu 195\n",
      "mmmay@indiana.edu 161\n",
      "cwen@iupui.edu 158\n",
      "chmaurer@iupui.edu 111\n",
      "aaronz@vt.edu 110\n",
      "ian@caret.cam.ac.uk 96\n",
      "jimeng@umich.edu 93\n",
      "rjlowe@iupui.edu 90\n",
      "dlhaines@umich.edu 84\n",
      "david.horwitz@uct.ac.za 67\n",
      "Wall time: 1min 23s\n"
     ]
    }
   ],
   "source": [
    "%%time\n",
    "import MySQLdb\n",
    "\n",
    "db = MySQLdb.connect(host=\"localhost\",    # your host, usually localhost\n",
    "                     user=\"dbwithpython\",         # your username\n",
    "                     passwd=\"dbwithpython\",  # your password\n",
    "                     db=\"dbwithpython\")        # name of the data base\n",
    "\n",
    "# you must create a Cursor object. It will let\n",
    "#  you execute all the queries you need\n",
    "cur = db.cursor()\n",
    "\n",
    "cur.execute('''\n",
    "DROP TABLE IF EXISTS Counts''')\n",
    "\n",
    "cur.execute('''\n",
    "CREATE TABLE Counts (email VARCHAR(250), count INTEGER)''')\n",
    "\n",
    "fname = input('Enter file name: ')\n",
    "if (len(fname) < 1): fname = 'mbox-short.txt'\n",
    "fh = open(fname)\n",
    "for line in fh:\n",
    "    if not line.startswith('From: '): continue\n",
    "    pieces = line.split()\n",
    "    email = pieces[1]\n",
    "    #print('Ha')\n",
    "    cur.execute('SELECT count FROM Counts WHERE email = %s ', (email,))\n",
    "    #print('Haha')\n",
    "    row = cur.fetchone()\n",
    "    if row is None:\n",
    "        cur.execute('''INSERT INTO Counts (email, count)\n",
    "                VALUES (%s, 1)''', (email,))\n",
    "        #print('Hahaha')\n",
    "    else:\n",
    "        cur.execute('UPDATE Counts SET count = count + 1 WHERE email = %s',\n",
    "                    (email,))\n",
    "    db.commit()\n",
    "\n",
    "# https://www.sqlite.org/lang_select.html\n",
    "sqlstr = 'SELECT email, count FROM Counts ORDER BY count DESC LIMIT 10'\n",
    "\n",
    "with db.cursor() as cur:\n",
    "    sqlstr = 'SELECT email, count FROM Counts ORDER BY count DESC LIMIT 10'\n",
    "    cur.execute(sqlstr)\n",
    "    results = cur.fetchall()\n",
    "for row in results:\n",
    "    print(str(row[0]), row[1])\n",
    "    \n",
    "\n",
    "cur.close()"
   ]
  },
  {
   "cell_type": "code",
   "execution_count": 66,
   "metadata": {
    "collapsed": false,
    "deletable": true,
    "editable": true
   },
   "outputs": [
    {
     "name": "stdout",
     "output_type": "stream",
     "text": [
      "Enter file name: \n",
      "cwen@iupui.edu 5\n",
      "zqian@umich.edu 4\n",
      "david.horwitz@uct.ac.za 4\n",
      "louis@media.berkeley.edu 3\n",
      "gsilver@umich.edu 3\n",
      "stephen.marquard@uct.ac.za 2\n",
      "rjlowe@iupui.edu 2\n",
      "wagnermr@iupui.edu 1\n",
      "ray@media.berkeley.edu 1\n",
      "gopal.ramasammycook@gmail.com 1\n",
      "antranig@caret.cam.ac.uk 1\n",
      "Wall time: 613 ms\n"
     ]
    }
   ],
   "source": [
    "%%time\n",
    "import sqlite3\n",
    "\n",
    "# conn = sqlite3.connect('emaildb.sqlite')\n",
    "# cur = conn.cursor()\n",
    "\n",
    "# cur.execute('''\n",
    "# DROP TABLE IF EXISTS Counts''')\n",
    "\n",
    "# cur.execute('''\n",
    "# CREATE TABLE Counts (email TEXT, count INTEGER)''')\n",
    "\n",
    "emails=dict()\n",
    "\n",
    "fname = input('Enter file name: ')\n",
    "if (len(fname) < 1): fname = 'mbox-short.txt'\n",
    "fh = open(fname)\n",
    "for line in fh:\n",
    "    if not line.startswith('From: '): continue\n",
    "    pieces = line.split()\n",
    "    email = pieces[1]\n",
    "    emails[email]=emails.get(email,0)+1\n",
    "\n",
    "# https://www.sqlite.org/lang_select.html\n",
    "#sqlstr = 'SELECT email, count FROM Counts ORDER BY count DESC LIMIT 10'\n",
    "\n",
    "for item in sorted([(value,key) for (key,value) in emails.items()], reverse=True):\n",
    "    print(item[1], item[0])"
   ]
  },
  {
   "cell_type": "code",
   "execution_count": 82,
   "metadata": {
    "collapsed": false,
    "deletable": true,
    "editable": true
   },
   "outputs": [
    {
     "name": "stdout",
     "output_type": "stream",
     "text": [
      "Enter file name: mbox.txt\n",
      "zqian@umich.edu 195\n",
      "mmmay@indiana.edu 161\n",
      "cwen@iupui.edu 158\n",
      "chmaurer@iupui.edu 111\n",
      "aaronz@vt.edu 110\n",
      "ian@caret.cam.ac.uk 96\n",
      "jimeng@umich.edu 93\n",
      "rjlowe@iupui.edu 90\n",
      "dlhaines@umich.edu 84\n",
      "david.horwitz@uct.ac.za 67\n",
      "Wall time: 3min 5s\n"
     ]
    }
   ],
   "source": [
    "%%time\n",
    "import sqlite3\n",
    "\n",
    "conn = sqlite3.connect('emaildb.sqlite')\n",
    "cur = conn.cursor()\n",
    "\n",
    "cur.execute('''\n",
    "DROP TABLE IF EXISTS Counts''')\n",
    "\n",
    "cur.execute('''\n",
    "CREATE TABLE Counts (email TEXT, count INTEGER)''')\n",
    "\n",
    "emails=dict()\n",
    "dict_size=100\n",
    "fname = input('Enter file name: ')\n",
    "if (len(fname) < 1): fname = 'mbox-short.txt'\n",
    "fh = open(fname)\n",
    "lines=fh.readlines()\n",
    "for line in lines:\n",
    "    if (len(emails)>=dict_size) or (line==lines[-1]):\n",
    "        for key,value in emails.items():\n",
    "            cur.execute('SELECT count FROM Counts WHERE email = ? ', (key,))\n",
    "            row = cur.fetchone()\n",
    "            if row is None:\n",
    "                cur.execute('''INSERT INTO Counts (email, count)\n",
    "                        VALUES (?, ?)''', (key,value,))\n",
    "            else:\n",
    "                cur.execute('UPDATE Counts SET count = count + ? WHERE email = ?',\n",
    "                            (value, key,))\n",
    "            conn.commit()\n",
    "        emails=dict()\n",
    "    if not line.startswith('From: '): continue\n",
    "    pieces = line.split()\n",
    "    email = pieces[1]\n",
    "    emails[email]=emails.get(email,0)+1\n",
    "\n",
    "\n",
    "sqlstr = 'SELECT email, count FROM Counts ORDER BY count DESC LIMIT 10'\n",
    "\n",
    "for row in cur.execute(sqlstr):\n",
    "    print(str(row[0]), row[1])\n",
    "\n",
    "cur.close()\n",
    "# https://www.sqlite.org/lang_select.html\n",
    "#sqlstr = 'SELECT email, count FROM Counts ORDER BY count DESC LIMIT 10'\n",
    "\n",
    "# for item in sorted([(value,key) for (key,value) in emails.items()], reverse=True):\n",
    "#     print(item[1], item[0])"
   ]
  },
  {
   "cell_type": "code",
   "execution_count": 77,
   "metadata": {
    "collapsed": false,
    "deletable": true,
    "editable": true
   },
   "outputs": [
    {
     "name": "stdout",
     "output_type": "stream",
     "text": [
      "UPDATE Counts SET count = count + 1 WHERE email = ?\n"
     ]
    }
   ],
   "source": [
    "v=1\n",
    "s='UPDATE Counts SET count = count + {0} WHERE email = ?'.format(v)\n",
    "print(s)"
   ]
  },
  {
   "cell_type": "code",
   "execution_count": 69,
   "metadata": {
    "collapsed": false,
    "deletable": true,
    "editable": true
   },
   "outputs": [
    {
     "name": "stdout",
     "output_type": "stream",
     "text": [
      "Enter file name: mbox.txt\n",
      "iupui.edu 536\n",
      "umich.edu 491\n",
      "indiana.edu 178\n",
      "caret.cam.ac.uk 157\n",
      "vt.edu 110\n",
      "uct.ac.za 96\n",
      "media.berkeley.edu 56\n",
      "ufp.pt 28\n",
      "gmail.com 25\n",
      "et.gatech.edu 17\n",
      "Wall time: 3min 14s\n"
     ]
    }
   ],
   "source": [
    "%%time\n",
    "import sqlite3\n",
    "\n",
    "conn = sqlite3.connect('assignment2.sqlite')\n",
    "cur = conn.cursor()\n",
    "\n",
    "cur.execute('''\n",
    "DROP TABLE IF EXISTS Counts''')\n",
    "\n",
    "cur.execute('''\n",
    "CREATE TABLE Counts (org TEXT, count INTEGER)''')\n",
    "\n",
    "fname = input('Enter file name: ')\n",
    "if (len(fname) < 1): fname = 'mbox-short.txt'\n",
    "fh = open(fname)\n",
    "for line in fh:\n",
    "    if not line.startswith('From: '): continue\n",
    "    pieces = line.split()\n",
    "    org = pieces[1].split('@')[1]\n",
    "    cur.execute('SELECT count FROM Counts WHERE org = ? ', (org,))\n",
    "    row = cur.fetchone()\n",
    "    if row is None:\n",
    "        cur.execute('''INSERT INTO Counts (org, count)\n",
    "                VALUES (?, 1)''', (org,))\n",
    "    else:\n",
    "        cur.execute('UPDATE Counts SET count = count + 1 WHERE org = ?',\n",
    "                    (org,))\n",
    "    conn.commit()\n",
    "\n",
    "# https://www.sqlite.org/lang_select.html\n",
    "sqlstr = 'SELECT org, count FROM Counts ORDER BY count DESC LIMIT 10'\n",
    "\n",
    "for row in cur.execute(sqlstr):\n",
    "    print(str(row[0]), row[1])\n",
    "\n",
    "cur.close()\n"
   ]
  },
  {
   "cell_type": "markdown",
   "metadata": {
    "deletable": true,
    "editable": true
   },
   "source": [
    "## Efficiencies: dict vs SQlite vs MySql"
   ]
  },
  {
   "cell_type": "code",
   "execution_count": 2,
   "metadata": {
    "collapsed": false,
    "deletable": true,
    "editable": true
   },
   "outputs": [],
   "source": [
    "import time\n",
    "import MySQLdb\n",
    "import sqlite3\n"
   ]
  },
  {
   "cell_type": "code",
   "execution_count": null,
   "metadata": {
    "collapsed": true,
    "deletable": true,
    "editable": true
   },
   "outputs": [],
   "source": [
    "import time\n",
    "import pymysql\n",
    "import sqlite3"
   ]
  },
  {
   "cell_type": "code",
   "execution_count": 3,
   "metadata": {
    "collapsed": false,
    "deletable": true,
    "editable": true
   },
   "outputs": [],
   "source": [
    "def emailDict(file=\"\"):\n",
    "    \n",
    "    # conn = sqlite3.connect('emaildb.sqlite')\n",
    "    # cur = conn.cursor()\n",
    "\n",
    "    # cur.execute('''\n",
    "    # DROP TABLE IF EXISTS Counts''')\n",
    "\n",
    "    # cur.execute('''\n",
    "    # CREATE TABLE Counts (email TEXT, count INTEGER)''')\n",
    "\n",
    "    emails=dict()\n",
    "    \n",
    "    if file:\n",
    "        fname=file\n",
    "    else:\n",
    "    \n",
    "        fname = input('Enter file name: ')\n",
    "        if (len(fname) < 1): fname = 'mbox-short.txt'\n",
    "    fh = open(fname)\n",
    "    for line in fh:\n",
    "        if not line.startswith('From: '): continue\n",
    "        pieces = line.split()\n",
    "        email = pieces[1]\n",
    "        emails[email]=emails.get(email,0)+1\n",
    "\n",
    "    # https://www.sqlite.org/lang_select.html\n",
    "    #sqlstr = 'SELECT email, count FROM Counts ORDER BY count DESC LIMIT 10'\n",
    "    return emails\n",
    "\n",
    "\n",
    "import time\n",
    "def emailMySql(file=\"\"):\n",
    "\n",
    "\n",
    "\n",
    "    db = MySQLdb.connect(host=\"localhost\",    # your host, usually localhost\n",
    "                         user=\"dbwithpython\",         # your username\n",
    "                         passwd=\"dbwithpython\",  # your password\n",
    "                         db=\"dbwithpython\")        # name of the data base\n",
    "\n",
    "    # you must create a Cursor object. It will let\n",
    "    #  you execute all the queries you need\n",
    "    cur = db.cursor()\n",
    "\n",
    "    cur.execute(\"DROP TABLE IF EXISTS Counts \")\n",
    "\n",
    "    cur.execute('''\n",
    "    CREATE TABLE Counts (email VARCHAR(250), count INTEGER)''')\n",
    "\n",
    "    if file:\n",
    "        fname=file\n",
    "    else:\n",
    "    \n",
    "        fname = input('Enter file name: ')\n",
    "        if (len(fname) < 1): fname = 'mbox-short.txt'\n",
    "    fh = open(fname)\n",
    "    for line in fh:\n",
    "        if not line.startswith('From: '): continue\n",
    "        pieces = line.split()\n",
    "        email = pieces[1]\n",
    "        #print('Ha')\n",
    "        cur.execute('SELECT count FROM Counts WHERE email = %s ', (email,))\n",
    "        #print('Haha')\n",
    "        row = cur.fetchone()\n",
    "        if row is None:\n",
    "            cur.execute('''INSERT INTO Counts (email, count)\n",
    "                    VALUES (%s, 1)''', (email,))\n",
    "            #print('Hahaha')\n",
    "        else:\n",
    "            cur.execute('UPDATE Counts SET count = count + 1 WHERE email = %s',\n",
    "                        (email,))\n",
    "        db.commit()\n",
    "\n",
    "    return db\n",
    "\n",
    "def emailMySql_opt(file=\"\"):\n",
    "\n",
    "\n",
    "\n",
    "    db = MySQLdb.connect(host=\"localhost\",    # your host, usually localhost\n",
    "                         user=\"dbwithpython\",         # your username\n",
    "                         passwd=\"dbwithpython\",  # your password\n",
    "                         db=\"dbwithpython\")        # name of the data base\n",
    "\n",
    "    # you must create a Cursor object. It will let\n",
    "    #  you execute all the queries you need\n",
    "    cur = db.cursor()\n",
    "\n",
    "    cur.execute(\"DROP TABLE IF EXISTS Counts \")\n",
    "\n",
    "    cur.execute('''\n",
    "    CREATE TABLE Counts (email VARCHAR(250), count INTEGER)''')\n",
    "\n",
    "    if file:\n",
    "        fname=file\n",
    "    else:\n",
    "    \n",
    "        fname = input('Enter file name: ')\n",
    "        if (len(fname) < 1): fname = 'mbox-short.txt'\n",
    "    fh = open(fname)\n",
    "    for line in fh:\n",
    "        if not line.startswith('From: '): continue\n",
    "        pieces = line.split()\n",
    "        email = pieces[1]\n",
    "        #print('Ha')\n",
    "        cur.execute('SELECT count FROM Counts WHERE email = %s ', (email,))\n",
    "        #print('Haha')\n",
    "        row = cur.fetchone()\n",
    "        if row is None:\n",
    "            cur.execute('''INSERT INTO Counts (email, count)\n",
    "                    VALUES (%s, 1)''', (email,))\n",
    "            #print('Hahaha')\n",
    "        else:\n",
    "            cur.execute('UPDATE Counts SET count = count + 1 WHERE email = %s',\n",
    "                        (email,))\n",
    "    db.commit()\n",
    "\n",
    "    return db\n",
    "\n",
    "def emailSQlite(file=\"\"):\n",
    "\n",
    "    conn = sqlite3.connect('emaildb.sqlite')\n",
    "    cur = conn.cursor()\n",
    "\n",
    "    cur.execute('''\n",
    "    DROP TABLE IF EXISTS Counts''')\n",
    "\n",
    "    cur.execute('''\n",
    "    CREATE TABLE Counts (email TEXT, count INTEGER)''')\n",
    "\n",
    "    if file:\n",
    "        fname=file\n",
    "    else:\n",
    "    \n",
    "        fname = input('Enter file name: ')\n",
    "        if (len(fname) < 1): fname = 'mbox-short.txt'\n",
    "    fh = open(fname)\n",
    "    \n",
    "    for line in fh:\n",
    "        if not line.startswith('From: '): continue\n",
    "        pieces = line.split()\n",
    "        email = pieces[1]\n",
    "        cur.execute('SELECT count FROM Counts WHERE email = ? ', (email,))\n",
    "        row = cur.fetchone()\n",
    "        if row is None:\n",
    "            cur.execute('''INSERT INTO Counts (email, count)\n",
    "                    VALUES (?, 1)''', (email,))\n",
    "        else:\n",
    "            cur.execute('UPDATE Counts SET count = count + 1 WHERE email = ?',\n",
    "                        (email,))\n",
    "        conn.commit()\n",
    "\n",
    "    # https://www.sqlite.org/lang_select.html\n",
    "    sqlstr = 'SELECT email, count FROM Counts ORDER BY count DESC LIMIT 10'\n",
    "\n",
    "\n",
    "    return cur\n",
    "def emailSQlite_opt(file=\"\"):\n",
    "\n",
    "    conn = sqlite3.connect('emaildb.sqlite')\n",
    "    cur = conn.cursor()\n",
    "\n",
    "    cur.execute('''\n",
    "    DROP TABLE IF EXISTS Counts''')\n",
    "\n",
    "    cur.execute('''\n",
    "    CREATE TABLE Counts (email TEXT, count INTEGER)''')\n",
    "\n",
    "    if file:\n",
    "        fname=file\n",
    "    else:\n",
    "    \n",
    "        fname = input('Enter file name: ')\n",
    "        if (len(fname) < 1): fname = 'mbox-short.txt'\n",
    "    fh = open(fname)\n",
    "    \n",
    "    for line in fh:\n",
    "        if not line.startswith('From: '): continue\n",
    "        pieces = line.split()\n",
    "        email = pieces[1]\n",
    "        cur.execute('SELECT count FROM Counts WHERE email = ? ', (email,))\n",
    "        row = cur.fetchone()\n",
    "        if row is None:\n",
    "            cur.execute('''INSERT INTO Counts (email, count)\n",
    "                    VALUES (?, 1)''', (email,))\n",
    "        else:\n",
    "            cur.execute('UPDATE Counts SET count = count + 1 WHERE email = ?',\n",
    "                        (email,))\n",
    "    conn.commit()\n",
    "\n",
    "    # https://www.sqlite.org/lang_select.html\n",
    "    sqlstr = 'SELECT email, count FROM Counts ORDER BY count DESC LIMIT 10'\n",
    "\n",
    "\n",
    "    return cur\n",
    "\n",
    "\n",
    "\n",
    "\n",
    "\n",
    "\n",
    "\n"
   ]
  },
  {
   "cell_type": "code",
   "execution_count": 4,
   "metadata": {
    "collapsed": true,
    "deletable": true,
    "editable": true
   },
   "outputs": [],
   "source": [
    "ncycles=3"
   ]
  },
  {
   "cell_type": "code",
   "execution_count": 10,
   "metadata": {
    "collapsed": true,
    "deletable": true,
    "editable": true
   },
   "outputs": [],
   "source": [
    "def emailDict(file=\"\"):\n",
    "    \n",
    "    # conn = sqlite3.connect('emaildb.sqlite')\n",
    "    # cur = conn.cursor()\n",
    "\n",
    "    # cur.execute('''\n",
    "    # DROP TABLE IF EXISTS Counts''')\n",
    "\n",
    "    # cur.execute('''\n",
    "    # CREATE TABLE Counts (email TEXT, count INTEGER)''')\n",
    "\n",
    "    emails=dict()\n",
    "    \n",
    "    if file:\n",
    "        fname=file\n",
    "    else:\n",
    "    \n",
    "        fname = input('Enter file name: ')\n",
    "        if (len(fname) < 1): fname = 'mbox-short.txt'\n",
    "    fh = open(fname)\n",
    "    for line in fh:\n",
    "        if not line.startswith('From: '): continue\n",
    "        pieces = line.split()\n",
    "        email = pieces[1]\n",
    "        emails[email]=emails.get(email,0)+1\n",
    "\n",
    "    # https://www.sqlite.org/lang_select.html\n",
    "    #sqlstr = 'SELECT email, count FROM Counts ORDER BY count DESC LIMIT 10'\n",
    "    return emails\n",
    "\n",
    "\n",
    "import time\n",
    "def emailMySql(file=\"\"):\n",
    "\n",
    "\n",
    "\n",
    "    db = pymysql.connect(host=\"localhost\",    # your host, usually localhost\n",
    "                         user=\"dbwithpython\",         # your username\n",
    "                         passwd=\"dbwithpython\",  # your password\n",
    "                         db=\"dbwithpython\")        # name of the data base\n",
    "\n",
    "    # you must create a Cursor object. It will let\n",
    "    #  you execute all the queries you need\n",
    "    cur = db.cursor()\n",
    "\n",
    "    cur.execute(\"DROP TABLE IF EXISTS Counts \")\n",
    "\n",
    "    cur.execute('''\n",
    "    CREATE TABLE Counts (email VARCHAR(250), count INTEGER)''')\n",
    "\n",
    "    if file:\n",
    "        fname=file\n",
    "    else:\n",
    "    \n",
    "        fname = input('Enter file name: ')\n",
    "        if (len(fname) < 1): fname = 'mbox-short.txt'\n",
    "    fh = open(fname)\n",
    "    for line in fh:\n",
    "        if not line.startswith('From: '): continue\n",
    "        pieces = line.split()\n",
    "        email = pieces[1]\n",
    "        #print('Ha')\n",
    "        cur.execute('SELECT count FROM Counts WHERE email = %s ', (email,))\n",
    "        #print('Haha')\n",
    "        row = cur.fetchone()\n",
    "        if row is None:\n",
    "            cur.execute('''INSERT INTO Counts (email, count)\n",
    "                    VALUES (%s, 1)''', (email,))\n",
    "            #print('Hahaha')\n",
    "        else:\n",
    "            cur.execute('UPDATE Counts SET count = count + 1 WHERE email = %s',\n",
    "                        (email,))\n",
    "        db.commit()\n",
    "\n",
    "    return db\n",
    "\n",
    "def emailMySql_opt(file=\"\"):\n",
    "\n",
    "\n",
    "\n",
    "    db = pymysql.connect(host=\"localhost\",    # your host, usually localhost\n",
    "                         user=\"dbwithpython\",         # your username\n",
    "                         passwd=\"dbwithpython\",  # your password\n",
    "                         db=\"dbwithpython\")        # name of the data base\n",
    "\n",
    "    # you must create a Cursor object. It will let\n",
    "    #  you execute all the queries you need\n",
    "    cur = db.cursor()\n",
    "\n",
    "    cur.execute(\"DROP TABLE IF EXISTS Counts \")\n",
    "\n",
    "    cur.execute('''\n",
    "    CREATE TABLE Counts (email VARCHAR(250), count INTEGER)''')\n",
    "\n",
    "    if file:\n",
    "        fname=file\n",
    "    else:\n",
    "    \n",
    "        fname = input('Enter file name: ')\n",
    "        if (len(fname) < 1): fname = 'mbox-short.txt'\n",
    "    fh = open(fname)\n",
    "    for line in fh:\n",
    "        if not line.startswith('From: '): continue\n",
    "        pieces = line.split()\n",
    "        email = pieces[1]\n",
    "        #print('Ha')\n",
    "        cur.execute('SELECT count FROM Counts WHERE email = %s ', (email,))\n",
    "        #print('Haha')\n",
    "        row = cur.fetchone()\n",
    "        if row is None:\n",
    "            cur.execute('''INSERT INTO Counts (email, count)\n",
    "                    VALUES (%s, 1)''', (email,))\n",
    "            #print('Hahaha')\n",
    "        else:\n",
    "            cur.execute('UPDATE Counts SET count = count + 1 WHERE email = %s',\n",
    "                        (email,))\n",
    "    db.commit()\n",
    "\n",
    "    return db\n",
    "\n",
    "def emailSQlite(file=\"\"):\n",
    "\n",
    "    conn = sqlite3.connect('emaildb.sqlite')\n",
    "    cur = conn.cursor()\n",
    "\n",
    "    cur.execute('''\n",
    "    DROP TABLE IF EXISTS Counts''')\n",
    "\n",
    "    cur.execute('''\n",
    "    CREATE TABLE Counts (email TEXT, count INTEGER)''')\n",
    "\n",
    "    if file:\n",
    "        fname=file\n",
    "    else:\n",
    "    \n",
    "        fname = input('Enter file name: ')\n",
    "        if (len(fname) < 1): fname = 'mbox-short.txt'\n",
    "    fh = open(fname)\n",
    "    \n",
    "    for line in fh:\n",
    "        if not line.startswith('From: '): continue\n",
    "        pieces = line.split()\n",
    "        email = pieces[1]\n",
    "        cur.execute('SELECT count FROM Counts WHERE email = ? ', (email,))\n",
    "        row = cur.fetchone()\n",
    "        if row is None:\n",
    "            cur.execute('''INSERT INTO Counts (email, count)\n",
    "                    VALUES (?, 1)''', (email,))\n",
    "        else:\n",
    "            cur.execute('UPDATE Counts SET count = count + 1 WHERE email = ?',\n",
    "                        (email,))\n",
    "        conn.commit()\n",
    "\n",
    "    # https://www.sqlite.org/lang_select.html\n",
    "    sqlstr = 'SELECT email, count FROM Counts ORDER BY count DESC LIMIT 10'\n",
    "\n",
    "\n",
    "    return cur\n",
    "def emailSQlite_opt(file=\"\"):\n",
    "\n",
    "    conn = sqlite3.connect('emaildb.sqlite')\n",
    "    cur = conn.cursor()\n",
    "\n",
    "    cur.execute('''\n",
    "    DROP TABLE IF EXISTS Counts''')\n",
    "\n",
    "    cur.execute('''\n",
    "    CREATE TABLE Counts (email TEXT, count INTEGER)''')\n",
    "\n",
    "    if file:\n",
    "        fname=file\n",
    "    else:\n",
    "    \n",
    "        fname = input('Enter file name: ')\n",
    "        if (len(fname) < 1): fname = 'mbox-short.txt'\n",
    "    fh = open(fname)\n",
    "    \n",
    "    for line in fh:\n",
    "        if not line.startswith('From: '): continue\n",
    "        pieces = line.split()\n",
    "        email = pieces[1]\n",
    "        cur.execute('SELECT count FROM Counts WHERE email = ? ', (email,))\n",
    "        row = cur.fetchone()\n",
    "        if row is None:\n",
    "            cur.execute('''INSERT INTO Counts (email, count)\n",
    "                    VALUES (?, 1)''', (email,))\n",
    "        else:\n",
    "            cur.execute('UPDATE Counts SET count = count + 1 WHERE email = ?',\n",
    "                        (email,))\n",
    "    conn.commit()\n",
    "\n",
    "    # https://www.sqlite.org/lang_select.html\n",
    "    sqlstr = 'SELECT email, count FROM Counts ORDER BY count DESC LIMIT 10'\n",
    "\n",
    "\n",
    "    return cur\n",
    "\n",
    "\n",
    "\n",
    "\n",
    "\n",
    "\n",
    "\n"
   ]
  },
  {
   "cell_type": "code",
   "execution_count": 4,
   "metadata": {
    "collapsed": false,
    "deletable": true,
    "editable": true
   },
   "outputs": [
    {
     "name": "stdout",
     "output_type": "stream",
     "text": [
      "0.00033346811930338543 s elapsed\n",
      "cwen@iupui.edu 5\n",
      "zqian@umich.edu 4\n",
      "david.horwitz@uct.ac.za 4\n",
      "louis@media.berkeley.edu 3\n",
      "gsilver@umich.edu 3\n",
      "stephen.marquard@uct.ac.za 2\n",
      "rjlowe@iupui.edu 2\n",
      "wagnermr@iupui.edu 1\n",
      "ray@media.berkeley.edu 1\n",
      "gopal.ramasammycook@gmail.com 1\n",
      "antranig@caret.cam.ac.uk 1\n"
     ]
    }
   ],
   "source": [
    "for i in range(ncycles):\n",
    "    start=time.time()\n",
    "    emails=emailDict(file=\"mbox-short.txt\")\n",
    "print(\"%s s elapsed\"%format(str((time.time()-start)/ncycles)))\n",
    "\n",
    "for item in sorted([(value,key) for (key,value) in emails.items()], reverse=True):\n",
    "    print(item[1], item[0])"
   ]
  },
  {
   "cell_type": "code",
   "execution_count": 6,
   "metadata": {
    "collapsed": false,
    "deletable": true,
    "editable": true
   },
   "outputs": [
    {
     "data": {
      "text/plain": [
       "94626"
      ]
     },
     "execution_count": 6,
     "metadata": {},
     "output_type": "execute_result"
    }
   ],
   "source": [
    "def convert_bytes(num):\n",
    "    \"\"\"\n",
    "    this function will convert bytes to MB.... GB... etc\n",
    "    \"\"\"\n",
    "    for x in ['bytes', 'KB', 'MB', 'GB', 'TB']:\n",
    "        if num < 1024.0:\n",
    "            return \"%3.1f %s\" % (num, x)\n",
    "        num /= 1024.0\n",
    "\n",
    "import os\n",
    "(os.path.getsize('mbox-short.txt'))"
   ]
  },
  {
   "cell_type": "code",
   "execution_count": 7,
   "metadata": {
    "collapsed": false,
    "deletable": true,
    "editable": true
   },
   "outputs": [
    {
     "name": "stdout",
     "output_type": "stream",
     "text": [
      "size of mbox-short.txt is: 92.4 KB\n",
      "size of mbox0.5.txt is: 3.3 MB\n",
      "size of mbox.txt is: 6.4 MB\n",
      "size of mbox2.txt is: 12.8 MB\n",
      "size of mbox5.txt is: 31.9 MB\n",
      "size of mbox10.txt is: 63.8 MB\n"
     ]
    }
   ],
   "source": [
    "files=[\"mbox-short.txt\",\n",
    "       \"mbox0.5.txt\",\n",
    "       \"mbox.txt\",\n",
    "       \"mbox2.txt\",\n",
    "       \"mbox5.txt\",\n",
    "       \"mbox10.txt\"]\n",
    "for file in files:\n",
    "    print(\"size of\",file,\"is:\",convert_bytes(os.path.getsize(file)))"
   ]
  },
  {
   "cell_type": "code",
   "execution_count": 32,
   "metadata": {
    "collapsed": false,
    "deletable": true,
    "editable": true
   },
   "outputs": [],
   "source": [
    "ncycles=1\n",
    "test_dct=list()\n",
    "file_sizes=list()\n",
    "for file in files:\n",
    "    for i in range(ncycles):\n",
    "        start=time.time()\n",
    "        emails=emailDict(file=file)\n",
    "    elapsed_avg=(time.time()-start)/ncycles\n",
    "    test_dct.append(elapsed_avg)\n",
    "    file_sizes.append(os.path.getsize(file))\n",
    "#db.close()\n",
    "#     print(\"%s s elapsed\"%format(str(elapsed)))\n",
    "\n",
    "#     for item in sorted([(value,key) for (key,value) in emails.items()], reverse=True):\n",
    "#         print(item[1], item[0])"
   ]
  },
  {
   "cell_type": "code",
   "execution_count": 33,
   "metadata": {
    "collapsed": false,
    "deletable": true,
    "editable": true
   },
   "outputs": [
    {
     "data": {
      "text/plain": [
       "[0.0,\n",
       " 0.06902098655700684,\n",
       " 0.1315312385559082,\n",
       " 0.3542215824127197,\n",
       " 0.6154968738555908,\n",
       " 1.263927936553955]"
      ]
     },
     "execution_count": 33,
     "metadata": {},
     "output_type": "execute_result"
    }
   ],
   "source": [
    "test_dct"
   ]
  },
  {
   "cell_type": "code",
   "execution_count": 8,
   "metadata": {
    "collapsed": false,
    "deletable": true,
    "editable": true
   },
   "outputs": [
    {
     "name": "stdout",
     "output_type": "stream",
     "text": [
      "1.3854806423187256 s\n",
      "41.31173825263977 s\n",
      "84.31100368499756 s\n",
      "168.70981335639954 s\n",
      "414.2281029224396 s\n",
      "826.3986208438873 s\n"
     ]
    }
   ],
   "source": [
    "ncycles=1\n",
    "test_mysql=list()\n",
    "file_sizes=list()\n",
    "for file in files:\n",
    "    for i in range(ncycles):\n",
    "        start=time.time()\n",
    "        db=emailMySql(file=file)\n",
    "    elapsed_avg=(time.time()-start)/ncycles\n",
    "    print(elapsed_avg,\"s\")\n",
    "    test_mysql.append(elapsed_avg)\n",
    "    file_sizes.append(os.path.getsize(file))\n",
    "db.close()"
   ]
  },
  {
   "cell_type": "code",
   "execution_count": 9,
   "metadata": {
    "collapsed": false,
    "deletable": true,
    "editable": true
   },
   "outputs": [
    {
     "data": {
      "text/plain": [
       "[1.3854806423187256,\n",
       " 41.31173825263977,\n",
       " 84.31100368499756,\n",
       " 168.70981335639954,\n",
       " 414.2281029224396,\n",
       " 826.3986208438873]"
      ]
     },
     "execution_count": 9,
     "metadata": {},
     "output_type": "execute_result"
    }
   ],
   "source": [
    "test_mysql"
   ]
  },
  {
   "cell_type": "code",
   "execution_count": 36,
   "metadata": {
    "collapsed": false,
    "deletable": true,
    "editable": true
   },
   "outputs": [
    {
     "name": "stdout",
     "output_type": "stream",
     "text": [
      "0.03126358985900879 s\n",
      "0.9691710472106934 s\n",
      "1.9340965747833252 s\n",
      "4.57696533203125 s\n",
      "12.217901706695557 s\n",
      "21.737657070159912 s\n"
     ]
    }
   ],
   "source": [
    "ncycles=1\n",
    "test_mysql=list()\n",
    "file_sizes=list()\n",
    "for file in files:\n",
    "    for i in range(ncycles):\n",
    "        start=time.time()\n",
    "        db=emailMySql_opt(file=file)\n",
    "    elapsed_avg=(time.time()-start)/ncycles\n",
    "    print(elapsed_avg,\"s\")\n",
    "    test_mysql.append(elapsed_avg)\n",
    "    file_sizes.append(os.path.getsize(file))\n",
    "db.close()"
   ]
  },
  {
   "cell_type": "code",
   "execution_count": 23,
   "metadata": {
    "collapsed": false,
    "deletable": true,
    "editable": true
   },
   "outputs": [
    {
     "data": {
      "text/plain": [
       "[0.497852087020874,\n",
       " 1.1167919635772705,\n",
       " 1.5821192264556885,\n",
       " 2.433722734451294,\n",
       " 2.9245691299438477,\n",
       " 5.432344436645508]"
      ]
     },
     "execution_count": 23,
     "metadata": {},
     "output_type": "execute_result"
    }
   ],
   "source": [
    "test_mysql"
   ]
  },
  {
   "cell_type": "code",
   "execution_count": 7,
   "metadata": {
    "collapsed": false,
    "deletable": true,
    "editable": true
   },
   "outputs": [
    {
     "name": "stdout",
     "output_type": "stream",
     "text": [
      "2.3071329593658447 s\n",
      "91.02301549911499 s\n",
      "200.79262804985046 s\n",
      "394.8466143608093 s\n",
      "984.1553418636322 s\n",
      "2005.2575192451477 s\n"
     ]
    }
   ],
   "source": [
    "ncycles=1\n",
    "test_sqlite=list()\n",
    "file_sizes=list()\n",
    "for file in files:\n",
    "    for i in range(ncycles):\n",
    "        start=time.time()\n",
    "        cur=emailSQlite(file=file)\n",
    "    elapsed_avg=(time.time()-start)/ncycles\n",
    "    print(elapsed_avg,\"s\")\n",
    "    test_sqlite.append(elapsed_avg)\n",
    "    file_sizes.append(os.path.getsize(file))\n",
    "cur.close()"
   ]
  },
  {
   "cell_type": "code",
   "execution_count": null,
   "metadata": {
    "collapsed": true,
    "deletable": true,
    "editable": true
   },
   "outputs": [],
   "source": []
  },
  {
   "cell_type": "code",
   "execution_count": 25,
   "metadata": {
    "collapsed": false,
    "deletable": true,
    "editable": true
   },
   "outputs": [
    {
     "data": {
      "text/plain": [
       "[0.0003333091735839844,\n",
       " 0.0008339087168375651,\n",
       " 0.0028350353240966797,\n",
       " 0.011174678802490234,\n",
       " 0.02084835370381673,\n",
       " 0.04286384582519531,\n",
       " 0.09506758054097493,\n",
       " 0.20214271545410156]"
      ]
     },
     "execution_count": 25,
     "metadata": {},
     "output_type": "execute_result"
    }
   ],
   "source": [
    "test_sqlite"
   ]
  },
  {
   "cell_type": "code",
   "execution_count": 34,
   "metadata": {
    "collapsed": false,
    "deletable": true,
    "editable": true
   },
   "outputs": [
    {
     "name": "stdout",
     "output_type": "stream",
     "text": [
      "0.031250715255737305 s\n",
      "0.13152551651000977 s\n",
      "0.22225332260131836 s\n",
      "0.40108799934387207 s\n",
      "0.9475164413452148 s\n",
      "1.8566439151763916 s\n"
     ]
    }
   ],
   "source": [
    "ncycles=1\n",
    "test_sqlite=list()\n",
    "file_sizes=list()\n",
    "for file in files:\n",
    "    for i in range(ncycles):\n",
    "        start=time.time()\n",
    "        cur=emailSQlite_opt(file=file)\n",
    "    elapsed_avg=(time.time()-start)/ncycles\n",
    "    print(elapsed_avg,\"s\")\n",
    "    test_sqlite.append(elapsed_avg)\n",
    "    file_sizes.append(os.path.getsize(file))\n",
    "cur.close()"
   ]
  },
  {
   "cell_type": "code",
   "execution_count": 21,
   "metadata": {
    "collapsed": false,
    "deletable": true,
    "editable": true
   },
   "outputs": [
    {
     "data": {
      "text/plain": [
       "[0.2902059555053711,\n",
       " 0.44981813430786133,\n",
       " 0.4573230743408203,\n",
       " 0.533876895904541,\n",
       " 0.7240128517150879,\n",
       " 1.1338019371032715]"
      ]
     },
     "execution_count": 21,
     "metadata": {},
     "output_type": "execute_result"
    }
   ],
   "source": [
    "test_sqlite"
   ]
  },
  {
   "cell_type": "code",
   "execution_count": null,
   "metadata": {
    "collapsed": true,
    "deletable": true,
    "editable": true
   },
   "outputs": [],
   "source": [
    "test_dct=list()\n",
    "file_sizes=list()\n",
    "for file in files:\n",
    "    for i in range(ncycles):\n",
    "        start=time.time()\n",
    "        cur=emailSQlite(file=file)\n",
    "    elapsed_avg=(time.time()-start)/ncycles\n",
    "    test_dct.append(elapsed_avg)\n",
    "    file_sizes.append(os.path.getsize(file))\n",
    "cur.close()"
   ]
  },
  {
   "cell_type": "code",
   "execution_count": null,
   "metadata": {
    "collapsed": true,
    "deletable": true,
    "editable": true
   },
   "outputs": [],
   "source": []
  },
  {
   "cell_type": "code",
   "execution_count": null,
   "metadata": {
    "collapsed": true,
    "deletable": true,
    "editable": true
   },
   "outputs": [],
   "source": []
  },
  {
   "cell_type": "code",
   "execution_count": 11,
   "metadata": {
    "collapsed": false,
    "deletable": true,
    "editable": true
   },
   "outputs": [
    {
     "name": "stdout",
     "output_type": "stream",
     "text": [
      "0.8247172037760416 s elapsed\n",
      "cwen@iupui.edu 5\n",
      "zqian@umich.edu 4\n",
      "david.horwitz@uct.ac.za 4\n",
      "louis@media.berkeley.edu 3\n",
      "gsilver@umich.edu 3\n",
      "stephen.marquard@uct.ac.za 2\n",
      "rjlowe@iupui.edu 2\n",
      "wagnermr@iupui.edu 1\n",
      "antranig@caret.cam.ac.uk 1\n",
      "gopal.ramasammycook@gmail.com 1\n"
     ]
    }
   ],
   "source": [
    "for i in range(ncycles):\n",
    "    start=time.time()\n",
    "    cur=emailSQlite(file=\"mbox-short.txt\")\n",
    "print(\"%s s elapsed\"%format(str((time.time()-start)/ncycles)))\n",
    "\n",
    "\n",
    "sqlstr = 'SELECT email, count FROM Counts ORDER BY count DESC LIMIT 10'\n",
    "\n",
    "for row in cur.execute(sqlstr):\n",
    "    print(str(row[0]), row[1])\n",
    "\n",
    "cur.close()"
   ]
  },
  {
   "cell_type": "code",
   "execution_count": 14,
   "metadata": {
    "collapsed": false,
    "deletable": true,
    "editable": true
   },
   "outputs": [
    {
     "name": "stdout",
     "output_type": "stream",
     "text": [
      "0.43047142028808594 s elapsed\n",
      "cwen@iupui.edu 5\n",
      "zqian@umich.edu 4\n",
      "david.horwitz@uct.ac.za 4\n",
      "gsilver@umich.edu 3\n",
      "louis@media.berkeley.edu 3\n",
      "stephen.marquard@uct.ac.za 2\n",
      "rjlowe@iupui.edu 2\n",
      "wagnermr@iupui.edu 1\n",
      "antranig@caret.cam.ac.uk 1\n",
      "gopal.ramasammycook@gmail.com 1\n"
     ]
    }
   ],
   "source": [
    "for i in range(ncycles):\n",
    "    start=time.time()\n",
    "    db=emailMySql(file=\"mbox-short.txt\")\n",
    "print(\"%s s elapsed\"%format(str((time.time()-start)/ncycles)))\n",
    "\n",
    "\n",
    "with db.cursor() as cur:\n",
    "    sqlstr = 'SELECT email, count FROM Counts ORDER BY count DESC LIMIT 10'\n",
    "    cur.execute(sqlstr)\n",
    "    results = cur.fetchall()\n",
    "for row in results:\n",
    "    print(str(row[0]), row[1])\n",
    "\n",
    "\n",
    "db.close()"
   ]
  },
  {
   "cell_type": "code",
   "execution_count": null,
   "metadata": {
    "collapsed": true,
    "deletable": true,
    "editable": true
   },
   "outputs": [],
   "source": []
  },
  {
   "cell_type": "code",
   "execution_count": 11,
   "metadata": {
    "collapsed": false,
    "deletable": true,
    "editable": true
   },
   "outputs": [
    {
     "data": {
      "text/plain": [
       "['92.4 KB',\n",
       " '277.2 KB',\n",
       " '955.3 KB',\n",
       " '3.3 MB',\n",
       " '6.4 MB',\n",
       " '12.8 MB',\n",
       " '31.9 MB',\n",
       " '63.8 MB']"
      ]
     },
     "execution_count": 11,
     "metadata": {},
     "output_type": "execute_result"
    }
   ],
   "source": [
    "[convert_bytes(os.path.getsize(file)) for file in files]"
   ]
  },
  {
   "cell_type": "code",
   "execution_count": 16,
   "metadata": {
    "collapsed": false,
    "deletable": true,
    "editable": true
   },
   "outputs": [
    {
     "data": {
      "text/plain": [
       "array([  5.56045108e-06,   1.86244647e-04,   3.86382474e-04,\n",
       "         7.58870443e-04,   1.69832574e-03,   3.22450929e-03])"
      ]
     },
     "execution_count": 16,
     "metadata": {},
     "output_type": "execute_result"
    }
   ],
   "source": [
    "np.array(test_dct)/60"
   ]
  },
  {
   "cell_type": "code",
   "execution_count": 37,
   "metadata": {
    "collapsed": false,
    "deletable": true,
    "editable": true
   },
   "outputs": [
    {
     "data": {
      "image/png": "[encoded data removed]",
      "text/plain": [
       "<matplotlib.figure.Figure at 0x1f6d5f7bb38>"
      ]
     },
     "metadata": {},
     "output_type": "display_data"
    }
   ],
   "source": [
    "import numpy as np\n",
    "import matplotlib.pyplot as plt\n",
    "from matplotlib import rcParams\n",
    "\n",
    "x_val=[os.path.getsize(file) for file in files]\n",
    "labels=[convert_bytes(os.path.getsize(file)) for file in files]\n",
    "\n",
    "plt.plot(x_val, test_dct, x_val, test_mysql, x_val, test_sqlite)\n",
    "plt.xticks(x_val, labels, rotation=90)\n",
    "#plt.ylim(0,max(counts.values())*1.1)\n",
    "plt.ylim(0,max(max(test_dct),max(test_mysql), max(test_sqlite))*1.1)\n",
    "plt.xlim(0, max(x_val)*1.05)\n",
    "plt.legend(['Emails2Dict','Emails2MySql', 'Emails2SQlite'], loc='upper left')\n",
    "plt.xlabel(\"File Size\")\n",
    "plt.ylabel(\"Execution time, s\")\n",
    "rcParams.update({'font.size': 22})\n",
    "fig = plt.gcf()\n",
    "fig.set_size_inches(14.5, 8.5)\n",
    "plt.show()"
   ]
  },
  {
   "cell_type": "code",
   "execution_count": null,
   "metadata": {
    "collapsed": true,
    "deletable": true,
    "editable": true
   },
   "outputs": [],
   "source": []
  },
  {
   "cell_type": "code",
   "execution_count": null,
   "metadata": {
    "collapsed": true,
    "deletable": true,
    "editable": true
   },
   "outputs": [],
   "source": []
  },
  {
   "cell_type": "code",
   "execution_count": null,
   "metadata": {
    "collapsed": true,
    "deletable": true,
    "editable": true
   },
   "outputs": [],
   "source": []
  },
  {
   "cell_type": "markdown",
   "metadata": {
    "deletable": true,
    "editable": true
   },
   "source": [
    "## Week 3: Multi-table Relations: Audio Tracks Listing"
   ]
  },
  {
   "cell_type": "code",
   "execution_count": null,
   "metadata": {
    "collapsed": true,
    "deletable": true,
    "editable": true
   },
   "outputs": [],
   "source": [
    "#create database tracks.db\n",
    "CREATE TABLE `Artist` (\n",
    "\t`id`\tINTEGER NOT NULL PRIMARY KEY AUTOINCREMENT,\n",
    "\t`name`\tTEXT\n",
    ");\n",
    "\n",
    "CREATE TABLE `Genre` (\n",
    "\t`id`\tINTEGER NOT NULL PRIMARY KEY AUTOINCREMENT UNIQUE,\n",
    "\t`name`\tTEXT\n",
    ");\n",
    "CREATE TABLE `Album` (\n",
    "\t`id`\tINTEGER NOT NULL PRIMARY KEY AUTOINCREMENT UNIQUE,\n",
    "\t`artist_id` INTEGER,\n",
    "\t`title`\tTEXT\n",
    ");\n",
    "CREATE TABLE `Album` (\n",
    "\t`id`\tINTEGER NOT NULL PRIMARY KEY AUTOINCREMENT UNIQUE,\n",
    "\t`title`\tTEXT,\n",
    "\t`album_id` INTEGER,\n",
    "\t`genre_id` INTEGER,\n",
    "\t`len` INTEGER, `rating` INTEGER, `count` INTEGER\n",
    ");\n",
    "CREATE TABLE `Track` (\n",
    "\t`id`\tINTEGER NOT NULL PRIMARY KEY AUTOINCREMENT UNIQUE,\n",
    "\t`title`\tTEXT,\n",
    "\t`album_id` INTEGER,\n",
    "\t`genre_id` INTEGER,\n",
    "\t`len` INTEGER, `rating` INTEGER, `count` INTEGER\n",
    ");"
   ]
  },
  {
   "cell_type": "markdown",
   "metadata": {
    "deletable": true,
    "editable": true
   },
   "source": [
    "## Brilliant SQL to get identical friend count in Follows table: twfriens.py"
   ]
  },
  {
   "cell_type": "code",
   "execution_count": null,
   "metadata": {
    "collapsed": true,
    "deletable": true,
    "editable": true
   },
   "outputs": [],
   "source": [
    "    \n",
    "'SELECT * FROM Follows JOIN People ON Follows.to_id=People.id WHERE Follows.from_id=2'\n",
    "'SELECT * FROM Follows JOIN People ON Follows.to_id=People.id'\n",
    "\n",
    "'''SElECT to_id, from_id, COUNT(to_id)\n",
    "FROM Follows\n",
    "GROUP BY to_id\n",
    "HAVING COUNT(*) > 0'''\n",
    "\n",
    "'''\n",
    "\n",
    "SELECT Follows.*, People.*, COUNT(to_id) as 'Count' \n",
    "    FROM Follows JOIN People ON Follows.to_id=People.id \n",
    "    GROUP BY to_id \n",
    "    ORDER BY COUNT(to_id) DESC\n",
    "'''\n",
    "\n"
   ]
  },
  {
   "cell_type": "code",
   "execution_count": null,
   "metadata": {
    "collapsed": true,
    "deletable": true,
    "editable": true
   },
   "outputs": [],
   "source": [
    "#populating data\n",
    "Insert into Artist (name) values ('Led Zepplin')\n",
    "Insert into Artist (name) values ('AC/DC')\n",
    "\n",
    "Insert into Genre (name) values ('Rock');\n",
    "Insert into Genre (name) values ('Metal')\n",
    "\n",
    "Insert into Album (title, artist_id) values ('Who Made Who', 2);\n",
    "Insert into Album (title, artist_id) values ('IV', 1)\n",
    "\n",
    "Insert into Track (title, rating, len, count, album_id, genre_id) values ('Black Dog', 5, 297, 0, 2, 1);\n",
    "Insert into Track (title, rating, len, count, album_id, genre_id) values ('Stairway', 5, 482, 0, 2, 1);\n",
    "Insert into Track (title, rating, len, count, album_id, genre_id) values ('About to Rock', 5, 313, 0, 1, 2);\n",
    "Insert into Track (title, rating, len, count, album_id, genre_id) values ('Who Made Who', 5, 207, 0, 1, 2)"
   ]
  },
  {
   "cell_type": "code",
   "execution_count": null,
   "metadata": {
    "collapsed": true,
    "deletable": true,
    "editable": true
   },
   "outputs": [],
   "source": [
    "#join clause\n",
    "#relates albums to artists\n",
    "select Album.title, Artist.name from Album join Artist on Album.artist_id = Artist.id\n",
    "select Album.title, Artist.name, Album.artist_id, Artist.id from Album join Artist on Album.artist_id = Artist.id\n",
    "\n",
    "\n",
    "#display track name and genre\n",
    "select Track.title, Genre.name from Track join Genre on Track.genre_id=Genre.id\n",
    "#Final Select Statement\n",
    "select Track.title, Track.count, Artist.name as 'Artist', Album.title as 'Album', Genre.name as 'Genre' \n",
    "    from Track join Genre join Album join Artist \n",
    "    on Track.genre_id=Genre.id and Track.album_id=Album.id and Album.artist_id=Artist.id"
   ]
  },
  {
   "cell_type": "markdown",
   "metadata": {
    "collapsed": true,
    "deletable": true,
    "editable": true
   },
   "source": [
    "### Book example: db1.py, db2.py"
   ]
  },
  {
   "cell_type": "code",
   "execution_count": 38,
   "metadata": {
    "collapsed": false,
    "deletable": true,
    "editable": true
   },
   "outputs": [
    {
     "name": "stdout",
     "output_type": "stream",
     "text": [
      "Tracks:\n",
      "('Thunderstruck', 20)\n",
      "('My Way', 15)\n"
     ]
    }
   ],
   "source": [
    "import sqlite3\n",
    "\n",
    "conn = sqlite3.connect('music.sqlite')\n",
    "cur = conn.cursor()\n",
    "\n",
    "cur.execute('DROP TABLE IF EXISTS Tracks')\n",
    "cur.execute('CREATE TABLE Tracks (title TEXT, plays INTEGER)')\n",
    "\n",
    "cur.execute('INSERT INTO Tracks (title, plays) VALUES (?, ?)', ('Thunderstruck', 20))\n",
    "cur.execute('INSERT INTO Tracks (title, plays) VALUES (?, ?)', ('My Way', 15))\n",
    "conn.commit()\n",
    "\n",
    "print('Tracks:')\n",
    "cur.execute('SELECT title, plays FROM Tracks')\n",
    "for row in cur:\n",
    "    print(row)\n",
    "    \n",
    "\n",
    "#cur.execute('DELETE FROM Tracks WHERE plays < 100')\n",
    "\n",
    "conn.close()"
   ]
  },
  {
   "cell_type": "markdown",
   "metadata": {
    "deletable": true,
    "editable": true
   },
   "source": [
    "### Book example: twspider.py, twdump.py\n",
    "When a blank line is given it stucks at the kaustubhyk  account, which throws an authorization error\n",
    "\n",
    "Need to bypass this glitch"
   ]
  },
  {
   "cell_type": "code",
   "execution_count": 41,
   "metadata": {
    "collapsed": false,
    "deletable": true,
    "editable": true
   },
   "outputs": [
    {
     "name": "stdout",
     "output_type": "stream",
     "text": [
      "('TeamHandstand', 0, 2)\n",
      "('gregfoot', 0, 2)\n",
      "('kaustubhyk', 0, 2)\n",
      "('GBCedarPark', 0, 2)\n",
      "('MegoYugo', 0, 2)\n",
      "('lonelyplanet', 1, 1)\n",
      "('NatGeoTravel', 0, 1)\n",
      "('PopSci', 0, 1)\n",
      "('sciencemagazine', 0, 1)\n",
      "('NatGeoPhotos', 0, 1)\n",
      "10 rows.\n"
     ]
    }
   ],
   "source": [
    "#twdump.py twitter database dumper\n",
    "import sqlite3\n",
    "\n",
    "conn=sqlite3.connect('spider.sqlite')\n",
    "cur=conn.cursor()\n",
    "cur.execute('SELECT * FROM Twitter ORDER BY friends DESC')\n",
    "count=0\n",
    "for row in cur:\n",
    "    count+=1\n",
    "    print(row)\n",
    "print(count, 'rows.')"
   ]
  },
  {
   "cell_type": "code",
   "execution_count": 13,
   "metadata": {
    "collapsed": false,
    "deletable": true,
    "editable": true
   },
   "outputs": [
    {
     "name": "stdout",
     "output_type": "stream",
     "text": [
      "Enter a Twitter account, or quit: quit\n"
     ]
    }
   ],
   "source": [
    "from urllib.request import urlopen\n",
    "import urllib.error\n",
    "import twurl\n",
    "import json\n",
    "import sqlite3\n",
    "import ssl\n",
    "\n",
    "\n",
    "TWITTER_URL = 'https://api.twitter.com/1.1/friends/list.json'\n",
    "\n",
    "conn = sqlite3.connect('spider.sqlite')\n",
    "cur = conn.cursor()\n",
    "\n",
    "cur.execute('''\n",
    "            CREATE TABLE IF NOT EXISTS Twitter\n",
    "            (name TEXT, retrieved INTEGER, friends INTEGER)''')\n",
    "# Ignore SSL certificate errors\n",
    "ctx = ssl.create_default_context()\n",
    "ctx.check_hostname = False\n",
    "ctx.verify_mode = ssl.CERT_NONE\n",
    "\n",
    "while True:\n",
    "    acct = input('Enter a Twitter account, or quit: ')\n",
    "    if (acct == 'quit'): break\n",
    "    if (len(acct) < 1):\n",
    "        cur.execute('SELECT name FROM Twitter  WHERE retrieved = 0  ORDER BY friends')\n",
    "        \n",
    "        try:\n",
    "            acct = cur.fetchone()[0]\n",
    "        except:\n",
    "            print('No unretrieved Twitter accounts found')\n",
    "            continue\n",
    "    print(\"===\",acct,\"===\")\n",
    "    url = twurl.augment(TWITTER_URL, {'screen_name': acct, 'count': '50'})\n",
    "    print('Retrieving', url)\n",
    "    connection = urlopen(url, context=ctx)\n",
    "    data = connection.read().decode()\n",
    "    headers = dict(connection.getheaders())\n",
    "\n",
    "    print('Remaining', headers['x-rate-limit-remaining'])\n",
    "    js = json.loads(data)\n",
    "    # Debugging\n",
    "    # print json.dumps(js, indent=4)\n",
    "\n",
    "    cur.execute('UPDATE Twitter SET retrieved=1 WHERE name = ?', (acct, ))\n",
    "\n",
    "    countnew = 0\n",
    "    countold = 0\n",
    "    for u in js['users']:\n",
    "        friend = u['screen_name']\n",
    "        print(friend)\n",
    "        cur.execute('SELECT friends FROM Twitter WHERE name = ? LIMIT 1',\n",
    "                    (friend, ))\n",
    "        try:\n",
    "            count = cur.fetchone()[0]\n",
    "            cur.execute('UPDATE Twitter SET friends = ? WHERE name = ?',\n",
    "                        (count+1, friend))\n",
    "            countold = countold + 1\n",
    "        except:\n",
    "            cur.execute('''INSERT INTO Twitter (name, retrieved, friends)\n",
    "                        VALUES (?, 0, 1)''', (friend, ))\n",
    "            countnew = countnew + 1\n",
    "    print('New accounts=', countnew, ' revisited=', countold)\n",
    "    conn.commit()\n",
    "\n",
    "cur.close()"
   ]
  },
  {
   "cell_type": "code",
   "execution_count": 11,
   "metadata": {
    "collapsed": false,
    "deletable": true,
    "editable": true
   },
   "outputs": [
    {
     "name": "stdout",
     "output_type": "stream",
     "text": [
      "712 rows.\n"
     ]
    }
   ],
   "source": [
    "conn=sqlite3.connect('spider.sqlite')\n",
    "cur=conn.cursor()\n",
    "cur.execute('SELECT * FROM Twitter ORDER BY friends DESC')\n",
    "count=0\n",
    "for row in cur:\n",
    "    count+=1\n",
    "    #print(row)\n",
    "print(count, 'rows.')\n",
    "cur.close()"
   ]
  },
  {
   "cell_type": "markdown",
   "metadata": {
    "collapsed": true,
    "deletable": true,
    "editable": true
   },
   "source": [
    "### Book examples: twfriends.py - relational version of twspider"
   ]
  },
  {
   "cell_type": "code",
   "execution_count": 14,
   "metadata": {
    "collapsed": false,
    "deletable": true,
    "editable": true
   },
   "outputs": [
    {
     "name": "stdout",
     "output_type": "stream",
     "text": [
      "Enter a Twitter account, or quit: quit\n"
     ]
    }
   ],
   "source": [
    "import urllib.request, urllib.parse, urllib.error\n",
    "import twurl\n",
    "import json\n",
    "import sqlite3\n",
    "import ssl\n",
    "\n",
    "TWITTER_URL = 'https://api.twitter.com/1.1/friends/list.json'\n",
    "\n",
    "conn=sqlite3.connect('friens.sqlite')\n",
    "cur=conn.cursor()\n",
    "\n",
    "cur.execute('''CREATE TABLE IF NOT EXISTS People\n",
    "            (id INTEGER PRIMARY KEY, name TEXT UNIQUE, retrieved INTEGER)''')\n",
    "cur.execute('''CREATE TABLE IF NOT EXISTS Follows\n",
    "            (from_id INTEGER, to_id INTEGER, UNIQUE(from_id, to_id))''')\n",
    "\n",
    "# Ignore SSL certificate errors\n",
    "ctx=ssl.create_default_context()\n",
    "ctx.check_hostname=False\n",
    "ctx.verify_mode=ssl.CERT_NONE\n",
    "\n",
    "while True:\n",
    "    acct=input('Enter a Twitter account, or quit: ')\n",
    "    if (acct == 'quit'): break\n",
    "    if (len(acct)<1):\n",
    "        cur.execute('SELECT id, name FROM People WHERE retrieved = 0 LIMIT 1')\n",
    "        try:\n",
    "            (id, acct)=cur.fetchone()\n",
    "        except:\n",
    "            print('No unretrieved Twitter accounts found')\n",
    "    else:\n",
    "        cur.execute('SELECT id FROM People WHERE name = ? LIMIT 1', (acct,))\n",
    "        \n",
    "        try:\n",
    "            id=cur.fetchone()[0]\n",
    "        except:\n",
    "            cur.execute('''INSERT OR IGNORE INTO People\n",
    "                        (name, retrieved) VALUES (?, 0)''', (acct,))\n",
    "            conn.commit()\n",
    "            if cur.rowcount !=1:\n",
    "                print('Error inserting account:', acct)\n",
    "                continue\n",
    "            id=cur.lastrowid\n",
    "    \n",
    "    url=twurl.augment(TWITTER_URL, {'screen_name':acct, 'count':100})\n",
    "    print('Retrieving account', acct)\n",
    "    try:\n",
    "        connection=urllib.request.urlopen(url, context=ctx)\n",
    "    except Exception as err:\n",
    "        print('Failed to Retrieve', err)\n",
    "        break\n",
    "    \n",
    "    data=connection.read().decode()\n",
    "    headers=dict(connection.getheaders())\n",
    "    \n",
    "    print('Renaiming', headers['x-rate-limit-remaining'])\n",
    "    \n",
    "    try:\n",
    "        js=json.loads(data)\n",
    "    except:\n",
    "        print('Unable to parse json')\n",
    "        print(data)\n",
    "        break\n",
    "    #Debugging\n",
    "    #print(json.dumps(js,indent=4))\n",
    "    \n",
    "    if 'users' not in js:\n",
    "        print('Incorrect JSON recieved')\n",
    "        print(json.dumps(js, indent=4))\n",
    "        continue\n",
    "    \n",
    "    cur.execute('UPDATE People SET retrieved=1 WHERE name=?', (acct,))\n",
    "    \n",
    "    countnew=0\n",
    "    countold=0\n",
    "    for u in js['users']:\n",
    "        friend=u['screen_name']\n",
    "        print(friend)\n",
    "        cur.execute('SELECT id FROM People WHERE name = ? LIMIT 1', (friend,))\n",
    "        \n",
    "        try:\n",
    "            friend_id=cur.fetchone()[0]\n",
    "            countold=countold+1\n",
    "        except:\n",
    "            cur.execute('''INSERT OR IGNORE INTO People (name, retrieved) VALUES (?, 0)''', (friend,))\n",
    "            conn.commit()\n",
    "            if cur.rowcount!=1:\n",
    "                print('Error inserting account:', friend)\n",
    "                continue\n",
    "            friend_id=cur.lastrowid\n",
    "            countnew=countnew+1\n",
    "            \n",
    "        cur.execute('''INSERT OR IGNORE INTO Follows (from_id, to_id) VALUES (?,?)''', (id, friend_id))\n",
    "    print('New accounts=', countnew, 'revisited=', countold)\n",
    "    print('Remaining', headers['x-rate-limit-remaining'])\n",
    "    conn.commit()\n",
    "cur.close()\n",
    "        \n",
    "    \n",
    "            "
   ]
  },
  {
   "cell_type": "code",
   "execution_count": 3,
   "metadata": {
    "collapsed": false,
    "deletable": true,
    "editable": true
   },
   "outputs": [
    {
     "name": "stdout",
     "output_type": "stream",
     "text": [
      "People:\n",
      "(1, 'drchuck', 1)\n",
      "(2, 'rameshsabeti', 1)\n",
      "(3, 'lastmjs', 1)\n",
      "(4, 'VanJones68', 1)\n",
      "(5, 'ananavarro', 1)\n",
      "729 rows.\n",
      "Follows:\n",
      "(1, 2)\n",
      "(1, 3)\n",
      "(1, 4)\n",
      "(1, 5)\n",
      "(1, 6)\n",
      "734 rows.\n",
      "Connections for id=2:\n",
      "(2, 102, 102, 'WeAreOneOC', 0)\n",
      "(2, 103, 103, 'watkinsdani', 0)\n",
      "(2, 104, 104, 'shoemoney', 0)\n",
      "(2, 105, 105, 'BrandJournoCara', 0)\n",
      "(2, 106, 106, 'cbezzy', 0)\n",
      "50 rows.\n"
     ]
    }
   ],
   "source": [
    "#twjoin.py\n",
    "import sqlite3\n",
    "conn=sqlite3.connect(\"friens.sqlite\")\n",
    "cur=conn.cursor()\n",
    "\n",
    "cur.execute(\"SELECT * FROM People\")\n",
    "count=0\n",
    "print('People:')\n",
    "for row in cur:\n",
    "    if count<5: print(row)\n",
    "    count+=1\n",
    "print(count, \"rows.\")\n",
    "\n",
    "cur.execute(\"SELECT * FROM Follows\")\n",
    "count=0\n",
    "print('Follows:')\n",
    "for row in cur:\n",
    "    if count<5: print(row)\n",
    "    count+=1\n",
    "print(count, \"rows.\")\n",
    "#all the friends of People.id=2\n",
    "cur.execute(\"SELECT * FROM Follows JOIN People ON Follows.to_id=People.id WHERE Follows.from_id=2\")\n",
    "\n",
    "count=0\n",
    "print('Connections for id=2:')\n",
    "for row in cur:\n",
    "    if count<5: print(row)\n",
    "    count+=1\n",
    "print(count, \"rows.\")\n",
    "cur.close()"
   ]
  },
  {
   "cell_type": "code",
   "execution_count": null,
   "metadata": {
    "collapsed": true,
    "deletable": true,
    "editable": true
   },
   "outputs": [],
   "source": []
  },
  {
   "cell_type": "markdown",
   "metadata": {
    "deletable": true,
    "editable": true
   },
   "source": [
    "## Brilliant SQL to get identical friend count in Follows table: twfriens.py"
   ]
  },
  {
   "cell_type": "code",
   "execution_count": null,
   "metadata": {
    "collapsed": true,
    "deletable": true,
    "editable": true
   },
   "outputs": [],
   "source": [
    "    \n",
    "'SELECT * FROM Follows JOIN People ON Follows.to_id=People.id WHERE Follows.from_id=2'\n",
    "'SELECT * FROM Follows JOIN People ON Follows.to_id=People.id'\n",
    "\n",
    "'''SElECT to_id, from_id, COUNT(to_id)\n",
    "FROM Follows\n",
    "GROUP BY to_id\n",
    "HAVING COUNT(*) > 0'''\n",
    "\n",
    "'''\n",
    "\n",
    "SELECT Follows.*, People.*, COUNT(to_id) as 'Count' \n",
    "    FROM Follows JOIN People ON Follows.to_id=People.id \n",
    "    GROUP BY to_id \n",
    "    ORDER BY COUNT(to_id) DESC\n",
    "'''"
   ]
  },
  {
   "cell_type": "markdown",
   "metadata": {
    "collapsed": true,
    "deletable": true,
    "editable": true
   },
   "source": [
    "### Extended tracks.py: READING from XML"
   ]
  },
  {
   "cell_type": "code",
   "execution_count": 17,
   "metadata": {
    "collapsed": false,
    "deletable": true,
    "editable": true
   },
   "outputs": [
    {
     "data": {
      "text/plain": [
       "'CREATE TABLE `Artist` (\\n\\t`id`\\tINTEGER NOT NULL PRIMARY KEY AUTOINCREMENT,\\n\\t`name`\\tTEXT\\n);\\n\\nCREATE TABLE `Genre` (\\n\\t`id`\\tINTEGER NOT NULL PRIMARY KEY AUTOINCREMENT UNIQUE,\\n\\t`name`\\tTEXT\\n);\\nCREATE TABLE `Album` (\\n\\t`id`\\tINTEGER NOT NULL PRIMARY KEY AUTOINCREMENT UNIQUE,\\n\\t`artist_id` INTEGER,\\n\\t`title`\\tTEXT\\n);\\nCREATE TABLE `Album` (\\n\\t`id`\\tINTEGER NOT NULL PRIMARY KEY AUTOINCREMENT UNIQUE,\\n\\t`title`\\tTEXT,\\n\\t`album_id` INTEGER,\\n\\t`genre_id` INTEGER,\\n\\t`len` INTEGER, `rating` INTEGER, `count` INTEGER\\n);\\nCREATE TABLE `Track` (\\n\\t`id`\\tINTEGER NOT NULL PRIMARY KEY AUTOINCREMENT UNIQUE,\\n\\t`title`\\tTEXT,\\n\\t`album_id` INTEGER,\\n\\t`genre_id` INTEGER,\\n\\t`len` INTEGER, `rating` INTEGER, `count` INTEGER\\n);'"
      ]
     },
     "execution_count": 17,
     "metadata": {},
     "output_type": "execute_result"
    }
   ],
   "source": [
    "#create database tracks.db\n",
    "'''CREATE TABLE `Artist` (\n",
    "\t`id`\tINTEGER NOT NULL PRIMARY KEY AUTOINCREMENT,\n",
    "\t`name`\tTEXT UNIQUE\n",
    ");\n",
    "\n",
    "CREATE TABLE `Genre` (\n",
    "\t`id`\tINTEGER NOT NULL PRIMARY KEY AUTOINCREMENT UNIQUE,\n",
    "\t`name`\tTEXT\n",
    ");\n",
    "CREATE TABLE `Album` (\n",
    "\t`id`\tINTEGER NOT NULL PRIMARY KEY AUTOINCREMENT UNIQUE,\n",
    "\t`artist_id` INTEGER,\n",
    "\t`title`\tTEXT\n",
    ");\n",
    "CREATE TABLE `Album` (\n",
    "\t`id`\tINTEGER NOT NULL PRIMARY KEY AUTOINCREMENT UNIQUE,\n",
    "\t`title`\tTEXT,\n",
    "\t`album_id` INTEGER,\n",
    "\t`genre_id` INTEGER,\n",
    "\t`len` INTEGER, `rating` INTEGER, `count` INTEGER\n",
    ");\n",
    "CREATE TABLE `Track` (\n",
    "\t`id`\tINTEGER NOT NULL PRIMARY KEY AUTOINCREMENT UNIQUE,\n",
    "\t`title`\tTEXT,\n",
    "\t`album_id` INTEGER,\n",
    "\t`genre_id` INTEGER,\n",
    "\t`len` INTEGER, `rating` INTEGER, `count` INTEGER\n",
    ");'''"
   ]
  },
  {
   "cell_type": "code",
   "execution_count": null,
   "metadata": {
    "collapsed": true,
    "deletable": true,
    "editable": true
   },
   "outputs": [],
   "source": [
    "#populating data\n",
    "Insert into Artist (name) values ('Led Zepplin')\n",
    "Insert into Artist (name) values ('AC/DC')\n",
    "\n",
    "Insert into Genre (name) values ('Rock');\n",
    "Insert into Genre (name) values ('Metal')\n",
    "\n",
    "Insert into Album (title, artist_id) values ('Who Made Who', 2);\n",
    "Insert into Album (title, artist_id) values ('IV', 1)\n",
    "\n",
    "Insert into Track (title, rating, len, count, album_id, genre_id) values ('Black Dog', 5, 297, 0, 2, 1);\n",
    "Insert into Track (title, rating, len, count, album_id, genre_id) values ('Stairway', 5, 482, 0, 2, 1);\n",
    "Insert into Track (title, rating, len, count, album_id, genre_id) values ('About to Rock', 5, 313, 0, 1, 2);\n",
    "Insert into Track (title, rating, len, count, album_id, genre_id) values ('Who Made Who', 5, 207, 0, 1, 2)"
   ]
  },
  {
   "cell_type": "code",
   "execution_count": 25,
   "metadata": {
    "collapsed": false,
    "deletable": true,
    "editable": true
   },
   "outputs": [
    {
     "name": "stdout",
     "output_type": "stream",
     "text": [
      "Enter file name: \n",
      "Wall time: 1.8 s\n"
     ]
    }
   ],
   "source": [
    "%%time\n",
    "import xml.etree.ElementTree as ET\n",
    "import sqlite3\n",
    "\n",
    "conn=sqlite3.connect('trackdb1.sqlite')\n",
    "cur=conn.cursor()\n",
    "\n",
    "#Make some fresh tables using executescript()\n",
    "cur.executescript('''\n",
    "DROP TABLE IF EXISTS Artist;\n",
    "DROP TABLE IF EXISTS Album;\n",
    "DROP TABLE IF EXISTS Track;\n",
    "\n",
    "CREATE TABLE `Artist` (\n",
    " `id` INTEGER NOT NULL PRIMARY KEY AUTOINCREMENT UNIQUE,\n",
    " `name` TEXT UNIQUE\n",
    ");\n",
    "\n",
    "CREATE TABLE `Album` (\n",
    " `id` INTEGER NOT NULL PRIMARY KEY AUTOINCREMENT UNIQUE,\n",
    " `artist_id` INTEGER,\n",
    " `title` TEXT UNIQUE\n",
    ");\n",
    "\n",
    "CREATE TABLE `Track` (\n",
    " `id` INTEGER NOT NULL PRIMARY KEY AUTOINCREMENT UNIQUE,\n",
    " `title` TEXT UNIQUE,\n",
    " `album_id` INTEGER,\n",
    " `genre_id` INTEGER,\n",
    " `len` INTEGER, `rating` INTEGER, `count` INTEGER\n",
    ");\n",
    "''')\n",
    "\n",
    "fname=input(\"Enter file name: \")\n",
    "if(len(fname)<1):fname='Library.xml'\n",
    "    \n",
    "def lookup(d,key):#parsing the unusual xml style\n",
    "    found = False\n",
    "    for child in d:\n",
    "        if found: return child.text\n",
    "        if child.tag == 'key' and child.text == key:\n",
    "            found = True\n",
    "    return None\n",
    "\n",
    "stuff=ET.parse(fname)\n",
    "all=stuff.findall('dict/dict/dict')\n",
    "\n",
    "for entry in all:\n",
    "    if(lookup(entry,'Track ID') is None): continue\n",
    "    name = lookup(entry, 'Name')\n",
    "    artist=lookup(entry, 'Artist')\n",
    "    album=lookup(entry, 'Album')\n",
    "    count=lookup(entry, 'Play Count')\n",
    "    rating=lookup(entry, 'Rating')\n",
    "    length=lookup(entry, 'Total Time')\n",
    "    \n",
    "    if name is None or artist is None or album is None:\n",
    "        continue\n",
    "    \n",
    "    #print(name, artist, album, count, rating, length)\n",
    "    \n",
    "    cur.execute('''INSERT OR IGNORE INTO Artist (name)\n",
    "        VALUES ( ? )''', ( artist, ) )\n",
    "    cur.execute('SELECT id from Artist WHERE name = ? ', (artist, ))\n",
    "    artist_id=cur.fetchone()[0]\n",
    "    \n",
    "    cur.execute('''INSERT or IGNORE INTO Album (title, artist_id)\n",
    "        VALUES ( ?, ? )''', ( album, artist_id ) )\n",
    "    cur.execute('SELECT id FROM Album WHERE title = ? ', (album,))\n",
    "    album_id = cur.fetchone()[0]\n",
    "    \n",
    "    #REPLACE isn't supported ewerywhere\n",
    "    cur.execute('''INSERT OR REPLACE INTO Track\n",
    "        (title, album_id, len, rating, count)\n",
    "        VALUES ( ?, ?, ?, ?, ? )''',\n",
    "        ( name, album_id, length, rating, count))\n",
    "conn.commit()"
   ]
  },
  {
   "cell_type": "code",
   "execution_count": null,
   "metadata": {
    "collapsed": true,
    "deletable": true,
    "editable": true
   },
   "outputs": [],
   "source": [
    "#basic select\n",
    "\"\"\"\n",
    "SELECT Track.*, Album.title, Artist.name \n",
    "FROM Track JOIN Album JOIN Artist\n",
    "ON Track.album_id=Album.id and Album.artist_id=Artist.id\n",
    "\"\"\"\n",
    "#fancier select\n",
    "'''SELECT Track.*, Album.title as 'Album', Artist.name as 'Artist'\n",
    "FROM Track JOIN Album JOIN Artist\n",
    "ON Track.album_id=Album.id and Album.artist_id=Artist.id\n",
    "ORDER By Artist.name DESC'''\n",
    "#calculates how much tracks there is in an album\n",
    "\"\"\"SELECT Track.*, Album.title as 'Album', Artist.name as 'Artist', COUNT(Album.id) as 'Tracks in Album'\n",
    "FROM Track JOIN Album JOIN Artist\n",
    "ON Track.album_id=Album.id and Album.artist_id=Artist.id\n",
    "GROUP BY Album.id\"\"\"\n",
    "#calculates how much tracks there is of each artist\n",
    "\"\"\"SELECT Track.*, Album.title as 'Album', Artist.name as 'Artist', COUNT(Artist.id) as 'Tracks of an Artist'\n",
    "FROM Track JOIN Album JOIN Artist\n",
    "ON Track.album_id=Album.id and Album.artist_id=Artist.id\n",
    "GROUP BY Artist.id\"\"\"\n",
    "#Who has more than one album?\n",
    "'''SELECT Album.*, Count(Album.artist_id) as \"#Albums\" , Artist.name as 'Artist'\n",
    "FROM Album JOIN Artist\n",
    "ON Album.artist_id=Artist.id\n",
    "GROUP BY Album.artist_id\n",
    "Having(\"#Albums\" > 1 )\n",
    "ORDER By \"#Albums\" DESC'''"
   ]
  },
  {
   "cell_type": "markdown",
   "metadata": {
    "deletable": true,
    "editable": true
   },
   "source": [
    "### Week3 assignment"
   ]
  },
  {
   "cell_type": "code",
   "execution_count": 44,
   "metadata": {
    "collapsed": false,
    "deletable": true,
    "editable": true
   },
   "outputs": [
    {
     "name": "stdout",
     "output_type": "stream",
     "text": [
      "Enter file name: \n",
      "Wall time: 2.71 s\n"
     ]
    }
   ],
   "source": [
    "%%time\n",
    "import xml.etree.ElementTree as ET\n",
    "import sqlite3\n",
    "\n",
    "conn=sqlite3.connect('assignmentTrackDB.sqlite')\n",
    "cur=conn.cursor()\n",
    "\n",
    "#Make some fresh tables using executescript()\n",
    "cur.executescript('''\n",
    "DROP TABLE IF EXISTS Artist;\n",
    "DROP TABLE IF EXISTS Album;\n",
    "DROP TABLE IF EXISTS Track;\n",
    "DROP TABLE IF EXISTS Genre;\n",
    "\n",
    "CREATE TABLE Artist (\n",
    "    id  INTEGER NOT NULL PRIMARY KEY AUTOINCREMENT UNIQUE,\n",
    "    name    TEXT UNIQUE\n",
    ");\n",
    "\n",
    "CREATE TABLE Genre (\n",
    "    id  INTEGER NOT NULL PRIMARY KEY AUTOINCREMENT UNIQUE,\n",
    "    name    TEXT UNIQUE\n",
    ");\n",
    "\n",
    "CREATE TABLE Album (\n",
    "    id  INTEGER NOT NULL PRIMARY KEY AUTOINCREMENT UNIQUE,\n",
    "    artist_id  INTEGER,\n",
    "    title   TEXT UNIQUE\n",
    ");\n",
    "\n",
    "CREATE TABLE Track (\n",
    "    id  INTEGER NOT NULL PRIMARY KEY AUTOINCREMENT UNIQUE,\n",
    "    title TEXT  UNIQUE,\n",
    "    album_id  INTEGER,\n",
    "    genre_id  INTEGER,\n",
    "    len INTEGER, rating INTEGER, count INTEGER\n",
    ");\n",
    "''')\n",
    "\n",
    "fname=input(\"Enter file name: \")\n",
    "if(len(fname)<1):fname='Library.xml'\n",
    "    \n",
    "def lookup(d,key):#parsing the unusual xml style\n",
    "    found = False\n",
    "    for child in d:\n",
    "        if found: return child.text\n",
    "        if child.tag == 'key' and child.text == key:\n",
    "            found = True\n",
    "    return None\n",
    "\n",
    "stuff=ET.parse(fname)\n",
    "all=stuff.findall('dict/dict/dict')\n",
    "\n",
    "for entry in all:\n",
    "    if(lookup(entry,'Track ID') is None): continue\n",
    "    name = lookup(entry, 'Name')\n",
    "    artist=lookup(entry, 'Artist')\n",
    "    album=lookup(entry, 'Album')\n",
    "    count=lookup(entry, 'Play Count')\n",
    "    rating=lookup(entry, 'Rating')\n",
    "    length=lookup(entry, 'Total Time')\n",
    "    genre=lookup(entry, 'Genre')\n",
    "    \n",
    "    if name is None or artist is None or album is None:\n",
    "        continue\n",
    "    \n",
    "    #print(name, artist, album, count, rating, length)\n",
    "    \n",
    "    if genre is None:\n",
    "        genre='N/A'\n",
    "    cur.execute('''INSERT OR IGNORE INTO Genre (name) \n",
    "        VALUES ( ? )''', (genre,))\n",
    "    cur.execute('SELECT id from Genre WHERE name = ?', (genre,))\n",
    "    genre_id=cur.fetchone()[0]\n",
    "    \n",
    "    cur.execute('''INSERT OR IGNORE INTO Artist (name)\n",
    "        VALUES ( ? )''', ( artist, ) )\n",
    "    cur.execute('SELECT id from Artist WHERE name = ? ', (artist, ))\n",
    "    artist_id=cur.fetchone()[0]\n",
    "    \n",
    "    cur.execute('''INSERT or IGNORE INTO Album (title, artist_id)\n",
    "        VALUES ( ?, ? )''', ( album, artist_id ) )\n",
    "    cur.execute('SELECT id FROM Album WHERE title = ? ', (album,))\n",
    "    album_id = cur.fetchone()[0]\n",
    "    \n",
    "    #REPLACE isn't supported ewerywhere\n",
    "    cur.execute('''INSERT OR REPLACE INTO Track\n",
    "        (title, album_id, genre_id, len, rating, count)\n",
    "        VALUES ( ?, ?, ?, ?, ?, ? )''',\n",
    "        ( name, album_id, genre_id, length, rating, count))\n",
    "conn.commit()\n",
    "\n"
   ]
  },
  {
   "cell_type": "code",
   "execution_count": 45,
   "metadata": {
    "collapsed": false,
    "deletable": true,
    "editable": true
   },
   "outputs": [
    {
     "name": "stdout",
     "output_type": "stream",
     "text": [
      "('For Those About To Rock (We Salute You)', 'AC/DC', 'Who Made Who', 'Rock')\n",
      "('Hells Bells', 'AC/DC', 'Who Made Who', 'Rock')\n",
      "('Shake Your Foundations', 'AC/DC', 'Who Made Who', 'Rock')\n",
      "('You Shook Me All Night Long', 'AC/DC', 'Who Made Who', 'Rock')\n",
      "('Who Made Who', 'AC/DC', 'Who Made Who', 'Rock')\n"
     ]
    }
   ],
   "source": [
    "cur.execute('''SELECT Track.title, Artist.name, Album.title, Genre.name \n",
    "    FROM Track JOIN Genre JOIN Album JOIN Artist \n",
    "    ON Track.genre_id = Genre.ID and Track.album_id = Album.id \n",
    "        AND Album.artist_id = Artist.id\n",
    "    ORDER BY Artist.name LIMIT 5''')\n",
    "\n",
    "for row in cur.fetchall():\n",
    "    print(row)\n",
    "conn.close()"
   ]
  },
  {
   "cell_type": "markdown",
   "metadata": {
    "deletable": true,
    "editable": true
   },
   "source": [
    "## Week 4: many-to-many relationship"
   ]
  },
  {
   "cell_type": "markdown",
   "metadata": {
    "deletable": true,
    "editable": true
   },
   "source": [
    "### making use of a connection table"
   ]
  },
  {
   "cell_type": "code",
   "execution_count": 46,
   "metadata": {
    "collapsed": false,
    "deletable": true,
    "editable": true
   },
   "outputs": [
    {
     "data": {
      "text/plain": [
       "\"\\nCREATE TABLE User (\\n    id INTEGER NOT NULL PRIMARY KEY AUTOINCREMENT UNIQUE,\\n    name TEXT,\\n    email TEXT\\n);\\n\\nCREATE TABLE Course (\\n    id INTEGER NOT NULL PRIMARY KEY AUTOINCREMENT UNIQUE,\\n    title TEXT\\n);\\n\\nCREATE TABLE Member (\\n    user_id INTEGER,\\n    course_id INTEGER,\\n    role INTEGER,\\n    PRIMARY KEY (user_id, course_id)\\n);\\n\\n\\nINSERT INTO User (name, email) VALUES ('Jane' , 'jane@tsugi.org');\\nINSERT INTO User (name, email) VALUES ('Ed' , 'ed@tsugi.org');\\nINSERT INTO User (name, email) VALUES ('Sue' , 'sue@tsugi.org');\\n\\nINSERT INTO Course (title) VALUES ('Python')\\nINSERT INTO Course (title) VALUES ('SQL')\\n\""
      ]
     },
     "execution_count": 46,
     "metadata": {},
     "output_type": "execute_result"
    }
   ],
   "source": [
    "\"\"\"\n",
    "CREATE TABLE User (\n",
    "    id INTEGER NOT NULL PRIMARY KEY AUTOINCREMENT UNIQUE,\n",
    "    name TEXT,\n",
    "    email TEXT\n",
    ");\n",
    "\n",
    "CREATE TABLE Course (\n",
    "    id INTEGER NOT NULL PRIMARY KEY AUTOINCREMENT UNIQUE,\n",
    "    title TEXT\n",
    ");\n",
    "\n",
    "CREATE TABLE Member (\n",
    "    user_id INTEGER,\n",
    "    course_id INTEGER,\n",
    "    role INTEGER,\n",
    "    PRIMARY KEY (user_id, course_id)\n",
    ");\n",
    "\n",
    "CREATE TABLE RoleDesc (\n",
    "    id INTEGER PRIMARY KEY UNIQUE,\n",
    "    description TEXT\n",
    ");\n",
    "\n",
    "\n",
    "INSERT INTO User (name, email) VALUES ('Jane' , 'jane@tsugi.org');\n",
    "INSERT INTO User (name, email) VALUES ('Ed' , 'ed@tsugi.org');\n",
    "INSERT INTO User (name, email) VALUES ('Sue' , 'sue@tsugi.org');\n",
    "\n",
    "INSERT INTO Course (title) VALUES ('Python');\n",
    "INSERT INTO Course (title) VALUES ('SQL');\n",
    "INSERT INTO Course (title) VALUES ('PHP');\n",
    "\n",
    "INSERT INTO RoleDesc (id, description) VALUES (0, 'Student');\n",
    "INSERT INTO RoleDesc (id, description) VALUES (1, 'Instructor');\n",
    "\n",
    "INSERT INTO Member (user_id, course_id, role) VALUES (1, 1, 1);\n",
    "INSERT INTO Member (user_id, course_id, role) VALUES (2, 1, 0);\n",
    "INSERT INTO Member (user_id, course_id, role) VALUES (3, 1, 0);\n",
    "\n",
    "INSERT INTO Member (user_id, course_id, role) VALUES (1, 2, 0);\n",
    "INSERT INTO Member (user_id, course_id, role) VALUES (2, 2, 1);\n",
    "\n",
    "INSERT INTO Member (user_id, course_id, role) VALUES (2, 3, 1);\n",
    "INSERT INTO Member (user_id, course_id, role) VALUES (3, 3, 0);\n",
    "\"\"\"\n",
    "#basic retrieval\n",
    "'''\n",
    "SELECT User.name, Member.role, Course.title, \n",
    "FROM User JOIN Member JOIN Course\n",
    "ON Member.user_id=User.id AND Member.course_id=Course.id\n",
    "ORDER BY Course.title, Member.role DESC, User.name\n",
    "'''\n",
    "#fancier retrieval : role as text\n",
    "'''SELECT User.name, RoleDesc.description, Course.title\n",
    "FROM User JOIN Member JOIN Course JOIN RoleDesc\n",
    "ON Member.user_id=User.id AND Member.course_id=Course.id AND Member.role=RoleDesc.id\n",
    "ORDER BY Course.title, Member.role DESC, User.name'''"
   ]
  },
  {
   "cell_type": "markdown",
   "metadata": {
    "collapsed": true,
    "deletable": true,
    "editable": true
   },
   "source": [
    "### Week 4 assignment: roster"
   ]
  },
  {
   "cell_type": "markdown",
   "metadata": {
    "collapsed": true,
    "deletable": true,
    "editable": true
   },
   "source": [
    "Instructions\n",
    "\n",
    "This application will read roster data in JSON format, parse the file, and then produce an SQLite database that contains a User, Course, and Member table and populate the tables from the data file.\n",
    "\n",
    "You can base your solution on this code: http://www.py4e.com/code3/roster/roster.py - this code is incomplete as you need to modify the program to store the role column in the Member table to complete the assignment.\n",
    "\n",
    "Each student gets their own file for the assignment. Download this file and save it as roster_data.json. Move the downloaded file into the same folder as your roster.py program.\n",
    "\n",
    "Once you have made the necessary changes to the program and it has been run successfully reading the above JSON data, run the following SQL command:\n",
    "\n",
    "SELECT hex(User.name || Course.title || Member.role ) AS X FROM \n",
    "    User JOIN Member JOIN Course \n",
    "    ON User.id = Member.user_id AND Member.course_id = Course.id\n",
    "    ORDER BY X\n",
    "\n",
    "Find the first row in the resulting record set and enter the long string that looks like 53656C696E613333."
   ]
  },
  {
   "cell_type": "code",
   "execution_count": 7,
   "metadata": {
    "collapsed": false,
    "deletable": true,
    "editable": true
   },
   "outputs": [
    {
     "name": "stdout",
     "output_type": "stream",
     "text": [
      "Enter file name: \n",
      "('Gene', 'si110', 1)\n",
      "('Nontando', 'si110', 0)\n",
      "('Leone', 'si110', 0)\n",
      "('Leo', 'si110', 0)\n",
      "('Aili', 'si110', 0)\n",
      "('Muriel', 'si110', 0)\n",
      "('Kirstin', 'si110', 0)\n",
      "('Muhammed', 'si110', 0)\n",
      "('Lockey', 'si110', 0)\n",
      "('Douglas', 'si110', 0)\n",
      "('Sukhveer', 'si110', 0)\n",
      "('Abbie', 'si110', 0)\n",
      "('Balqees', 'si110', 0)\n",
      "('Ken', 'si110', 0)\n",
      "('Cali', 'si110', 0)\n",
      "('Mariena', 'si110', 0)\n",
      "('Jenson', 'si110', 0)\n",
      "('Juliet', 'si110', 0)\n",
      "('Pearce', 'si110', 0)\n",
      "('Meenal', 'si110', 0)\n",
      "('Sami', 'si110', 0)\n",
      "('Tessa', 'si110', 0)\n",
      "('Nico', 'si110', 0)\n",
      "('Sabina', 'si110', 0)\n",
      "('Harris', 'si110', 0)\n",
      "('Zita', 'si110', 0)\n",
      "('Abhisumant', 'si110', 0)\n",
      "('Brea', 'si110', 0)\n",
      "('Amara', 'si110', 0)\n",
      "('Ferre', 'si110', 0)\n",
      "('Naila', 'si110', 0)\n",
      "('Carson', 'si110', 0)\n",
      "('Denzel', 'si110', 0)\n",
      "('Alora', 'si110', 0)\n",
      "('Deagan', 'si110', 0)\n",
      "('Rozerin', 'si106', 1)\n",
      "('Arianna', 'si106', 0)\n",
      "('Mirryn', 'si106', 0)\n",
      "('Kieran', 'si106', 0)\n",
      "('Davie', 'si106', 0)\n",
      "('Angali', 'si106', 0)\n",
      "('Norrie', 'si106', 0)\n",
      "('Niki', 'si106', 0)\n",
      "('Aneesa', 'si106', 0)\n",
      "('Timucin', 'si106', 0)\n",
      "('Lorna', 'si106', 0)\n",
      "('Declyn', 'si106', 0)\n",
      "('Julien', 'si106', 0)\n",
      "('Joe', 'si106', 0)\n",
      "('Dermot', 'si106', 0)\n",
      "('Kelvin', 'si106', 0)\n",
      "('Hari', 'si106', 0)\n",
      "('Avsta', 'si106', 0)\n",
      "('Orlaigh', 'si106', 0)\n",
      "('Arnav', 'si106', 0)\n",
      "('Callin', 'si106', 0)\n",
      "('Branden', 'si106', 0)\n",
      "('Alexia', 'si106', 0)\n",
      "('Scout', 'si106', 0)\n",
      "('Alishah', 'si106', 0)\n",
      "('Aaiva', 'si106', 0)\n",
      "('Hamna', 'si106', 0)\n",
      "('Wiktorja', 'si206', 1)\n",
      "('Ronald', 'si206', 0)\n",
      "('Iona', 'si206', 0)\n",
      "('Lennan', 'si206', 0)\n",
      "('Aryankhan', 'si206', 0)\n",
      "('Samy', 'si206', 0)\n",
      "('Caroline', 'si206', 0)\n",
      "('Aahana', 'si206', 0)\n",
      "('Arunas', 'si206', 0)\n",
      "('Maaz', 'si206', 0)\n",
      "('Carris', 'si206', 0)\n",
      "('Mehr', 'si206', 0)\n",
      "('Eihli', 'si206', 0)\n",
      "('Davie', 'si206', 0)\n",
      "('Aleisha', 'si206', 0)\n",
      "('Daryl', 'si206', 0)\n",
      "('Denis', 'si206', 0)\n",
      "('Tamika', 'si206', 0)\n",
      "('Jordan', 'si206', 0)\n",
      "('Munmair', 'si206', 0)\n",
      "('Cejay', 'si301', 1)\n",
      "('Salina', 'si301', 0)\n",
      "('Patsy', 'si301', 0)\n",
      "('Kassia', 'si301', 0)\n",
      "('Ceara', 'si301', 0)\n",
      "('Luna', 'si301', 0)\n",
      "('Rajan', 'si301', 0)\n",
      "('Hadia', 'si301', 0)\n",
      "('Roshni', 'si301', 0)\n",
      "('Dyllan', 'si301', 0)\n",
      "('Beth', 'si301', 0)\n",
      "('Shanelle', 'si301', 0)\n",
      "('Ramandeep', 'si301', 0)\n",
      "('Zacharias', 'si301', 0)\n",
      "('Abu', 'si301', 0)\n",
      "('Billie', 'si301', 0)\n",
      "('Colvin', 'si301', 0)\n",
      "('Eoghain', 'si301', 0)\n",
      "('Anastazja', 'si301', 0)\n",
      "('Khansa', 'si310', 1)\n",
      "('Chu', 'si310', 0)\n",
      "('Aria', 'si310', 0)\n",
      "('Tiree', 'si310', 0)\n",
      "('Katie', 'si310', 0)\n",
      "('Daren', 'si310', 0)\n",
      "('Isobella', 'si310', 0)\n",
      "('Gil', 'si310', 0)\n",
      "('Mariam', 'si310', 0)\n",
      "('Ajay', 'si310', 0)\n",
      "('Indy', 'si310', 0)\n",
      "('Lael', 'si310', 0)\n",
      "('Prabodhan', 'si310', 0)\n",
      "('Hollyanne', 'si310', 0)\n",
      "('Kaila', 'si310', 0)\n",
      "('Celeste', 'si310', 0)\n",
      "('Davie', 'si310', 0)\n",
      "('Emily', 'si310', 0)\n",
      "('Macaully', 'si310', 0)\n",
      "('Eirann', 'si310', 0)\n",
      "('Concetta', 'si310', 0)\n",
      "('Meghan', 'si310', 0)\n",
      "('Mehr', 'si310', 0)\n",
      "('Lillian', 'si334', 1)\n",
      "('Lennix', 'si334', 0)\n",
      "('Evey', 'si334', 0)\n",
      "('Rayane', 'si334', 0)\n",
      "('Kieron', 'si334', 0)\n",
      "('Torran', 'si334', 0)\n",
      "('Cassieleigh', 'si334', 0)\n",
      "('Kade', 'si334', 0)\n",
      "('Kylie', 'si334', 0)\n",
      "('Annalisa', 'si334', 0)\n",
      "('Amieleigh', 'si334', 0)\n",
      "('Nairn', 'si334', 0)\n",
      "('Tobie', 'si334', 0)\n",
      "('Ameer', 'si334', 0)\n",
      "('Circe', 'si334', 0)\n",
      "('Abdulkadir', 'si334', 0)\n",
      "('Caylin', 'si334', 0)\n",
      "('Cloe', 'si334', 0)\n",
      "('Carolanne', 'si334', 0)\n",
      "('Stacey', 'si334', 0)\n",
      "('Jessna', 'si334', 0)\n",
      "('Issiaka', 'si334', 0)\n",
      "('Analyse', 'si334', 0)\n",
      "('Karine', 'si334', 0)\n",
      "('Nur', 'si334', 0)\n",
      "('Conli', 'si334', 0)\n",
      "('Madisin', 'si334', 0)\n",
      "('Ren', 'si334', 0)\n",
      "('Lincon', 'si334', 0)\n",
      "('Usmah', 'si363', 1)\n",
      "('Aleese', 'si363', 0)\n",
      "('Eaden', 'si363', 0)\n",
      "('Fyfe', 'si363', 0)\n",
      "('Zeinab', 'si363', 0)\n",
      "('Zaine', 'si363', 0)\n",
      "('Ridwan', 'si363', 0)\n",
      "('Marina', 'si363', 0)\n",
      "('Ekhlass', 'si363', 0)\n",
      "('Diaz', 'si363', 0)\n",
      "('Christopher', 'si363', 0)\n",
      "('Dilya', 'si363', 0)\n",
      "('Nnenda', 'si363', 0)\n",
      "('Ayeisha', 'si363', 0)\n",
      "('Jock', 'si363', 0)\n",
      "('Sahana', 'si363', 0)\n",
      "('Garrett', 'si363', 0)\n",
      "('Carrich', 'si363', 0)\n",
      "('Cindy', 'si363', 0)\n",
      "('Karis', 'si363', 0)\n",
      "('Kahlia', 'si363', 0)\n",
      "('Misba', 'si363', 0)\n",
      "('Sadiyah', 'si363', 0)\n",
      "('Lillay', 'si363', 0)\n",
      "('Rheanan', 'si363', 0)\n",
      "('Jeffrey', 'si363', 0)\n",
      "('Ritchie', 'si363', 0)\n",
      "('Koby', 'si363', 0)\n",
      "('Bret', 'si363', 0)\n",
      "('Chloe', 'si363', 0)\n",
      "('Jak', 'si363', 0)\n",
      "('Ben', 'si363', 0)\n",
      "('Abia', 'si363', 0)\n",
      "('Devon', 'si363', 0)\n",
      "('Caine', 'si363', 0)\n",
      "('Khyla', 'si363', 0)\n",
      "('Maija', 'si363', 0)\n",
      "('Indi', 'si363', 0)\n",
      "('Dermot', 'si363', 0)\n",
      "('Turki', 'si363', 0)\n",
      "('Annoushka', 'si363', 0)\n",
      "('Kareem', 'si363', 0)\n",
      "('Zeynep', 'si363', 0)\n",
      "('Ferne', 'si363', 0)\n",
      "('Valen', 'si363', 0)\n",
      "('Oluwafikunayomi', 'si363', 0)\n",
      "('Andrea', 'si363', 0)\n",
      "('Denhi', 'si363', 0)\n",
      "('Maitlind', 'si363', 0)\n",
      "('Sia', 'si363', 0)\n",
      "('Bismah', 'si363', 0)\n",
      "('Haydn', 'si364', 1)\n",
      "('Mackenzie', 'si364', 0)\n",
      "('Baxter', 'si364', 0)\n",
      "('Luella', 'si364', 0)\n",
      "('Winnifred', 'si364', 0)\n",
      "('Abigail', 'si364', 0)\n",
      "('Aliza', 'si364', 0)\n",
      "('Kaidenn', 'si364', 0)\n",
      "('Jumaimah', 'si364', 0)\n",
      "('Erinn', 'si364', 0)\n",
      "('Elshan', 'si364', 0)\n",
      "('Emowyn', 'si364', 0)\n",
      "('Joyce', 'si364', 0)\n",
      "('Aaren', 'si364', 0)\n",
      "('Tilda', 'si364', 0)\n",
      "('Sahar', 'si364', 0)\n",
      "('Loren', 'si364', 0)\n",
      "('Lila', 'si364', 0)\n",
      "('Jensine', 'si364', 0)\n",
      "('Mikael', 'si364', 0)\n",
      "('Ffion', 'si364', 0)\n",
      "('Sylvia', 'si364', 0)\n",
      "('Abdul', 'si422', 1)\n",
      "('Yoji', 'si422', 0)\n",
      "('Constance', 'si422', 0)\n",
      "('Kaila', 'si422', 0)\n",
      "('Margaret', 'si422', 0)\n",
      "('Vincenzo', 'si422', 0)\n",
      "('Han', 'si422', 0)\n",
      "('Dawid', 'si422', 0)\n",
      "('Tanvir', 'si422', 0)\n",
      "('Aoibha', 'si422', 0)\n",
      "('Sandra', 'si422', 0)\n",
      "('Badsha', 'si422', 0)\n",
      "('Su', 'si422', 0)\n",
      "('Sandie', 'si422', 0)\n",
      "('Mathew', 'si422', 0)\n",
      "('Philip', 'si422', 0)\n",
      "('Matthias', 'si422', 0)\n",
      "('Lisa', 'si422', 0)\n",
      "('Kenza', 'si422', 0)\n",
      "('Jasmine', 'si422', 0)\n",
      "('Aoibhe', 'si422', 0)\n",
      "('Koushik', 'si422', 0)\n",
      "('Mawahib', 'si422', 0)\n",
      "('Nepheli', 'si422', 0)\n",
      "('Momooreoluwa', 'si422', 0)\n",
      "('Curtis', 'si422', 0)\n",
      "('Jac', 'si422', 0)\n",
      "('Cheyanne', 'si422', 0)\n",
      "('Calean', 'si422', 0)\n",
      "('Puja', 'si422', 0)\n",
      "('Charlene', 'si422', 0)\n",
      "('Jubin', 'si422', 0)\n",
      "('Conli', 'si422', 0)\n",
      "('Anees', 'si422', 0)\n",
      "('Jaxon', 'si422', 0)\n",
      "('Doone', 'si422', 0)\n",
      "('Jodi', 'si422', 0)\n",
      "('Miren', 'si422', 0)\n",
      "('Thomson', 'si430', 1)\n",
      "('Evangelina', 'si430', 0)\n",
      "('Jayden', 'si430', 0)\n",
      "('Elvita', 'si430', 0)\n",
      "('Zaki', 'si430', 0)\n",
      "('Torran', 'si430', 0)\n",
      "('Edwyn', 'si430', 0)\n",
      "('Emmet', 'si430', 0)\n",
      "('Kassia', 'si430', 0)\n",
      "('Alara', 'si430', 0)\n",
      "('Abbiegail', 'si430', 0)\n",
      "('Kaydane', 'si430', 0)\n",
      "('Fraya', 'si430', 0)\n",
      "('Olympia', 'si430', 0)\n",
      "('Leoni', 'si430', 0)\n",
      "('Eiko', 'si430', 0)\n",
      "('Montgomery', 'si430', 0)\n",
      "('Muzammil', 'si430', 0)\n",
      "('Terry', 'si430', 0)\n",
      "('Aeryn', 'si430', 0)\n",
      "('Derick', 'si430', 0)\n",
      "('Hibatullah', 'si430', 0)\n",
      "('Anneroy', 'si430', 0)\n",
      "('Kaywan', 'si430', 0)\n",
      "('Maximilian', 'si430', 0)\n",
      "('Talon', 'si430', 0)\n",
      "('Stanley', 'si430', 0)\n",
      "('Cailie', 'si430', 0)\n",
      "('Annaliesse', 'si430', 0)\n",
      "('Hafiza', 'si430', 0)\n",
      "('Milo', 'si430', 0)\n",
      "('Timucin', 'si430', 0)\n",
      "('Damaris', 'si430', 0)\n",
      "('Dacia', 'si430', 0)\n",
      "('Hishaam', 'si430', 0)\n",
      "('Kayda', 'si430', 0)\n",
      "('Curtis', 'si430', 0)\n",
      "('Micaila', 'si430', 0)\n",
      "('Aled', 'si430', 0)\n"
     ]
    }
   ],
   "source": [
    "import json\n",
    "import sqlite3\n",
    "\n",
    "conn = sqlite3.connect('rosterdb.sqlite')\n",
    "cur = conn.cursor()\n",
    "\n",
    "# Do some setup\n",
    "cur.executescript('''\n",
    "DROP TABLE IF EXISTS User;\n",
    "DROP TABLE IF EXISTS Member;\n",
    "DROP TABLE IF EXISTS Course;\n",
    "\n",
    "CREATE TABLE User (\n",
    "    id     INTEGER NOT NULL PRIMARY KEY AUTOINCREMENT UNIQUE,\n",
    "    name   TEXT UNIQUE\n",
    ");\n",
    "\n",
    "CREATE TABLE Course (\n",
    "    id     INTEGER NOT NULL PRIMARY KEY AUTOINCREMENT UNIQUE,\n",
    "    title  TEXT UNIQUE\n",
    ");\n",
    "\n",
    "CREATE TABLE Member (\n",
    "    user_id     INTEGER,\n",
    "    course_id   INTEGER,\n",
    "    role        INTEGER,\n",
    "    PRIMARY KEY (user_id, course_id)\n",
    ")\n",
    "''')\n",
    "\n",
    "fname = input('Enter file name: ')\n",
    "if len(fname) < 1:\n",
    "    fname = 'roster_data.json'\n",
    "\n",
    "# [\n",
    "#   [ \"Charley\", \"si110\", 1 ],\n",
    "#   [ \"Mea\", \"si110\", 0 ],\n",
    "\n",
    "str_data = open(fname).read()\n",
    "json_data = json.loads(str_data)\n",
    "\n",
    "for entry in json_data:\n",
    "\n",
    "    name = entry[0];\n",
    "    title = entry[1];\n",
    "    role = entry[-1];\n",
    "\n",
    "    print((name, title, role))\n",
    "\n",
    "    cur.execute('''INSERT OR IGNORE INTO User (name) \n",
    "        VALUES ( ? )''', ( name, ) )\n",
    "    cur.execute('SELECT id FROM User WHERE name = ? ', (name, ))\n",
    "    user_id = cur.fetchone()[0]\n",
    "\n",
    "    cur.execute('''INSERT OR IGNORE INTO Course (title) \n",
    "        VALUES ( ? )''', ( title, ) )\n",
    "    cur.execute('SELECT id FROM Course WHERE title = ? ', (title, ))\n",
    "    course_id = cur.fetchone()[0]\n",
    "\n",
    "    cur.execute('''INSERT OR REPLACE INTO Member\n",
    "        (user_id, course_id, role) VALUES ( ?, ?, ? )''', \n",
    "        ( user_id, course_id, role ) )\n",
    "\n",
    "    conn.commit()"
   ]
  },
  {
   "cell_type": "code",
   "execution_count": 8,
   "metadata": {
    "collapsed": false,
    "deletable": true,
    "editable": true
   },
   "outputs": [
    {
     "data": {
      "text/plain": [
       "<sqlite3.Cursor at 0x19db3d159d0>"
      ]
     },
     "execution_count": 8,
     "metadata": {},
     "output_type": "execute_result"
    }
   ],
   "source": [
    "cur.execute('''\n",
    "SELECT hex(User.name || Course.title || Member.role ) AS X FROM \n",
    "    User JOIN Member JOIN Course \n",
    "    ON User.id = Member.user_id AND Member.course_id = Course.id\n",
    "    ORDER BY X\n",
    "''')"
   ]
  },
  {
   "cell_type": "code",
   "execution_count": 10,
   "metadata": {
    "collapsed": false,
    "deletable": true,
    "editable": true
   },
   "outputs": [
    {
     "ename": "ProgrammingError",
     "evalue": "Cannot operate on a closed database.",
     "output_type": "error",
     "traceback": [
      "\u001b[1;31m---------------------------------------------------------------------------\u001b[0m",
      "\u001b[1;31mProgrammingError\u001b[0m                          Traceback (most recent call last)",
      "\u001b[1;32m<ipython-input-10-2f6e18aa24d3>\u001b[0m in \u001b[0;36m<module>\u001b[1;34m()\u001b[0m\n\u001b[1;32m----> 1\u001b[1;33m \u001b[1;32mfor\u001b[0m \u001b[0mrow\u001b[0m \u001b[1;32min\u001b[0m \u001b[0mcur\u001b[0m\u001b[1;33m.\u001b[0m\u001b[0mfetchall\u001b[0m\u001b[1;33m(\u001b[0m\u001b[1;33m)\u001b[0m\u001b[1;33m:\u001b[0m\u001b[1;33m\u001b[0m\u001b[0m\n\u001b[0m\u001b[0;32m      2\u001b[0m     \u001b[0mprint\u001b[0m\u001b[1;33m(\u001b[0m\u001b[0mrow\u001b[0m\u001b[1;33m)\u001b[0m\u001b[1;33m\u001b[0m\u001b[0m\n\u001b[0;32m      3\u001b[0m \u001b[0mconn\u001b[0m\u001b[1;33m.\u001b[0m\u001b[0mclose\u001b[0m\u001b[1;33m(\u001b[0m\u001b[1;33m)\u001b[0m\u001b[1;33m\u001b[0m\u001b[0m\n",
      "\u001b[1;31mProgrammingError\u001b[0m: Cannot operate on a closed database."
     ]
    }
   ],
   "source": [
    "for row in cur.fetchall():\n",
    "    print(row)\n",
    "conn.close()"
   ]
  },
  {
   "cell_type": "code",
   "execution_count": null,
   "metadata": {
    "collapsed": true,
    "deletable": true,
    "editable": true
   },
   "outputs": [],
   "source": []
  }
 ],
 "metadata": {
  "anaconda-cloud": {},
  "kernelspec": {
   "display_name": "Python 3",
   "language": "python",
   "name": "python3"
  },
  "language_info": {
   "codemirror_mode": {
    "name": "ipython",
    "version": 3
   },
   "file_extension": ".py",
   "mimetype": "text/x-python",
   "name": "python",
   "nbconvert_exporter": "python",
   "pygments_lexer": "ipython3",
   "version": "3.5.2"
  }
 },
 "nbformat": 4,
 "nbformat_minor": 0
}
