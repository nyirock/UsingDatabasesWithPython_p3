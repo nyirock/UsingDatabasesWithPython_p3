{
 "cells": [
  {
   "cell_type": "code",
   "execution_count": null,
   "metadata": {
    "collapsed": true
   },
   "outputs": [],
   "source": [
    "# Object oriented programming"
   ]
  },
  {
   "cell_type": "code",
   "execution_count": 1,
   "metadata": {
    "collapsed": false
   },
   "outputs": [
    {
     "name": "stdout",
     "output_type": "stream",
     "text": [
      "chuck\n",
      "chuck\n",
      "chuck\n"
     ]
    }
   ],
   "source": [
    "stuff=list()\n",
    "stuff.append('python')\n",
    "stuff.append('chuck')\n",
    "stuff.sort()\n",
    "print(stuff[0])\n",
    "\n",
    "print(stuff.__getitem__(0))\n",
    "print(list.__getitem__(stuff,0))"
   ]
  },
  {
   "cell_type": "code",
   "execution_count": null,
   "metadata": {
    "collapsed": true
   },
   "outputs": [],
   "source": []
  },
  {
   "cell_type": "code",
   "execution_count": null,
   "metadata": {
    "collapsed": true
   },
   "outputs": [],
   "source": []
  },
  {
   "cell_type": "code",
   "execution_count": 31,
   "metadata": {
    "collapsed": false
   },
   "outputs": [],
   "source": [
    "class PartyAnimal:\n",
    "    x=0\n",
    "    \n",
    "    def party(self):\n",
    "        self.x=self.x+1\n",
    "        print(\"So far\", self.x)\n",
    "    def summation(self, PartyAnymal):\n",
    "        print(self.x+PartyAnymal.x)\n",
    "        #return len(self.x)"
   ]
  },
  {
   "cell_type": "code",
   "execution_count": 32,
   "metadata": {
    "collapsed": false
   },
   "outputs": [
    {
     "name": "stdout",
     "output_type": "stream",
     "text": [
      "Type <class '__main__.PartyAnimal'>\n",
      "Dir ['__class__', '__delattr__', '__dict__', '__dir__', '__doc__', '__eq__', '__format__', '__ge__', '__getattribute__', '__gt__', '__hash__', '__init__', '__le__', '__lt__', '__module__', '__ne__', '__new__', '__reduce__', '__reduce_ex__', '__repr__', '__setattr__', '__sizeof__', '__str__', '__subclasshook__', '__weakref__', 'party', 'summation', 'x']\n",
      "So far 1\n",
      "So far 2\n",
      "So far 3\n"
     ]
    }
   ],
   "source": [
    "an=PartyAnimal()\n",
    "print(\"Type\", type(an))\n",
    "print(\"Dir\", dir(an))\n",
    "\n",
    "an.party()\n",
    "an.party()\n",
    "an.party()"
   ]
  },
  {
   "cell_type": "code",
   "execution_count": 33,
   "metadata": {
    "collapsed": false
   },
   "outputs": [
    {
     "name": "stdout",
     "output_type": "stream",
     "text": [
      "So far 1\n",
      "4\n"
     ]
    }
   ],
   "source": [
    "b=PartyAnimal()\n",
    "b.party()\n",
    "an.summation(b)"
   ]
  },
  {
   "cell_type": "code",
   "execution_count": null,
   "metadata": {
    "collapsed": false
   },
   "outputs": [],
   "source": []
  },
  {
   "cell_type": "code",
   "execution_count": null,
   "metadata": {
    "collapsed": false
   },
   "outputs": [],
   "source": []
  },
  {
   "cell_type": "markdown",
   "metadata": {},
   "source": [
    "## Object lifecycle"
   ]
  },
  {
   "cell_type": "code",
   "execution_count": 40,
   "metadata": {
    "collapsed": true
   },
   "outputs": [],
   "source": [
    "class PartyAnimal:\n",
    "    x=0 \n",
    "    def __init__(self):\n",
    "        print(\"I am constructed\")\n",
    "    def party(self):\n",
    "        self.x=self.x+1\n",
    "        print(\"So far\", self.x)        \n",
    "    def __del__(self):\n",
    "        print(\"I am destructed\",self.x)"
   ]
  },
  {
   "cell_type": "code",
   "execution_count": 41,
   "metadata": {
    "collapsed": false,
    "scrolled": false
   },
   "outputs": [
    {
     "name": "stdout",
     "output_type": "stream",
     "text": [
      "I am constructed\n",
      "So far 1\n",
      "So far 2\n",
      "So far 3\n"
     ]
    }
   ],
   "source": [
    "an=PartyAnimal()\n",
    "\n",
    "an.party()\n",
    "\n",
    "an.party()\n",
    "\n",
    "an.party()"
   ]
  },
  {
   "cell_type": "code",
   "execution_count": 42,
   "metadata": {
    "collapsed": true
   },
   "outputs": [],
   "source": [
    "an.x=32"
   ]
  },
  {
   "cell_type": "code",
   "execution_count": 43,
   "metadata": {
    "collapsed": false
   },
   "outputs": [
    {
     "name": "stdout",
     "output_type": "stream",
     "text": [
      "So far 33\n"
     ]
    }
   ],
   "source": [
    "an.party()"
   ]
  },
  {
   "cell_type": "code",
   "execution_count": 44,
   "metadata": {
    "collapsed": false
   },
   "outputs": [
    {
     "name": "stdout",
     "output_type": "stream",
     "text": [
      "I am destructed 33\n"
     ]
    }
   ],
   "source": [
    "an=42"
   ]
  },
  {
   "cell_type": "code",
   "execution_count": 39,
   "metadata": {
    "collapsed": false
   },
   "outputs": [
    {
     "data": {
      "text/plain": [
       "int"
      ]
     },
     "execution_count": 39,
     "metadata": {},
     "output_type": "execute_result"
    }
   ],
   "source": [
    "type(an)"
   ]
  },
  {
   "cell_type": "markdown",
   "metadata": {},
   "source": [
    "## Constructrors"
   ]
  },
  {
   "cell_type": "code",
   "execution_count": 19,
   "metadata": {
    "collapsed": false
   },
   "outputs": [
    {
     "name": "stdout",
     "output_type": "stream",
     "text": [
      "Sally constructed\n",
      "Sally party count 1\n",
      "Jim constructed\n",
      "Jim party count 1\n",
      "Sally party count 2\n"
     ]
    }
   ],
   "source": [
    "class PartyAnimal:\n",
    "    x=0\n",
    "    name=\"\"\n",
    "    \n",
    "    def __init__(self,nam):\n",
    "        self.name=nam\n",
    "        print self.name, \"constructed\"\n",
    "        \n",
    "    def party(self):\n",
    "        self.x=self.x+1\n",
    "        print self.name,\"party count\",self.x\n",
    "        \n",
    "s=PartyAnimal(\"Sally\")\n",
    "s.party()\n",
    "\n",
    "j=PartyAnimal(\"Jim\")\n",
    "j.party()\n",
    "s.party()"
   ]
  },
  {
   "cell_type": "markdown",
   "metadata": {},
   "source": [
    "## Inheritance"
   ]
  },
  {
   "cell_type": "code",
   "execution_count": 20,
   "metadata": {
    "collapsed": true
   },
   "outputs": [],
   "source": [
    "class PartyAnimal:\n",
    "    x=0\n",
    "    name=\"\"\n",
    "    \n",
    "    def __init__(self,nam):\n",
    "        self.name=nam\n",
    "        print self.name, \"constructed\"\n",
    "        \n",
    "    def party(self):\n",
    "        self.x=self.x+1\n",
    "        print self.name,\"party count\",self.x\n",
    "        \n",
    "class FootballFan(PartyAnimal):\n",
    "    points=0\n",
    "    def touchdown(self):\n",
    "        self.points=self.points+7\n",
    "        self.party()\n",
    "        print self.name, \"points\", self.points"
   ]
  },
  {
   "cell_type": "code",
   "execution_count": 21,
   "metadata": {
    "collapsed": false
   },
   "outputs": [
    {
     "name": "stdout",
     "output_type": "stream",
     "text": [
      "Sally constructed\n"
     ]
    }
   ],
   "source": [
    "s=PartyAnimal(\"Sally\")"
   ]
  },
  {
   "cell_type": "code",
   "execution_count": 22,
   "metadata": {
    "collapsed": false
   },
   "outputs": [
    {
     "name": "stdout",
     "output_type": "stream",
     "text": [
      "Sally party count 1\n"
     ]
    }
   ],
   "source": [
    "s.party()"
   ]
  },
  {
   "cell_type": "code",
   "execution_count": 23,
   "metadata": {
    "collapsed": false
   },
   "outputs": [
    {
     "name": "stdout",
     "output_type": "stream",
     "text": [
      "Jim constructed\n"
     ]
    }
   ],
   "source": [
    "j=FootballFan(\"Jim\")"
   ]
  },
  {
   "cell_type": "code",
   "execution_count": 24,
   "metadata": {
    "collapsed": false
   },
   "outputs": [
    {
     "name": "stdout",
     "output_type": "stream",
     "text": [
      "Jim party count 1\n"
     ]
    }
   ],
   "source": [
    "j.party()"
   ]
  },
  {
   "cell_type": "code",
   "execution_count": 25,
   "metadata": {
    "collapsed": false
   },
   "outputs": [
    {
     "name": "stdout",
     "output_type": "stream",
     "text": [
      "Jim party count 2\n",
      "Jim points 7\n"
     ]
    }
   ],
   "source": [
    "j.touchdown()"
   ]
  },
  {
   "cell_type": "markdown",
   "metadata": {
    "collapsed": true
   },
   "source": [
    "## Week2, Relational Databases"
   ]
  },
  {
   "cell_type": "code",
   "execution_count": null,
   "metadata": {
    "collapsed": true
   },
   "outputs": [],
   "source": [
    "#we have a database sql1.db in working directory\n",
    "#Creating a table\n",
    "CREATE TABLE Users (\n",
    "    name VARCHAR(128),\n",
    "    email VARCHAR(128)\n",
    ")\n",
    "\n",
    "#CRUD: create read update delete\n",
    "\n",
    "INSERT INTO Users (name, email) VALUES ('Kristin', 'kf@umich.edu')\n",
    "\n",
    "DELETE FROM Users Where email='fred@umich.edu'\n",
    "\n",
    "UPDATE Users SET name='Charles' WHERE email='csev@umich.edu'\n",
    "\n",
    "SELECT * FROM Users\n",
    "\n",
    "SELECT * FROM Users ORDER BY email\n",
    "\n",
    "SELECT * FROM Users ORDER BY name\n",
    " "
   ]
  },
  {
   "cell_type": "markdown",
   "metadata": {},
   "source": [
    "## twspider : storing twitter data in the database"
   ]
  },
  {
   "cell_type": "code",
   "execution_count": 47,
   "metadata": {
    "collapsed": false
   },
   "outputs": [
    {
     "name": "stdout",
     "output_type": "stream",
     "text": [
      "Enter a Twitter account, or quit: nyirock\n",
      "Retrieving https://api.twitter.com/1.1/friends/list.json?oauth_timestamp=1500243880&oauth_signature=lZZ0Kd%2BvI%2BB5HWHHWQAviezjLQY%3D&screen_name=nyirock&count=5&oauth_consumer_key=4Se8J018D88z8jWQTOkRKQ5jY&oauth_nonce=74933877&oauth_signature_method=HMAC-SHA1&oauth_version=1.0&oauth_token=2789693187-XKWOu889GcaeU1BOERBvrRLvfbgvUVkV68da9MW\n",
      "Remaining 14\n",
      "lonelyplanet\n",
      "NatGeoTravel\n",
      "PopSci\n",
      "sciencemagazine\n",
      "NatGeoPhotos\n",
      "New accounts= 5  revisited= 0\n",
      "Enter a Twitter account, or quit: lonelyplanet\n",
      "Retrieving https://api.twitter.com/1.1/friends/list.json?oauth_timestamp=1500243899&oauth_signature=Oe%2BTiso3llASVz1ikp4B2ET6F8Y%3D&screen_name=lonelyplanet&count=5&oauth_consumer_key=4Se8J018D88z8jWQTOkRKQ5jY&oauth_nonce=01036997&oauth_signature_method=HMAC-SHA1&oauth_version=1.0&oauth_token=2789693187-XKWOu889GcaeU1BOERBvrRLvfbgvUVkV68da9MW\n",
      "Remaining 13\n",
      "TeamHandstand\n",
      "gregfoot\n",
      "kaustubhyk\n",
      "GBCedarPark\n",
      "MegoYugo\n",
      "New accounts= 5  revisited= 0\n",
      "Enter a Twitter account, or quit: lonelyplanet\n",
      "Retrieving https://api.twitter.com/1.1/friends/list.json?oauth_timestamp=1500243912&oauth_signature=%2BdxHP0XsTei%2Bu%2FBd890ieDGZkW4%3D&screen_name=lonelyplanet&count=5&oauth_consumer_key=4Se8J018D88z8jWQTOkRKQ5jY&oauth_nonce=15756866&oauth_signature_method=HMAC-SHA1&oauth_version=1.0&oauth_token=2789693187-XKWOu889GcaeU1BOERBvrRLvfbgvUVkV68da9MW\n",
      "Remaining 12\n",
      "TeamHandstand\n",
      "gregfoot\n",
      "kaustubhyk\n",
      "GBCedarPark\n",
      "MegoYugo\n",
      "New accounts= 0  revisited= 5\n",
      "Enter a Twitter account, or quit: quit\n"
     ]
    }
   ],
   "source": [
    "from urllib.request import urlopen\n",
    "import urllib.error\n",
    "import twurl\n",
    "import json\n",
    "import sqlite3\n",
    "import ssl\n",
    "\n",
    "\n",
    "TWITTER_URL = 'https://api.twitter.com/1.1/friends/list.json'\n",
    "\n",
    "conn = sqlite3.connect('spider.sqlite')\n",
    "cur = conn.cursor()\n",
    "\n",
    "cur.execute('''\n",
    "            CREATE TABLE IF NOT EXISTS Twitter\n",
    "            (name TEXT, retrieved INTEGER, friends INTEGER)''')\n",
    "# Ignore SSL certificate errors\n",
    "ctx = ssl.create_default_context()\n",
    "ctx.check_hostname = False\n",
    "ctx.verify_mode = ssl.CERT_NONE\n",
    "\n",
    "while True:\n",
    "    acct = input('Enter a Twitter account, or quit: ')\n",
    "    if (acct == 'quit'): break\n",
    "    if (len(acct) < 1):\n",
    "        cur.execute('SELECT name FROM Twitter WHERE retrieved = 0 LIMIT 1')\n",
    "        try:\n",
    "            acct = cur.fetchone()[0]\n",
    "        except:\n",
    "            print('No unretrieved Twitter accounts found')\n",
    "            continue\n",
    "\n",
    "    url = twurl.augment(TWITTER_URL, {'screen_name': acct, 'count': '5'})\n",
    "    print('Retrieving', url)\n",
    "    connection = urlopen(url, context=ctx)\n",
    "    data = connection.read().decode()\n",
    "    headers = dict(connection.getheaders())\n",
    "\n",
    "    print('Remaining', headers['x-rate-limit-remaining'])\n",
    "    js = json.loads(data)\n",
    "    # Debugging\n",
    "    # print json.dumps(js, indent=4)\n",
    "\n",
    "    cur.execute('UPDATE Twitter SET retrieved=1 WHERE name = ?', (acct, ))\n",
    "\n",
    "    countnew = 0\n",
    "    countold = 0\n",
    "    for u in js['users']:\n",
    "        friend = u['screen_name']\n",
    "        print(friend)\n",
    "        cur.execute('SELECT friends FROM Twitter WHERE name = ? LIMIT 1',\n",
    "                    (friend, ))\n",
    "        try:\n",
    "            count = cur.fetchone()[0]\n",
    "            cur.execute('UPDATE Twitter SET friends = ? WHERE name = ?',\n",
    "                        (count+1, friend))\n",
    "            countold = countold + 1\n",
    "        except:\n",
    "            cur.execute('''INSERT INTO Twitter (name, retrieved, friends)\n",
    "                        VALUES (?, 0, 1)''', (friend, ))\n",
    "            countnew = countnew + 1\n",
    "    print('New accounts=', countnew, ' revisited=', countold)\n",
    "    conn.commit()\n",
    "\n",
    "cur.close()"
   ]
  },
  {
   "cell_type": "markdown",
   "metadata": {},
   "source": [
    "assignment 1"
   ]
  },
  {
   "cell_type": "code",
   "execution_count": null,
   "metadata": {
    "collapsed": true
   },
   "outputs": [],
   "source": [
    "CREATE TABLE Ages ( \n",
    "  name VARCHAR(128), \n",
    "  age INTEGER\n",
    ")\n",
    "\n",
    "DELETE FROM Ages;\n",
    "INSERT INTO Ages (name, age) VALUES ('Ainslie', 32);\n",
    "INSERT INTO Ages (name, age) VALUES ('Hania', 27);\n",
    "INSERT INTO Ages (name, age) VALUES ('Rahil', 31);\n",
    "INSERT INTO Ages (name, age) VALUES ('Oluwademilade', 30);\n",
    "INSERT INTO Ages (name, age) VALUES ('Hamish', 19);\n",
    "\n",
    "SELECT hex(name || age) AS X FROM Ages ORDER BY X"
   ]
  },
  {
   "cell_type": "code",
   "execution_count": 57,
   "metadata": {
    "collapsed": false
   },
   "outputs": [
    {
     "name": "stdout",
     "output_type": "stream",
     "text": [
      "('41696E736C69653332',)\n",
      "('48616D6973683139',)\n",
      "('48616E69613237',)\n",
      "('4F6C75776164656D696C6164653330',)\n",
      "('526168696C3331',)\n"
     ]
    }
   ],
   "source": [
    "#created and populated assignment1.db\n",
    "import sqlite3\n",
    "conn = sqlite3.connect('assignment1.db')\n",
    "cur = conn.cursor()\n",
    "\n",
    "cur.execute('''SELECT hex(name || age) AS X FROM Ages ORDER BY X''')\n",
    "for row in cur:\n",
    "    print(row)\n",
    "cur.close()"
   ]
  },
  {
   "cell_type": "code",
   "execution_count": 55,
   "metadata": {
    "collapsed": false
   },
   "outputs": [
    {
     "name": "stdout",
     "output_type": "stream",
     "text": [
      "<built-in method fetchall of sqlite3.Cursor object at 0x000000978A468A40>\n"
     ]
    }
   ],
   "source": [
    "print(data.fetchall)"
   ]
  },
  {
   "cell_type": "markdown",
   "metadata": {},
   "source": [
    "To get credit for this assignment, perform the instructions below and upload your SQLite3 database here:\n",
    "(Must have a .sqlite suffix)\n",
    "Hint: The top organizational count is 536.\n",
    "You do not need to export or convert the database - simply upload the .sqlite file that your program creates. See the example code for the use of the connect() statement. "
   ]
  },
  {
   "cell_type": "code",
   "execution_count": 4,
   "metadata": {
    "collapsed": false
   },
   "outputs": [
    {
     "name": "stdout",
     "output_type": "stream",
     "text": [
      "Enter file name: \n",
      "cwen@iupui.edu 5\n",
      "zqian@umich.edu 4\n",
      "david.horwitz@uct.ac.za 4\n",
      "louis@media.berkeley.edu 3\n",
      "gsilver@umich.edu 3\n",
      "stephen.marquard@uct.ac.za 2\n",
      "rjlowe@iupui.edu 2\n",
      "wagnermr@iupui.edu 1\n",
      "antranig@caret.cam.ac.uk 1\n",
      "gopal.ramasammycook@gmail.com 1\n",
      "Wall time: 13.4 s\n"
     ]
    }
   ],
   "source": [
    "%%time\n",
    "import sqlite3\n",
    "\n",
    "conn = sqlite3.connect('emaildb.sqlite')\n",
    "cur = conn.cursor()\n",
    "\n",
    "cur.execute('''\n",
    "DROP TABLE IF EXISTS Counts''')\n",
    "\n",
    "cur.execute('''\n",
    "CREATE TABLE Counts (email TEXT, count INTEGER)''')\n",
    "\n",
    "fname = input('Enter file name: ')\n",
    "if (len(fname) < 1): fname = 'mbox-short.txt'\n",
    "fh = open(fname)\n",
    "for line in fh:\n",
    "    if not line.startswith('From: '): continue\n",
    "    pieces = line.split()\n",
    "    email = pieces[1]\n",
    "    cur.execute('SELECT count FROM Counts WHERE email = ? ', (email,))\n",
    "    row = cur.fetchone()\n",
    "    if row is None:\n",
    "        cur.execute('''INSERT INTO Counts (email, count)\n",
    "                VALUES (?, 1)''', (email,))\n",
    "    else:\n",
    "        cur.execute('UPDATE Counts SET count = count + 1 WHERE email = ?',\n",
    "                    (email,))\n",
    "    conn.commit()\n",
    "\n",
    "# https://www.sqlite.org/lang_select.html\n",
    "sqlstr = 'SELECT email, count FROM Counts ORDER BY count DESC LIMIT 10'\n",
    "\n",
    "for row in cur.execute(sqlstr):\n",
    "    print(str(row[0]), row[1])\n",
    "\n",
    "cur.close()\n"
   ]
  },
  {
   "cell_type": "code",
   "execution_count": 18,
   "metadata": {
    "collapsed": false
   },
   "outputs": [
    {
     "name": "stdout",
     "output_type": "stream",
     "text": [
      "Enter file name: mbox.txt\n",
      "zqian@umich.edu 195\n",
      "mmmay@indiana.edu 161\n",
      "cwen@iupui.edu 158\n",
      "chmaurer@iupui.edu 111\n",
      "aaronz@vt.edu 110\n",
      "ian@caret.cam.ac.uk 96\n",
      "jimeng@umich.edu 93\n",
      "rjlowe@iupui.edu 90\n",
      "dlhaines@umich.edu 84\n",
      "david.horwitz@uct.ac.za 67\n",
      "Wall time: 1min 23s\n"
     ]
    }
   ],
   "source": [
    "%%time\n",
    "import MySQLdb\n",
    "\n",
    "db = MySQLdb.connect(host=\"localhost\",    # your host, usually localhost\n",
    "                     user=\"dbwithpython\",         # your username\n",
    "                     passwd=\"dbwithpython\",  # your password\n",
    "                     db=\"dbwithpython\")        # name of the data base\n",
    "\n",
    "# you must create a Cursor object. It will let\n",
    "#  you execute all the queries you need\n",
    "cur = db.cursor()\n",
    "\n",
    "cur.execute('''\n",
    "DROP TABLE IF EXISTS Counts''')\n",
    "\n",
    "cur.execute('''\n",
    "CREATE TABLE Counts (email VARCHAR(250), count INTEGER)''')\n",
    "\n",
    "fname = input('Enter file name: ')\n",
    "if (len(fname) < 1): fname = 'mbox-short.txt'\n",
    "fh = open(fname)\n",
    "for line in fh:\n",
    "    if not line.startswith('From: '): continue\n",
    "    pieces = line.split()\n",
    "    email = pieces[1]\n",
    "    #print('Ha')\n",
    "    cur.execute('SELECT count FROM Counts WHERE email = %s ', (email,))\n",
    "    #print('Haha')\n",
    "    row = cur.fetchone()\n",
    "    if row is None:\n",
    "        cur.execute('''INSERT INTO Counts (email, count)\n",
    "                VALUES (%s, 1)''', (email,))\n",
    "        #print('Hahaha')\n",
    "    else:\n",
    "        cur.execute('UPDATE Counts SET count = count + 1 WHERE email = %s',\n",
    "                    (email,))\n",
    "    db.commit()\n",
    "\n",
    "# https://www.sqlite.org/lang_select.html\n",
    "sqlstr = 'SELECT email, count FROM Counts ORDER BY count DESC LIMIT 10'\n",
    "\n",
    "with db.cursor() as cur:\n",
    "    sqlstr = 'SELECT email, count FROM Counts ORDER BY count DESC LIMIT 10'\n",
    "    cur.execute(sqlstr)\n",
    "    results = cur.fetchall()\n",
    "for row in results:\n",
    "    print(str(row[0]), row[1])\n",
    "    \n",
    "\n",
    "cur.close()"
   ]
  },
  {
   "cell_type": "code",
   "execution_count": 66,
   "metadata": {
    "collapsed": false
   },
   "outputs": [
    {
     "name": "stdout",
     "output_type": "stream",
     "text": [
      "Enter file name: \n",
      "cwen@iupui.edu 5\n",
      "zqian@umich.edu 4\n",
      "david.horwitz@uct.ac.za 4\n",
      "louis@media.berkeley.edu 3\n",
      "gsilver@umich.edu 3\n",
      "stephen.marquard@uct.ac.za 2\n",
      "rjlowe@iupui.edu 2\n",
      "wagnermr@iupui.edu 1\n",
      "ray@media.berkeley.edu 1\n",
      "gopal.ramasammycook@gmail.com 1\n",
      "antranig@caret.cam.ac.uk 1\n",
      "Wall time: 613 ms\n"
     ]
    }
   ],
   "source": [
    "%%time\n",
    "import sqlite3\n",
    "\n",
    "# conn = sqlite3.connect('emaildb.sqlite')\n",
    "# cur = conn.cursor()\n",
    "\n",
    "# cur.execute('''\n",
    "# DROP TABLE IF EXISTS Counts''')\n",
    "\n",
    "# cur.execute('''\n",
    "# CREATE TABLE Counts (email TEXT, count INTEGER)''')\n",
    "\n",
    "emails=dict()\n",
    "\n",
    "fname = input('Enter file name: ')\n",
    "if (len(fname) < 1): fname = 'mbox-short.txt'\n",
    "fh = open(fname)\n",
    "for line in fh:\n",
    "    if not line.startswith('From: '): continue\n",
    "    pieces = line.split()\n",
    "    email = pieces[1]\n",
    "    emails[email]=emails.get(email,0)+1\n",
    "\n",
    "# https://www.sqlite.org/lang_select.html\n",
    "#sqlstr = 'SELECT email, count FROM Counts ORDER BY count DESC LIMIT 10'\n",
    "\n",
    "for item in sorted([(value,key) for (key,value) in emails.items()], reverse=True):\n",
    "    print(item[1], item[0])"
   ]
  },
  {
   "cell_type": "code",
   "execution_count": 82,
   "metadata": {
    "collapsed": false
   },
   "outputs": [
    {
     "name": "stdout",
     "output_type": "stream",
     "text": [
      "Enter file name: mbox.txt\n",
      "zqian@umich.edu 195\n",
      "mmmay@indiana.edu 161\n",
      "cwen@iupui.edu 158\n",
      "chmaurer@iupui.edu 111\n",
      "aaronz@vt.edu 110\n",
      "ian@caret.cam.ac.uk 96\n",
      "jimeng@umich.edu 93\n",
      "rjlowe@iupui.edu 90\n",
      "dlhaines@umich.edu 84\n",
      "david.horwitz@uct.ac.za 67\n",
      "Wall time: 3min 5s\n"
     ]
    }
   ],
   "source": [
    "%%time\n",
    "import sqlite3\n",
    "\n",
    "conn = sqlite3.connect('emaildb.sqlite')\n",
    "cur = conn.cursor()\n",
    "\n",
    "cur.execute('''\n",
    "DROP TABLE IF EXISTS Counts''')\n",
    "\n",
    "cur.execute('''\n",
    "CREATE TABLE Counts (email TEXT, count INTEGER)''')\n",
    "\n",
    "emails=dict()\n",
    "dict_size=100\n",
    "fname = input('Enter file name: ')\n",
    "if (len(fname) < 1): fname = 'mbox-short.txt'\n",
    "fh = open(fname)\n",
    "lines=fh.readlines()\n",
    "for line in lines:\n",
    "    if (len(emails)>=dict_size) or (line==lines[-1]):\n",
    "        for key,value in emails.items():\n",
    "            cur.execute('SELECT count FROM Counts WHERE email = ? ', (key,))\n",
    "            row = cur.fetchone()\n",
    "            if row is None:\n",
    "                cur.execute('''INSERT INTO Counts (email, count)\n",
    "                        VALUES (?, ?)''', (key,value,))\n",
    "            else:\n",
    "                cur.execute('UPDATE Counts SET count = count + ? WHERE email = ?',\n",
    "                            (value, key,))\n",
    "            conn.commit()\n",
    "        emails=dict()\n",
    "    if not line.startswith('From: '): continue\n",
    "    pieces = line.split()\n",
    "    email = pieces[1]\n",
    "    emails[email]=emails.get(email,0)+1\n",
    "\n",
    "\n",
    "sqlstr = 'SELECT email, count FROM Counts ORDER BY count DESC LIMIT 10'\n",
    "\n",
    "for row in cur.execute(sqlstr):\n",
    "    print(str(row[0]), row[1])\n",
    "\n",
    "cur.close()\n",
    "# https://www.sqlite.org/lang_select.html\n",
    "#sqlstr = 'SELECT email, count FROM Counts ORDER BY count DESC LIMIT 10'\n",
    "\n",
    "# for item in sorted([(value,key) for (key,value) in emails.items()], reverse=True):\n",
    "#     print(item[1], item[0])"
   ]
  },
  {
   "cell_type": "code",
   "execution_count": 77,
   "metadata": {
    "collapsed": false
   },
   "outputs": [
    {
     "name": "stdout",
     "output_type": "stream",
     "text": [
      "UPDATE Counts SET count = count + 1 WHERE email = ?\n"
     ]
    }
   ],
   "source": [
    "v=1\n",
    "s='UPDATE Counts SET count = count + {0} WHERE email = ?'.format(v)\n",
    "print(s)"
   ]
  },
  {
   "cell_type": "code",
   "execution_count": 69,
   "metadata": {
    "collapsed": false
   },
   "outputs": [
    {
     "name": "stdout",
     "output_type": "stream",
     "text": [
      "Enter file name: mbox.txt\n",
      "iupui.edu 536\n",
      "umich.edu 491\n",
      "indiana.edu 178\n",
      "caret.cam.ac.uk 157\n",
      "vt.edu 110\n",
      "uct.ac.za 96\n",
      "media.berkeley.edu 56\n",
      "ufp.pt 28\n",
      "gmail.com 25\n",
      "et.gatech.edu 17\n",
      "Wall time: 3min 14s\n"
     ]
    }
   ],
   "source": [
    "%%time\n",
    "import sqlite3\n",
    "\n",
    "conn = sqlite3.connect('assignment2.sqlite')\n",
    "cur = conn.cursor()\n",
    "\n",
    "cur.execute('''\n",
    "DROP TABLE IF EXISTS Counts''')\n",
    "\n",
    "cur.execute('''\n",
    "CREATE TABLE Counts (org TEXT, count INTEGER)''')\n",
    "\n",
    "fname = input('Enter file name: ')\n",
    "if (len(fname) < 1): fname = 'mbox-short.txt'\n",
    "fh = open(fname)\n",
    "for line in fh:\n",
    "    if not line.startswith('From: '): continue\n",
    "    pieces = line.split()\n",
    "    org = pieces[1].split('@')[1]\n",
    "    cur.execute('SELECT count FROM Counts WHERE org = ? ', (org,))\n",
    "    row = cur.fetchone()\n",
    "    if row is None:\n",
    "        cur.execute('''INSERT INTO Counts (org, count)\n",
    "                VALUES (?, 1)''', (org,))\n",
    "    else:\n",
    "        cur.execute('UPDATE Counts SET count = count + 1 WHERE org = ?',\n",
    "                    (org,))\n",
    "    conn.commit()\n",
    "\n",
    "# https://www.sqlite.org/lang_select.html\n",
    "sqlstr = 'SELECT org, count FROM Counts ORDER BY count DESC LIMIT 10'\n",
    "\n",
    "for row in cur.execute(sqlstr):\n",
    "    print(str(row[0]), row[1])\n",
    "\n",
    "cur.close()\n"
   ]
  },
  {
   "cell_type": "markdown",
   "metadata": {},
   "source": [
    "## Efficiencies: dict vs SQlite vs MySql"
   ]
  },
  {
   "cell_type": "code",
   "execution_count": 1,
   "metadata": {
    "collapsed": true
   },
   "outputs": [],
   "source": [
    "import time\n",
    "import MySQLdb\n",
    "import sqlite3\n"
   ]
  },
  {
   "cell_type": "code",
   "execution_count": 19,
   "metadata": {
    "collapsed": false
   },
   "outputs": [],
   "source": [
    "def emailDict(file=\"\"):\n",
    "    \n",
    "    # conn = sqlite3.connect('emaildb.sqlite')\n",
    "    # cur = conn.cursor()\n",
    "\n",
    "    # cur.execute('''\n",
    "    # DROP TABLE IF EXISTS Counts''')\n",
    "\n",
    "    # cur.execute('''\n",
    "    # CREATE TABLE Counts (email TEXT, count INTEGER)''')\n",
    "\n",
    "    emails=dict()\n",
    "    \n",
    "    if file:\n",
    "        fname=file\n",
    "    else:\n",
    "    \n",
    "        fname = input('Enter file name: ')\n",
    "        if (len(fname) < 1): fname = 'mbox-short.txt'\n",
    "    fh = open(fname)\n",
    "    for line in fh:\n",
    "        if not line.startswith('From: '): continue\n",
    "        pieces = line.split()\n",
    "        email = pieces[1]\n",
    "        emails[email]=emails.get(email,0)+1\n",
    "\n",
    "    # https://www.sqlite.org/lang_select.html\n",
    "    #sqlstr = 'SELECT email, count FROM Counts ORDER BY count DESC LIMIT 10'\n",
    "    return emails\n",
    "\n",
    "\n",
    "import time\n",
    "def emailMySql(file=\"\"):\n",
    "\n",
    "\n",
    "\n",
    "    db = MySQLdb.connect(host=\"localhost\",    # your host, usually localhost\n",
    "                         user=\"dbwithpython\",         # your username\n",
    "                         passwd=\"dbwithpython\",  # your password\n",
    "                         db=\"dbwithpython\")        # name of the data base\n",
    "\n",
    "    # you must create a Cursor object. It will let\n",
    "    #  you execute all the queries you need\n",
    "    cur = db.cursor()\n",
    "\n",
    "    cur.execute(\"DROP TABLE IF EXISTS Counts \")\n",
    "\n",
    "    cur.execute('''\n",
    "    CREATE TABLE Counts (email VARCHAR(250), count INTEGER)''')\n",
    "\n",
    "    if file:\n",
    "        fname=file\n",
    "    else:\n",
    "    \n",
    "        fname = input('Enter file name: ')\n",
    "        if (len(fname) < 1): fname = 'mbox-short.txt'\n",
    "    fh = open(fname)\n",
    "    for line in fh:\n",
    "        if not line.startswith('From: '): continue\n",
    "        pieces = line.split()\n",
    "        email = pieces[1]\n",
    "        #print('Ha')\n",
    "        cur.execute('SELECT count FROM Counts WHERE email = %s ', (email,))\n",
    "        #print('Haha')\n",
    "        row = cur.fetchone()\n",
    "        if row is None:\n",
    "            cur.execute('''INSERT INTO Counts (email, count)\n",
    "                    VALUES (%s, 1)''', (email,))\n",
    "            #print('Hahaha')\n",
    "        else:\n",
    "            cur.execute('UPDATE Counts SET count = count + 1 WHERE email = %s',\n",
    "                        (email,))\n",
    "        db.commit()\n",
    "\n",
    "    return db\n",
    "\n",
    "def emailMySql_opt(file=\"\"):\n",
    "\n",
    "\n",
    "\n",
    "    db = MySQLdb.connect(host=\"localhost\",    # your host, usually localhost\n",
    "                         user=\"dbwithpython\",         # your username\n",
    "                         passwd=\"dbwithpython\",  # your password\n",
    "                         db=\"dbwithpython\")        # name of the data base\n",
    "\n",
    "    # you must create a Cursor object. It will let\n",
    "    #  you execute all the queries you need\n",
    "    cur = db.cursor()\n",
    "\n",
    "    cur.execute(\"DROP TABLE IF EXISTS Counts \")\n",
    "\n",
    "    cur.execute('''\n",
    "    CREATE TABLE Counts (email VARCHAR(250), count INTEGER)''')\n",
    "\n",
    "    if file:\n",
    "        fname=file\n",
    "    else:\n",
    "    \n",
    "        fname = input('Enter file name: ')\n",
    "        if (len(fname) < 1): fname = 'mbox-short.txt'\n",
    "    fh = open(fname)\n",
    "    for line in fh:\n",
    "        if not line.startswith('From: '): continue\n",
    "        pieces = line.split()\n",
    "        email = pieces[1]\n",
    "        #print('Ha')\n",
    "        cur.execute('SELECT count FROM Counts WHERE email = %s ', (email,))\n",
    "        #print('Haha')\n",
    "        row = cur.fetchone()\n",
    "        if row is None:\n",
    "            cur.execute('''INSERT INTO Counts (email, count)\n",
    "                    VALUES (%s, 1)''', (email,))\n",
    "            #print('Hahaha')\n",
    "        else:\n",
    "            cur.execute('UPDATE Counts SET count = count + 1 WHERE email = %s',\n",
    "                        (email,))\n",
    "    db.commit()\n",
    "\n",
    "    return db\n",
    "\n",
    "def emailSQlite(file=\"\"):\n",
    "\n",
    "    conn = sqlite3.connect('emaildb.sqlite')\n",
    "    cur = conn.cursor()\n",
    "\n",
    "    cur.execute('''\n",
    "    DROP TABLE IF EXISTS Counts''')\n",
    "\n",
    "    cur.execute('''\n",
    "    CREATE TABLE Counts (email TEXT, count INTEGER)''')\n",
    "\n",
    "    if file:\n",
    "        fname=file\n",
    "    else:\n",
    "    \n",
    "        fname = input('Enter file name: ')\n",
    "        if (len(fname) < 1): fname = 'mbox-short.txt'\n",
    "    fh = open(fname)\n",
    "    \n",
    "    for line in fh:\n",
    "        if not line.startswith('From: '): continue\n",
    "        pieces = line.split()\n",
    "        email = pieces[1]\n",
    "        cur.execute('SELECT count FROM Counts WHERE email = ? ', (email,))\n",
    "        row = cur.fetchone()\n",
    "        if row is None:\n",
    "            cur.execute('''INSERT INTO Counts (email, count)\n",
    "                    VALUES (?, 1)''', (email,))\n",
    "        else:\n",
    "            cur.execute('UPDATE Counts SET count = count + 1 WHERE email = ?',\n",
    "                        (email,))\n",
    "        conn.commit()\n",
    "\n",
    "    # https://www.sqlite.org/lang_select.html\n",
    "    sqlstr = 'SELECT email, count FROM Counts ORDER BY count DESC LIMIT 10'\n",
    "\n",
    "\n",
    "    return cur\n",
    "def emailSQlite_opt(file=\"\"):\n",
    "\n",
    "    conn = sqlite3.connect('emaildb.sqlite')\n",
    "    cur = conn.cursor()\n",
    "\n",
    "    cur.execute('''\n",
    "    DROP TABLE IF EXISTS Counts''')\n",
    "\n",
    "    cur.execute('''\n",
    "    CREATE TABLE Counts (email TEXT, count INTEGER)''')\n",
    "\n",
    "    if file:\n",
    "        fname=file\n",
    "    else:\n",
    "    \n",
    "        fname = input('Enter file name: ')\n",
    "        if (len(fname) < 1): fname = 'mbox-short.txt'\n",
    "    fh = open(fname)\n",
    "    \n",
    "    for line in fh:\n",
    "        if not line.startswith('From: '): continue\n",
    "        pieces = line.split()\n",
    "        email = pieces[1]\n",
    "        cur.execute('SELECT count FROM Counts WHERE email = ? ', (email,))\n",
    "        row = cur.fetchone()\n",
    "        if row is None:\n",
    "            cur.execute('''INSERT INTO Counts (email, count)\n",
    "                    VALUES (?, 1)''', (email,))\n",
    "        else:\n",
    "            cur.execute('UPDATE Counts SET count = count + 1 WHERE email = ?',\n",
    "                        (email,))\n",
    "    conn.commit()\n",
    "\n",
    "    # https://www.sqlite.org/lang_select.html\n",
    "    sqlstr = 'SELECT email, count FROM Counts ORDER BY count DESC LIMIT 10'\n",
    "\n",
    "\n",
    "    return cur\n",
    "\n",
    "\n",
    "\n",
    "\n",
    "\n",
    "\n",
    "\n"
   ]
  },
  {
   "cell_type": "code",
   "execution_count": 3,
   "metadata": {
    "collapsed": true
   },
   "outputs": [],
   "source": [
    "ncycles=3"
   ]
  },
  {
   "cell_type": "code",
   "execution_count": 4,
   "metadata": {
    "collapsed": false
   },
   "outputs": [
    {
     "name": "stdout",
     "output_type": "stream",
     "text": [
      "0.00033346811930338543 s elapsed\n",
      "cwen@iupui.edu 5\n",
      "zqian@umich.edu 4\n",
      "david.horwitz@uct.ac.za 4\n",
      "louis@media.berkeley.edu 3\n",
      "gsilver@umich.edu 3\n",
      "stephen.marquard@uct.ac.za 2\n",
      "rjlowe@iupui.edu 2\n",
      "wagnermr@iupui.edu 1\n",
      "ray@media.berkeley.edu 1\n",
      "gopal.ramasammycook@gmail.com 1\n",
      "antranig@caret.cam.ac.uk 1\n"
     ]
    }
   ],
   "source": [
    "for i in range(ncycles):\n",
    "    start=time.time()\n",
    "    emails=emailDict(file=\"mbox-short.txt\")\n",
    "print(\"%s s elapsed\"%format(str((time.time()-start)/ncycles)))\n",
    "\n",
    "for item in sorted([(value,key) for (key,value) in emails.items()], reverse=True):\n",
    "    print(item[1], item[0])"
   ]
  },
  {
   "cell_type": "code",
   "execution_count": 4,
   "metadata": {
    "collapsed": false
   },
   "outputs": [
    {
     "data": {
      "text/plain": [
       "94626"
      ]
     },
     "execution_count": 4,
     "metadata": {},
     "output_type": "execute_result"
    }
   ],
   "source": [
    "def convert_bytes(num):\n",
    "    \"\"\"\n",
    "    this function will convert bytes to MB.... GB... etc\n",
    "    \"\"\"\n",
    "    for x in ['bytes', 'KB', 'MB', 'GB', 'TB']:\n",
    "        if num < 1024.0:\n",
    "            return \"%3.1f %s\" % (num, x)\n",
    "        num /= 1024.0\n",
    "\n",
    "import os\n",
    "(os.path.getsize('mbox-short.txt'))"
   ]
  },
  {
   "cell_type": "code",
   "execution_count": 5,
   "metadata": {
    "collapsed": false
   },
   "outputs": [
    {
     "name": "stdout",
     "output_type": "stream",
     "text": [
      "size of mbox-short.txt is: 92.4 KB\n",
      "size of mbox0.5.txt is: 3.3 MB\n",
      "size of mbox.txt is: 6.4 MB\n",
      "size of mbox2.txt is: 12.8 MB\n",
      "size of mbox5.txt is: 31.9 MB\n",
      "size of mbox10.txt is: 63.8 MB\n"
     ]
    }
   ],
   "source": [
    "files=[\"mbox-short.txt\",\n",
    "       \"mbox0.5.txt\",\n",
    "       \"mbox.txt\",\n",
    "       \"mbox2.txt\",\n",
    "       \"mbox5.txt\",\n",
    "       \"mbox10.txt\"]\n",
    "for file in files:\n",
    "    print(\"size of\",file,\"is:\",convert_bytes(os.path.getsize(file)))"
   ]
  },
  {
   "cell_type": "code",
   "execution_count": 6,
   "metadata": {
    "collapsed": false
   },
   "outputs": [],
   "source": [
    "test_dct=list()\n",
    "file_sizes=list()\n",
    "for file in files:\n",
    "    for i in range(ncycles):\n",
    "        start=time.time()\n",
    "        emails=emailDict(file=file)\n",
    "    elapsed_avg=(time.time()-start)/ncycles\n",
    "    test_dct.append(elapsed_avg)\n",
    "    file_sizes.append(os.path.getsize(file))\n",
    "#db.close()\n",
    "#     print(\"%s s elapsed\"%format(str(elapsed)))\n",
    "\n",
    "#     for item in sorted([(value,key) for (key,value) in emails.items()], reverse=True):\n",
    "#         print(item[1], item[0])"
   ]
  },
  {
   "cell_type": "code",
   "execution_count": null,
   "metadata": {
    "collapsed": true
   },
   "outputs": [],
   "source": []
  },
  {
   "cell_type": "code",
   "execution_count": 8,
   "metadata": {
    "collapsed": false
   },
   "outputs": [
    {
     "name": "stdout",
     "output_type": "stream",
     "text": [
      "1.3854806423187256 s\n",
      "41.31173825263977 s\n",
      "84.31100368499756 s\n",
      "168.70981335639954 s\n",
      "414.2281029224396 s\n",
      "826.3986208438873 s\n"
     ]
    }
   ],
   "source": [
    "ncycles=1\n",
    "test_mysql=list()\n",
    "file_sizes=list()\n",
    "for file in files:\n",
    "    for i in range(ncycles):\n",
    "        start=time.time()\n",
    "        db=emailMySql(file=file)\n",
    "    elapsed_avg=(time.time()-start)/ncycles\n",
    "    print(elapsed_avg,\"s\")\n",
    "    test_mysql.append(elapsed_avg)\n",
    "    file_sizes.append(os.path.getsize(file))\n",
    "db.close()"
   ]
  },
  {
   "cell_type": "code",
   "execution_count": 9,
   "metadata": {
    "collapsed": false
   },
   "outputs": [
    {
     "data": {
      "text/plain": [
       "[1.3854806423187256,\n",
       " 41.31173825263977,\n",
       " 84.31100368499756,\n",
       " 168.70981335639954,\n",
       " 414.2281029224396,\n",
       " 826.3986208438873]"
      ]
     },
     "execution_count": 9,
     "metadata": {},
     "output_type": "execute_result"
    }
   ],
   "source": [
    "test_mysql"
   ]
  },
  {
   "cell_type": "code",
   "execution_count": 25,
   "metadata": {
    "collapsed": false
   },
   "outputs": [
    {
     "name": "stdout",
     "output_type": "stream",
     "text": [
      "0.6249423027038574 s\n",
      "0.756535530090332 s\n",
      "0.9681839942932129 s\n",
      "1.3909838199615479 s\n",
      "2.9160642623901367 s\n",
      "5.448354959487915 s\n"
     ]
    }
   ],
   "source": [
    "ncycles=1\n",
    "test_mysql=list()\n",
    "file_sizes=list()\n",
    "for file in files:\n",
    "    for i in range(ncycles):\n",
    "        start=time.time()\n",
    "        db=emailMySql_opt(file=file)\n",
    "    elapsed_avg=(time.time()-start)/ncycles\n",
    "    print(elapsed_avg,\"s\")\n",
    "    test_mysql.append(elapsed_avg)\n",
    "    file_sizes.append(os.path.getsize(file))\n",
    "db.close()"
   ]
  },
  {
   "cell_type": "code",
   "execution_count": 23,
   "metadata": {
    "collapsed": false
   },
   "outputs": [
    {
     "data": {
      "text/plain": [
       "[0.497852087020874,\n",
       " 1.1167919635772705,\n",
       " 1.5821192264556885,\n",
       " 2.433722734451294,\n",
       " 2.9245691299438477,\n",
       " 5.432344436645508]"
      ]
     },
     "execution_count": 23,
     "metadata": {},
     "output_type": "execute_result"
    }
   ],
   "source": [
    "test_mysql"
   ]
  },
  {
   "cell_type": "code",
   "execution_count": 7,
   "metadata": {
    "collapsed": false
   },
   "outputs": [
    {
     "name": "stdout",
     "output_type": "stream",
     "text": [
      "2.3071329593658447 s\n",
      "91.02301549911499 s\n",
      "200.79262804985046 s\n",
      "394.8466143608093 s\n",
      "984.1553418636322 s\n",
      "2005.2575192451477 s\n"
     ]
    }
   ],
   "source": [
    "ncycles=1\n",
    "test_sqlite=list()\n",
    "file_sizes=list()\n",
    "for file in files:\n",
    "    for i in range(ncycles):\n",
    "        start=time.time()\n",
    "        cur=emailSQlite(file=file)\n",
    "    elapsed_avg=(time.time()-start)/ncycles\n",
    "    print(elapsed_avg,\"s\")\n",
    "    test_sqlite.append(elapsed_avg)\n",
    "    file_sizes.append(os.path.getsize(file))\n",
    "cur.close()"
   ]
  },
  {
   "cell_type": "code",
   "execution_count": null,
   "metadata": {
    "collapsed": true
   },
   "outputs": [],
   "source": []
  },
  {
   "cell_type": "code",
   "execution_count": 25,
   "metadata": {
    "collapsed": false
   },
   "outputs": [
    {
     "data": {
      "text/plain": [
       "[0.0003333091735839844,\n",
       " 0.0008339087168375651,\n",
       " 0.0028350353240966797,\n",
       " 0.011174678802490234,\n",
       " 0.02084835370381673,\n",
       " 0.04286384582519531,\n",
       " 0.09506758054097493,\n",
       " 0.20214271545410156]"
      ]
     },
     "execution_count": 25,
     "metadata": {},
     "output_type": "execute_result"
    }
   ],
   "source": [
    "test_sqlite"
   ]
  },
  {
   "cell_type": "code",
   "execution_count": 26,
   "metadata": {
    "collapsed": false
   },
   "outputs": [
    {
     "name": "stdout",
     "output_type": "stream",
     "text": [
      "0.273937463760376 s\n",
      "0.29070496559143066 s\n",
      "0.3502490520477295 s\n",
      "0.3827695846557617 s\n",
      "0.7250134944915771 s\n",
      "1.099280595779419 s\n"
     ]
    }
   ],
   "source": [
    "ncycles=1\n",
    "test_sqlite=list()\n",
    "file_sizes=list()\n",
    "for file in files:\n",
    "    for i in range(ncycles):\n",
    "        start=time.time()\n",
    "        cur=emailSQlite_opt(file=file)\n",
    "    elapsed_avg=(time.time()-start)/ncycles\n",
    "    print(elapsed_avg,\"s\")\n",
    "    test_sqlite.append(elapsed_avg)\n",
    "    file_sizes.append(os.path.getsize(file))\n",
    "cur.close()"
   ]
  },
  {
   "cell_type": "code",
   "execution_count": 21,
   "metadata": {
    "collapsed": false
   },
   "outputs": [
    {
     "data": {
      "text/plain": [
       "[0.2902059555053711,\n",
       " 0.44981813430786133,\n",
       " 0.4573230743408203,\n",
       " 0.533876895904541,\n",
       " 0.7240128517150879,\n",
       " 1.1338019371032715]"
      ]
     },
     "execution_count": 21,
     "metadata": {},
     "output_type": "execute_result"
    }
   ],
   "source": [
    "test_sqlite"
   ]
  },
  {
   "cell_type": "code",
   "execution_count": null,
   "metadata": {
    "collapsed": true
   },
   "outputs": [],
   "source": [
    "test_dct=list()\n",
    "file_sizes=list()\n",
    "for file in files:\n",
    "    for i in range(ncycles):\n",
    "        start=time.time()\n",
    "        cur=emailSQlite(file=file)\n",
    "    elapsed_avg=(time.time()-start)/ncycles\n",
    "    test_dct.append(elapsed_avg)\n",
    "    file_sizes.append(os.path.getsize(file))\n",
    "cur.close()"
   ]
  },
  {
   "cell_type": "code",
   "execution_count": null,
   "metadata": {
    "collapsed": true
   },
   "outputs": [],
   "source": []
  },
  {
   "cell_type": "code",
   "execution_count": null,
   "metadata": {
    "collapsed": true
   },
   "outputs": [],
   "source": []
  },
  {
   "cell_type": "code",
   "execution_count": 11,
   "metadata": {
    "collapsed": false
   },
   "outputs": [
    {
     "name": "stdout",
     "output_type": "stream",
     "text": [
      "0.8247172037760416 s elapsed\n",
      "cwen@iupui.edu 5\n",
      "zqian@umich.edu 4\n",
      "david.horwitz@uct.ac.za 4\n",
      "louis@media.berkeley.edu 3\n",
      "gsilver@umich.edu 3\n",
      "stephen.marquard@uct.ac.za 2\n",
      "rjlowe@iupui.edu 2\n",
      "wagnermr@iupui.edu 1\n",
      "antranig@caret.cam.ac.uk 1\n",
      "gopal.ramasammycook@gmail.com 1\n"
     ]
    }
   ],
   "source": [
    "for i in range(ncycles):\n",
    "    start=time.time()\n",
    "    cur=emailSQlite(file=\"mbox-short.txt\")\n",
    "print(\"%s s elapsed\"%format(str((time.time()-start)/ncycles)))\n",
    "\n",
    "\n",
    "sqlstr = 'SELECT email, count FROM Counts ORDER BY count DESC LIMIT 10'\n",
    "\n",
    "for row in cur.execute(sqlstr):\n",
    "    print(str(row[0]), row[1])\n",
    "\n",
    "cur.close()"
   ]
  },
  {
   "cell_type": "code",
   "execution_count": 14,
   "metadata": {
    "collapsed": false
   },
   "outputs": [
    {
     "name": "stdout",
     "output_type": "stream",
     "text": [
      "0.43047142028808594 s elapsed\n",
      "cwen@iupui.edu 5\n",
      "zqian@umich.edu 4\n",
      "david.horwitz@uct.ac.za 4\n",
      "gsilver@umich.edu 3\n",
      "louis@media.berkeley.edu 3\n",
      "stephen.marquard@uct.ac.za 2\n",
      "rjlowe@iupui.edu 2\n",
      "wagnermr@iupui.edu 1\n",
      "antranig@caret.cam.ac.uk 1\n",
      "gopal.ramasammycook@gmail.com 1\n"
     ]
    }
   ],
   "source": [
    "for i in range(ncycles):\n",
    "    start=time.time()\n",
    "    db=emailMySql(file=\"mbox-short.txt\")\n",
    "print(\"%s s elapsed\"%format(str((time.time()-start)/ncycles)))\n",
    "\n",
    "\n",
    "with db.cursor() as cur:\n",
    "    sqlstr = 'SELECT email, count FROM Counts ORDER BY count DESC LIMIT 10'\n",
    "    cur.execute(sqlstr)\n",
    "    results = cur.fetchall()\n",
    "for row in results:\n",
    "    print(str(row[0]), row[1])\n",
    "\n",
    "\n",
    "db.close()"
   ]
  },
  {
   "cell_type": "code",
   "execution_count": null,
   "metadata": {
    "collapsed": true
   },
   "outputs": [],
   "source": []
  },
  {
   "cell_type": "code",
   "execution_count": 11,
   "metadata": {
    "collapsed": false
   },
   "outputs": [
    {
     "data": {
      "text/plain": [
       "['92.4 KB',\n",
       " '277.2 KB',\n",
       " '955.3 KB',\n",
       " '3.3 MB',\n",
       " '6.4 MB',\n",
       " '12.8 MB',\n",
       " '31.9 MB',\n",
       " '63.8 MB']"
      ]
     },
     "execution_count": 11,
     "metadata": {},
     "output_type": "execute_result"
    }
   ],
   "source": [
    "[convert_bytes(os.path.getsize(file)) for file in files]"
   ]
  },
  {
   "cell_type": "code",
   "execution_count": 16,
   "metadata": {
    "collapsed": false
   },
   "outputs": [
    {
     "data": {
      "text/plain": [
       "array([  5.56045108e-06,   1.86244647e-04,   3.86382474e-04,\n",
       "         7.58870443e-04,   1.69832574e-03,   3.22450929e-03])"
      ]
     },
     "execution_count": 16,
     "metadata": {},
     "output_type": "execute_result"
    }
   ],
   "source": [
    "np.array(test_dct)/60"
   ]
  },
  {
   "cell_type": "code",
   "execution_count": 27,
   "metadata": {
    "collapsed": false
   },
   "outputs": [
    {
     "data": {
      "image/png": "[encoded data removed]",
      "text/plain": [
       "<matplotlib.figure.Figure at 0x90a5797908>"
      ]
     },
     "metadata": {},
     "output_type": "display_data"
    }
   ],
   "source": [
    "import numpy as np\n",
    "import matplotlib.pyplot as plt\n",
    "\n",
    "x_val=[os.path.getsize(file) for file in files]\n",
    "labels=[convert_bytes(os.path.getsize(file)) for file in files]\n",
    "\n",
    "plt.plot(x_val, test_dct, x_val, test_mysql, x_val, test_sqlite)\n",
    "plt.xticks(x_val, labels, rotation=90)\n",
    "#plt.ylim(0,max(counts.values())*1.1)\n",
    "#plt.xlim(0,len(x_val)*1.5)\n",
    "plt.legend(['Emails2Dict','Emails2MySql', 'Emails2SQlite'], loc='upper left')\n",
    "plt.xlabel(\"File Size\")\n",
    "plt.ylabel(\"Execution time, s\")\n",
    "#fig = plt.gcf()\n",
    "#fig.set_size_inches(18.5, 10.5)\n",
    "plt.show()"
   ]
  },
  {
   "cell_type": "code",
   "execution_count": null,
   "metadata": {
    "collapsed": true
   },
   "outputs": [],
   "source": []
  },
  {
   "cell_type": "code",
   "execution_count": null,
   "metadata": {
    "collapsed": true
   },
   "outputs": [],
   "source": []
  },
  {
   "cell_type": "code",
   "execution_count": null,
   "metadata": {
    "collapsed": true
   },
   "outputs": [],
   "source": []
  },
  {
   "cell_type": "markdown",
   "metadata": {},
   "source": [
    "## Week 3: Multi-table Relations: Audio Tracks Listing"
   ]
  },
  {
   "cell_type": "code",
   "execution_count": null,
   "metadata": {
    "collapsed": true
   },
   "outputs": [],
   "source": [
    "#create database tracks.db\n",
    "CREATE TABLE `Artist` (\n",
    "\t`id`\tINTEGER NOT NULL PRIMARY KEY AUTOINCREMENT,\n",
    "\t`name`\tTEXT\n",
    ");\n",
    "\n",
    "CREATE TABLE `Genre` (\n",
    "\t`id`\tINTEGER NOT NULL PRIMARY KEY AUTOINCREMENT UNIQUE,\n",
    "\t`name`\tTEXT\n",
    ");\n",
    "CREATE TABLE `Album` (\n",
    "\t`id`\tINTEGER NOT NULL PRIMARY KEY AUTOINCREMENT UNIQUE,\n",
    "\t`artist_id` INTEGER,\n",
    "\t`title`\tTEXT\n",
    ");\n",
    "CREATE TABLE `Album` (\n",
    "\t`id`\tINTEGER NOT NULL PRIMARY KEY AUTOINCREMENT UNIQUE,\n",
    "\t`title`\tTEXT,\n",
    "\t`album_id` INTEGER,\n",
    "\t`genre_id` INTEGER,\n",
    "\t`len` INTEGER, `rating` INTEGER, `count` INTEGER\n",
    ");\n",
    "CREATE TABLE `Track` (\n",
    "\t`id`\tINTEGER NOT NULL PRIMARY KEY AUTOINCREMENT UNIQUE,\n",
    "\t`title`\tTEXT,\n",
    "\t`album_id` INTEGER,\n",
    "\t`genre_id` INTEGER,\n",
    "\t`len` INTEGER, `rating` INTEGER, `count` INTEGER\n",
    ");"
   ]
  },
  {
   "cell_type": "code",
   "execution_count": null,
   "metadata": {
    "collapsed": true
   },
   "outputs": [],
   "source": [
    "#populating data\n",
    "Insert into Artist (name) values ('Led Zepplin')\n",
    "Insert into Artist (name) values ('AC/DC')\n",
    "\n",
    "Insert into Genre (name) values ('Rock');\n",
    "Insert into Genre (name) values ('Metal')\n",
    "\n",
    "Insert into Album (title, artist_id) values ('Who Made Who', 2);\n",
    "Insert into Album (title, artist_id) values ('IV', 1)\n",
    "\n",
    "Insert into Track (title, rating, len, count, album_id, genre_id) values ('Black Dog', 5, 297, 0, 2, 1);\n",
    "Insert into Track (title, rating, len, count, album_id, genre_id) values ('Stairway', 5, 482, 0, 2, 1);\n",
    "Insert into Track (title, rating, len, count, album_id, genre_id) values ('About to Rock', 5, 313, 0, 1, 2);\n",
    "Insert into Track (title, rating, len, count, album_id, genre_id) values ('Who Made Who', 5, 207, 0, 1, 2)"
   ]
  },
  {
   "cell_type": "code",
   "execution_count": null,
   "metadata": {
    "collapsed": true
   },
   "outputs": [],
   "source": [
    "#join clause\n",
    "#relates albums to artists\n",
    "select Album.title, Artist.name from Album join Artist on Album.artist_id = Artist.id\n",
    "select Album.title, Artist.name, Album.artist_id, Artist.id from Album join Artist on Album.artist_id = Artist.id"
   ]
  },
  {
   "cell_type": "code",
   "execution_count": null,
   "metadata": {
    "collapsed": true
   },
   "outputs": [],
   "source": []
  },
  {
   "cell_type": "code",
   "execution_count": null,
   "metadata": {
    "collapsed": true
   },
   "outputs": [],
   "source": []
  }
 ],
 "metadata": {
  "anaconda-cloud": {},
  "kernelspec": {
   "display_name": "Python [conda env:python3]",
   "language": "python",
   "name": "conda-env-python3-py"
  },
  "language_info": {
   "codemirror_mode": {
    "name": "ipython",
    "version": 3
   },
   "file_extension": ".py",
   "mimetype": "text/x-python",
   "name": "python",
   "nbconvert_exporter": "python",
   "pygments_lexer": "ipython3",
   "version": "3.5.2"
  }
 },
 "nbformat": 4,
 "nbformat_minor": 0
}
