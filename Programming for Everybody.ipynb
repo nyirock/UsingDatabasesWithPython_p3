{
 "cells": [
  {
   "cell_type": "markdown",
   "metadata": {},
   "source": [
    "# Week 1-2"
   ]
  },
  {
   "cell_type": "markdown",
   "metadata": {},
   "source": [
    "## Ch. 1.8, p23: What is a program"
   ]
  },
  {
   "cell_type": "code",
   "execution_count": 19,
   "metadata": {
    "collapsed": false
   },
   "outputs": [],
   "source": [
    "sample_text=\"\"\"the clown ran after the car and the car ran into the tent\n",
    "and the tent fell down on the clown and the car\"\"\"\n",
    "\n",
    "with open(\"sample.txt\", \"w\") as text_file:\n",
    "    #print(sample_text*1000000, file=text_file)\n",
    "    print(sample_text, file=text_file)"
   ]
  },
  {
   "cell_type": "markdown",
   "metadata": {},
   "source": [
    "### dict.get() method is faster than doing manual loop"
   ]
  },
  {
   "cell_type": "code",
   "execution_count": 17,
   "metadata": {
    "collapsed": false
   },
   "outputs": [
    {
     "name": "stdout",
     "output_type": "stream",
     "text": [
      "1 loop, best of 3: 6.68 s per loop\n"
     ]
    }
   ],
   "source": [
    "%%timeit\n",
    "#name=input(\"Enter file:\")\n",
    "name=\"sample.txt\"\n",
    "handle=open(name,'r')\n",
    "counts=dict()\n",
    "\n",
    "for line in handle:\n",
    "    words=line.split()\n",
    "    for word in words:\n",
    "        counts[word]=counts.get(word,0)+1\n",
    "        \n",
    "bigcount=None\n",
    "bigword=None\n",
    "for word, count in list(counts.items()):\n",
    "    if bigcount is None or count>bigcount:\n",
    "        bigword=word\n",
    "        bigcount=count\n",
    "        \n",
    "#print(bigword,bigcount)"
   ]
  },
  {
   "cell_type": "code",
   "execution_count": 14,
   "metadata": {
    "collapsed": false
   },
   "outputs": [
    {
     "name": "stdout",
     "output_type": "stream",
     "text": [
      "1 loop, best of 3: 7.13 s per loop\n"
     ]
    }
   ],
   "source": [
    "%%timeit\n",
    "#name=input(\"Enter file:\")\n",
    "name=\"sample.txt\"\n",
    "handle=open(name,'r')\n",
    "counts=dict()\n",
    "\n",
    "for line in handle:\n",
    "    words=line.split()\n",
    "    for word in words:\n",
    "        if word in counts.keys():\n",
    "            counts[word]+=1\n",
    "        else:\n",
    "            counts[word]=1\n",
    "\n",
    "        \n",
    "bigcount=None\n",
    "bigword=None\n",
    "for word, count in list(counts.items()):\n",
    "    if bigcount is None or count>bigcount:\n",
    "        bigword=word\n",
    "        bigcount=count"
   ]
  },
  {
   "cell_type": "code",
   "execution_count": 18,
   "metadata": {
    "collapsed": false
   },
   "outputs": [
    {
     "name": "stdout",
     "output_type": "stream",
     "text": [
      "1 loop, best of 3: 6.67 s per loop\n"
     ]
    }
   ],
   "source": [
    "%%timeit\n",
    "#name=input(\"Enter file:\")\n",
    "name=\"sample.txt\"\n",
    "handle=open(name,'r')\n",
    "counts=dict()\n",
    "\n",
    "for line in handle:\n",
    "    words=line.split()\n",
    "    for word in words:\n",
    "        counts[word]=counts.get(word,0)+1\n",
    "        \n",
    "bigcount=None\n",
    "bigword=None\n",
    "cnts=list(counts.items())\n",
    "for i in range(len(cnts)):\n",
    "    if i==0:\n",
    "        bigword=cnts[i][0]\n",
    "        bigcount=cnts[i][1]\n",
    "    elif cnts[i][1]>bigcount:\n",
    "        bigword=cnts[i][0]\n",
    "        bigcount=cnts[i][1]\n",
    "        \n",
    "#print(bigword,bigcount)"
   ]
  },
  {
   "cell_type": "code",
   "execution_count": null,
   "metadata": {
    "collapsed": true
   },
   "outputs": [],
   "source": []
  },
  {
   "cell_type": "code",
   "execution_count": 21,
   "metadata": {
    "collapsed": false
   },
   "outputs": [],
   "source": [
    "import numpy as np\n",
    "import matplotlib.pyplot as plt\n",
    "\n"
   ]
  },
  {
   "cell_type": "code",
   "execution_count": 31,
   "metadata": {
    "collapsed": false
   },
   "outputs": [
    {
     "data": {
      "text/plain": [
       "dict_values([200000, 100000, 200000, 200001, 300000, 100000, 99999, 600001, 100000, 100000, 100000, 200000])"
      ]
     },
     "execution_count": 31,
     "metadata": {},
     "output_type": "execute_result"
    }
   ],
   "source": [
    "counts.values()"
   ]
  },
  {
   "cell_type": "code",
   "execution_count": 40,
   "metadata": {
    "collapsed": false
   },
   "outputs": [
    {
     "data": {
      "image/png": "[encoded data removed]",
      "text/plain": [
       "<matplotlib.figure.Figure at 0xb9544c160>"
      ]
     },
     "metadata": {},
     "output_type": "display_data"
    }
   ],
   "source": [
    "x_val=range(len(counts.keys()))\n",
    "labels=list(counts.keys())\n",
    "plt.bar(x_val, list(counts.values()), align='center')\n",
    "plt.xticks(x_val, labels, rotation = 90)\n",
    "plt.show()"
   ]
  },
  {
   "cell_type": "code",
   "execution_count": 38,
   "metadata": {
    "collapsed": false
   },
   "outputs": [
    {
     "data": {
      "image/png": "[encoded data removed]",
      "text/plain": [
       "<matplotlib.figure.Figure at 0xb949ab438>"
      ]
     },
     "metadata": {},
     "output_type": "display_data"
    }
   ],
   "source": [
    "plt.hist(list(counts.values()))\n",
    "plt.show()"
   ]
  },
  {
   "cell_type": "markdown",
   "metadata": {
    "collapsed": false
   },
   "source": [
    "## Chapter 2"
   ]
  },
  {
   "cell_type": "code",
   "execution_count": 41,
   "metadata": {
    "collapsed": false
   },
   "outputs": [
    {
     "data": {
      "text/plain": [
       "range"
      ]
     },
     "execution_count": 41,
     "metadata": {},
     "output_type": "execute_result"
    }
   ],
   "source": [
    "type(range(3))"
   ]
  },
  {
   "cell_type": "code",
   "execution_count": 46,
   "metadata": {
    "collapsed": false
   },
   "outputs": [
    {
     "name": "stdout",
     "output_type": "stream",
     "text": [
      "12\n"
     ]
    }
   ],
   "source": [
    "sval=\"12\"\n",
    "ival=int(sval)\n",
    "print(ival)"
   ]
  },
  {
   "cell_type": "code",
   "execution_count": null,
   "metadata": {
    "collapsed": true
   },
   "outputs": [],
   "source": []
  },
  {
   "cell_type": "code",
   "execution_count": 54,
   "metadata": {
    "collapsed": false
   },
   "outputs": [
    {
     "name": "stdout",
     "output_type": "stream",
     "text": [
      "Enter text:kdjfs\n",
      "String Conversion Error!\n"
     ]
    }
   ],
   "source": [
    "sval=input(\"Enter text:\")\n",
    "try:\n",
    "    ival=int(sval)\n",
    "    print(ival)\n",
    "except:\n",
    "    print(\"String Conversion Error!\")\n"
   ]
  },
  {
   "cell_type": "markdown",
   "metadata": {},
   "source": [
    "### Input, Processing, Output - Concept"
   ]
  },
  {
   "cell_type": "code",
   "execution_count": 59,
   "metadata": {
    "collapsed": false
   },
   "outputs": [
    {
     "name": "stdout",
     "output_type": "stream",
     "text": [
      "Europe floor? 5\n",
      "US floor 6\n"
     ]
    }
   ],
   "source": [
    "#convert elevator floors\n",
    "inp=input(\"Europe floor? \")\n",
    "usf=int(inp)+1\n",
    "print('US floor', usf)"
   ]
  },
  {
   "cell_type": "code",
   "execution_count": 60,
   "metadata": {
    "collapsed": false
   },
   "outputs": [
    {
     "data": {
      "text/plain": [
       "2"
      ]
     },
     "execution_count": 60,
     "metadata": {},
     "output_type": "execute_result"
    }
   ],
   "source": [
    "42%10"
   ]
  },
  {
   "cell_type": "code",
   "execution_count": 61,
   "metadata": {
    "collapsed": false
   },
   "outputs": [
    {
     "data": {
      "text/plain": [
       "4"
      ]
     },
     "execution_count": 61,
     "metadata": {},
     "output_type": "execute_result"
    }
   ],
   "source": [
    "42//10"
   ]
  },
  {
   "cell_type": "raw",
   "metadata": {},
   "source": [
    "2.3 Write a program to prompt the user for hours and rate per hour using raw_input to compute gross pay. Use 35 hours and a rate of 2.75 per hour to test the program (the pay should be 96.25). You should use raw_input to read a string and float() to convert the string to a number. Do not worry about error checking or bad user data."
   ]
  },
  {
   "cell_type": "code",
   "execution_count": 3,
   "metadata": {
    "collapsed": false
   },
   "outputs": [
    {
     "name": "stdout",
     "output_type": "stream",
     "text": [
      "Enter Hours:35\n",
      "Enter Rate:2.75\n",
      "96.25\n"
     ]
    }
   ],
   "source": [
    "# This first line is provided for you\n",
    "\n",
    "# This first line is provided for you\n",
    "\n",
    "hrs = float(raw_input(\"Enter Hours:\"))\n",
    "rate = float(raw_input(\"Enter Rate:\"))\n",
    "\n",
    "pay=hrs*rate\n",
    "\n",
    "print pay"
   ]
  },
  {
   "cell_type": "markdown",
   "metadata": {},
   "source": [
    "#Week 3, 4, 5"
   ]
  },
  {
   "cell_type": "code",
   "execution_count": 65,
   "metadata": {
    "collapsed": false
   },
   "outputs": [
    {
     "name": "stdout",
     "output_type": "stream",
     "text": [
      "Small\n",
      "All done\n"
     ]
    }
   ],
   "source": [
    "x = 0\n",
    "if x < 2 :\n",
    "    print('Small')\n",
    "elif x < 10 :\n",
    "    print('Medium')\n",
    "else :\n",
    "    print('LARGE')\n",
    "print('All done')"
   ]
  },
  {
   "cell_type": "code",
   "execution_count": 70,
   "metadata": {
    "collapsed": false
   },
   "outputs": [
    {
     "name": "stdout",
     "output_type": "stream",
     "text": [
      "Medium\n",
      "All done\n"
     ]
    }
   ],
   "source": [
    "x = 5\n",
    "if x < 2 :\n",
    "    print('Small')\n",
    "if x < 10 :\n",
    "    print('Medium')\n",
    "else :\n",
    "    print('LARGE')\n",
    "print('All done')"
   ]
  },
  {
   "cell_type": "code",
   "execution_count": 72,
   "metadata": {
    "collapsed": false
   },
   "outputs": [
    {
     "name": "stdout",
     "output_type": "stream",
     "text": [
      "Two or more\n"
     ]
    }
   ],
   "source": [
    "x=int(\"22\")\n",
    "if x < 2 :\n",
    "    print('Below 2')\n",
    "elif x >= 2 :\n",
    "     print('Two or more')\n",
    "else :\n",
    "    print('Something else')"
   ]
  },
  {
   "cell_type": "code",
   "execution_count": 78,
   "metadata": {
    "collapsed": false
   },
   "outputs": [
    {
     "name": "stdout",
     "output_type": "stream",
     "text": [
      "All done\n"
     ]
    }
   ],
   "source": [
    "x=2\n",
    "if x>2:\n",
    "    print('Bigger')\n",
    "elif x<2:\n",
    "    print('Smaller')\n",
    "print('All done')"
   ]
  },
  {
   "cell_type": "code",
   "execution_count": null,
   "metadata": {
    "collapsed": true
   },
   "outputs": [],
   "source": []
  },
  {
   "cell_type": "code",
   "execution_count": null,
   "metadata": {
    "collapsed": true
   },
   "outputs": [],
   "source": []
  },
  {
   "cell_type": "code",
   "execution_count": null,
   "metadata": {
    "collapsed": true
   },
   "outputs": [],
   "source": []
  },
  {
   "cell_type": "raw",
   "metadata": {},
   "source": [
    "\n",
    "3.1 Write a program to prompt the user for hours and rate per hour using raw_input to compute gross pay. Pay the hourly rate for the hours up to 40 and 1.5 times the hourly rate for all hours worked above 40 hours. Use 45 hours and a rate of 10.50 per hour to test the program (the pay should be 498.75). You should use raw_input to read a string and float() to convert the string to a number. Do not worry about error checking the user input - assume the user types numbers properly. "
   ]
  },
  {
   "cell_type": "code",
   "execution_count": 10,
   "metadata": {
    "collapsed": false
   },
   "outputs": [
    {
     "name": "stdout",
     "output_type": "stream",
     "text": [
      "Enter Hours:45\n",
      "Enter Rate:10.5\n",
      "498.75\n"
     ]
    }
   ],
   "source": [
    "hrs = float(raw_input(\"Enter Hours:\"))\n",
    "rate = float(raw_input(\"Enter Rate:\"))\n",
    "if(hrs>40):\n",
    "    pay=40*rate+(hrs-40)*rate*1.5\n",
    "else:\n",
    "    pay=hrs*rate\n",
    "print pay"
   ]
  },
  {
   "cell_type": "raw",
   "metadata": {},
   "source": [
    "\n",
    "3.3 Write a program to prompt for a score between 0.0 and 1.0. If the score is out of range, print an error. If the score is between 0.0 and 1.0, print a grade using the following table:\n",
    "Score Grade\n",
    ">= 0.9 A\n",
    ">= 0.8 B\n",
    ">= 0.7 C\n",
    ">= 0.6 D\n",
    "< 0.6 F\n",
    "If the user enters a value out of range, print a suitable error message and exit. For the test, enter a score of 0.85. "
   ]
  },
  {
   "cell_type": "code",
   "execution_count": 2,
   "metadata": {
    "collapsed": false
   },
   "outputs": [
    {
     "name": "stdout",
     "output_type": "stream",
     "text": [
      "Enter a grade in range from 0.0 to 1.0: 0\n",
      "F\n",
      "Enter a grade in range from 0.0 to 1.0: 1\n",
      "A\n",
      "Enter a grade in range from 0.0 to 1.0: 1.001\n",
      "Error, please enter a number in range from 0.0 to 1!\n",
      "Enter a grade in range from 0.0 to 1.0: quit\n"
     ]
    }
   ],
   "source": [
    "while True:\n",
    "    grade=raw_input(\"Enter a grade in range from 0.0 to 1.0: \")\n",
    "    if grade=='quit':\n",
    "        break\n",
    "    try:\n",
    "        grade=float(grade)\n",
    "    except:\n",
    "        print \"Error, please enter a float number!\"\n",
    "        continue\n",
    "      \n",
    "    if (grade < 0. or grade >1.):\n",
    "        print \"Error, please enter a number in range from 0.0 to 1!\"\n",
    "        continue\n",
    "\n",
    "    if grade >= 0.9:\n",
    "        print \"A\"\n",
    "    elif grade >= 0.8:\n",
    "        print \"B\"\n",
    "    elif grade >= 0.7:\n",
    "        print \"C\"\n",
    "    elif grade >= 0.6:\n",
    "        print \"D\"\n",
    "    elif grade < 0.6:\n",
    "        print \"F\"\n",
    "    else:\n",
    "        print 'undetermined'"
   ]
  },
  {
   "cell_type": "markdown",
   "metadata": {},
   "source": [
    "# Week 6"
   ]
  },
  {
   "cell_type": "raw",
   "metadata": {},
   "source": [
    "4.6 Write a program to prompt the user for hours and rate per hour using raw_input to compute gross pay. Award time-and-a-half for the hourly rate for all hours worked above 40 hours. Put the logic to do the computation of time-and-a-half in a function called computepay() and use the function to do the computation. The function should return a value. Use 45 hours and a rate of 10.50 per hour to test the program (the pay should be 498.75). You should use raw_input to read a string and float() to convert the string to a number. Do not worry about error checking the user input unless you want to - you can assume the user types numbers properly. "
   ]
  },
  {
   "cell_type": "code",
   "execution_count": 79,
   "metadata": {
    "collapsed": false
   },
   "outputs": [
    {
     "data": {
      "text/plain": [
       "'w'"
      ]
     },
     "execution_count": 79,
     "metadata": {},
     "output_type": "execute_result"
    }
   ],
   "source": [
    "max('Hello world')"
   ]
  },
  {
   "cell_type": "code",
   "execution_count": 3,
   "metadata": {
    "collapsed": false
   },
   "outputs": [
    {
     "data": {
      "text/plain": [
       "498.75"
      ]
     },
     "execution_count": 3,
     "metadata": {},
     "output_type": "execute_result"
    }
   ],
   "source": [
    "def computepay(hrs, rate):\n",
    "    if(hrs>40):\n",
    "        pay=40*rate+(hrs-40)*rate*1.5\n",
    "    else:\n",
    "        pay=hrs*rate\n",
    "    return pay\n",
    "computepay(45, 10.50)   "
   ]
  },
  {
   "cell_type": "markdown",
   "metadata": {},
   "source": [
    "# Week 7, Chapter5"
   ]
  },
  {
   "cell_type": "markdown",
   "metadata": {},
   "source": [
    "## Generators and yielding"
   ]
  },
  {
   "cell_type": "code",
   "execution_count": 7,
   "metadata": {
    "collapsed": false
   },
   "outputs": [
    {
     "name": "stdout",
     "output_type": "stream",
     "text": [
      "5\n"
     ]
    }
   ],
   "source": [
    "tot = 0 \n",
    "for i in [5, 4, 3, 2, 1] :\n",
    "    tot = tot + 1\n",
    "print(tot)"
   ]
  },
  {
   "cell_type": "code",
   "execution_count": 5,
   "metadata": {
    "collapsed": true
   },
   "outputs": [],
   "source": [
    "from time import time"
   ]
  },
  {
   "cell_type": "code",
   "execution_count": 10,
   "metadata": {
    "collapsed": false
   },
   "outputs": [],
   "source": [
    "size=[1e3, 1e4, 1e5, 2e5]\n",
    "times=[]\n",
    "for i in size:\n",
    "    start=time()\n",
    "    lst=[2**x for x in range(int(i))]\n",
    "    s=0\n",
    "    for element in lst:\n",
    "        s+=element\n",
    "    times.append(time()-start)\n",
    "#print(s)"
   ]
  },
  {
   "cell_type": "code",
   "execution_count": 11,
   "metadata": {
    "collapsed": false
   },
   "outputs": [
    {
     "data": {
      "image/png": "[encoded data removed]",
      "text/plain": [
       "<matplotlib.figure.Figure at 0xfd3cdec2b0>"
      ]
     },
     "metadata": {},
     "output_type": "display_data"
    }
   ],
   "source": [
    "import numpy as np\n",
    "import matplotlib.pyplot as plt\n",
    "\n",
    "x_val=range(len(size))\n",
    "labels=size\n",
    "plt.bar(x_val, times, align='center')\n",
    "plt.xticks(x_val, labels, rotation = 90)\n",
    "plt.show()"
   ]
  },
  {
   "cell_type": "code",
   "execution_count": null,
   "metadata": {
    "collapsed": true
   },
   "outputs": [],
   "source": []
  },
  {
   "cell_type": "code",
   "execution_count": 12,
   "metadata": {
    "collapsed": false
   },
   "outputs": [],
   "source": [
    "size=[1e3, 1e4, 1e5, 2e5]\n",
    "times=[]\n",
    "for i in size:\n",
    "    start=time()\n",
    "    lst=(2**x for x in range(int(i)))\n",
    "    s=0\n",
    "    for element in lst:\n",
    "        s+=element\n",
    "    times.append(time()-start)\n",
    "#print(s)"
   ]
  },
  {
   "cell_type": "code",
   "execution_count": 13,
   "metadata": {
    "collapsed": false
   },
   "outputs": [
    {
     "data": {
      "image/png": "[encoded data removed]",
      "text/plain": [
       "<matplotlib.figure.Figure at 0xfd3cb729b0>"
      ]
     },
     "metadata": {},
     "output_type": "display_data"
    }
   ],
   "source": [
    "import numpy as np\n",
    "import matplotlib.pyplot as plt\n",
    "\n",
    "x_val=range(len(size))\n",
    "labels=size\n",
    "plt.bar(x_val, times, align='center')\n",
    "plt.xticks(x_val, labels, rotation = 90)\n",
    "plt.show()"
   ]
  },
  {
   "cell_type": "code",
   "execution_count": 9,
   "metadata": {
    "collapsed": false
   },
   "outputs": [],
   "source": [
    "smallest=0\n",
    "if smallest is \"\" :\n",
    "    smallest = value\n",
    "    print hehe"
   ]
  },
  {
   "cell_type": "raw",
   "metadata": {},
   "source": [
    "\n",
    "5.2 Write a program that repeatedly prompts a user for integer numbers until the user enters 'done'. Once 'done' is entered, print out the largest and smallest of the numbers. If the user enters anything other than a valid number catch it with a try/except and put out an appropriate message and ignore the number. Enter the numbers from the book for problem 5.1 and Match the desired output as shown. "
   ]
  },
  {
   "cell_type": "code",
   "execution_count": 2,
   "metadata": {
    "collapsed": false
   },
   "outputs": [
    {
     "name": "stdout",
     "output_type": "stream",
     "text": [
      "Enter a grade in range from 0.0 to 1.0: 5\n",
      "Enter a grade in range from 0.0 to 1.0: -3\n",
      "Enter a grade in range from 0.0 to 1.0: 20\n",
      "Enter a grade in range from 0.0 to 1.0: 25\n",
      "Enter a grade in range from 0.0 to 1.0: dlksfjskl\n",
      "Invalid input\n",
      "Enter a grade in range from 0.0 to 1.0: 30\n",
      "Enter a grade in range from 0.0 to 1.0: done\n",
      "Maximum 30.0\n",
      "Minimum -3.0\n"
     ]
    }
   ],
   "source": [
    "largest = None\n",
    "smallest = float(\"inf\")\n",
    "while True:\n",
    "    num=raw_input(\"Enter a grade in range from 0.0 to 1.0: \")\n",
    "    if num=='done':break\n",
    "    try:\n",
    "        num=float(num)\n",
    "    except:\n",
    "        print \"Invalid input\"\n",
    "        continue\n",
    "        \n",
    "    if num > largest:\n",
    "        largest=num\n",
    "    if num<smallest:\n",
    "        smallest=num\n",
    "\n",
    "print \"Maximum\", largest\n",
    "print \"Minimum\", smallest"
   ]
  },
  {
   "cell_type": "markdown",
   "metadata": {
    "collapsed": true
   },
   "source": [
    "### largest so far"
   ]
  },
  {
   "cell_type": "code",
   "execution_count": 4,
   "metadata": {
    "collapsed": false
   },
   "outputs": [
    {
     "name": "stdout",
     "output_type": "stream",
     "text": [
      "before None\n",
      "9 9\n",
      "41 41\n",
      "41 12\n",
      "41 3\n",
      "74 74\n",
      "74 15\n",
      "After 74\n"
     ]
    }
   ],
   "source": [
    "largest_so_far=None\n",
    "print(\"before\", largest_so_far)\n",
    "for the_num in [9, 41, 12, 3, 74, 15]:\n",
    "    if largest_so_far is None:\n",
    "        largest_so_far=the_num\n",
    "    elif the_num > largest_so_far:\n",
    "        largest_so_far=the_num\n",
    "    print(largest_so_far, the_num)\n",
    "print(\"After\", largest_so_far)"
   ]
  },
  {
   "cell_type": "markdown",
   "metadata": {},
   "source": []
  },
  {
   "cell_type": "markdown",
   "metadata": {},
   "source": [
    "### smallest so far"
   ]
  },
  {
   "cell_type": "code",
   "execution_count": 6,
   "metadata": {
    "collapsed": false
   },
   "outputs": [
    {
     "name": "stdout",
     "output_type": "stream",
     "text": [
      "before 74\n",
      "9 9\n",
      "9 41\n",
      "9 12\n",
      "3 3\n",
      "3 74\n",
      "3 15\n",
      "After 3\n"
     ]
    }
   ],
   "source": [
    "smallest_so_far=None\n",
    "print(\"before\", largest_so_far)\n",
    "for the_num in [9, 41, 12, 3, 74, 15]:\n",
    "    if smallest_so_far is None:\n",
    "        smallest_so_far=the_num\n",
    "    elif the_num < smallest_so_far:\n",
    "        smallest_so_far=the_num\n",
    "    print(smallest_so_far, the_num)\n",
    "print(\"After\", smallest_so_far)"
   ]
  },
  {
   "cell_type": "markdown",
   "metadata": {},
   "source": [
    "5.2 Write a program that repeatedly prompts a user for integer numbers until the user enters 'done'. Once 'done' is entered, print out the largest and smallest of the numbers. If the user enters anything other than a valid number catch it with a try/except and put out an appropriate message and ignore the number. Enter the numbers from the book for problem 5.1 and Match the desired output as shown. "
   ]
  },
  {
   "cell_type": "code",
   "execution_count": 9,
   "metadata": {
    "collapsed": false
   },
   "outputs": [
    {
     "name": "stdout",
     "output_type": "stream",
     "text": [
      "Enter a number: 5\n",
      "Enter a number: 25\n",
      "Enter a number: hehe\n",
      "Non-numerical value entered\n",
      "Enter a number: 35\n",
      "Enter a number: -20\n",
      "Enter a number: 0.23\n",
      "Enter a number: doen\n",
      "Non-numerical value entered\n",
      "Enter a number: done\n",
      "Maximum 35.0\n",
      "Minimum -20.0\n"
     ]
    }
   ],
   "source": [
    "largest = None\n",
    "smallest = None\n",
    "while True:\n",
    "    num = input(\"Enter a number: \")\n",
    "    if num == \"done\" : break\n",
    "    #print(num)\n",
    "    try:\n",
    "        num=float(num)\n",
    "    except:\n",
    "        print(\"Non-numerical value entered\")\n",
    "        continue\n",
    "    if (smallest is None) or (largest is None):\n",
    "        largest=num\n",
    "        smallest=num\n",
    "    elif num > largest:\n",
    "        largest=num\n",
    "    elif num<smallest:\n",
    "        smallest=num\n",
    "\n",
    "print(\"Maximum\", largest)\n",
    "print(\"Minimum\", smallest)"
   ]
  },
  {
   "cell_type": "code",
   "execution_count": null,
   "metadata": {
    "collapsed": true
   },
   "outputs": [],
   "source": []
  }
 ],
 "metadata": {
  "anaconda-cloud": {},
  "kernelspec": {
   "display_name": "Python [conda env:python3]",
   "language": "python",
   "name": "conda-env-python3-py"
  },
  "language_info": {
   "codemirror_mode": {
    "name": "ipython",
    "version": 3
   },
   "file_extension": ".py",
   "mimetype": "text/x-python",
   "name": "python",
   "nbconvert_exporter": "python",
   "pygments_lexer": "ipython3",
   "version": "3.5.2"
  }
 },
 "nbformat": 4,
 "nbformat_minor": 0
}
