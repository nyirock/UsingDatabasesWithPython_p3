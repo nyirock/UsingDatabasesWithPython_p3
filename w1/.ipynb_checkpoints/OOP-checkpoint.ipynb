{
 "cells": [
  {
   "cell_type": "markdown",
   "metadata": {},
   "source": [
    "# Object oriented programming"
   ]
  },
  {
   "cell_type": "code",
   "execution_count": 1,
   "metadata": {
    "collapsed": true
   },
   "outputs": [],
   "source": [
    "class PartyAnimal:\n",
    "    x=0\n",
    "    \n",
    "    def party(self):\n",
    "        self.x=self.x+1\n",
    "        print \"So far\", self.x"
   ]
  },
  {
   "cell_type": "code",
   "execution_count": 2,
   "metadata": {
    "collapsed": false
   },
   "outputs": [
    {
     "name": "stdout",
     "output_type": "stream",
     "text": [
      "Type <type 'instance'>\n",
      "Dir ['__doc__', '__module__', 'party', 'x']\n",
      "So far 1\n",
      "So far 2\n",
      "So far 3\n"
     ]
    }
   ],
   "source": [
    "an=PartyAnimal()\n",
    "print \"Type\", type(an)\n",
    "print \"Dir\", dir(an)\n",
    "\n",
    "an.party()\n",
    "an.party()\n",
    "an.party()"
   ]
  },
  {
   "cell_type": "markdown",
   "metadata": {},
   "source": [
    "## Object lifecycle"
   ]
  },
  {
   "cell_type": "code",
   "execution_count": 17,
   "metadata": {
    "collapsed": true
   },
   "outputs": [],
   "source": [
    "class PartyAnimal:\n",
    "    x=0 \n",
    "    def __init__(self):\n",
    "        print \"I am constructed\"\n",
    "    def party(self):\n",
    "        self.x=self.x+1\n",
    "        print \"So far\", self.x        \n",
    "    def __del__(self):\n",
    "        print \"I am destructed\""
   ]
  },
  {
   "cell_type": "code",
   "execution_count": 18,
   "metadata": {
    "collapsed": false,
    "scrolled": false
   },
   "outputs": [
    {
     "name": "stdout",
     "output_type": "stream",
     "text": [
      "I am constructed\n",
      "I am destructed\n",
      "So far 1\n",
      "So far 2\n",
      "So far 3\n"
     ]
    }
   ],
   "source": [
    "an=PartyAnimal()\n",
    "\n",
    "an.party()\n",
    "\n",
    "an.party()\n",
    "\n",
    "an.party()"
   ]
  },
  {
   "cell_type": "markdown",
   "metadata": {},
   "source": [
    "## Constructrors"
   ]
  },
  {
   "cell_type": "code",
   "execution_count": 19,
   "metadata": {
    "collapsed": false
   },
   "outputs": [
    {
     "name": "stdout",
     "output_type": "stream",
     "text": [
      "Sally constructed\n",
      "Sally party count 1\n",
      "Jim constructed\n",
      "Jim party count 1\n",
      "Sally party count 2\n"
     ]
    }
   ],
   "source": [
    "class PartyAnimal:\n",
    "    x=0\n",
    "    name=\"\"\n",
    "    \n",
    "    def __init__(self,nam):\n",
    "        self.name=nam\n",
    "        print self.name, \"constructed\"\n",
    "        \n",
    "    def party(self):\n",
    "        self.x=self.x+1\n",
    "        print self.name,\"party count\",self.x\n",
    "        \n",
    "s=PartyAnimal(\"Sally\")\n",
    "s.party()\n",
    "\n",
    "j=PartyAnimal(\"Jim\")\n",
    "j.party()\n",
    "s.party()"
   ]
  },
  {
   "cell_type": "markdown",
   "metadata": {},
   "source": [
    "## Inheritance"
   ]
  },
  {
   "cell_type": "code",
   "execution_count": 20,
   "metadata": {
    "collapsed": true
   },
   "outputs": [],
   "source": [
    "class PartyAnimal:\n",
    "    x=0\n",
    "    name=\"\"\n",
    "    \n",
    "    def __init__(self,nam):\n",
    "        self.name=nam\n",
    "        print self.name, \"constructed\"\n",
    "        \n",
    "    def party(self):\n",
    "        self.x=self.x+1\n",
    "        print self.name,\"party count\",self.x\n",
    "        \n",
    "class FootballFan(PartyAnimal):\n",
    "    points=0\n",
    "    def touchdown(self):\n",
    "        self.points=self.points+7\n",
    "        self.party()\n",
    "        print self.name, \"points\", self.points"
   ]
  },
  {
   "cell_type": "code",
   "execution_count": 21,
   "metadata": {
    "collapsed": false
   },
   "outputs": [
    {
     "name": "stdout",
     "output_type": "stream",
     "text": [
      "Sally constructed\n"
     ]
    }
   ],
   "source": [
    "s=PartyAnimal(\"Sally\")"
   ]
  },
  {
   "cell_type": "code",
   "execution_count": 22,
   "metadata": {
    "collapsed": false
   },
   "outputs": [
    {
     "name": "stdout",
     "output_type": "stream",
     "text": [
      "Sally party count 1\n"
     ]
    }
   ],
   "source": [
    "s.party()"
   ]
  },
  {
   "cell_type": "code",
   "execution_count": 23,
   "metadata": {
    "collapsed": false
   },
   "outputs": [
    {
     "name": "stdout",
     "output_type": "stream",
     "text": [
      "Jim constructed\n"
     ]
    }
   ],
   "source": [
    "j=FootballFan(\"Jim\")"
   ]
  },
  {
   "cell_type": "code",
   "execution_count": 24,
   "metadata": {
    "collapsed": false
   },
   "outputs": [
    {
     "name": "stdout",
     "output_type": "stream",
     "text": [
      "Jim party count 1\n"
     ]
    }
   ],
   "source": [
    "j.party()"
   ]
  },
  {
   "cell_type": "code",
   "execution_count": 25,
   "metadata": {
    "collapsed": false
   },
   "outputs": [
    {
     "name": "stdout",
     "output_type": "stream",
     "text": [
      "Jim party count 2\n",
      "Jim points 7\n"
     ]
    }
   ],
   "source": [
    "j.touchdown()"
   ]
  },
  {
   "cell_type": "code",
   "execution_count": null,
   "metadata": {
    "collapsed": true
   },
   "outputs": [],
   "source": []
  }
 ],
 "metadata": {
  "kernelspec": {
   "display_name": "Python 2",
   "language": "python",
   "name": "python2"
  },
  "language_info": {
   "codemirror_mode": {
    "name": "ipython",
    "version": 2
   },
   "file_extension": ".py",
   "mimetype": "text/x-python",
   "name": "python",
   "nbconvert_exporter": "python",
   "pygments_lexer": "ipython2",
   "version": "2.7.10"
  }
 },
 "nbformat": 4,
 "nbformat_minor": 0
}
