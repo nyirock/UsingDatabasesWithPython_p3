{
 "cells": [
  {
   "cell_type": "markdown",
   "metadata": {},
   "source": [
    "# Week1, Chapter6 Strings"
   ]
  },
  {
   "cell_type": "code",
   "execution_count": 1,
   "metadata": {
    "collapsed": true
   },
   "outputs": [],
   "source": [
    "fruit='banana'"
   ]
  },
  {
   "cell_type": "code",
   "execution_count": 2,
   "metadata": {
    "collapsed": true
   },
   "outputs": [],
   "source": [
    "letter=fruit[1]"
   ]
  },
  {
   "cell_type": "code",
   "execution_count": 3,
   "metadata": {
    "collapsed": false
   },
   "outputs": [
    {
     "data": {
      "text/plain": [
       "'a'"
      ]
     },
     "execution_count": 3,
     "metadata": {},
     "output_type": "execute_result"
    }
   ],
   "source": [
    "letter"
   ]
  },
  {
   "cell_type": "code",
   "execution_count": 6,
   "metadata": {
    "collapsed": false
   },
   "outputs": [
    {
     "name": "stdout",
     "output_type": "stream",
     "text": [
      "6\n"
     ]
    }
   ],
   "source": [
    "print(len(fruit))"
   ]
  },
  {
   "cell_type": "code",
   "execution_count": 7,
   "metadata": {
    "collapsed": false
   },
   "outputs": [
    {
     "name": "stdout",
     "output_type": "stream",
     "text": [
      "0 b\n",
      "1 a\n",
      "2 n\n",
      "3 a\n",
      "4 n\n",
      "5 a\n"
     ]
    }
   ],
   "source": [
    "fruit = 'banana'\n",
    "index = 0\n",
    "while (index < len(fruit)):\n",
    "    letter=fruit[index]\n",
    "    print(index, letter)\n",
    "    index=index +1"
   ]
  },
  {
   "cell_type": "code",
   "execution_count": 8,
   "metadata": {
    "collapsed": false
   },
   "outputs": [
    {
     "data": {
      "text/plain": [
       "'ananab'"
      ]
     },
     "execution_count": 8,
     "metadata": {},
     "output_type": "execute_result"
    }
   ],
   "source": [
    "fruit = 'banana'\n",
    "index = 0\n",
    "tiurf=''\n",
    "while (index < len(fruit)):\n",
    "    tiurf=fruit[index]+tiurf\n",
    "    index+=1\n",
    "tiurf"
   ]
  },
  {
   "cell_type": "code",
   "execution_count": 19,
   "metadata": {
    "collapsed": false
   },
   "outputs": [
    {
     "name": "stdout",
     "output_type": "stream",
     "text": [
      "Wall time: 8.69 s\n"
     ]
    }
   ],
   "source": [
    "%%time\n",
    "fruit = 'banana'*100000\n",
    "index = 0\n",
    "tiurf=''\n",
    "while (index < len(fruit)):\n",
    "    tiurf=fruit[index]+tiurf\n",
    "    index+=1\n",
    "#print(tiurf)"
   ]
  },
  {
   "cell_type": "code",
   "execution_count": null,
   "metadata": {
    "collapsed": true
   },
   "outputs": [],
   "source": []
  },
  {
   "cell_type": "code",
   "execution_count": 20,
   "metadata": {
    "collapsed": false
   },
   "outputs": [
    {
     "name": "stdout",
     "output_type": "stream",
     "text": [
      "Wall time: 1 ms\n"
     ]
    }
   ],
   "source": [
    "%%time\n",
    "fruit = 'banana'*100000\n",
    "index = 0\n",
    "tiurf=fruit[::-1]\n",
    "#print(tiurf)"
   ]
  },
  {
   "cell_type": "code",
   "execution_count": null,
   "metadata": {
    "collapsed": true
   },
   "outputs": [],
   "source": [
    "fruit='banana'\n",
    "pos=fruit.find(\"na\")\n",
    "print(pos)"
   ]
  },
  {
   "cell_type": "code",
   "execution_count": null,
   "metadata": {
    "collapsed": true
   },
   "outputs": [],
   "source": []
  },
  {
   "cell_type": "code",
   "execution_count": null,
   "metadata": {
    "collapsed": true
   },
   "outputs": [],
   "source": []
  },
  {
   "cell_type": "code",
   "execution_count": null,
   "metadata": {
    "collapsed": true
   },
   "outputs": [],
   "source": []
  },
  {
   "cell_type": "code",
   "execution_count": null,
   "metadata": {
    "collapsed": true
   },
   "outputs": [],
   "source": []
  },
  {
   "cell_type": "code",
   "execution_count": null,
   "metadata": {
    "collapsed": true
   },
   "outputs": [],
   "source": []
  },
  {
   "cell_type": "code",
   "execution_count": 14,
   "metadata": {
    "collapsed": false
   },
   "outputs": [],
   "source": [
    "txt=\"Monty Python\""
   ]
  },
  {
   "cell_type": "code",
   "execution_count": 15,
   "metadata": {
    "collapsed": false
   },
   "outputs": [
    {
     "name": "stdout",
     "output_type": "stream",
     "text": [
      "Mont P Python\n"
     ]
    }
   ],
   "source": [
    "print txt[0:4], txt[6:7],txt[6:20]"
   ]
  },
  {
   "cell_type": "code",
   "execution_count": 19,
   "metadata": {
    "collapsed": false
   },
   "outputs": [
    {
     "name": "stdout",
     "output_type": "stream",
     "text": [
      "MnyPto\n",
      "ot\n"
     ]
    }
   ],
   "source": [
    "print txt[::2]\n",
    "print txt[1:5:2]#every second character"
   ]
  },
  {
   "cell_type": "code",
   "execution_count": 20,
   "metadata": {
    "collapsed": false
   },
   "outputs": [
    {
     "data": {
      "text/plain": [
       "True"
      ]
     },
     "execution_count": 20,
     "metadata": {},
     "output_type": "execute_result"
    }
   ],
   "source": [
    "'n' in fruit"
   ]
  },
  {
   "cell_type": "code",
   "execution_count": 21,
   "metadata": {
    "collapsed": false
   },
   "outputs": [
    {
     "data": {
      "text/plain": [
       "False"
      ]
     },
     "execution_count": 21,
     "metadata": {},
     "output_type": "execute_result"
    }
   ],
   "source": [
    "'m' in fruit"
   ]
  },
  {
   "cell_type": "code",
   "execution_count": 22,
   "metadata": {
    "collapsed": false
   },
   "outputs": [
    {
     "data": {
      "text/plain": [
       "False"
      ]
     },
     "execution_count": 22,
     "metadata": {},
     "output_type": "execute_result"
    }
   ],
   "source": [
    "'in' in fruit"
   ]
  },
  {
   "cell_type": "markdown",
   "metadata": {},
   "source": [
    "## String Library"
   ]
  },
  {
   "cell_type": "code",
   "execution_count": 23,
   "metadata": {
    "collapsed": true
   },
   "outputs": [],
   "source": [
    "greet = 'Hello bob'"
   ]
  },
  {
   "cell_type": "code",
   "execution_count": 3,
   "metadata": {
    "collapsed": false
   },
   "outputs": [
    {
     "name": "stdout",
     "output_type": "stream",
     "text": [
      "2\n",
      "4\n",
      "-1\n"
     ]
    }
   ],
   "source": [
    "fruit=\"banana\"\n",
    "pos=fruit.find('na')\n",
    "print(pos)\n",
    "pos=fruit.find('na',pos+1)\n",
    "print(pos)\n",
    "pos=fruit.find('na',pos+1)\n",
    "print(pos)"
   ]
  },
  {
   "cell_type": "code",
   "execution_count": 42,
   "metadata": {
    "collapsed": false
   },
   "outputs": [
    {
     "name": "stdout",
     "output_type": "stream",
     "text": [
      "Wall time: 527 ms\n"
     ]
    }
   ],
   "source": [
    "%%time\n",
    "text='banana'*10000000\n",
    "text_lst=list(text)\n",
    "text_lst"
   ]
  },
  {
   "cell_type": "code",
   "execution_count": 43,
   "metadata": {
    "collapsed": false
   },
   "outputs": [
    {
     "name": "stdout",
     "output_type": "stream",
     "text": [
      "Wall time: 2.6 s\n"
     ]
    }
   ],
   "source": [
    "%%time\n",
    "text='banana'*10000000\n",
    "text_lst=[i for i in text]\n",
    "text_lst"
   ]
  },
  {
   "cell_type": "code",
   "execution_count": 44,
   "metadata": {
    "collapsed": false
   },
   "outputs": [
    {
     "name": "stdout",
     "output_type": "stream",
     "text": [
      "Wall time: 26 ms\n"
     ]
    }
   ],
   "source": [
    "%%time\n",
    "text='banana'*10000000\n",
    "text_gen=(i for i in text)\n",
    "text_gen"
   ]
  },
  {
   "cell_type": "code",
   "execution_count": 30,
   "metadata": {
    "collapsed": false
   },
   "outputs": [
    {
     "name": "stdout",
     "output_type": "stream",
     "text": [
      "Wall time: 62 ms\n"
     ]
    }
   ],
   "source": [
    "%%time\n",
    "fruit='banana'*100000\n",
    "pos=fruit.find('na')\n",
    "#print(pos)\n",
    "while(pos!=-1):\n",
    "    pos=fruit.find('na',pos+1)\n",
    "    #print(pos)"
   ]
  },
  {
   "cell_type": "code",
   "execution_count": null,
   "metadata": {
    "collapsed": true
   },
   "outputs": [],
   "source": []
  },
  {
   "cell_type": "code",
   "execution_count": null,
   "metadata": {
    "collapsed": true
   },
   "outputs": [],
   "source": []
  },
  {
   "cell_type": "code",
   "execution_count": 67,
   "metadata": {
    "collapsed": false
   },
   "outputs": [
    {
     "name": "stdout",
     "output_type": "stream",
     "text": [
      "200000\n",
      "Wall time: 340 ms\n"
     ]
    }
   ],
   "source": [
    "%%time\n",
    "text='banana'*100000\n",
    "pattern='ana'\n",
    "pos=0\n",
    "i=0\n",
    "count=0\n",
    "#print(pos)\n",
    "while(i<(len(text)-len(pattern)+1)):\n",
    "    if(text[i:i+len(pattern)]==pattern):\n",
    "        pos=i\n",
    "        count+=1\n",
    "        #print(pos)\n",
    "    i+=1\n",
    "    #print(i)\n",
    "    #print(pos)\n",
    "print(count)"
   ]
  },
  {
   "cell_type": "code",
   "execution_count": 68,
   "metadata": {
    "collapsed": false
   },
   "outputs": [
    {
     "data": {
      "text/plain": [
       "100000"
      ]
     },
     "execution_count": 68,
     "metadata": {},
     "output_type": "execute_result"
    }
   ],
   "source": [
    "text.count(pattern)"
   ]
  },
  {
   "cell_type": "code",
   "execution_count": 62,
   "metadata": {
    "collapsed": false
   },
   "outputs": [
    {
     "data": {
      "text/plain": [
       "599998"
      ]
     },
     "execution_count": 62,
     "metadata": {},
     "output_type": "execute_result"
    }
   ],
   "source": [
    "pos"
   ]
  },
  {
   "cell_type": "code",
   "execution_count": 50,
   "metadata": {
    "collapsed": false
   },
   "outputs": [
    {
     "name": "stdout",
     "output_type": "stream",
     "text": [
      "Wall time: 33.8 s\n"
     ]
    }
   ],
   "source": [
    "%%time\n",
    "text=['b','a','n','a','n','a']\n",
    "pattern=['n','a']\n",
    "pos=0\n",
    "i=0\n",
    "#print(pos)\n",
    "while(i<(len(text_lst)-len(pattern)+1)):\n",
    "    if(text_lst[i:i+len(pattern)]==pattern):\n",
    "        pos=i\n",
    "        #print(pos)\n",
    "    i+=1\n",
    "    #print(i)\n",
    "    #print(pos)"
   ]
  },
  {
   "cell_type": "code",
   "execution_count": null,
   "metadata": {
    "collapsed": true
   },
   "outputs": [],
   "source": []
  },
  {
   "cell_type": "code",
   "execution_count": 51,
   "metadata": {
    "collapsed": false
   },
   "outputs": [
    {
     "name": "stdout",
     "output_type": "stream",
     "text": [
      "Wall time: 19.6 s\n"
     ]
    }
   ],
   "source": [
    "%%time\n",
    "text=['b','a','n','a','n','a']\n",
    "pattern=['n','a']\n",
    "pos=0\n",
    "i=0\n",
    "#print(pos)\n",
    "for i in range(len(text_lst)):\n",
    "    if(text_lst[i:i+len(pattern)]==pattern):\n",
    "        pos=i\n",
    "    #print(pos)\n",
    "    #print(i)\n",
    "    #print(pos)"
   ]
  },
  {
   "cell_type": "code",
   "execution_count": 60,
   "metadata": {
    "collapsed": false
   },
   "outputs": [
    {
     "name": "stdout",
     "output_type": "stream",
     "text": [
      "59999998\n"
     ]
    }
   ],
   "source": [
    "print(pos)"
   ]
  },
  {
   "cell_type": "code",
   "execution_count": 70,
   "metadata": {
    "collapsed": false
   },
   "outputs": [
    {
     "data": {
      "text/plain": [
       "'xxxxxxxbananaxxxxxxx'"
      ]
     },
     "execution_count": 70,
     "metadata": {},
     "output_type": "execute_result"
    }
   ],
   "source": [
    "fruit='banana'\n",
    "fruit.center(20,'x')"
   ]
  },
  {
   "cell_type": "code",
   "execution_count": null,
   "metadata": {
    "collapsed": true
   },
   "outputs": [],
   "source": []
  },
  {
   "cell_type": "code",
   "execution_count": 59,
   "metadata": {
    "collapsed": false
   },
   "outputs": [
    {
     "data": {
      "text/plain": [
       "2"
      ]
     },
     "execution_count": 59,
     "metadata": {},
     "output_type": "execute_result"
    }
   ],
   "source": [
    "fruit.count('na')"
   ]
  },
  {
   "cell_type": "code",
   "execution_count": 32,
   "metadata": {
    "collapsed": false
   },
   "outputs": [
    {
     "name": "stdout",
     "output_type": "stream",
     "text": [
      "True\n"
     ]
    }
   ],
   "source": [
    "text=['b','a','n','a','n','a']\n",
    "pattern=['n','a']\n",
    "if(text[2:4]==pattern):\n",
    "    print('True')"
   ]
  },
  {
   "cell_type": "code",
   "execution_count": null,
   "metadata": {
    "collapsed": true
   },
   "outputs": [],
   "source": []
  },
  {
   "cell_type": "code",
   "execution_count": 24,
   "metadata": {
    "collapsed": true
   },
   "outputs": [],
   "source": [
    "zap = greet.lower()"
   ]
  },
  {
   "cell_type": "code",
   "execution_count": 15,
   "metadata": {
    "collapsed": false
   },
   "outputs": [
    {
     "data": {
      "text/plain": [
       "'bana'"
      ]
     },
     "execution_count": 15,
     "metadata": {},
     "output_type": "execute_result"
    }
   ],
   "source": [
    "text='banana'\n",
    "pattern='na'\n",
    "\n",
    "text[:len(text)-len(pattern)]"
   ]
  },
  {
   "cell_type": "code",
   "execution_count": 39,
   "metadata": {
    "collapsed": false
   },
   "outputs": [
    {
     "name": "stdout",
     "output_type": "stream",
     "text": [
      "hi there haha Hehe\n"
     ]
    }
   ],
   "source": [
    "print '%s %s %s' %(\"Hi There\".lower(), 'haha', \"Hehe\")"
   ]
  },
  {
   "cell_type": "code",
   "execution_count": 40,
   "metadata": {
    "collapsed": false
   },
   "outputs": [
    {
     "data": {
      "text/plain": [
       "['__add__',\n",
       " '__class__',\n",
       " '__contains__',\n",
       " '__delattr__',\n",
       " '__doc__',\n",
       " '__eq__',\n",
       " '__format__',\n",
       " '__ge__',\n",
       " '__getattribute__',\n",
       " '__getitem__',\n",
       " '__getnewargs__',\n",
       " '__getslice__',\n",
       " '__gt__',\n",
       " '__hash__',\n",
       " '__init__',\n",
       " '__le__',\n",
       " '__len__',\n",
       " '__lt__',\n",
       " '__mod__',\n",
       " '__mul__',\n",
       " '__ne__',\n",
       " '__new__',\n",
       " '__reduce__',\n",
       " '__reduce_ex__',\n",
       " '__repr__',\n",
       " '__rmod__',\n",
       " '__rmul__',\n",
       " '__setattr__',\n",
       " '__sizeof__',\n",
       " '__str__',\n",
       " '__subclasshook__',\n",
       " '_formatter_field_name_split',\n",
       " '_formatter_parser',\n",
       " 'capitalize',\n",
       " 'center',\n",
       " 'count',\n",
       " 'decode',\n",
       " 'encode',\n",
       " 'endswith',\n",
       " 'expandtabs',\n",
       " 'find',\n",
       " 'format',\n",
       " 'index',\n",
       " 'isalnum',\n",
       " 'isalpha',\n",
       " 'isdigit',\n",
       " 'islower',\n",
       " 'isspace',\n",
       " 'istitle',\n",
       " 'isupper',\n",
       " 'join',\n",
       " 'ljust',\n",
       " 'lower',\n",
       " 'lstrip',\n",
       " 'partition',\n",
       " 'replace',\n",
       " 'rfind',\n",
       " 'rindex',\n",
       " 'rjust',\n",
       " 'rpartition',\n",
       " 'rsplit',\n",
       " 'rstrip',\n",
       " 'split',\n",
       " 'splitlines',\n",
       " 'startswith',\n",
       " 'strip',\n",
       " 'swapcase',\n",
       " 'title',\n",
       " 'translate',\n",
       " 'upper',\n",
       " 'zfill']"
      ]
     },
     "execution_count": 40,
     "metadata": {},
     "output_type": "execute_result"
    }
   ],
   "source": [
    "dir(type(greet))"
   ]
  },
  {
   "cell_type": "code",
   "execution_count": 41,
   "metadata": {
    "collapsed": false
   },
   "outputs": [
    {
     "data": {
      "text/plain": [
       "2"
      ]
     },
     "execution_count": 41,
     "metadata": {},
     "output_type": "execute_result"
    }
   ],
   "source": [
    "greet.index('llo')"
   ]
  },
  {
   "cell_type": "code",
   "execution_count": null,
   "metadata": {
    "collapsed": true
   },
   "outputs": [],
   "source": []
  },
  {
   "cell_type": "code",
   "execution_count": 74,
   "metadata": {
    "collapsed": false
   },
   "outputs": [
    {
     "data": {
      "text/plain": [
       "True"
      ]
     },
     "execution_count": 74,
     "metadata": {},
     "output_type": "execute_result"
    }
   ],
   "source": [
    "line='Please have a nice day'\n",
    "line.startswith('Pl')"
   ]
  },
  {
   "cell_type": "code",
   "execution_count": 75,
   "metadata": {
    "collapsed": false
   },
   "outputs": [
    {
     "data": {
      "text/plain": [
       "False"
      ]
     },
     "execution_count": 75,
     "metadata": {},
     "output_type": "execute_result"
    }
   ],
   "source": [
    "line='Please have a nice day'\n",
    "line.startswith('l')"
   ]
  },
  {
   "cell_type": "code",
   "execution_count": null,
   "metadata": {
    "collapsed": true
   },
   "outputs": [],
   "source": []
  },
  {
   "cell_type": "code",
   "execution_count": null,
   "metadata": {
    "collapsed": true
   },
   "outputs": [],
   "source": []
  },
  {
   "cell_type": "code",
   "execution_count": 42,
   "metadata": {
    "collapsed": false
   },
   "outputs": [
    {
     "data": {
      "text/plain": [
       "'uct'"
      ]
     },
     "execution_count": 42,
     "metadata": {},
     "output_type": "execute_result"
    }
   ],
   "source": [
    "x = 'From marquard@uct.ac.za'\n",
    "x[14:17]"
   ]
  },
  {
   "cell_type": "code",
   "execution_count": 43,
   "metadata": {
    "collapsed": false
   },
   "outputs": [
    {
     "data": {
      "text/plain": [
       "12"
      ]
     },
     "execution_count": 43,
     "metadata": {},
     "output_type": "execute_result"
    }
   ],
   "source": [
    "data = 'From stephen.marquard@uct.ac.za Sat Jan  5 09:14:16 2008'\n",
    "data.find('.')\n"
   ]
  },
  {
   "cell_type": "code",
   "execution_count": 95,
   "metadata": {
    "collapsed": false
   },
   "outputs": [
    {
     "data": {
      "text/plain": [
       "'uct.ac.za'"
      ]
     },
     "execution_count": 95,
     "metadata": {},
     "output_type": "execute_result"
    }
   ],
   "source": [
    "#matches not just a space by any next whitespace character after \"@\"\n",
    "import re\n",
    "\n",
    "data[data.find('@')+1:data.find('@')+re.search('\\s',data[data.find('@'):]).start()]"
   ]
  },
  {
   "cell_type": "code",
   "execution_count": 93,
   "metadata": {
    "collapsed": false
   },
   "outputs": [
    {
     "data": {
      "text/plain": [
       "10"
      ]
     },
     "execution_count": 93,
     "metadata": {},
     "output_type": "execute_result"
    }
   ],
   "source": [
    "re.search('\\s',data[data.find('@'):]).start()"
   ]
  },
  {
   "cell_type": "code",
   "execution_count": 84,
   "metadata": {
    "collapsed": false
   },
   "outputs": [
    {
     "data": {
      "text/plain": [
       "'uct.ac.za Sat Jan  5 09:14:16 2008'"
      ]
     },
     "execution_count": 84,
     "metadata": {},
     "output_type": "execute_result"
    }
   ],
   "source": [
    "data[22:]"
   ]
  },
  {
   "cell_type": "code",
   "execution_count": 77,
   "metadata": {
    "collapsed": false
   },
   "outputs": [
    {
     "data": {
      "text/plain": [
       "'uct.ac.za'"
      ]
     },
     "execution_count": 77,
     "metadata": {},
     "output_type": "execute_result"
    }
   ],
   "source": [
    "data = 'From stephen.marquard@uct.ac.za Sat Jan  5 09:14:16 2008'\n",
    "data[22:31]"
   ]
  },
  {
   "cell_type": "code",
   "execution_count": 79,
   "metadata": {
    "collapsed": false
   },
   "outputs": [
    {
     "data": {
      "text/plain": [
       "'uct.ac.za'"
      ]
     },
     "execution_count": 79,
     "metadata": {},
     "output_type": "execute_result"
    }
   ],
   "source": [
    "data[data.find('@')+1:data.find(' ',data.find('@'))]"
   ]
  },
  {
   "cell_type": "code",
   "execution_count": 45,
   "metadata": {
    "collapsed": false
   },
   "outputs": [
    {
     "data": {
      "text/plain": [
       "'.ma'"
      ]
     },
     "execution_count": 45,
     "metadata": {},
     "output_type": "execute_result"
    }
   ],
   "source": [
    "data[12:15]"
   ]
  },
  {
   "cell_type": "raw",
   "metadata": {},
   "source": [
    "6.5 Write code using find() and string slicing (see section 6.10) to extract the number at the end of the line below. Convert the extracted value to a floating point number and print it out."
   ]
  },
  {
   "cell_type": "code",
   "execution_count": 115,
   "metadata": {
    "collapsed": false
   },
   "outputs": [
    {
     "data": {
      "text/plain": [
       "['.', '0.8475.']"
      ]
     },
     "execution_count": 115,
     "metadata": {},
     "output_type": "execute_result"
    }
   ],
   "source": [
    "text = \"X-DSPAM-Confidence.:    0.8475.\";\n",
    "import re\n",
    "re.findall('[0-9.]+',text)"
   ]
  },
  {
   "cell_type": "code",
   "execution_count": 144,
   "metadata": {
    "collapsed": false
   },
   "outputs": [
    {
     "data": {
      "text/plain": [
       "['.100', '.8475']"
      ]
     },
     "execution_count": 144,
     "metadata": {},
     "output_type": "execute_result"
    }
   ],
   "source": [
    "text = \"X-DSPAM-Confidence:    .100.8475\";\n",
    "import re\n",
    "re.findall('[(0-9)]*[.][(0-9)]*',text)"
   ]
  },
  {
   "cell_type": "code",
   "execution_count": null,
   "metadata": {
    "collapsed": true
   },
   "outputs": [],
   "source": [
    "text = \"X-DSPAM-Confidence:    0.8475\";\n",
    "import re\n",
    "re.findall('[0-9.]+',text)"
   ]
  },
  {
   "cell_type": "code",
   "execution_count": 146,
   "metadata": {
    "collapsed": false
   },
   "outputs": [
    {
     "name": "stdout",
     "output_type": "stream",
     "text": [
      "0.8475\n"
     ]
    }
   ],
   "source": [
    "text = \"X-DSPAM-Confidence:    0.8475\"\n",
    "print(float(text[text.find(\":\")+1:]))"
   ]
  },
  {
   "cell_type": "code",
   "execution_count": 98,
   "metadata": {
    "collapsed": false
   },
   "outputs": [
    {
     "name": "stdout",
     "output_type": "stream",
     "text": [
      "uct\n"
     ]
    }
   ],
   "source": [
    "x = 'From marquard@uct.ac.za'\n",
    "print(x[14:17])"
   ]
  },
  {
   "cell_type": "code",
   "execution_count": 99,
   "metadata": {
    "collapsed": false
   },
   "outputs": [
    {
     "name": "stdout",
     "output_type": "stream",
     "text": [
      ".ma\n"
     ]
    }
   ],
   "source": [
    "data = 'From stephen.marquard@uct.ac.za Sat Jan  5 09:14:16 2008'\n",
    "pos = data.find('.')\n",
    "print(data[pos:pos+3])"
   ]
  },
  {
   "cell_type": "code",
   "execution_count": 101,
   "metadata": {
    "collapsed": false
   },
   "outputs": [],
   "source": [
    "num='0.3'"
   ]
  },
  {
   "cell_type": "code",
   "execution_count": 102,
   "metadata": {
    "collapsed": false
   },
   "outputs": [
    {
     "data": {
      "text/plain": [
       "False"
      ]
     },
     "execution_count": 102,
     "metadata": {},
     "output_type": "execute_result"
    }
   ],
   "source": [
    "num.isdigit()"
   ]
  },
  {
   "cell_type": "markdown",
   "metadata": {},
   "source": [
    "# Chapter 7: Files"
   ]
  },
  {
   "cell_type": "code",
   "execution_count": null,
   "metadata": {
    "collapsed": true
   },
   "outputs": [],
   "source": [
    "text=''\n",
    "\n",
    "with open(\"sample.txt\", \"w\") as text_file:\n",
    "    #print(sample_text*1000000, file=text_file)\n",
    "    print(text, file=text_file)"
   ]
  },
  {
   "cell_type": "code",
   "execution_count": 147,
   "metadata": {
    "collapsed": false
   },
   "outputs": [
    {
     "data": {
      "text/plain": [
       "'Hello\\nWorld!'"
      ]
     },
     "execution_count": 147,
     "metadata": {},
     "output_type": "execute_result"
    }
   ],
   "source": [
    "stuff=\"Hello\\nWorld!\"\n",
    "stuff"
   ]
  },
  {
   "cell_type": "code",
   "execution_count": 148,
   "metadata": {
    "collapsed": false
   },
   "outputs": [
    {
     "name": "stdout",
     "output_type": "stream",
     "text": [
      "Hello\n",
      "World!\n"
     ]
    }
   ],
   "source": [
    "print(stuff)"
   ]
  },
  {
   "cell_type": "code",
   "execution_count": 150,
   "metadata": {
    "collapsed": false
   },
   "outputs": [
    {
     "data": {
      "text/plain": [
       "3"
      ]
     },
     "execution_count": 150,
     "metadata": {},
     "output_type": "execute_result"
    }
   ],
   "source": [
    "stuff='x\\ny'\n",
    "len(stuff)"
   ]
  },
  {
   "cell_type": "code",
   "execution_count": 151,
   "metadata": {
    "collapsed": false
   },
   "outputs": [
    {
     "name": "stdout",
     "output_type": "stream",
     "text": [
      "x\n",
      "y\n"
     ]
    }
   ],
   "source": [
    "print(stuff)"
   ]
  },
  {
   "cell_type": "markdown",
   "metadata": {},
   "source": [
    "### Reading line by line"
   ]
  },
  {
   "cell_type": "code",
   "execution_count": 154,
   "metadata": {
    "collapsed": false
   },
   "outputs": [
    {
     "name": "stdout",
     "output_type": "stream",
     "text": [
      "Line Count: 132045\n"
     ]
    }
   ],
   "source": [
    "xfile=open('mbox.txt','r')\n",
    "count=0\n",
    "for line in xfile:\n",
    "    count+=1\n",
    "print('Line Count:', count)"
   ]
  },
  {
   "cell_type": "markdown",
   "metadata": {},
   "source": [
    "### Reading it all: read puts it into a string"
   ]
  },
  {
   "cell_type": "code",
   "execution_count": 155,
   "metadata": {
    "collapsed": false
   },
   "outputs": [
    {
     "name": "stdout",
     "output_type": "stream",
     "text": [
      "94626\n"
     ]
    }
   ],
   "source": [
    "fhand=open('mbox-short.txt')\n",
    "inp=fhand.read()\n",
    "print(len(inp))"
   ]
  },
  {
   "cell_type": "code",
   "execution_count": 157,
   "metadata": {
    "collapsed": false
   },
   "outputs": [
    {
     "name": "stdout",
     "output_type": "stream",
     "text": [
      "From: stephen.marquard@uct.ac.za\n",
      "From: louis@media.berkeley.edu\n",
      "From: zqian@umich.edu\n",
      "From: rjlowe@iupui.edu\n",
      "From: zqian@umich.edu\n",
      "From: rjlowe@iupui.edu\n",
      "From: cwen@iupui.edu\n",
      "From: cwen@iupui.edu\n",
      "From: gsilver@umich.edu\n",
      "From: gsilver@umich.edu\n",
      "From: zqian@umich.edu\n",
      "From: gsilver@umich.edu\n",
      "From: wagnermr@iupui.edu\n",
      "From: zqian@umich.edu\n",
      "From: antranig@caret.cam.ac.uk\n",
      "From: gopal.ramasammycook@gmail.com\n",
      "From: david.horwitz@uct.ac.za\n",
      "From: david.horwitz@uct.ac.za\n",
      "From: david.horwitz@uct.ac.za\n",
      "From: david.horwitz@uct.ac.za\n",
      "From: stephen.marquard@uct.ac.za\n",
      "From: louis@media.berkeley.edu\n",
      "From: louis@media.berkeley.edu\n",
      "From: ray@media.berkeley.edu\n",
      "From: cwen@iupui.edu\n",
      "From: cwen@iupui.edu\n",
      "From: cwen@iupui.edu\n"
     ]
    }
   ],
   "source": [
    "fhand=open('mbox-short.txt')\n",
    "for line in fhand:\n",
    "    line=line.rstrip()\n",
    "    if line.startswith(\"From:\"):\n",
    "        print(line)"
   ]
  },
  {
   "cell_type": "code",
   "execution_count": 158,
   "metadata": {
    "collapsed": false
   },
   "outputs": [
    {
     "name": "stdout",
     "output_type": "stream",
     "text": [
      "From stephen.marquard@uct.ac.za Sat Jan  5 09:14:16 2008\n",
      "X-Authentication-Warning: nakamura.uits.iupui.edu: apache set sender to stephen.marquard@uct.ac.za using -f\n",
      "From: stephen.marquard@uct.ac.za\n",
      "Author: stephen.marquard@uct.ac.za\n",
      "From david.horwitz@uct.ac.za Fri Jan  4 07:02:32 2008\n",
      "X-Authentication-Warning: nakamura.uits.iupui.edu: apache set sender to david.horwitz@uct.ac.za using -f\n",
      "From: david.horwitz@uct.ac.za\n",
      "Author: david.horwitz@uct.ac.za\n",
      "r39753 | david.horwitz@uct.ac.za | 2008-01-04 13:05:51 +0200 (Fri, 04 Jan 2008) | 1 line\n",
      "From david.horwitz@uct.ac.za Fri Jan  4 06:08:27 2008\n",
      "X-Authentication-Warning: nakamura.uits.iupui.edu: apache set sender to david.horwitz@uct.ac.za using -f\n",
      "From: david.horwitz@uct.ac.za\n",
      "Author: david.horwitz@uct.ac.za\n",
      "From david.horwitz@uct.ac.za Fri Jan  4 04:49:08 2008\n",
      "X-Authentication-Warning: nakamura.uits.iupui.edu: apache set sender to david.horwitz@uct.ac.za using -f\n",
      "From: david.horwitz@uct.ac.za\n",
      "Author: david.horwitz@uct.ac.za\n",
      "From david.horwitz@uct.ac.za Fri Jan  4 04:33:44 2008\n",
      "X-Authentication-Warning: nakamura.uits.iupui.edu: apache set sender to david.horwitz@uct.ac.za using -f\n",
      "From: david.horwitz@uct.ac.za\n",
      "Author: david.horwitz@uct.ac.za\n",
      "From stephen.marquard@uct.ac.za Fri Jan  4 04:07:34 2008\n",
      "X-Authentication-Warning: nakamura.uits.iupui.edu: apache set sender to stephen.marquard@uct.ac.za using -f\n",
      "From: stephen.marquard@uct.ac.za\n",
      "Author: stephen.marquard@uct.ac.za\n"
     ]
    }
   ],
   "source": [
    "fhand=open('mbox-short.txt')\n",
    "for line in fhand:\n",
    "    line=line.rstrip()\n",
    "    if not '@uct.ac.za' in line:\n",
    "        continue\n",
    "    print(line)"
   ]
  },
  {
   "cell_type": "code",
   "execution_count": 161,
   "metadata": {
    "collapsed": false
   },
   "outputs": [
    {
     "name": "stdout",
     "output_type": "stream",
     "text": [
      "Enter the file name: a\n",
      "Could not open the file specified: a\n",
      "I'm here\n"
     ]
    }
   ],
   "source": [
    "fname=input('Enter the file name: ')\n",
    "try:\n",
    "    fhand=open(fname)\n",
    "except:\n",
    "    print(\"Could not open the file specified:\", fname)\n",
    "    fhand=None\n",
    "    \n",
    "count=0\n",
    "if fhand:\n",
    "    for line in fhand:\n",
    "        if line.startswith('Subject:'):\n",
    "            count+=1\n",
    "    print('There were', count, 'subject lines in', fname)\n",
    "    "
   ]
  },
  {
   "cell_type": "markdown",
   "metadata": {},
   "source": [
    " 7.1 Write a program that prompts for a file name, then opens that file and reads through the file, and print the contents of the file in upper case. Use the file words.txt to produce the output below.\n",
    "\n",
    "You can download the sample data at http://www.py4e.com/code3/words.txt"
   ]
  },
  {
   "cell_type": "code",
   "execution_count": 13,
   "metadata": {
    "collapsed": false
   },
   "outputs": [
    {
     "name": "stdout",
     "output_type": "stream",
     "text": [
      "Enter the file name: words.txt\n",
      "WRITING PROGRAMS OR PROGRAMMING IS A VERY CREATIVE\n",
      "AND REWARDING ACTIVITY  YOU CAN WRITE PROGRAMS FOR\n",
      "MANY REASONS RANGING FROM MAKING YOUR LIVING TO SOLVING\n",
      "A DIFFICULT DATA ANALYSIS PROBLEM TO HAVING FUN TO HELPING\n",
      "SOMEONE ELSE SOLVE A PROBLEM  THIS BOOK ASSUMES THAT\n",
      "{\\EM EVERYONE} NEEDS TO KNOW HOW TO PROGRAM AND THAT ONCE\n",
      "YOU KNOW HOW TO PROGRAM, YOU WILL FIGURE OUT WHAT YOU WANT\n",
      "TO DO WITH YOUR NEWFOUND SKILLS\n",
      "\n",
      "WE ARE SURROUNDED IN OUR DAILY LIVES WITH COMPUTERS RANGING\n",
      "FROM LAPTOPS TO CELL PHONES  WE CAN THINK OF THESE COMPUTERS\n",
      "AS OUR PERSONAL ASSISTANTS WHO CAN TAKE CARE OF MANY THINGS\n",
      "ON OUR BEHALF  THE HARDWARE IN OUR CURRENT-DAY COMPUTERS\n",
      "IS ESSENTIALLY BUILT TO CONTINUOUSLY AS US THE QUESTION\n",
      "WHAT WOULD YOU LIKE ME TO DO NEXT\n",
      "\n",
      "OUR COMPUTERS ARE FAST AND HAVE VASTS AMOUNTS OF MEMORY AND \n",
      "COULD BE VERY HELPFUL TO US IF WE ONLY KNEW THE LANGUAGE TO \n",
      "SPEAK TO EXPLAIN TO THE COMPUTER WHAT WE WOULD LIKE IT TO \n",
      "DO NEXT IF WE KNEW THIS LANGUAGE WE COULD TELL THE \n",
      "COMPUTER TO DO TASKS ON OUR BEHALF THAT WERE REPTITIVE  \n",
      "INTERESTINGLY, THE KINDS OF THINGS COMPUTERS CAN DO BEST\n",
      "ARE OFTEN THE KINDS OF THINGS THAT WE HUMANS FIND BORING\n",
      "AND MIND-NUMBING\n"
     ]
    }
   ],
   "source": [
    "fname=input('Enter the file name: ')\n",
    "try:\n",
    "    fhand=open(fname)\n",
    "except:\n",
    "    print(\"Could not open the file specified:\", fname)\n",
    "    fhand=None\n",
    "content=''\n",
    "buffer=''\n",
    "i=0\n",
    "if fhand:\n",
    "    for line in fhand:\n",
    "\n",
    "        line=line.upper()\n",
    "        buffer+=line\n",
    "        if i>5:\n",
    "            content+=buffer\n",
    "            buffer=''\n",
    "        i+=1\n",
    "print(content.strip())\n",
    "        "
   ]
  },
  {
   "cell_type": "markdown",
   "metadata": {},
   "source": [
    "Write a program that prompts for a file name, then opens that file and reads through the file, looking for lines of the form:\n",
    "\n",
    "X-DSPAM-Confidence:    0.8475\n",
    "\n",
    "Count these lines and extract the floating point values from each of the lines and compute the average of those values and produce an output as shown below. Do not use the sum() function or a variable named sum in your solution.\n",
    "\n",
    "You can download the sample data at http://www.py4e.com/code3/mbox-short.txt when you are testing below enter mbox-short.txt as the file name."
   ]
  },
  {
   "cell_type": "code",
   "execution_count": 14,
   "metadata": {
    "collapsed": false
   },
   "outputs": [
    {
     "name": "stdout",
     "output_type": "stream",
     "text": [
      "Enter the file name: mbox-short.txt\n",
      "Average spam confidence: 0.7507185185185187\n"
     ]
    }
   ],
   "source": [
    "fname=input('Enter the file name: ')\n",
    "try:\n",
    "    fhand=open(fname)\n",
    "except:\n",
    "    print(\"Could not open the file specified:\", fname)\n",
    "    fhand=None\n",
    "count=0\n",
    "total_conf=0\n",
    "if fhand:\n",
    "    for line in fhand:\n",
    "\n",
    "        if not line.startswith('X-DSPAM-Confidence:'):\n",
    "            continue\n",
    "        total_conf+=float(line.split()[-1])\n",
    "        count+=1\n",
    "print(\"Average spam confidence:\", total_conf/count)"
   ]
  },
  {
   "cell_type": "markdown",
   "metadata": {},
   "source": [
    "## Chapter 8, week4, lists"
   ]
  },
  {
   "cell_type": "code",
   "execution_count": 15,
   "metadata": {
    "collapsed": false
   },
   "outputs": [
    {
     "ename": "TypeError",
     "evalue": "'str' object does not support item assignment",
     "output_type": "error",
     "traceback": [
      "\u001b[0;31m---------------------------------------------------------------------------\u001b[0m",
      "\u001b[0;31mTypeError\u001b[0m                                 Traceback (most recent call last)",
      "\u001b[0;32m<ipython-input-15-641dcb21c34c>\u001b[0m in \u001b[0;36m<module>\u001b[0;34m()\u001b[0m\n\u001b[1;32m      1\u001b[0m \u001b[0mfruit\u001b[0m\u001b[1;33m=\u001b[0m\u001b[1;34m'banana'\u001b[0m\u001b[1;33m\u001b[0m\u001b[0m\n\u001b[0;32m----> 2\u001b[0;31m \u001b[0mfruit\u001b[0m\u001b[1;33m[\u001b[0m\u001b[1;36m0\u001b[0m\u001b[1;33m]\u001b[0m\u001b[1;33m=\u001b[0m\u001b[1;34m'k'\u001b[0m\u001b[1;33m\u001b[0m\u001b[0m\n\u001b[0m",
      "\u001b[0;31mTypeError\u001b[0m: 'str' object does not support item assignment"
     ]
    }
   ],
   "source": [
    "fruit='banana'\n",
    "fruit[0]='k'"
   ]
  },
  {
   "cell_type": "code",
   "execution_count": 17,
   "metadata": {
    "collapsed": false
   },
   "outputs": [
    {
     "data": {
      "text/plain": [
       "'R'"
      ]
     },
     "execution_count": 17,
     "metadata": {},
     "output_type": "execute_result"
    }
   ],
   "source": [
    "lst=['f','r','u','i','t']\n",
    "lst[1].upper()"
   ]
  },
  {
   "cell_type": "code",
   "execution_count": 18,
   "metadata": {
    "collapsed": false
   },
   "outputs": [
    {
     "data": {
      "text/plain": [
       "['f', 'R', 'u', 'i', 't']"
      ]
     },
     "execution_count": 18,
     "metadata": {},
     "output_type": "execute_result"
    }
   ],
   "source": [
    "lst[1]=lst[1].upper()\n",
    "lst"
   ]
  },
  {
   "cell_type": "code",
   "execution_count": 21,
   "metadata": {
    "collapsed": false
   },
   "outputs": [
    {
     "data": {
      "text/plain": [
       "['__class__',\n",
       " '__contains__',\n",
       " '__delattr__',\n",
       " '__dir__',\n",
       " '__doc__',\n",
       " '__eq__',\n",
       " '__format__',\n",
       " '__ge__',\n",
       " '__getattribute__',\n",
       " '__getitem__',\n",
       " '__gt__',\n",
       " '__hash__',\n",
       " '__init__',\n",
       " '__iter__',\n",
       " '__le__',\n",
       " '__len__',\n",
       " '__lt__',\n",
       " '__ne__',\n",
       " '__new__',\n",
       " '__reduce__',\n",
       " '__reduce_ex__',\n",
       " '__repr__',\n",
       " '__reversed__',\n",
       " '__setattr__',\n",
       " '__sizeof__',\n",
       " '__str__',\n",
       " '__subclasshook__',\n",
       " 'count',\n",
       " 'index',\n",
       " 'start',\n",
       " 'step',\n",
       " 'stop']"
      ]
     },
     "execution_count": 21,
     "metadata": {},
     "output_type": "execute_result"
    }
   ],
   "source": [
    "dir(range(4))"
   ]
  },
  {
   "cell_type": "code",
   "execution_count": 22,
   "metadata": {
    "collapsed": false
   },
   "outputs": [
    {
     "data": {
      "text/plain": [
       "[0, 1, 2, 3]"
      ]
     },
     "execution_count": 22,
     "metadata": {},
     "output_type": "execute_result"
    }
   ],
   "source": [
    "list(range(4))"
   ]
  },
  {
   "cell_type": "code",
   "execution_count": 23,
   "metadata": {
    "collapsed": false
   },
   "outputs": [
    {
     "data": {
      "text/plain": [
       "[1, 2, 3, 3, 4, 5]"
      ]
     },
     "execution_count": 23,
     "metadata": {},
     "output_type": "execute_result"
    }
   ],
   "source": [
    "[1,2,3]+[3,4,5]"
   ]
  },
  {
   "cell_type": "code",
   "execution_count": 24,
   "metadata": {
    "collapsed": false
   },
   "outputs": [
    {
     "ename": "TypeError",
     "evalue": "can only concatenate list (not \"int\") to list",
     "output_type": "error",
     "traceback": [
      "\u001b[0;31m---------------------------------------------------------------------------\u001b[0m",
      "\u001b[0;31mTypeError\u001b[0m                                 Traceback (most recent call last)",
      "\u001b[0;32m<ipython-input-24-5719ff4612c2>\u001b[0m in \u001b[0;36m<module>\u001b[0;34m()\u001b[0m\n\u001b[0;32m----> 1\u001b[0;31m \u001b[1;33m[\u001b[0m\u001b[1;36m1\u001b[0m\u001b[1;33m,\u001b[0m\u001b[1;36m2\u001b[0m\u001b[1;33m,\u001b[0m\u001b[1;36m3\u001b[0m\u001b[1;33m]\u001b[0m\u001b[1;33m+\u001b[0m\u001b[1;36m1\u001b[0m\u001b[1;33m\u001b[0m\u001b[0m\n\u001b[0m",
      "\u001b[0;31mTypeError\u001b[0m: can only concatenate list (not \"int\") to list"
     ]
    }
   ],
   "source": [
    "[1,2,3]+1"
   ]
  },
  {
   "cell_type": "code",
   "execution_count": 25,
   "metadata": {
    "collapsed": false
   },
   "outputs": [
    {
     "data": {
      "text/plain": [
       "array([2, 3, 4])"
      ]
     },
     "execution_count": 25,
     "metadata": {},
     "output_type": "execute_result"
    }
   ],
   "source": [
    "import numpy as np\n",
    "np.array([1,2,3])+1"
   ]
  },
  {
   "cell_type": "code",
   "execution_count": 26,
   "metadata": {
    "collapsed": false
   },
   "outputs": [
    {
     "data": {
      "text/plain": [
       "2"
      ]
     },
     "execution_count": 26,
     "metadata": {},
     "output_type": "execute_result"
    }
   ],
   "source": [
    "[1,2,3,1].count(1)"
   ]
  },
  {
   "cell_type": "code",
   "execution_count": 32,
   "metadata": {
    "collapsed": false
   },
   "outputs": [
    {
     "data": {
      "text/plain": [
       "['Glenn', 'Joseph', 'Sally']"
      ]
     },
     "execution_count": 32,
     "metadata": {},
     "output_type": "execute_result"
    }
   ],
   "source": [
    "friends=['Joseph','Glenn','Sally']\n",
    "sorted(friends)"
   ]
  },
  {
   "cell_type": "code",
   "execution_count": 33,
   "metadata": {
    "collapsed": false
   },
   "outputs": [
    {
     "data": {
      "text/plain": [
       "['Joseph', 'Glenn', 'Sally']"
      ]
     },
     "execution_count": 33,
     "metadata": {},
     "output_type": "execute_result"
    }
   ],
   "source": [
    "friends"
   ]
  },
  {
   "cell_type": "code",
   "execution_count": 34,
   "metadata": {
    "collapsed": false
   },
   "outputs": [
    {
     "data": {
      "text/plain": [
       "['Glenn', 'Joseph', 'Sally']"
      ]
     },
     "execution_count": 34,
     "metadata": {},
     "output_type": "execute_result"
    }
   ],
   "source": [
    "friends.sort()\n",
    "friends#changes the list"
   ]
  },
  {
   "cell_type": "code",
   "execution_count": 36,
   "metadata": {
    "collapsed": false
   },
   "outputs": [
    {
     "name": "stdout",
     "output_type": "stream",
     "text": [
      "Enter a number: 5\n",
      "Enter a number: 3\n",
      "Enter a number: 2\n",
      "Enter a number: 1\n",
      "Enter a number: done\n",
      "average: 2.75\n"
     ]
    }
   ],
   "source": [
    "numlist=list()\n",
    "while True:\n",
    "    inp=input('Enter a number: ')\n",
    "    if inp=='done':break\n",
    "    value=float(inp)\n",
    "    numlist.append(value)\n",
    "average=sum(numlist)/len(numlist)\n",
    "print('average:',average)"
   ]
  },
  {
   "cell_type": "code",
   "execution_count": 39,
   "metadata": {
    "collapsed": false
   },
   "outputs": [
    {
     "data": {
      "text/plain": [
       "['With', 'three', 'words']"
      ]
     },
     "execution_count": 39,
     "metadata": {},
     "output_type": "execute_result"
    }
   ],
   "source": [
    "abc='With three words'\n",
    "stuff=abc.split()\n",
    "stuff"
   ]
  },
  {
   "cell_type": "code",
   "execution_count": 40,
   "metadata": {
    "collapsed": false
   },
   "outputs": [
    {
     "data": {
      "text/plain": [
       "['a', 'lot', 'of', 'spa', 'ces']"
      ]
     },
     "execution_count": 40,
     "metadata": {},
     "output_type": "execute_result"
    }
   ],
   "source": [
    "abc='''a lot    of spa\n",
    "ces'''\n",
    "stuff=abc.split()\n",
    "stuff"
   ]
  },
  {
   "cell_type": "code",
   "execution_count": 45,
   "metadata": {
    "collapsed": false
   },
   "outputs": [
    {
     "data": {
      "text/plain": [
       "['a lot    of spa', 'ces']"
      ]
     },
     "execution_count": 45,
     "metadata": {},
     "output_type": "execute_result"
    }
   ],
   "source": [
    "abc='''a lot    of spa\n",
    "ces'''\n",
    "stuff=abc.split(\"\\n\")\n",
    "stuff"
   ]
  },
  {
   "cell_type": "code",
   "execution_count": 51,
   "metadata": {
    "collapsed": false
   },
   "outputs": [
    {
     "name": "stdout",
     "output_type": "stream",
     "text": [
      "Fri\n"
     ]
    }
   ],
   "source": [
    "line=\"From david.horwitz@uct.ac.za Fri Jan  4 06:08:27 2008\"\n",
    "line=line.rstrip()\n",
    "#if not line.startswith(\"From \"):\n",
    "words=line.split()\n",
    "print(words[2])"
   ]
  },
  {
   "cell_type": "markdown",
   "metadata": {},
   "source": [
    "## The double split"
   ]
  },
  {
   "cell_type": "code",
   "execution_count": 52,
   "metadata": {
    "collapsed": false
   },
   "outputs": [
    {
     "data": {
      "text/plain": [
       "'david.horwitz@uct.ac.za'"
      ]
     },
     "execution_count": 52,
     "metadata": {},
     "output_type": "execute_result"
    }
   ],
   "source": [
    "words=line.split()\n",
    "email=words[1]\n",
    "email"
   ]
  },
  {
   "cell_type": "code",
   "execution_count": 54,
   "metadata": {
    "collapsed": false
   },
   "outputs": [
    {
     "name": "stdout",
     "output_type": "stream",
     "text": [
      "david.horwitz uct.ac.za\n"
     ]
    }
   ],
   "source": [
    "words=line.split()\n",
    "name,domain=words[1].split(\"@\")\n",
    "print(name,domain)"
   ]
  },
  {
   "cell_type": "markdown",
   "metadata": {},
   "source": [
    " 8.4 Open the file romeo.txt and read it line by line. For each line, split the line into a list of words using the split() method. The program should build a list of words. For each word on each line check to see if the word is already in the list and if not append it to the list. When the program completes, sort and print the resulting words in alphabetical order.\n",
    "\n",
    "You can download the sample data at http://www.py4e.com/code3/romeo.txt"
   ]
  },
  {
   "cell_type": "code",
   "execution_count": 60,
   "metadata": {
    "collapsed": false
   },
   "outputs": [
    {
     "name": "stdout",
     "output_type": "stream",
     "text": [
      "['Arise', 'But', 'It', 'Juliet', 'Who', 'already', 'and', 'breaks', 'east', 'envious', 'fair', 'grief', 'is', 'kill', 'light', 'moon', 'pale', 'sick', 'soft', 'sun', 'the', 'through', 'what', 'window', 'with', 'yonder']\n"
     ]
    }
   ],
   "source": [
    "with open(\"romeo.txt\",'r') as fhandle:\n",
    "    lst=list()\n",
    "    for line in fhandle:\n",
    "        inp=line.rstrip().split()\n",
    "        #print(inp)\n",
    "        for word in inp:\n",
    "            if word in lst:\n",
    "                continue\n",
    "            lst.append(word)\n",
    "lst.sort()\n",
    "print(lst)\n",
    "    "
   ]
  },
  {
   "cell_type": "code",
   "execution_count": 62,
   "metadata": {
    "collapsed": false
   },
   "outputs": [
    {
     "name": "stdout",
     "output_type": "stream",
     "text": [
      "Enter file name: \n",
      "stephen.marquard@uct.ac.za\n",
      "louis@media.berkeley.edu\n",
      "zqian@umich.edu\n",
      "rjlowe@iupui.edu\n",
      "zqian@umich.edu\n",
      "rjlowe@iupui.edu\n",
      "cwen@iupui.edu\n",
      "cwen@iupui.edu\n",
      "gsilver@umich.edu\n",
      "gsilver@umich.edu\n",
      "zqian@umich.edu\n",
      "gsilver@umich.edu\n",
      "wagnermr@iupui.edu\n",
      "zqian@umich.edu\n",
      "antranig@caret.cam.ac.uk\n",
      "gopal.ramasammycook@gmail.com\n",
      "david.horwitz@uct.ac.za\n",
      "david.horwitz@uct.ac.za\n",
      "david.horwitz@uct.ac.za\n",
      "david.horwitz@uct.ac.za\n",
      "stephen.marquard@uct.ac.za\n",
      "louis@media.berkeley.edu\n",
      "louis@media.berkeley.edu\n",
      "ray@media.berkeley.edu\n",
      "cwen@iupui.edu\n",
      "cwen@iupui.edu\n",
      "cwen@iupui.edu\n",
      "There were 27 lines in the file with From as the first word\n"
     ]
    }
   ],
   "source": [
    "fname = input(\"Enter file name: \")\n",
    "if len(fname) < 1 : fname = \"mbox-short.txt\"\n",
    "\n",
    "fh = open(fname)\n",
    "count = 0\n",
    "for line in fh:\n",
    "    if not line.startswith(\"From \"):continue\n",
    "    print(line.split()[1])\n",
    "    count+=1\n",
    "print(\"There were\", count, \"lines in the file with From as the first word\")\n"
   ]
  },
  {
   "cell_type": "markdown",
   "metadata": {},
   "source": [
    "## Chapter 9, week5, dictionary"
   ]
  },
  {
   "cell_type": "code",
   "execution_count": 64,
   "metadata": {
    "collapsed": false
   },
   "outputs": [
    {
     "data": {
      "text/plain": [
       "{'age': 21, 'course': 182}"
      ]
     },
     "execution_count": 64,
     "metadata": {},
     "output_type": "execute_result"
    }
   ],
   "source": [
    "ddd=dict()\n",
    "ddd['age']=21\n",
    "ddd['course']=182\n",
    "ddd"
   ]
  },
  {
   "cell_type": "code",
   "execution_count": 65,
   "metadata": {
    "collapsed": false
   },
   "outputs": [
    {
     "data": {
      "text/plain": [
       "{'age': 23, 'course': 182}"
      ]
     },
     "execution_count": 65,
     "metadata": {},
     "output_type": "execute_result"
    }
   ],
   "source": [
    "ddd['age']=23\n",
    "ddd"
   ]
  },
  {
   "cell_type": "code",
   "execution_count": 67,
   "metadata": {
    "collapsed": false
   },
   "outputs": [
    {
     "data": {
      "text/plain": [
       "{0: 3, 'course': 182, 'age': 23}"
      ]
     },
     "execution_count": 67,
     "metadata": {},
     "output_type": "execute_result"
    }
   ],
   "source": [
    "ddd[0]=3\n",
    "ddd"
   ]
  },
  {
   "cell_type": "markdown",
   "metadata": {},
   "source": [
    "### Counting with dictionaries: the most common word"
   ]
  },
  {
   "cell_type": "code",
   "execution_count": 68,
   "metadata": {
    "collapsed": true
   },
   "outputs": [],
   "source": [
    "ccc={'cwen':1}\n"
   ]
  },
  {
   "cell_type": "code",
   "execution_count": 69,
   "metadata": {
    "collapsed": false
   },
   "outputs": [
    {
     "data": {
      "text/plain": [
       "False"
      ]
     },
     "execution_count": 69,
     "metadata": {},
     "output_type": "execute_result"
    }
   ],
   "source": [
    "'csev' in ccc"
   ]
  },
  {
   "cell_type": "code",
   "execution_count": 70,
   "metadata": {
    "collapsed": false
   },
   "outputs": [
    {
     "data": {
      "text/plain": [
       "False"
      ]
     },
     "execution_count": 70,
     "metadata": {},
     "output_type": "execute_result"
    }
   ],
   "source": [
    "1 in ccc"
   ]
  },
  {
   "cell_type": "code",
   "execution_count": 71,
   "metadata": {
    "collapsed": false
   },
   "outputs": [
    {
     "data": {
      "text/plain": [
       "True"
      ]
     },
     "execution_count": 71,
     "metadata": {},
     "output_type": "execute_result"
    }
   ],
   "source": [
    "1 in ccc.values()"
   ]
  },
  {
   "cell_type": "code",
   "execution_count": 72,
   "metadata": {
    "collapsed": false
   },
   "outputs": [
    {
     "name": "stdout",
     "output_type": "stream",
     "text": [
      "{'cwen': 2, 'csev': 2, 'zqian': 1}\n"
     ]
    }
   ],
   "source": [
    "counts=dict()\n",
    "names=['csev','cwen','csev','zqian','cwen']\n",
    "for name in names:\n",
    "    counts[name]=counts.get(name,0)+1\n",
    "print(counts)"
   ]
  },
  {
   "cell_type": "markdown",
   "metadata": {},
   "source": [
    " ### Dictionaries and files"
   ]
  },
  {
   "cell_type": "code",
   "execution_count": 122,
   "metadata": {
    "collapsed": false
   },
   "outputs": [
    {
     "name": "stdout",
     "output_type": "stream",
     "text": [
      "I 2\n",
      "was 2\n"
     ]
    }
   ],
   "source": [
    "# name=input('Enter file:')\n",
    "# handle=open(name)\n",
    "text=\"\"\"I was walking in the street\n",
    "        I was looking lovely\"\"\".split('\\n')\n",
    "\n",
    "counts=dict()\n",
    "for line in text:\n",
    "    words=line.split()\n",
    "    for word in words:\n",
    "        counts[word]=counts.get(word,0)+1\n",
    "        \n",
    "bigcount=None\n",
    "bigword=None\n",
    "for word,count in counts.items():\n",
    "    if bigcount is None or count > bigcount:\n",
    "        bigword=word\n",
    "        bigcount=count\n",
    "for word,count in counts.items():\n",
    "    if count==bigcount:\n",
    "        print(word,count)"
   ]
  },
  {
   "cell_type": "code",
   "execution_count": 113,
   "metadata": {
    "collapsed": false
   },
   "outputs": [
    {
     "data": {
      "text/plain": [
       "1"
      ]
     },
     "execution_count": 113,
     "metadata": {},
     "output_type": "execute_result"
    }
   ],
   "source": [
    "larges=list(counts.values()).index(max(counts.values()))\n",
    "larges"
   ]
  },
  {
   "cell_type": "code",
   "execution_count": 129,
   "metadata": {
    "collapsed": false
   },
   "outputs": [
    {
     "data": {
      "image/png": "[encoded data removed]",
      "text/plain": [
       "<matplotlib.figure.Figure at 0xd6810ba668>"
      ]
     },
     "metadata": {},
     "output_type": "display_data"
    }
   ],
   "source": [
    "import numpy as np\n",
    "import matplotlib.pyplot as plt\n",
    "\n",
    "x_val=range(len(counts.keys()))\n",
    "labels=list(counts.keys())\n",
    "plt.bar(x_val, list(counts.values()), align='center')\n",
    "plt.xticks(x_val, labels, rotation = 90)\n",
    "plt.ylim(0,max(counts.values())*1.1)\n",
    "#plt.xlim(0,len(x_val)*1.5)\n",
    "plt.show()"
   ]
  },
  {
   "cell_type": "code",
   "execution_count": 95,
   "metadata": {
    "collapsed": false
   },
   "outputs": [
    {
     "data": {
      "text/plain": [
       "dict_values([1, 2, 1, 1, 1, 1, 2, 1])"
      ]
     },
     "execution_count": 95,
     "metadata": {},
     "output_type": "execute_result"
    }
   ],
   "source": [
    "k=counts.keys()\n",
    "v=counts.values()\n"
   ]
  },
  {
   "cell_type": "code",
   "execution_count": 116,
   "metadata": {
    "collapsed": false
   },
   "outputs": [],
   "source": [
    "import numpy as np\n",
    "values=np.array(list(v))\n",
    "values.argmax(axis=0)\n",
    "keys=np.array(list(k))"
   ]
  },
  {
   "cell_type": "code",
   "execution_count": 117,
   "metadata": {
    "collapsed": false
   },
   "outputs": [
    {
     "data": {
      "text/plain": [
       "array(['I', 'was'], \n",
       "      dtype='<U7')"
      ]
     },
     "execution_count": 117,
     "metadata": {},
     "output_type": "execute_result"
    }
   ],
   "source": [
    "keys[values==np.max(values)]"
   ]
  },
  {
   "cell_type": "markdown",
   "metadata": {},
   "source": [
    "\n",
    "9.4 Write a program to read through the mbox-short.txt and figure out who has the sent the greatest number of mail messages. The program looks for 'From ' lines and takes the second word of those lines as the person who sent the mail. The program creates a Python dictionary that maps the sender's mail address to a count of the number of times they appear in the file. After the dictionary is produced, the program reads through the dictionary using a maximum loop to find the most prolific committer."
   ]
  },
  {
   "cell_type": "code",
   "execution_count": 132,
   "metadata": {
    "collapsed": false
   },
   "outputs": [
    {
     "name": "stdout",
     "output_type": "stream",
     "text": [
      "Enter file:\n",
      "cwen@iupui.edu 5\n"
     ]
    }
   ],
   "source": [
    "name=input('Enter file:')\n",
    "if len(name)<1:\n",
    "    name='mbox-short.txt'\n",
    "handle=open(name)\n",
    "\n",
    "counts=dict()\n",
    "for line in handle:\n",
    "    if not line.startswith(\"From \"):\n",
    "        continue\n",
    "    words=line.split()\n",
    "    counts[words[1]]=counts.get(words[1],0)+1\n",
    "       \n",
    "bigcount=None\n",
    "bigword=None\n",
    "for word,count in counts.items():\n",
    "    if bigcount is None or count > bigcount:\n",
    "        bigword=word\n",
    "        bigcount=count\n",
    "for word,count in counts.items():\n",
    "    if count==bigcount:\n",
    "        print(word,count)"
   ]
  },
  {
   "cell_type": "code",
   "execution_count": 133,
   "metadata": {
    "collapsed": false
   },
   "outputs": [
    {
     "data": {
      "text/plain": [
       "'antranig@caret.cam.ac.uk'"
      ]
     },
     "execution_count": 133,
     "metadata": {},
     "output_type": "execute_result"
    }
   ],
   "source": []
  },
  {
   "cell_type": "markdown",
   "metadata": {},
   "source": [
    "## Chapter 10, tuples"
   ]
  },
  {
   "cell_type": "code",
   "execution_count": 155,
   "metadata": {
    "collapsed": false
   },
   "outputs": [
    {
     "name": "stdout",
     "output_type": "stream",
     "text": [
      "2000000\n",
      "Wall time: 1.97 s\n"
     ]
    }
   ],
   "source": [
    "%%time\n",
    "text_lst=['b','a','n','a','n','a']*1000000\n",
    "pattern=['n']\n",
    "pos=0\n",
    "i=0\n",
    "cnt=0\n",
    "#print(pos)\n",
    "for i in range(len(text_lst)):\n",
    "    if(text_lst[i:i+len(pattern)]==pattern):\n",
    "        pos=i\n",
    "        cnt+=1\n",
    "    #print(pos)\n",
    "    #print(i)\n",
    "    #print(pos)\n",
    "print(cnt)"
   ]
  },
  {
   "cell_type": "code",
   "execution_count": 156,
   "metadata": {
    "collapsed": false
   },
   "outputs": [
    {
     "name": "stdout",
     "output_type": "stream",
     "text": [
      "2000000\n",
      "Wall time: 1.74 s\n"
     ]
    }
   ],
   "source": [
    " %%time\n",
    "text_tpl=('b','a','n','a','n','a')*1000000\n",
    "pattern=('n','a')\n",
    "pos=0\n",
    "cnt=0\n",
    "i=0\n",
    "#print(pos)\n",
    "for i in range(len(text_lst)):\n",
    "    if(text_tpl[i:i+len(pattern)]==pattern):\n",
    "        pos=i\n",
    "        cnt+=1\n",
    "    #print(pos)\n",
    "    #print(i)\n",
    "    #print(pos)\n",
    "print(cnt)"
   ]
  },
  {
   "cell_type": "code",
   "execution_count": 145,
   "metadata": {
    "collapsed": false
   },
   "outputs": [
    {
     "name": "stdout",
     "output_type": "stream",
     "text": [
      "Wall time: 64.1 ms\n"
     ]
    },
    {
     "data": {
      "text/plain": [
       "2000000"
      ]
     },
     "execution_count": 145,
     "metadata": {},
     "output_type": "execute_result"
    }
   ],
   "source": [
    "%%time\n",
    "text_lst.count('n')"
   ]
  },
  {
   "cell_type": "code",
   "execution_count": 146,
   "metadata": {
    "collapsed": false
   },
   "outputs": [
    {
     "name": "stdout",
     "output_type": "stream",
     "text": [
      "Wall time: 68 ms\n"
     ]
    },
    {
     "data": {
      "text/plain": [
       "2000000"
      ]
     },
     "execution_count": 146,
     "metadata": {},
     "output_type": "execute_result"
    }
   ],
   "source": [
    "%%time\n",
    "text_tpl.count('n')"
   ]
  },
  {
   "cell_type": "code",
   "execution_count": 157,
   "metadata": {
    "collapsed": false
   },
   "outputs": [
    {
     "data": {
      "text/plain": [
       "array([3, 4, 5])"
      ]
     },
     "execution_count": 157,
     "metadata": {},
     "output_type": "execute_result"
    }
   ],
   "source": [
    "tpl=(3,4,5)\n",
    "np.array(tpl)"
   ]
  },
  {
   "cell_type": "code",
   "execution_count": 158,
   "metadata": {
    "collapsed": false
   },
   "outputs": [
    {
     "data": {
      "text/plain": [
       "4"
      ]
     },
     "execution_count": 158,
     "metadata": {},
     "output_type": "execute_result"
    }
   ],
   "source": [
    "(x,y)=(4,'fred')\n",
    "x"
   ]
  },
  {
   "cell_type": "code",
   "execution_count": 159,
   "metadata": {
    "collapsed": false
   },
   "outputs": [
    {
     "data": {
      "text/plain": [
       "4"
      ]
     },
     "execution_count": 159,
     "metadata": {},
     "output_type": "execute_result"
    }
   ],
   "source": [
    "x,y=(4,'fred')\n",
    "x"
   ]
  },
  {
   "cell_type": "code",
   "execution_count": 162,
   "metadata": {
    "collapsed": false
   },
   "outputs": [
    {
     "data": {
      "text/plain": [
       "[(3, 'the'),\n",
       " (3, 'is'),\n",
       " (3, 'and'),\n",
       " (2, 'sun'),\n",
       " (1, 'yonder'),\n",
       " (1, 'with'),\n",
       " (1, 'window'),\n",
       " (1, 'what'),\n",
       " (1, 'through'),\n",
       " (1, 'soft')]"
      ]
     },
     "execution_count": 162,
     "metadata": {},
     "output_type": "execute_result"
    }
   ],
   "source": [
    "fhand=open('romeo.txt','r')\n",
    "counts=dict()\n",
    "for line in fhand:\n",
    "    words=line.split()\n",
    "    for word in words:\n",
    "        counts[word]=counts.get(word,0)+1\n",
    "        \n",
    "sorted([(v,k) for k,v in counts.items()],reverse=True)[:10]"
   ]
  },
  {
   "cell_type": "code",
   "execution_count": 164,
   "metadata": {
    "collapsed": false
   },
   "outputs": [
    {
     "data": {
      "text/plain": [
       "['__add__',\n",
       " '__class__',\n",
       " '__contains__',\n",
       " '__delattr__',\n",
       " '__dir__',\n",
       " '__doc__',\n",
       " '__eq__',\n",
       " '__format__',\n",
       " '__ge__',\n",
       " '__getattribute__',\n",
       " '__getitem__',\n",
       " '__getnewargs__',\n",
       " '__gt__',\n",
       " '__hash__',\n",
       " '__init__',\n",
       " '__iter__',\n",
       " '__le__',\n",
       " '__len__',\n",
       " '__lt__',\n",
       " '__mul__',\n",
       " '__ne__',\n",
       " '__new__',\n",
       " '__reduce__',\n",
       " '__reduce_ex__',\n",
       " '__repr__',\n",
       " '__rmul__',\n",
       " '__setattr__',\n",
       " '__sizeof__',\n",
       " '__str__',\n",
       " '__subclasshook__',\n",
       " 'count',\n",
       " 'index']"
      ]
     },
     "execution_count": 164,
     "metadata": {},
     "output_type": "execute_result"
    }
   ],
   "source": [
    "dir(tuple())"
   ]
  },
  {
   "cell_type": "code",
   "execution_count": 165,
   "metadata": {
    "collapsed": true
   },
   "outputs": [],
   "source": [
    "x,y=3,4"
   ]
  },
  {
   "cell_type": "code",
   "execution_count": 173,
   "metadata": {
    "collapsed": false
   },
   "outputs": [
    {
     "data": {
      "text/plain": [
       "{'Arise': 1,\n",
       " 'But': 1,\n",
       " 'It': 1,\n",
       " 'Juliet': 1,\n",
       " 'Who': 1,\n",
       " 'already': 1,\n",
       " 'and': 3,\n",
       " 'breaks': 1,\n",
       " 'east': 1,\n",
       " 'envious': 1,\n",
       " 'fair': 1,\n",
       " 'grief': 1,\n",
       " 'is': 3,\n",
       " 'kill': 1,\n",
       " 'light': 1,\n",
       " 'moon': 1,\n",
       " 'pale': 1,\n",
       " 'sick': 1,\n",
       " 'soft': 1,\n",
       " 'sun': 2,\n",
       " 'the': 3,\n",
       " 'through': 1,\n",
       " 'what': 1,\n",
       " 'window': 1,\n",
       " 'with': 1,\n",
       " 'yonder': 1}"
      ]
     },
     "execution_count": 173,
     "metadata": {},
     "output_type": "execute_result"
    }
   ],
   "source": [
    "counts"
   ]
  },
  {
   "cell_type": "code",
   "execution_count": 167,
   "metadata": {
    "collapsed": true
   },
   "outputs": [],
   "source": [
    "lst=[1,2,3,4]\n",
    "lst.reverse()"
   ]
  },
  {
   "cell_type": "code",
   "execution_count": 170,
   "metadata": {
    "collapsed": false
   },
   "outputs": [
    {
     "data": {
      "text/plain": [
       "[4, 3, 2, 1]"
      ]
     },
     "execution_count": 170,
     "metadata": {},
     "output_type": "execute_result"
    }
   ],
   "source": [
    "lst.sort(reverse=True)\n",
    "lst"
   ]
  },
  {
   "cell_type": "markdown",
   "metadata": {},
   "source": [
    "10.2 Write a program to read through the mbox-short.txt and figure out the distribution by hour of the day for each of the messages. You can pull the hour out from the 'From ' line by finding the time and then splitting the string a second time using a colon.\n",
    "\n",
    "From stephen.marquard@uct.ac.za Sat Jan  5 09:14:16 2008\n",
    "\n",
    "Once you have accumulated the counts for each hour, print out the counts, sorted by hour as shown below."
   ]
  },
  {
   "cell_type": "code",
   "execution_count": 216,
   "metadata": {
    "collapsed": false
   },
   "outputs": [
    {
     "name": "stdout",
     "output_type": "stream",
     "text": [
      "Enter file:mbox.txt\n",
      "00 23\n",
      "01 10\n",
      "02 11\n",
      "03 19\n",
      "04 23\n",
      "05 10\n",
      "06 45\n",
      "07 42\n",
      "08 72\n",
      "09 166\n",
      "10 198\n",
      "11 154\n",
      "12 108\n",
      "13 114\n",
      "14 150\n",
      "15 152\n",
      "16 181\n",
      "17 97\n",
      "18 58\n",
      "19 46\n",
      "20 36\n",
      "21 36\n",
      "22 28\n",
      "23 18\n"
     ]
    }
   ],
   "source": [
    "name=input('Enter file:')\n",
    "if len(name)<1:\n",
    "    name='mbox-short.txt'\n",
    "handle=open(name)\n",
    "\n",
    "counts=dict()\n",
    "for line in handle:\n",
    "    if not line.startswith(\"From \"):\n",
    "        continue\n",
    "    words=line.split()\n",
    "    counts[words[5].split(\":\")[0]]=counts.get(words[5].split(\":\")[0],0)+1\n",
    "       \n",
    "hours=sorted([(k,v) for k,v in counts.items()])\n",
    "for k,v in hours:\n",
    "    print(k,v)"
   ]
  },
  {
   "cell_type": "code",
   "execution_count": 217,
   "metadata": {
    "collapsed": false
   },
   "outputs": [
    {
     "name": "stdout",
     "output_type": "stream",
     "text": [
      "Enter file:mbox.txt\n"
     ]
    }
   ],
   "source": [
    "from datetime import datetime\n",
    "\n",
    "name=input('Enter file:')\n",
    "if len(name)<1:\n",
    "    name='mbox-short.txt'\n",
    "handle=open(name)\n",
    "times=list()\n",
    "counts=dict()\n",
    "for line in handle:\n",
    "    if not line.startswith(\"From \"):\n",
    "        continue\n",
    "    words=line.split()\n",
    "    #print(\" \".join(words[2:]))\n",
    "    #datetime_object = datetime.strptime('Jun 1 2005  1:33PM', '%b %d %Y %I:%M%p')\n",
    "    email_datetime=datetime.strptime(\" \".join(words[2:]),'%a %b %d %H:%M:%S %Y')\n",
    "    #print(email_datetime.month)\n",
    "    times.append((email_datetime,words[1]))"
   ]
  },
  {
   "cell_type": "code",
   "execution_count": 218,
   "metadata": {
    "collapsed": false
   },
   "outputs": [
    {
     "data": {
      "text/plain": [
       "[(datetime.datetime(2008, 1, 5, 9, 14, 16), 'stephen.marquard@uct.ac.za'),\n",
       " (datetime.datetime(2008, 1, 4, 18, 10, 48), 'louis@media.berkeley.edu'),\n",
       " (datetime.datetime(2008, 1, 4, 16, 10, 39), 'zqian@umich.edu'),\n",
       " (datetime.datetime(2008, 1, 4, 15, 46, 24), 'rjlowe@iupui.edu'),\n",
       " (datetime.datetime(2008, 1, 4, 15, 3, 18), 'zqian@umich.edu'),\n",
       " (datetime.datetime(2008, 1, 4, 14, 50, 18), 'rjlowe@iupui.edu'),\n",
       " (datetime.datetime(2008, 1, 4, 11, 37, 30), 'cwen@iupui.edu'),\n",
       " (datetime.datetime(2008, 1, 4, 11, 35, 8), 'cwen@iupui.edu'),\n",
       " (datetime.datetime(2008, 1, 4, 11, 12, 37), 'gsilver@umich.edu'),\n",
       " (datetime.datetime(2008, 1, 4, 11, 11, 52), 'gsilver@umich.edu'),\n",
       " (datetime.datetime(2008, 1, 4, 11, 11, 3), 'zqian@umich.edu'),\n",
       " (datetime.datetime(2008, 1, 4, 11, 10, 22), 'gsilver@umich.edu'),\n",
       " (datetime.datetime(2008, 1, 4, 10, 38, 42), 'wagnermr@iupui.edu'),\n",
       " (datetime.datetime(2008, 1, 4, 10, 17, 43), 'zqian@umich.edu'),\n",
       " (datetime.datetime(2008, 1, 4, 10, 4, 14), 'antranig@caret.cam.ac.uk'),\n",
       " (datetime.datetime(2008, 1, 4, 9, 5, 31), 'gopal.ramasammycook@gmail.com'),\n",
       " (datetime.datetime(2008, 1, 4, 7, 2, 32), 'david.horwitz@uct.ac.za'),\n",
       " (datetime.datetime(2008, 1, 4, 6, 8, 27), 'david.horwitz@uct.ac.za'),\n",
       " (datetime.datetime(2008, 1, 4, 4, 49, 8), 'david.horwitz@uct.ac.za'),\n",
       " (datetime.datetime(2008, 1, 4, 4, 33, 44), 'david.horwitz@uct.ac.za'),\n",
       " (datetime.datetime(2008, 1, 4, 4, 7, 34), 'stephen.marquard@uct.ac.za'),\n",
       " (datetime.datetime(2008, 1, 3, 19, 51, 21), 'louis@media.berkeley.edu'),\n",
       " (datetime.datetime(2008, 1, 3, 17, 18, 23), 'louis@media.berkeley.edu'),\n",
       " (datetime.datetime(2008, 1, 3, 17, 7), 'ray@media.berkeley.edu'),\n",
       " (datetime.datetime(2008, 1, 3, 16, 34, 40), 'cwen@iupui.edu'),\n",
       " (datetime.datetime(2008, 1, 3, 16, 29, 7), 'cwen@iupui.edu'),\n",
       " (datetime.datetime(2008, 1, 3, 16, 23, 48), 'cwen@iupui.edu'),\n",
       " (datetime.datetime(2008, 1, 3, 15, 56), 'ray@media.berkeley.edu'),\n",
       " (datetime.datetime(2008, 1, 3, 15, 53, 58), 'cwen@iupui.edu'),\n",
       " (datetime.datetime(2008, 1, 3, 15, 27, 26), 'zqian@umich.edu'),\n",
       " (datetime.datetime(2008, 1, 3, 15, 25, 41), 'cwen@iupui.edu'),\n",
       " (datetime.datetime(2008, 1, 3, 15, 24, 4), 'zqian@umich.edu'),\n",
       " (datetime.datetime(2008, 1, 3, 14, 32, 46), 'zqian@umich.edu'),\n",
       " (datetime.datetime(2008, 1, 3, 13, 53, 51), 'zqian@umich.edu'),\n",
       " (datetime.datetime(2008, 1, 3, 13, 39, 6), 'mmmay@indiana.edu'),\n",
       " (datetime.datetime(2008, 1, 3, 13, 20, 53), 'cwen@iupui.edu'),\n",
       " (datetime.datetime(2008, 1, 3, 13, 17, 7), 'zqian@umich.edu'),\n",
       " (datetime.datetime(2008, 1, 3, 13, 14, 34), 'zqian@umich.edu'),\n",
       " (datetime.datetime(2008, 1, 3, 13, 14, 30), 'zqian@umich.edu'),\n",
       " (datetime.datetime(2008, 1, 3, 13, 14, 19), 'cwen@iupui.edu'),\n",
       " (datetime.datetime(2008, 1, 3, 13, 13, 58), 'zqian@umich.edu'),\n",
       " (datetime.datetime(2008, 1, 3, 13, 13, 32), 'cwen@iupui.edu'),\n",
       " (datetime.datetime(2008, 1, 3, 12, 49, 7), 'ray@media.berkeley.edu'),\n",
       " (datetime.datetime(2008, 1, 3, 12, 32, 45), 'zqian@umich.edu'),\n",
       " (datetime.datetime(2008, 1, 3, 12, 28, 3), 'zqian@umich.edu'),\n",
       " (datetime.datetime(2008, 1, 3, 12, 24, 50), 'zqian@umich.edu'),\n",
       " (datetime.datetime(2008, 1, 3, 11, 44, 41), 'cwen@iupui.edu'),\n",
       " (datetime.datetime(2008, 1, 3, 11, 28, 41), 'zqian@umich.edu'),\n",
       " (datetime.datetime(2008, 1, 3, 11, 12, 18), 'gopal.ramasammycook@gmail.com'),\n",
       " (datetime.datetime(2008, 1, 3, 10, 31, 13), 'gsilver@umich.edu'),\n",
       " (datetime.datetime(2008, 1, 3, 10, 28, 16), 'gsilver@umich.edu'),\n",
       " (datetime.datetime(2008, 1, 3, 10, 23, 5), 'stuart.freeman@et.gatech.edu'),\n",
       " (datetime.datetime(2008, 1, 3, 10, 22, 18), 'zqian@umich.edu'),\n",
       " (datetime.datetime(2008, 1, 3, 10, 8, 15), 'gsilver@umich.edu'),\n",
       " (datetime.datetime(2008, 1, 3, 10, 6, 50), 'gsilver@umich.edu'),\n",
       " (datetime.datetime(2008, 1, 3, 10, 5, 8), 'gsilver@umich.edu'),\n",
       " (datetime.datetime(2008, 1, 3, 10, 2, 34), 'zqian@umich.edu'),\n",
       " (datetime.datetime(2008, 1, 3, 9, 31, 30), 'wagnermr@iupui.edu'),\n",
       " (datetime.datetime(2008, 1, 3, 9, 25, 7), 'stuart.freeman@et.gatech.edu'),\n",
       " (datetime.datetime(2008, 1, 3, 9, 22, 37), 'tnguyen@iupui.edu'),\n",
       " (datetime.datetime(2008, 1, 3, 9, 15, 57), 'stuart.freeman@et.gatech.edu'),\n",
       " (datetime.datetime(2008, 1, 3, 9, 13, 52), 'wagnermr@iupui.edu'),\n",
       " (datetime.datetime(2008, 1, 3, 8, 44, 20), 'gopal.ramasammycook@gmail.com'),\n",
       " (datetime.datetime(2008, 1, 2, 18, 47, 10), 'ray@media.berkeley.edu'),\n",
       " (datetime.datetime(2008, 1, 2, 18, 10, 17), 'ray@media.berkeley.edu'),\n",
       " (datetime.datetime(2008, 1, 2, 17, 4, 51), 'zqian@umich.edu'),\n",
       " (datetime.datetime(2008, 1, 2, 17, 2, 33), 'wagnermr@iupui.edu'),\n",
       " (datetime.datetime(2008, 1, 2, 17, 0, 56), 'stuart.freeman@et.gatech.edu'),\n",
       " (datetime.datetime(2008, 1, 2, 16, 55, 17), 'chmaurer@iupui.edu'),\n",
       " (datetime.datetime(2008, 1, 2, 16, 53, 57), 'stuart.freeman@et.gatech.edu'),\n",
       " (datetime.datetime(2008, 1, 2, 15, 51, 46), 'rjlowe@iupui.edu'),\n",
       " (datetime.datetime(2008, 1, 2, 15, 28, 2), 'zqian@umich.edu'),\n",
       " (datetime.datetime(2008, 1, 2, 15, 20, 50), 'rjlowe@iupui.edu'),\n",
       " (datetime.datetime(2008, 1, 2, 14, 35, 41), 'rjlowe@iupui.edu'),\n",
       " (datetime.datetime(2008, 1, 2, 12, 56, 50), 'zqian@umich.edu'),\n",
       " (datetime.datetime(2008, 1, 2, 12, 54, 14), 'rjlowe@iupui.edu'),\n",
       " (datetime.datetime(2008, 1, 2, 11, 13, 25), 'rjlowe@iupui.edu'),\n",
       " (datetime.datetime(2008, 1, 2, 11, 9, 35), 'rjlowe@iupui.edu'),\n",
       " (datetime.datetime(2008, 1, 2, 9, 54, 32), 'david.horwitz@uct.ac.za'),\n",
       " (datetime.datetime(2008, 1, 2, 9, 40, 42), 'david.horwitz@uct.ac.za'),\n",
       " (datetime.datetime(2008, 1, 2, 9, 38, 43), 'david.horwitz@uct.ac.za'),\n",
       " (datetime.datetime(2008, 1, 2, 9, 16, 3), 'david.horwitz@uct.ac.za'),\n",
       " (datetime.datetime(2008, 1, 2, 9, 13, 10), 'aaronz@vt.edu'),\n",
       " (datetime.datetime(2008, 1, 2, 9, 7, 48), 'david.horwitz@uct.ac.za'),\n",
       " (datetime.datetime(2008, 1, 2, 8, 55, 3), 'david.horwitz@uct.ac.za'),\n",
       " (datetime.datetime(2008, 1, 2, 8, 37, 45), 'david.horwitz@uct.ac.za'),\n",
       " (datetime.datetime(2008, 1, 2, 8, 23, 44), 'david.horwitz@uct.ac.za'),\n",
       " (datetime.datetime(2008, 1, 2, 8, 17, 41), 'david.horwitz@uct.ac.za'),\n",
       " (datetime.datetime(2008, 1, 2, 7, 1, 41), 'gopal.ramasammycook@gmail.com'),\n",
       " (datetime.datetime(2008, 1, 2, 5, 16, 10), 'david.horwitz@uct.ac.za'),\n",
       " (datetime.datetime(2008, 1, 2, 4, 40, 56), 'david.horwitz@uct.ac.za'),\n",
       " (datetime.datetime(2008, 1, 2, 4, 24, 50), 'david.horwitz@uct.ac.za'),\n",
       " (datetime.datetime(2008, 1, 2, 3, 56, 59), 'david.horwitz@uct.ac.za'),\n",
       " (datetime.datetime(2008, 1, 2, 3, 22, 37), 'david.horwitz@uct.ac.za'),\n",
       " (datetime.datetime(2008, 1, 2, 3, 4, 19), 'david.horwitz@uct.ac.za'),\n",
       " (datetime.datetime(2008, 1, 2, 3, 2, 55), 'david.horwitz@uct.ac.za'),\n",
       " (datetime.datetime(2008, 1, 2, 2, 53, 22), 'david.horwitz@uct.ac.za'),\n",
       " (datetime.datetime(2008, 1, 1, 20, 25), 'ian@caret.cam.ac.uk'),\n",
       " (datetime.datetime(2008, 1, 1, 7, 40, 27), 'ian@caret.cam.ac.uk'),\n",
       " (datetime.datetime(2007, 12, 31, 16, 28, 46), 'zqian@umich.edu'),\n",
       " (datetime.datetime(2007, 12, 31, 16, 23, 41), 'zqian@umich.edu'),\n",
       " (datetime.datetime(2007, 12, 31, 14, 57, 11), 'zqian@umich.edu'),\n",
       " (datetime.datetime(2007, 12, 31, 14, 52, 50), 'zqian@umich.edu'),\n",
       " (datetime.datetime(2007, 12, 31, 14, 42, 19), 'zqian@umich.edu'),\n",
       " (datetime.datetime(2007, 12, 31, 10, 48, 44), 'rjlowe@iupui.edu'),\n",
       " (datetime.datetime(2007, 12, 31, 9, 4, 7), 'wagnermr@iupui.edu'),\n",
       " (datetime.datetime(2007, 12, 30, 22, 44, 30), 'csev@umich.edu'),\n",
       " (datetime.datetime(2007, 12, 30, 16, 47, 46), 'csev@umich.edu'),\n",
       " (datetime.datetime(2007, 12, 30, 16, 46, 59), 'csev@umich.edu'),\n",
       " (datetime.datetime(2007, 12, 30, 13, 33, 59), 'rjlowe@iupui.edu'),\n",
       " (datetime.datetime(2007, 12, 30, 12, 38, 52), 'jimeng@umich.edu'),\n",
       " (datetime.datetime(2007, 12, 30, 10, 35, 6), 'csev@umich.edu'),\n",
       " (datetime.datetime(2007, 12, 30, 10, 1, 32), 'csev@umich.edu'),\n",
       " (datetime.datetime(2007, 12, 29, 21, 8, 48), 'gsilver@umich.edu'),\n",
       " (datetime.datetime(2007, 12, 29, 14, 48, 54), 'ian@caret.cam.ac.uk'),\n",
       " (datetime.datetime(2007, 12, 29, 10, 29, 43), 'csev@umich.edu'),\n",
       " (datetime.datetime(2007, 12, 29, 10, 11, 22), 'csev@umich.edu'),\n",
       " (datetime.datetime(2007, 12, 28, 23, 0, 54), 'csev@umich.edu'),\n",
       " (datetime.datetime(2007, 12, 28, 16, 45, 42), 'josrodri@iupui.edu'),\n",
       " (datetime.datetime(2007, 12, 28, 14, 16, 46), 'josrodri@iupui.edu'),\n",
       " (datetime.datetime(2007, 12, 28, 12, 15, 25), 'csev@umich.edu'),\n",
       " (datetime.datetime(2007, 12, 28, 12, 8, 11), 'ian@caret.cam.ac.uk'),\n",
       " (datetime.datetime(2007, 12, 28, 11, 56, 40), 'csev@umich.edu'),\n",
       " (datetime.datetime(2007, 12, 27, 21, 41, 53), 'zqian@umich.edu'),\n",
       " (datetime.datetime(2007, 12, 27, 21, 23, 45), 'zqian@umich.edu'),\n",
       " (datetime.datetime(2007, 12, 27, 17, 54, 58), 'knoop@umich.edu'),\n",
       " (datetime.datetime(2007, 12, 27, 17, 54, 31), 'knoop@umich.edu'),\n",
       " (datetime.datetime(2007, 12, 27, 17, 53, 56), 'knoop@umich.edu'),\n",
       " (datetime.datetime(2007, 12, 27, 17, 52, 45), 'knoop@umich.edu'),\n",
       " (datetime.datetime(2007, 12, 27, 17, 52, 14), 'knoop@umich.edu'),\n",
       " (datetime.datetime(2007, 12, 27, 13, 47, 44), 'cwen@iupui.edu'),\n",
       " (datetime.datetime(2007, 12, 27, 12, 11, 7), 'jimeng@umich.edu'),\n",
       " (datetime.datetime(2007, 12, 27, 10, 24, 11), 'jimeng@umich.edu'),\n",
       " (datetime.datetime(2007, 12, 27, 10, 20, 38), 'csev@umich.edu'),\n",
       " (datetime.datetime(2007, 12, 27, 10, 11, 9), 'csev@umich.edu'),\n",
       " (datetime.datetime(2007, 12, 27, 9, 57, 10), 'csev@umich.edu'),\n",
       " (datetime.datetime(2007, 12, 27, 9, 47, 52), 'csev@umich.edu'),\n",
       " (datetime.datetime(2007, 12, 27, 9, 24, 59), 'csev@umich.edu'),\n",
       " (datetime.datetime(2007, 12, 27, 9, 12, 43), 'csev@umich.edu'),\n",
       " (datetime.datetime(2007, 12, 27, 8, 2, 21), 'jimeng@umich.edu'),\n",
       " (datetime.datetime(2007, 12, 26, 21, 9, 48), 'jimeng@umich.edu'),\n",
       " (datetime.datetime(2007, 12, 26, 16, 33, 12), 'bkirschn@umich.edu'),\n",
       " (datetime.datetime(2007, 12, 26, 11, 40), 'jimeng@umich.edu'),\n",
       " (datetime.datetime(2007, 12, 25, 17, 53, 51), 'ian@caret.cam.ac.uk'),\n",
       " (datetime.datetime(2007, 12, 24, 3, 6, 42), 'stephen.marquard@uct.ac.za'),\n",
       " (datetime.datetime(2007, 12, 24, 2, 6, 31), 'stephen.marquard@uct.ac.za'),\n",
       " (datetime.datetime(2007, 12, 23, 12, 52, 53), 'ian@caret.cam.ac.uk'),\n",
       " (datetime.datetime(2007, 12, 22, 12, 7, 6), 'jimeng@umich.edu'),\n",
       " (datetime.datetime(2007, 12, 22, 11, 58, 34), 'jimeng@umich.edu'),\n",
       " (datetime.datetime(2007, 12, 21, 18, 33, 7), 'ray@media.berkeley.edu'),\n",
       " (datetime.datetime(2007, 12, 21, 17, 22, 2), 'ian@caret.cam.ac.uk'),\n",
       " (datetime.datetime(2007, 12, 21, 17, 17, 52), 'ian@caret.cam.ac.uk'),\n",
       " (datetime.datetime(2007, 12, 21, 15, 49, 43), 'stuart.freeman@et.gatech.edu'),\n",
       " (datetime.datetime(2007, 12, 21, 14, 42, 47), 'bkirschn@umich.edu'),\n",
       " (datetime.datetime(2007, 12, 21, 14, 38, 7), 'zqian@umich.edu'),\n",
       " (datetime.datetime(2007, 12, 21, 14, 13, 31), 'louis@media.berkeley.edu'),\n",
       " (datetime.datetime(2007, 12, 21, 13, 56, 39), 'dlhaines@umich.edu'),\n",
       " (datetime.datetime(2007, 12, 21, 13, 55, 4), 'bkirschn@umich.edu'),\n",
       " (datetime.datetime(2007, 12, 21, 13, 51, 17), 'dlhaines@umich.edu'),\n",
       " (datetime.datetime(2007, 12, 21, 13, 49, 59), 'dlhaines@umich.edu'),\n",
       " (datetime.datetime(2007, 12, 21, 12, 20, 35), 'zqian@umich.edu'),\n",
       " (datetime.datetime(2007, 12, 21, 11, 50, 6), 'bkirschn@umich.edu'),\n",
       " (datetime.datetime(2007, 12, 21, 10, 4, 51), 'cwen@iupui.edu'),\n",
       " (datetime.datetime(2007, 12, 21, 10, 3, 36), 'cwen@iupui.edu'),\n",
       " (datetime.datetime(2007, 12, 21, 9, 55, 25), 'bkirschn@umich.edu'),\n",
       " (datetime.datetime(2007, 12, 21, 9, 55, 6), 'bkirschn@umich.edu'),\n",
       " (datetime.datetime(2007, 12, 21, 9, 54, 17), 'david.horwitz@uct.ac.za'),\n",
       " (datetime.datetime(2007, 12, 21, 9, 50, 38), 'david.horwitz@uct.ac.za'),\n",
       " (datetime.datetime(2007, 12, 21, 9, 44, 11), 'david.horwitz@uct.ac.za'),\n",
       " (datetime.datetime(2007, 12, 21, 9, 33, 55), 'david.horwitz@uct.ac.za'),\n",
       " (datetime.datetime(2007, 12, 21, 9, 9, 23), 'david.horwitz@uct.ac.za'),\n",
       " (datetime.datetime(2007, 12, 21, 9, 8, 22), 'stephen.marquard@uct.ac.za'),\n",
       " (datetime.datetime(2007, 12, 21, 9, 3, 52), 'david.horwitz@uct.ac.za'),\n",
       " (datetime.datetime(2007, 12, 21, 9, 3, 48), 'bkirschn@umich.edu'),\n",
       " (datetime.datetime(2007, 12, 21, 9, 0, 22), 'cwen@iupui.edu'),\n",
       " (datetime.datetime(2007, 12, 21, 8, 50, 52), 'cwen@iupui.edu'),\n",
       " (datetime.datetime(2007, 12, 21, 8, 43, 25), 'cwen@iupui.edu'),\n",
       " (datetime.datetime(2007, 12, 21, 8, 41, 56), 'cwen@iupui.edu'),\n",
       " (datetime.datetime(2007, 12, 21, 6, 30, 5), 'david.horwitz@uct.ac.za'),\n",
       " (datetime.datetime(2007, 12, 21, 6, 17, 7), 'david.horwitz@uct.ac.za'),\n",
       " (datetime.datetime(2007, 12, 21, 6, 12, 21), 'david.horwitz@uct.ac.za'),\n",
       " (datetime.datetime(2007, 12, 21, 6, 5, 26), 'david.horwitz@uct.ac.za'),\n",
       " (datetime.datetime(2007, 12, 21, 6, 1, 2), 'david.horwitz@uct.ac.za'),\n",
       " (datetime.datetime(2007, 12, 21, 4, 29, 36), 'david.horwitz@uct.ac.za'),\n",
       " (datetime.datetime(2007, 12, 21, 4, 24, 25), 'david.horwitz@uct.ac.za'),\n",
       " (datetime.datetime(2007, 12, 21, 3, 31, 56), 'david.horwitz@uct.ac.za'),\n",
       " (datetime.datetime(2007, 12, 21, 3, 20, 8), 'david.horwitz@uct.ac.za'),\n",
       " (datetime.datetime(2007, 12, 20, 22, 38, 27), 'dlhaines@umich.edu'),\n",
       " (datetime.datetime(2007, 12, 20, 22, 20, 13), 'josrodri@iupui.edu'),\n",
       " (datetime.datetime(2007, 12, 20, 22, 16, 36), 'dlhaines@umich.edu'),\n",
       " (datetime.datetime(2007, 12, 20, 22, 15, 49), 'dlhaines@umich.edu'),\n",
       " (datetime.datetime(2007, 12, 20, 22, 13, 10), 'dlhaines@umich.edu'),\n",
       " (datetime.datetime(2007, 12, 20, 21, 27, 29), 'hu2@iupui.edu'),\n",
       " (datetime.datetime(2007, 12, 20, 18, 58, 30), 'louis@media.berkeley.edu'),\n",
       " (datetime.datetime(2007, 12, 20, 18, 37, 58), 'bkirschn@umich.edu'),\n",
       " (datetime.datetime(2007, 12, 20, 18, 14, 19), 'josrodri@iupui.edu'),\n",
       " (datetime.datetime(2007, 12, 20, 17, 17, 46), 'louis@media.berkeley.edu'),\n",
       " (datetime.datetime(2007, 12, 20, 16, 49, 29), 'zqian@umich.edu'),\n",
       " (datetime.datetime(2007, 12, 20, 16, 35, 8), 'cwen@iupui.edu'),\n",
       " (datetime.datetime(2007, 12, 20, 16, 33, 42), 'cwen@iupui.edu'),\n",
       " (datetime.datetime(2007, 12, 20, 16, 33, 24), 'cwen@iupui.edu'),\n",
       " (datetime.datetime(2007, 12, 20, 16, 33, 20), 'cwen@iupui.edu'),\n",
       " (datetime.datetime(2007, 12, 20, 16, 26, 10), 'josrodri@iupui.edu'),\n",
       " (datetime.datetime(2007, 12, 20, 15, 33, 33), 'cwen@iupui.edu'),\n",
       " (datetime.datetime(2007, 12, 20, 15, 31, 6), 'cwen@iupui.edu'),\n",
       " (datetime.datetime(2007, 12, 20, 15, 26, 29), 'hu2@iupui.edu'),\n",
       " (datetime.datetime(2007, 12, 20, 14, 9, 9), 'cwen@iupui.edu'),\n",
       " (datetime.datetime(2007, 12, 20, 13, 38, 53), 'tnguyen@iupui.edu'),\n",
       " (datetime.datetime(2007, 12, 20, 13, 13, 44), 'sgithens@caret.cam.ac.uk'),\n",
       " (datetime.datetime(2007, 12, 20, 11, 58, 5), 'arwhyte@umich.edu'),\n",
       " (datetime.datetime(2007, 12, 20, 11, 21, 33), 'rjlowe@iupui.edu'),\n",
       " (datetime.datetime(2007, 12, 20, 10, 45, 35), 'cwen@iupui.edu'),\n",
       " (datetime.datetime(2007, 12, 20, 10, 34, 22), 'cwen@iupui.edu'),\n",
       " (datetime.datetime(2007, 12, 20, 10, 29, 44), 'cwen@iupui.edu'),\n",
       " (datetime.datetime(2007, 12, 20, 10, 14, 41), 'zqian@umich.edu'),\n",
       " (datetime.datetime(2007, 12, 20, 10, 1, 26), 'david.horwitz@uct.ac.za'),\n",
       " (datetime.datetime(2007, 12, 20, 9, 59, 36), 'josrodri@iupui.edu'),\n",
       " (datetime.datetime(2007, 12, 20, 9, 45, 28), 'sgithens@caret.cam.ac.uk'),\n",
       " (datetime.datetime(2007, 12, 20, 9, 44, 42), 'sgithens@caret.cam.ac.uk'),\n",
       " (datetime.datetime(2007, 12, 20, 9, 44, 19), 'sgithens@caret.cam.ac.uk'),\n",
       " (datetime.datetime(2007, 12, 20, 9, 44, 1), 'sgithens@caret.cam.ac.uk'),\n",
       " (datetime.datetime(2007, 12, 20, 9, 41, 26), 'sgithens@caret.cam.ac.uk'),\n",
       " (datetime.datetime(2007, 12, 20, 9, 40, 57), 'sgithens@caret.cam.ac.uk'),\n",
       " (datetime.datetime(2007, 12, 20, 9, 40, 24), 'sgithens@caret.cam.ac.uk'),\n",
       " (datetime.datetime(2007, 12, 20, 9, 40, 9), 'sgithens@caret.cam.ac.uk'),\n",
       " (datetime.datetime(2007, 12, 20, 9, 39, 29), 'sgithens@caret.cam.ac.uk'),\n",
       " (datetime.datetime(2007, 12, 20, 9, 38, 43), 'sgithens@caret.cam.ac.uk'),\n",
       " (datetime.datetime(2007, 12, 20, 9, 38, 22), 'sgithens@caret.cam.ac.uk'),\n",
       " (datetime.datetime(2007, 12, 20, 9, 38, 8), 'sgithens@caret.cam.ac.uk'),\n",
       " (datetime.datetime(2007, 12, 20, 9, 37, 42), 'sgithens@caret.cam.ac.uk'),\n",
       " (datetime.datetime(2007, 12, 20, 9, 23, 59), 'sgithens@caret.cam.ac.uk'),\n",
       " (datetime.datetime(2007, 12, 20, 9, 23, 3), 'sgithens@caret.cam.ac.uk'),\n",
       " (datetime.datetime(2007, 12, 20, 9, 12, 51), 'sgithens@caret.cam.ac.uk'),\n",
       " (datetime.datetime(2007, 12, 20, 9, 6, 25), 'sgithens@caret.cam.ac.uk'),\n",
       " (datetime.datetime(2007, 12, 20, 7, 59, 57), 'david.horwitz@uct.ac.za'),\n",
       " (datetime.datetime(2007, 12, 20, 7, 38, 46), 'dlhaines@umich.edu'),\n",
       " (datetime.datetime(2007, 12, 20, 6, 43, 49), 'stephen.marquard@uct.ac.za'),\n",
       " (datetime.datetime(2007, 12, 20, 5, 49, 17), 'david.horwitz@uct.ac.za'),\n",
       " (datetime.datetime(2007, 12, 20, 5, 39, 52), 'david.horwitz@uct.ac.za'),\n",
       " (datetime.datetime(2007, 12, 20, 4, 22, 43), 'stephen.marquard@uct.ac.za'),\n",
       " (datetime.datetime(2007, 12, 20, 4, 19, 28), 'stephen.marquard@uct.ac.za'),\n",
       " (datetime.datetime(2007, 12, 20, 4, 13, 41), 'david.horwitz@uct.ac.za'),\n",
       " (datetime.datetime(2007, 12, 20, 3, 59, 12), 'david.horwitz@uct.ac.za'),\n",
       " (datetime.datetime(2007, 12, 19, 22, 24, 21), 'zqian@umich.edu'),\n",
       " (datetime.datetime(2007, 12, 19, 22, 20, 3), 'zqian@umich.edu'),\n",
       " (datetime.datetime(2007, 12, 19, 22, 10, 31), 'gbhatnag@umich.edu'),\n",
       " (datetime.datetime(2007, 12, 19, 20, 6, 47), 'dlhaines@umich.edu'),\n",
       " (datetime.datetime(2007, 12, 19, 18, 25, 16), 'jimeng@umich.edu'),\n",
       " (datetime.datetime(2007, 12, 19, 17, 21, 39), 'cwen@iupui.edu'),\n",
       " (datetime.datetime(2007, 12, 19, 17, 17, 31), 'cwen@iupui.edu'),\n",
       " (datetime.datetime(2007, 12, 19, 16, 57, 25), 'cwen@iupui.edu'),\n",
       " (datetime.datetime(2007, 12, 19, 16, 55, 50), 'cwen@iupui.edu'),\n",
       " (datetime.datetime(2007, 12, 19, 16, 54, 12), 'cwen@iupui.edu'),\n",
       " (datetime.datetime(2007, 12, 19, 16, 52, 58), 'ray@media.berkeley.edu'),\n",
       " (datetime.datetime(2007, 12, 19, 16, 49, 25), 'rjlowe@iupui.edu'),\n",
       " (datetime.datetime(2007, 12, 19, 16, 37, 53), 'jimeng@umich.edu'),\n",
       " (datetime.datetime(2007, 12, 19, 16, 22, 38), 'wagnermr@iupui.edu'),\n",
       " (datetime.datetime(2007, 12, 19, 15, 49), 'cwen@iupui.edu'),\n",
       " (datetime.datetime(2007, 12, 19, 15, 45, 35), 'cwen@iupui.edu'),\n",
       " (datetime.datetime(2007, 12, 19, 15, 40, 31), 'wagnermr@iupui.edu'),\n",
       " (datetime.datetime(2007, 12, 19, 15, 17, 58), 'cwen@iupui.edu'),\n",
       " (datetime.datetime(2007, 12, 19, 14, 48, 33), 'gsilver@umich.edu'),\n",
       " (datetime.datetime(2007, 12, 19, 14, 48, 16), 'gsilver@umich.edu'),\n",
       " (datetime.datetime(2007, 12, 19, 14, 35, 41), 'gsilver@umich.edu'),\n",
       " (datetime.datetime(2007, 12, 19, 14, 25, 19), 'cwen@iupui.edu'),\n",
       " (datetime.datetime(2007, 12, 19, 14, 17, 59), 'cwen@iupui.edu'),\n",
       " (datetime.datetime(2007, 12, 19, 14, 12, 22), 'cwen@iupui.edu'),\n",
       " (datetime.datetime(2007, 12, 19, 13, 31, 20), 'stephen.marquard@uct.ac.za'),\n",
       " (datetime.datetime(2007, 12, 19, 13, 30, 53), 'gjthomas@iupui.edu'),\n",
       " (datetime.datetime(2007, 12, 19, 12, 36, 42), 'dlhaines@umich.edu'),\n",
       " (datetime.datetime(2007, 12, 19, 12, 27, 48), 'zqian@umich.edu'),\n",
       " (datetime.datetime(2007, 12, 19, 11, 24, 30), 'cwen@iupui.edu'),\n",
       " (datetime.datetime(2007, 12, 19, 11, 0, 10), 'jimeng@umich.edu'),\n",
       " (datetime.datetime(2007, 12, 19, 10, 34, 30), 'a.fish@lancaster.ac.uk'),\n",
       " (datetime.datetime(2007, 12, 19, 10, 28, 8), 'a.fish@lancaster.ac.uk'),\n",
       " (datetime.datetime(2007, 12, 19, 9, 45, 21), 'cwen@iupui.edu'),\n",
       " (datetime.datetime(2007, 12, 19, 9, 35, 37), 'gsilver@umich.edu'),\n",
       " (datetime.datetime(2007, 12, 19, 8, 47, 43), 'cwen@iupui.edu'),\n",
       " (datetime.datetime(2007, 12, 19, 8, 41, 55), 'stuart.freeman@et.gatech.edu'),\n",
       " (datetime.datetime(2007, 12, 19, 8, 39, 56), 'wagnermr@iupui.edu'),\n",
       " (datetime.datetime(2007, 12, 19, 8, 35, 4), 'stuart.freeman@et.gatech.edu'),\n",
       " (datetime.datetime(2007, 12, 19, 3, 40, 33), 'stephen.marquard@uct.ac.za'),\n",
       " (datetime.datetime(2007, 12, 19, 3, 20, 57), 'stephen.marquard@uct.ac.za'),\n",
       " (datetime.datetime(2007, 12, 19, 3, 8, 44), 'stephen.marquard@uct.ac.za'),\n",
       " (datetime.datetime(2007, 12, 19, 2, 55, 9), 'stephen.marquard@uct.ac.za'),\n",
       " (datetime.datetime(2007, 12, 19, 2, 40, 51), 'stephen.marquard@uct.ac.za'),\n",
       " (datetime.datetime(2007, 12, 18, 20, 32, 23), 'louis@media.berkeley.edu'),\n",
       " (datetime.datetime(2007, 12, 18, 17, 42, 9), 'gsilver@umich.edu'),\n",
       " (datetime.datetime(2007, 12, 18, 17, 6, 49), 'cwen@iupui.edu'),\n",
       " (datetime.datetime(2007, 12, 18, 17, 5, 9), 'cwen@iupui.edu'),\n",
       " (datetime.datetime(2007, 12, 18, 17, 0, 38), 'tnguyen@iupui.edu'),\n",
       " (datetime.datetime(2007, 12, 18, 16, 50, 28), 'cwen@iupui.edu'),\n",
       " (datetime.datetime(2007, 12, 18, 16, 44, 12), 'bkirschn@umich.edu'),\n",
       " (datetime.datetime(2007, 12, 18, 16, 37, 57), 'cwen@iupui.edu'),\n",
       " (datetime.datetime(2007, 12, 18, 16, 30, 58), 'chmaurer@iupui.edu'),\n",
       " (datetime.datetime(2007, 12, 18, 16, 27, 26), 'tnguyen@iupui.edu'),\n",
       " (datetime.datetime(2007, 12, 18, 16, 19, 47), 'cwen@iupui.edu'),\n",
       " (datetime.datetime(2007, 12, 18, 16, 16, 17), 'tnguyen@iupui.edu'),\n",
       " (datetime.datetime(2007, 12, 18, 16, 14, 3), 'cwen@iupui.edu'),\n",
       " (datetime.datetime(2007, 12, 18, 16, 12, 29), 'dlhaines@umich.edu'),\n",
       " (datetime.datetime(2007, 12, 18, 16, 9, 13), 'cwen@iupui.edu'),\n",
       " (datetime.datetime(2007, 12, 18, 16, 3, 46), 'jimeng@umich.edu'),\n",
       " (datetime.datetime(2007, 12, 18, 16, 2, 31), 'jimeng@umich.edu'),\n",
       " (datetime.datetime(2007, 12, 18, 15, 59, 19), 'cwen@iupui.edu'),\n",
       " (datetime.datetime(2007, 12, 18, 15, 47, 50), 'cwen@iupui.edu'),\n",
       " (datetime.datetime(2007, 12, 18, 15, 46, 20), 'ajpoland@iupui.edu'),\n",
       " (datetime.datetime(2007, 12, 18, 14, 52, 27), 'josrodri@iupui.edu'),\n",
       " (datetime.datetime(2007, 12, 18, 13, 10, 18), 'gjthomas@iupui.edu'),\n",
       " (datetime.datetime(2007, 12, 18, 13, 7, 45), 'gjthomas@iupui.edu'),\n",
       " (datetime.datetime(2007, 12, 18, 13, 6, 16), 'gjthomas@iupui.edu'),\n",
       " (datetime.datetime(2007, 12, 18, 13, 6, 11), 'gjthomas@iupui.edu'),\n",
       " (datetime.datetime(2007, 12, 18, 13, 6, 2), 'gjthomas@iupui.edu'),\n",
       " (datetime.datetime(2007, 12, 18, 13, 5, 37), 'dlhaines@umich.edu'),\n",
       " (datetime.datetime(2007, 12, 18, 12, 53, 15), 'gjthomas@iupui.edu'),\n",
       " (datetime.datetime(2007, 12, 18, 12, 53, 2), 'gjthomas@iupui.edu'),\n",
       " (datetime.datetime(2007, 12, 18, 12, 48, 34), 'gjthomas@iupui.edu'),\n",
       " (datetime.datetime(2007, 12, 18, 12, 48, 16), 'gjthomas@iupui.edu'),\n",
       " (datetime.datetime(2007, 12, 18, 12, 48, 16), 'gjthomas@iupui.edu'),\n",
       " (datetime.datetime(2007, 12, 18, 12, 47, 34), 'gjthomas@iupui.edu'),\n",
       " (datetime.datetime(2007, 12, 18, 12, 44, 5), 'gsilver@umich.edu'),\n",
       " (datetime.datetime(2007, 12, 18, 12, 43, 58), 'ian@caret.cam.ac.uk'),\n",
       " (datetime.datetime(2007, 12, 18, 12, 43, 41), 'cwen@iupui.edu'),\n",
       " (datetime.datetime(2007, 12, 18, 12, 30, 51), 'cwen@iupui.edu'),\n",
       " (datetime.datetime(2007, 12, 18, 12, 23, 24), 'lance@indiana.edu'),\n",
       " (datetime.datetime(2007, 12, 18, 12, 18, 50), 'lance@indiana.edu'),\n",
       " (datetime.datetime(2007, 12, 18, 12, 17, 23), 'dlhaines@umich.edu'),\n",
       " (datetime.datetime(2007, 12, 18, 12, 7, 31), 'lance@indiana.edu'),\n",
       " (datetime.datetime(2007, 12, 18, 12, 5, 5), 'chmaurer@iupui.edu'),\n",
       " (datetime.datetime(2007, 12, 18, 12, 3, 33), 'ian@caret.cam.ac.uk'),\n",
       " (datetime.datetime(2007, 12, 18, 12, 1, 8), 'lance@indiana.edu'),\n",
       " (datetime.datetime(2007, 12, 18, 11, 41, 26), 'lance@indiana.edu'),\n",
       " (datetime.datetime(2007, 12, 18, 11, 25, 56), 'cwen@iupui.edu'),\n",
       " (datetime.datetime(2007, 12, 18, 11, 15, 17), 'cwen@iupui.edu'),\n",
       " (datetime.datetime(2007, 12, 18, 11, 8, 59), 'cwen@iupui.edu'),\n",
       " (datetime.datetime(2007, 12, 18, 10, 32, 17), 'ajpoland@iupui.edu'),\n",
       " (datetime.datetime(2007, 12, 18, 9, 58, 37), 'cwen@iupui.edu'),\n",
       " (datetime.datetime(2007, 12, 18, 9, 30, 37), 'gjthomas@iupui.edu'),\n",
       " (datetime.datetime(2007, 12, 18, 9, 19, 42), 'gjthomas@iupui.edu'),\n",
       " (datetime.datetime(2007, 12, 18, 9, 8, 11), 'stephen.marquard@uct.ac.za'),\n",
       " (datetime.datetime(2007, 12, 18, 8, 42, 24), 'chmaurer@iupui.edu'),\n",
       " (datetime.datetime(2007, 12, 18, 8, 35, 44), 'chmaurer@iupui.edu'),\n",
       " (datetime.datetime(2007, 12, 18, 8, 18, 36), 'chmaurer@iupui.edu'),\n",
       " (datetime.datetime(2007, 12, 18, 7, 49, 52), 'stephen.marquard@uct.ac.za'),\n",
       " (datetime.datetime(2007, 12, 18, 7, 49, 28), 'stephen.marquard@uct.ac.za'),\n",
       " (datetime.datetime(2007, 12, 18, 7, 49, 19), 'stephen.marquard@uct.ac.za'),\n",
       " (datetime.datetime(2007, 12, 18, 7, 49, 6), 'stephen.marquard@uct.ac.za'),\n",
       " (datetime.datetime(2007, 12, 18, 7, 47, 38), 'stephen.marquard@uct.ac.za'),\n",
       " (datetime.datetime(2007, 12, 18, 6, 56, 24), 'stephen.marquard@uct.ac.za'),\n",
       " (datetime.datetime(2007, 12, 18, 6, 55, 54), 'stephen.marquard@uct.ac.za'),\n",
       " (datetime.datetime(2007, 12, 18, 6, 51, 56), 'stephen.marquard@uct.ac.za'),\n",
       " (datetime.datetime(2007, 12, 18, 6, 50, 2), 'stephen.marquard@uct.ac.za'),\n",
       " (datetime.datetime(2007, 12, 18, 6, 33, 34), 'stephen.marquard@uct.ac.za'),\n",
       " (datetime.datetime(2007, 12, 18, 6, 32, 11), 'stephen.marquard@uct.ac.za'),\n",
       " (datetime.datetime(2007, 12, 18, 6, 31, 24), 'stephen.marquard@uct.ac.za'),\n",
       " (datetime.datetime(2007, 12, 18, 6, 30, 59), 'ian@caret.cam.ac.uk'),\n",
       " (datetime.datetime(2007, 12, 17, 17, 15, 54), 'rjlowe@iupui.edu'),\n",
       " (datetime.datetime(2007, 12, 17, 17, 12, 12), 'wagnermr@iupui.edu'),\n",
       " (datetime.datetime(2007, 12, 17, 17, 0, 2), 'arwhyte@umich.edu'),\n",
       " (datetime.datetime(2007, 12, 17, 16, 56, 3), 'arwhyte@umich.edu'),\n",
       " (datetime.datetime(2007, 12, 17, 16, 41, 5), 'louis@media.berkeley.edu'),\n",
       " (datetime.datetime(2007, 12, 17, 16, 34, 16), 'ian@caret.cam.ac.uk'),\n",
       " (datetime.datetime(2007, 12, 17, 16, 30, 5), 'wagnermr@iupui.edu'),\n",
       " (datetime.datetime(2007, 12, 17, 16, 20, 51), 'wagnermr@iupui.edu'),\n",
       " (datetime.datetime(2007, 12, 17, 16, 4, 53), 'gsilver@umich.edu'),\n",
       " (datetime.datetime(2007, 12, 17, 15, 38, 59), 'wagnermr@iupui.edu'),\n",
       " (datetime.datetime(2007, 12, 17, 15, 28, 2), 'zqian@umich.edu'),\n",
       " (datetime.datetime(2007, 12, 17, 15, 20, 58), 'wagnermr@iupui.edu'),\n",
       " (datetime.datetime(2007, 12, 17, 15, 18, 47), 'stuart.freeman@et.gatech.edu'),\n",
       " (datetime.datetime(2007, 12, 17, 15, 14, 24), 'cwen@iupui.edu'),\n",
       " (datetime.datetime(2007, 12, 17, 14, 23, 58), 'mmmay@indiana.edu'),\n",
       " (datetime.datetime(2007, 12, 17, 14, 21, 29), 'mmmay@indiana.edu'),\n",
       " (datetime.datetime(2007, 12, 17, 14, 20, 43), 'ssmail@indiana.edu'),\n",
       " (datetime.datetime(2007, 12, 17, 14, 19, 51), 'cwen@iupui.edu'),\n",
       " (datetime.datetime(2007, 12, 17, 14, 19, 49), 'mmmay@indiana.edu'),\n",
       " (datetime.datetime(2007, 12, 17, 14, 18, 31), 'mmmay@indiana.edu'),\n",
       " (datetime.datetime(2007, 12, 17, 14, 15, 18), 'cwen@iupui.edu'),\n",
       " (datetime.datetime(2007, 12, 17, 14, 14, 55), 'wagnermr@iupui.edu'),\n",
       " (datetime.datetime(2007, 12, 17, 14, 12, 16), 'rjlowe@iupui.edu'),\n",
       " (datetime.datetime(2007, 12, 17, 13, 37, 50), 'dlhaines@umich.edu'),\n",
       " (datetime.datetime(2007, 12, 17, 13, 34, 32), 'jlrenfro@ucdavis.edu'),\n",
       " (datetime.datetime(2007, 12, 17, 13, 31, 25), 'cwen@iupui.edu'),\n",
       " (datetime.datetime(2007, 12, 17, 13, 31, 13), 'zqian@umich.edu'),\n",
       " (datetime.datetime(2007, 12, 17, 13, 17, 8), 'arwhyte@umich.edu'),\n",
       " (datetime.datetime(2007, 12, 17, 12, 29, 53), 'cwen@iupui.edu'),\n",
       " (datetime.datetime(2007, 12, 17, 12, 17, 25), 'cwen@iupui.edu'),\n",
       " (datetime.datetime(2007, 12, 17, 12, 7), 'nuno@ufp.pt'),\n",
       " (datetime.datetime(2007, 12, 17, 11, 56, 50), 'wagnermr@iupui.edu'),\n",
       " (datetime.datetime(2007, 12, 17, 11, 52, 30), 'ian@caret.cam.ac.uk'),\n",
       " (datetime.datetime(2007, 12, 17, 11, 52, 21), 'ian@caret.cam.ac.uk'),\n",
       " (datetime.datetime(2007, 12, 17, 11, 51, 47), 'ian@caret.cam.ac.uk'),\n",
       " (datetime.datetime(2007, 12, 17, 11, 49, 46), 'ian@caret.cam.ac.uk'),\n",
       " (datetime.datetime(2007, 12, 17, 11, 48, 19), 'nuno@ufp.pt'),\n",
       " (datetime.datetime(2007, 12, 17, 11, 48, 17), 'ian@caret.cam.ac.uk'),\n",
       " (datetime.datetime(2007, 12, 17, 11, 47, 49), 'ian@caret.cam.ac.uk'),\n",
       " (datetime.datetime(2007, 12, 17, 11, 45, 33), 'cwen@iupui.edu'),\n",
       " (datetime.datetime(2007, 12, 17, 11, 38, 15), 'cwen@iupui.edu'),\n",
       " (datetime.datetime(2007, 12, 17, 11, 12, 38), 'arwhyte@umich.edu'),\n",
       " (datetime.datetime(2007, 12, 17, 11, 10, 5), 'arwhyte@umich.edu'),\n",
       " (datetime.datetime(2007, 12, 17, 10, 53, 50), 'rjlowe@iupui.edu'),\n",
       " (datetime.datetime(2007, 12, 17, 10, 0, 58), 'wagnermr@iupui.edu'),\n",
       " (datetime.datetime(2007, 12, 17, 9, 36, 13), 'gjthomas@iupui.edu'),\n",
       " (datetime.datetime(2007, 12, 17, 9, 23, 44), 'nuno@ufp.pt'),\n",
       " (datetime.datetime(2007, 12, 17, 9, 20, 51), 'wagnermr@iupui.edu'),\n",
       " (datetime.datetime(2007, 12, 17, 8, 56, 39), 'cwen@iupui.edu'),\n",
       " (datetime.datetime(2007, 12, 17, 8, 32, 45), 'ian@caret.cam.ac.uk'),\n",
       " (datetime.datetime(2007, 12, 17, 8, 27, 11), 'cwen@iupui.edu'),\n",
       " (datetime.datetime(2007, 12, 17, 8, 18, 14), 'cwen@iupui.edu'),\n",
       " (datetime.datetime(2007, 12, 17, 6, 8, 47), 'ian@caret.cam.ac.uk'),\n",
       " (datetime.datetime(2007, 12, 17, 5, 20, 55), 'ian@caret.cam.ac.uk'),\n",
       " (datetime.datetime(2007, 12, 17, 4, 37, 9), 'sgithens@caret.cam.ac.uk'),\n",
       " (datetime.datetime(2007, 12, 17, 0, 25, 8), 'arwhyte@umich.edu'),\n",
       " (datetime.datetime(2007, 12, 17, 0, 23, 26), 'arwhyte@umich.edu'),\n",
       " (datetime.datetime(2007, 12, 17, 0, 2, 37), 'zach.thomas@txstate.edu'),\n",
       " (datetime.datetime(2007, 12, 16, 23, 50, 58), 'zach.thomas@txstate.edu'),\n",
       " (datetime.datetime(2007, 12, 16, 23, 7, 56), 'zach.thomas@txstate.edu'),\n",
       " (datetime.datetime(2007, 12, 16, 22, 43, 26), 'zach.thomas@txstate.edu'),\n",
       " (datetime.datetime(2007, 12, 16, 22, 40, 14), 'zach.thomas@txstate.edu'),\n",
       " (datetime.datetime(2007, 12, 16, 22, 29, 54), 'zach.thomas@txstate.edu'),\n",
       " (datetime.datetime(2007, 12, 16, 22, 25, 32), 'zach.thomas@txstate.edu'),\n",
       " (datetime.datetime(2007, 12, 16, 22, 1, 55), 'zach.thomas@txstate.edu'),\n",
       " (datetime.datetime(2007, 12, 16, 21, 34, 16), 'jimeng@umich.edu'),\n",
       " (datetime.datetime(2007, 12, 16, 21, 25, 56), 'jimeng@umich.edu'),\n",
       " (datetime.datetime(2007, 12, 16, 20, 40, 46), 'arwhyte@umich.edu'),\n",
       " (datetime.datetime(2007, 12, 16, 16, 53, 56), 'josrodri@iupui.edu'),\n",
       " (datetime.datetime(2007, 12, 16, 13, 12, 31), 'arwhyte@umich.edu'),\n",
       " (datetime.datetime(2007, 12, 16, 9, 52, 42), 'josrodri@iupui.edu'),\n",
       " (datetime.datetime(2007, 12, 16, 3, 59, 13), 'stephen.marquard@uct.ac.za'),\n",
       " (datetime.datetime(2007, 12, 16, 3, 57, 28), 'stephen.marquard@uct.ac.za'),\n",
       " (datetime.datetime(2007, 12, 15, 23, 54, 43), 'gjthomas@iupui.edu'),\n",
       " (datetime.datetime(2007, 12, 15, 20, 28, 44), 'cwen@iupui.edu'),\n",
       " (datetime.datetime(2007, 12, 15, 20, 23, 3), 'cwen@iupui.edu'),\n",
       " (datetime.datetime(2007, 12, 15, 20, 2, 54), 'cwen@iupui.edu'),\n",
       " (datetime.datetime(2007, 12, 15, 19, 34, 23), 'cwen@iupui.edu'),\n",
       " (datetime.datetime(2007, 12, 15, 18, 31, 44), 'gjthomas@iupui.edu'),\n",
       " (datetime.datetime(2007, 12, 15, 18, 8, 1), 'cwen@iupui.edu'),\n",
       " (datetime.datetime(2007, 12, 15, 18, 6, 9), 'cwen@iupui.edu'),\n",
       " (datetime.datetime(2007, 12, 15, 17, 56, 27), 'cwen@iupui.edu'),\n",
       " (datetime.datetime(2007, 12, 15, 17, 54, 27), 'cwen@iupui.edu'),\n",
       " (datetime.datetime(2007, 12, 15, 17, 19, 55), 'cwen@iupui.edu'),\n",
       " (datetime.datetime(2007, 12, 15, 17, 18, 57), 'cwen@iupui.edu'),\n",
       " (datetime.datetime(2007, 12, 15, 15, 2, 52), 'cwen@iupui.edu'),\n",
       " (datetime.datetime(2007, 12, 15, 14, 59, 52), 'cwen@iupui.edu'),\n",
       " (datetime.datetime(2007, 12, 15, 14, 30, 24), 'cwen@iupui.edu'),\n",
       " (datetime.datetime(2007, 12, 15, 14, 23, 15), 'cwen@iupui.edu'),\n",
       " (datetime.datetime(2007, 12, 15, 14, 4, 44), 'cwen@iupui.edu'),\n",
       " (datetime.datetime(2007, 12, 15, 13, 18, 12), 'cwen@iupui.edu'),\n",
       " (datetime.datetime(2007, 12, 15, 12, 29, 53), 'ian@caret.cam.ac.uk'),\n",
       " (datetime.datetime(2007, 12, 15, 12, 11, 18), 'cwen@iupui.edu'),\n",
       " (datetime.datetime(2007, 12, 15, 8, 54, 18), 'tnguyen@iupui.edu'),\n",
       " (datetime.datetime(2007, 12, 15, 1, 32, 11), 'cwen@iupui.edu'),\n",
       " (datetime.datetime(2007, 12, 15, 1, 28, 22), 'cwen@iupui.edu'),\n",
       " (datetime.datetime(2007, 12, 15, 1, 21, 59), 'cwen@iupui.edu'),\n",
       " (datetime.datetime(2007, 12, 14, 20, 12, 54), 'ian@caret.cam.ac.uk'),\n",
       " (datetime.datetime(2007, 12, 14, 19, 51, 25), 'cwen@iupui.edu'),\n",
       " (datetime.datetime(2007, 12, 14, 19, 47, 25), 'ian@caret.cam.ac.uk'),\n",
       " (datetime.datetime(2007, 12, 14, 19, 45, 16), 'ian@caret.cam.ac.uk'),\n",
       " (datetime.datetime(2007, 12, 14, 18, 50, 15), 'mmmay@indiana.edu'),\n",
       " (datetime.datetime(2007, 12, 14, 18, 18, 19), 'louis@media.berkeley.edu'),\n",
       " (datetime.datetime(2007, 12, 14, 18, 12, 25), 'louis@media.berkeley.edu'),\n",
       " (datetime.datetime(2007, 12, 14, 18, 12, 22), 'louis@media.berkeley.edu'),\n",
       " (datetime.datetime(2007, 12, 14, 18, 12, 21), 'cwen@iupui.edu'),\n",
       " (datetime.datetime(2007, 12, 14, 18, 12, 20), 'louis@media.berkeley.edu'),\n",
       " (datetime.datetime(2007, 12, 14, 18, 11, 25), 'louis@media.berkeley.edu'),\n",
       " (datetime.datetime(2007, 12, 14, 17, 55, 41), 'cwen@iupui.edu'),\n",
       " (datetime.datetime(2007, 12, 14, 17, 54, 57), 'cwen@iupui.edu'),\n",
       " (datetime.datetime(2007, 12, 14, 17, 44, 57), 'louis@media.berkeley.edu'),\n",
       " (datetime.datetime(2007, 12, 14, 17, 44, 35), 'louis@media.berkeley.edu'),\n",
       " (datetime.datetime(2007, 12, 14, 17, 44, 10), 'louis@media.berkeley.edu'),\n",
       " (datetime.datetime(2007, 12, 14, 17, 43, 59), 'louis@media.berkeley.edu'),\n",
       " (datetime.datetime(2007, 12, 14, 16, 50, 38), 'cwen@iupui.edu'),\n",
       " (datetime.datetime(2007, 12, 14, 16, 24, 37), 'bkirschn@umich.edu'),\n",
       " (datetime.datetime(2007, 12, 14, 16, 13, 52), 'ian@caret.cam.ac.uk'),\n",
       " (datetime.datetime(2007, 12, 14, 16, 7, 40), 'cwen@iupui.edu'),\n",
       " (datetime.datetime(2007, 12, 14, 16, 2, 35), 'cwen@iupui.edu'),\n",
       " (datetime.datetime(2007, 12, 14, 15, 46, 12), 'cwen@iupui.edu'),\n",
       " (datetime.datetime(2007, 12, 14, 15, 43, 53), 'cwen@iupui.edu'),\n",
       " (datetime.datetime(2007, 12, 14, 15, 35, 13), 'cwen@iupui.edu'),\n",
       " (datetime.datetime(2007, 12, 14, 15, 22, 19), 'cwen@iupui.edu'),\n",
       " (datetime.datetime(2007, 12, 14, 15, 13, 5), 'cwen@iupui.edu'),\n",
       " (datetime.datetime(2007, 12, 14, 15, 5, 16), 'dlhaines@umich.edu'),\n",
       " (datetime.datetime(2007, 12, 14, 15, 0, 38), 'zqian@umich.edu'),\n",
       " (datetime.datetime(2007, 12, 14, 14, 58, 54), 'mmmay@indiana.edu'),\n",
       " (datetime.datetime(2007, 12, 14, 14, 58, 35), 'cwen@iupui.edu'),\n",
       " (datetime.datetime(2007, 12, 14, 14, 56, 55), 'mmmay@indiana.edu'),\n",
       " (datetime.datetime(2007, 12, 14, 14, 44, 8), 'cwen@iupui.edu'),\n",
       " (datetime.datetime(2007, 12, 14, 14, 38, 56), 'cwen@iupui.edu'),\n",
       " (datetime.datetime(2007, 12, 14, 12, 30, 26), 'lance@indiana.edu'),\n",
       " (datetime.datetime(2007, 12, 14, 11, 37, 9), 'cwen@iupui.edu'),\n",
       " (datetime.datetime(2007, 12, 14, 11, 34), 'cwen@iupui.edu'),\n",
       " (datetime.datetime(2007, 12, 14, 11, 29, 44), 'cwen@iupui.edu'),\n",
       " (datetime.datetime(2007, 12, 14, 11, 25, 17), 'cwen@iupui.edu'),\n",
       " (datetime.datetime(2007, 12, 14, 11, 9, 19), 'cwen@iupui.edu'),\n",
       " (datetime.datetime(2007, 12, 14, 11, 7, 48), 'josrodri@iupui.edu'),\n",
       " (datetime.datetime(2007, 12, 14, 11, 2, 9), 'cwen@iupui.edu'),\n",
       " (datetime.datetime(2007, 12, 14, 10, 55, 48), 'cwen@iupui.edu'),\n",
       " (datetime.datetime(2007, 12, 14, 10, 32, 16), 'cwen@iupui.edu'),\n",
       " (datetime.datetime(2007, 12, 14, 10, 24, 54), 'cwen@iupui.edu'),\n",
       " (datetime.datetime(2007, 12, 14, 10, 7, 56), 'cwen@iupui.edu'),\n",
       " (datetime.datetime(2007, 12, 14, 10, 6, 58), 'cwen@iupui.edu'),\n",
       " (datetime.datetime(2007, 12, 14, 9, 47, 59), 'cwen@iupui.edu'),\n",
       " (datetime.datetime(2007, 12, 14, 9, 42, 50), 'cwen@iupui.edu'),\n",
       " (datetime.datetime(2007, 12, 14, 9, 18, 44), 'cwen@iupui.edu'),\n",
       " (datetime.datetime(2007, 12, 14, 9, 15, 39), 'cwen@iupui.edu'),\n",
       " (datetime.datetime(2007, 12, 14, 9, 2, 32), 'cwen@iupui.edu'),\n",
       " (datetime.datetime(2007, 12, 14, 8, 40, 34), 'cwen@iupui.edu'),\n",
       " (datetime.datetime(2007, 12, 14, 8, 37, 16), 'cwen@iupui.edu'),\n",
       " (datetime.datetime(2007, 12, 14, 8, 31, 45), 'cwen@iupui.edu'),\n",
       " (datetime.datetime(2007, 12, 14, 3, 31, 9), 'david.horwitz@uct.ac.za'),\n",
       " (datetime.datetime(2007, 12, 13, 21, 22, 17), 'rjlowe@iupui.edu'),\n",
       " (datetime.datetime(2007, 12, 13, 21, 22, 1), 'sgithens@caret.cam.ac.uk'),\n",
       " (datetime.datetime(2007, 12, 13, 18, 33, 7), 'louis@media.berkeley.edu'),\n",
       " (datetime.datetime(2007, 12, 13, 18, 32, 32), 'louis@media.berkeley.edu'),\n",
       " (datetime.datetime(2007, 12, 13, 18, 25, 49), 'ktsao@stanford.edu'),\n",
       " (datetime.datetime(2007, 12, 13, 18, 11, 24), 'ray@media.berkeley.edu'),\n",
       " (datetime.datetime(2007, 12, 13, 18, 9, 24), 'ian@caret.cam.ac.uk'),\n",
       " (datetime.datetime(2007, 12, 13, 18, 6, 17), 'ian@caret.cam.ac.uk'),\n",
       " (datetime.datetime(2007, 12, 13, 18, 4, 40), 'ian@caret.cam.ac.uk'),\n",
       " (datetime.datetime(2007, 12, 13, 18, 0, 12), 'ian@caret.cam.ac.uk'),\n",
       " (datetime.datetime(2007, 12, 13, 16, 57, 53), 'cwen@iupui.edu'),\n",
       " (datetime.datetime(2007, 12, 13, 16, 48, 42), 'arwhyte@umich.edu'),\n",
       " (datetime.datetime(2007, 12, 13, 16, 47, 25), 'arwhyte@umich.edu'),\n",
       " (datetime.datetime(2007, 12, 13, 16, 41, 21), 'ostermmg@whitman.edu'),\n",
       " (datetime.datetime(2007, 12, 13, 15, 18, 59), 'zqian@umich.edu'),\n",
       " (datetime.datetime(2007, 12, 13, 15, 14, 19), 'zqian@umich.edu'),\n",
       " (datetime.datetime(2007, 12, 13, 15, 6, 14), 'mmmay@indiana.edu'),\n",
       " (datetime.datetime(2007, 12, 13, 14, 59, 52), 'mmmay@indiana.edu'),\n",
       " (datetime.datetime(2007, 12, 13, 14, 58, 54), 'gsilver@umich.edu'),\n",
       " (datetime.datetime(2007, 12, 13, 14, 58, 46), 'gsilver@umich.edu'),\n",
       " (datetime.datetime(2007, 12, 13, 14, 58, 26), 'mmmay@indiana.edu'),\n",
       " (datetime.datetime(2007, 12, 13, 14, 58, 10), 'mmmay@indiana.edu'),\n",
       " (datetime.datetime(2007, 12, 13, 14, 42, 45), 'zqian@umich.edu'),\n",
       " (datetime.datetime(2007, 12, 13, 14, 41, 44), 'zqian@umich.edu'),\n",
       " (datetime.datetime(2007, 12, 13, 14, 41, 38), 'mmmay@indiana.edu'),\n",
       " (datetime.datetime(2007, 12, 13, 14, 41, 24), 'zqian@umich.edu'),\n",
       " (datetime.datetime(2007, 12, 13, 11, 57, 10), 'dlhaines@umich.edu'),\n",
       " (datetime.datetime(2007, 12, 13, 11, 51, 42),\n",
       "  'gopal.ramasammycook@gmail.com'),\n",
       " (datetime.datetime(2007, 12, 13, 11, 16, 40), 'jimeng@umich.edu'),\n",
       " (datetime.datetime(2007, 12, 13, 10, 54, 45), 'josrodri@iupui.edu'),\n",
       " (datetime.datetime(2007, 12, 13, 10, 39, 1), 'nuno@ufp.pt'),\n",
       " (datetime.datetime(2007, 12, 13, 10, 37, 37), 'nuno@ufp.pt'),\n",
       " (datetime.datetime(2007, 12, 13, 10, 36, 26), 'nuno@ufp.pt'),\n",
       " (datetime.datetime(2007, 12, 13, 10, 36, 20), 'nuno@ufp.pt'),\n",
       " (datetime.datetime(2007, 12, 13, 10, 34, 51), 'nuno@ufp.pt'),\n",
       " (datetime.datetime(2007, 12, 13, 10, 34, 12), 'nuno@ufp.pt'),\n",
       " (datetime.datetime(2007, 12, 13, 10, 32, 51), 'nuno@ufp.pt'),\n",
       " (datetime.datetime(2007, 12, 13, 10, 32, 29), 'nuno@ufp.pt'),\n",
       " (datetime.datetime(2007, 12, 13, 10, 29, 39), 'nuno@ufp.pt'),\n",
       " (datetime.datetime(2007, 12, 13, 10, 25, 37), 'nuno@ufp.pt'),\n",
       " (datetime.datetime(2007, 12, 13, 10, 25, 18), 'nuno@ufp.pt'),\n",
       " (datetime.datetime(2007, 12, 13, 10, 22, 57), 'nuno@ufp.pt'),\n",
       " (datetime.datetime(2007, 12, 13, 10, 19, 22), 'nuno@ufp.pt'),\n",
       " (datetime.datetime(2007, 12, 13, 10, 18, 18), 'nuno@ufp.pt'),\n",
       " (datetime.datetime(2007, 12, 13, 10, 17, 40), 'nuno@ufp.pt'),\n",
       " (datetime.datetime(2007, 12, 13, 10, 16, 29), 'nuno@ufp.pt'),\n",
       " (datetime.datetime(2007, 12, 13, 10, 15, 36), 'nuno@ufp.pt'),\n",
       " (datetime.datetime(2007, 12, 13, 10, 14, 34), 'nuno@ufp.pt'),\n",
       " (datetime.datetime(2007, 12, 13, 10, 12, 36), 'nuno@ufp.pt'),\n",
       " (datetime.datetime(2007, 12, 13, 10, 10), 'nuno@ufp.pt'),\n",
       " (datetime.datetime(2007, 12, 13, 10, 8, 29), 'nuno@ufp.pt'),\n",
       " (datetime.datetime(2007, 12, 13, 9, 38, 2), 'wagnermr@iupui.edu'),\n",
       " (datetime.datetime(2007, 12, 13, 9, 35, 47), 'cwen@iupui.edu'),\n",
       " (datetime.datetime(2007, 12, 13, 9, 26, 2), 'ian@caret.cam.ac.uk'),\n",
       " (datetime.datetime(2007, 12, 13, 9, 21, 54), 'ian@caret.cam.ac.uk'),\n",
       " (datetime.datetime(2007, 12, 13, 8, 53, 1), 'gopal.ramasammycook@gmail.com'),\n",
       " (datetime.datetime(2007, 12, 13, 8, 44, 32), 'stuart.freeman@et.gatech.edu'),\n",
       " (datetime.datetime(2007, 12, 13, 8, 40, 47), 'cwen@iupui.edu'),\n",
       " (datetime.datetime(2007, 12, 13, 4, 56, 59), 'ian@caret.cam.ac.uk'),\n",
       " (datetime.datetime(2007, 12, 13, 4, 55, 1), 'ian@caret.cam.ac.uk'),\n",
       " (datetime.datetime(2007, 12, 12, 22, 33, 27), 'mmmay@indiana.edu'),\n",
       " (datetime.datetime(2007, 12, 12, 21, 49, 18), 'mmmay@indiana.edu'),\n",
       " (datetime.datetime(2007, 12, 12, 21, 28, 15), 'mmmay@indiana.edu'),\n",
       " (datetime.datetime(2007, 12, 12, 21, 27, 12), 'mmmay@indiana.edu'),\n",
       " (datetime.datetime(2007, 12, 12, 21, 16, 38), 'mmmay@indiana.edu'),\n",
       " (datetime.datetime(2007, 12, 12, 21, 7, 12), 'mmmay@indiana.edu'),\n",
       " (datetime.datetime(2007, 12, 12, 20, 58, 30), 'mmmay@indiana.edu'),\n",
       " (datetime.datetime(2007, 12, 12, 20, 55, 23), 'mmmay@indiana.edu'),\n",
       " (datetime.datetime(2007, 12, 12, 20, 53), 'mmmay@indiana.edu'),\n",
       " (datetime.datetime(2007, 12, 12, 20, 51, 17), 'mmmay@indiana.edu'),\n",
       " (datetime.datetime(2007, 12, 12, 20, 6, 9), 'gjthomas@iupui.edu'),\n",
       " (datetime.datetime(2007, 12, 12, 20, 2, 49), 'gjthomas@iupui.edu'),\n",
       " (datetime.datetime(2007, 12, 12, 19, 53, 27), 'dlhaines@umich.edu'),\n",
       " (datetime.datetime(2007, 12, 12, 16, 27, 2), 'dlhaines@umich.edu'),\n",
       " (datetime.datetime(2007, 12, 12, 16, 20, 55), 'chmaurer@iupui.edu'),\n",
       " (datetime.datetime(2007, 12, 12, 16, 20, 5), 'zqian@umich.edu'),\n",
       " (datetime.datetime(2007, 12, 12, 16, 19, 29), 'jimeng@umich.edu'),\n",
       " (datetime.datetime(2007, 12, 12, 16, 17, 50), 'gjthomas@iupui.edu'),\n",
       " (datetime.datetime(2007, 12, 12, 16, 16, 35), 'gjthomas@iupui.edu'),\n",
       " (datetime.datetime(2007, 12, 12, 16, 5, 10), 'jimeng@umich.edu'),\n",
       " (datetime.datetime(2007, 12, 12, 16, 2, 35), 'zqian@umich.edu'),\n",
       " (datetime.datetime(2007, 12, 12, 16, 2, 1), 'cwen@iupui.edu'),\n",
       " (datetime.datetime(2007, 12, 12, 15, 57, 10), 'arwhyte@umich.edu'),\n",
       " (datetime.datetime(2007, 12, 12, 15, 54, 48), 'chmaurer@iupui.edu'),\n",
       " (datetime.datetime(2007, 12, 12, 15, 53, 44), 'cwen@iupui.edu'),\n",
       " (datetime.datetime(2007, 12, 12, 15, 44, 10), 'chmaurer@iupui.edu'),\n",
       " (datetime.datetime(2007, 12, 12, 15, 42, 9), 'chmaurer@iupui.edu'),\n",
       " (datetime.datetime(2007, 12, 12, 15, 40, 13), 'gjthomas@iupui.edu'),\n",
       " (datetime.datetime(2007, 12, 12, 14, 54, 3), 'dlhaines@umich.edu'),\n",
       " (datetime.datetime(2007, 12, 12, 14, 53, 8), 'dlhaines@umich.edu'),\n",
       " (datetime.datetime(2007, 12, 12, 14, 49, 7), 'josrodri@iupui.edu'),\n",
       " (datetime.datetime(2007, 12, 12, 14, 24, 20), 'dlhaines@umich.edu'),\n",
       " (datetime.datetime(2007, 12, 12, 14, 17, 28), 'jimeng@umich.edu'),\n",
       " (datetime.datetime(2007, 12, 12, 14, 17, 1), 'dlhaines@umich.edu'),\n",
       " (datetime.datetime(2007, 12, 12, 14, 16, 36), 'jimeng@umich.edu'),\n",
       " (datetime.datetime(2007, 12, 12, 13, 0, 27), 'ray@media.berkeley.edu'),\n",
       " (datetime.datetime(2007, 12, 12, 12, 40, 44), 'chmaurer@iupui.edu'),\n",
       " (datetime.datetime(2007, 12, 12, 10, 50, 37), 'cwen@iupui.edu'),\n",
       " (datetime.datetime(2007, 12, 12, 10, 18, 51), 'wagnermr@iupui.edu'),\n",
       " (datetime.datetime(2007, 12, 12, 10, 14, 14), 'cwen@iupui.edu'),\n",
       " (datetime.datetime(2007, 12, 12, 9, 34, 59), 'ssmail@indiana.edu'),\n",
       " (datetime.datetime(2007, 12, 12, 9, 32, 40), 'chmaurer@iupui.edu'),\n",
       " (datetime.datetime(2007, 12, 12, 9, 22, 39), 'chmaurer@iupui.edu'),\n",
       " (datetime.datetime(2007, 12, 12, 9, 21, 40), 'chmaurer@iupui.edu'),\n",
       " (datetime.datetime(2007, 12, 12, 9, 16, 16), 'josrodri@iupui.edu'),\n",
       " (datetime.datetime(2007, 12, 12, 1, 29, 34), 'sgithens@caret.cam.ac.uk'),\n",
       " (datetime.datetime(2007, 12, 11, 23, 56, 36), 'jimeng@umich.edu'),\n",
       " (datetime.datetime(2007, 12, 11, 23, 34, 42), 'jimeng@umich.edu'),\n",
       " (datetime.datetime(2007, 12, 11, 20, 19, 22), 'ktsao@stanford.edu'),\n",
       " (datetime.datetime(2007, 12, 11, 19, 0, 21), 'ray@media.berkeley.edu'),\n",
       " (datetime.datetime(2007, 12, 11, 18, 51, 40), 'ray@media.berkeley.edu'),\n",
       " (datetime.datetime(2007, 12, 11, 18, 42, 3), 'jimeng@umich.edu'),\n",
       " (datetime.datetime(2007, 12, 11, 18, 23, 36), 'louis@media.berkeley.edu'),\n",
       " (datetime.datetime(2007, 12, 11, 17, 56, 15), 'ktsao@stanford.edu'),\n",
       " (datetime.datetime(2007, 12, 11, 17, 42, 41), 'gbhatnag@umich.edu'),\n",
       " (datetime.datetime(2007, 12, 11, 17, 13, 12), 'ktsao@stanford.edu'),\n",
       " (datetime.datetime(2007, 12, 11, 16, 6, 29), 'chmaurer@iupui.edu'),\n",
       " (datetime.datetime(2007, 12, 11, 15, 59, 51), 'chmaurer@iupui.edu'),\n",
       " (datetime.datetime(2007, 12, 11, 15, 58, 22), 'chmaurer@iupui.edu'),\n",
       " (datetime.datetime(2007, 12, 11, 15, 47, 14), 'chmaurer@iupui.edu'),\n",
       " (datetime.datetime(2007, 12, 11, 15, 39, 40), 'chmaurer@iupui.edu'),\n",
       " (datetime.datetime(2007, 12, 11, 15, 12, 31), 'gbhatnag@umich.edu'),\n",
       " (datetime.datetime(2007, 12, 11, 15, 11, 8), 'dlhaines@umich.edu'),\n",
       " (datetime.datetime(2007, 12, 11, 15, 2, 54), 'chmaurer@iupui.edu'),\n",
       " (datetime.datetime(2007, 12, 11, 14, 51, 17), 'cwen@iupui.edu'),\n",
       " (datetime.datetime(2007, 12, 11, 14, 34, 28), 'cwen@iupui.edu'),\n",
       " (datetime.datetime(2007, 12, 11, 14, 24, 48), 'josrodri@iupui.edu'),\n",
       " (datetime.datetime(2007, 12, 11, 14, 18, 16), 'josrodri@iupui.edu'),\n",
       " (datetime.datetime(2007, 12, 11, 13, 28, 39), 'dlhaines@umich.edu'),\n",
       " (datetime.datetime(2007, 12, 11, 12, 58, 11), 'zqian@umich.edu'),\n",
       " (datetime.datetime(2007, 12, 11, 12, 42, 20), 'zqian@umich.edu'),\n",
       " (datetime.datetime(2007, 12, 11, 10, 21, 17), 'wagnermr@iupui.edu'),\n",
       " (datetime.datetime(2007, 12, 11, 10, 6, 8), 'chmaurer@iupui.edu'),\n",
       " (datetime.datetime(2007, 12, 11, 9, 51, 29), 'chmaurer@iupui.edu'),\n",
       " (datetime.datetime(2007, 12, 11, 9, 39, 18), 'gjthomas@iupui.edu'),\n",
       " (datetime.datetime(2007, 12, 11, 9, 38, 18), 'gjthomas@iupui.edu'),\n",
       " (datetime.datetime(2007, 12, 11, 9, 37, 7), 'gjthomas@iupui.edu'),\n",
       " (datetime.datetime(2007, 12, 11, 3, 0, 52), 'aaronz@vt.edu'),\n",
       " (datetime.datetime(2007, 12, 10, 23, 27, 38), 'jimeng@umich.edu'),\n",
       " (datetime.datetime(2007, 12, 10, 21, 36, 11), 'jimeng@umich.edu'),\n",
       " (datetime.datetime(2007, 12, 10, 21, 33, 42), 'jimeng@umich.edu'),\n",
       " (datetime.datetime(2007, 12, 10, 21, 30, 14), 'jimeng@umich.edu'),\n",
       " (datetime.datetime(2007, 12, 10, 17, 10, 42), 'wagnermr@iupui.edu'),\n",
       " (datetime.datetime(2007, 12, 10, 16, 55, 56), 'gjthomas@iupui.edu'),\n",
       " (datetime.datetime(2007, 12, 10, 14, 10, 53), 'rjlowe@iupui.edu'),\n",
       " (datetime.datetime(2007, 12, 10, 14, 10, 13), 'rjlowe@iupui.edu'),\n",
       " (datetime.datetime(2007, 12, 10, 13, 35, 51), 'aaronz@vt.edu'),\n",
       " (datetime.datetime(2007, 12, 10, 11, 35, 53), 'gjthomas@iupui.edu'),\n",
       " (datetime.datetime(2007, 12, 10, 11, 11, 48), 'zqian@umich.edu'),\n",
       " (datetime.datetime(2007, 12, 10, 10, 4, 39), 'josrodri@iupui.edu'),\n",
       " (datetime.datetime(2007, 12, 9, 23, 27, 7), 'jimeng@umich.edu'),\n",
       " (datetime.datetime(2007, 12, 9, 22, 1, 17), 'jimeng@umich.edu'),\n",
       " (datetime.datetime(2007, 12, 9, 21, 57, 32), 'jimeng@umich.edu'),\n",
       " (datetime.datetime(2007, 12, 8, 13, 33, 35), 'ian@caret.cam.ac.uk'),\n",
       " (datetime.datetime(2007, 12, 8, 1, 10, 3), 'ian@caret.cam.ac.uk'),\n",
       " (datetime.datetime(2007, 12, 7, 16, 43, 28), 'zqian@umich.edu'),\n",
       " (datetime.datetime(2007, 12, 7, 16, 41, 23), 'zqian@umich.edu'),\n",
       " (datetime.datetime(2007, 12, 7, 16, 16, 16), 'zqian@umich.edu'),\n",
       " (datetime.datetime(2007, 12, 7, 16, 10, 21), 'zqian@umich.edu'),\n",
       " (datetime.datetime(2007, 12, 7, 16, 7, 5), 'zqian@umich.edu'),\n",
       " (datetime.datetime(2007, 12, 7, 16, 7, 3), 'chmaurer@iupui.edu'),\n",
       " (datetime.datetime(2007, 12, 7, 16, 7, 3), 'mmmay@indiana.edu'),\n",
       " (datetime.datetime(2007, 12, 7, 16, 7, 2), 'chmaurer@iupui.edu'),\n",
       " (datetime.datetime(2007, 12, 7, 16, 7, 2), 'mmmay@indiana.edu'),\n",
       " (datetime.datetime(2007, 12, 7, 16, 5, 51), 'zqian@umich.edu'),\n",
       " (datetime.datetime(2007, 12, 7, 16, 3, 11), 'zqian@umich.edu'),\n",
       " (datetime.datetime(2007, 12, 7, 16, 0, 18), 'zqian@umich.edu'),\n",
       " (datetime.datetime(2007, 12, 7, 15, 53, 31), 'chmaurer@iupui.edu'),\n",
       " (datetime.datetime(2007, 12, 7, 15, 51, 9), 'mmmay@indiana.edu'),\n",
       " (datetime.datetime(2007, 12, 7, 15, 47, 32), 'mmmay@indiana.edu'),\n",
       " (datetime.datetime(2007, 12, 7, 15, 46, 48), 'chmaurer@iupui.edu'),\n",
       " (datetime.datetime(2007, 12, 7, 15, 44, 15), 'zqian@umich.edu'),\n",
       " (datetime.datetime(2007, 12, 7, 15, 43, 7), 'mmmay@indiana.edu'),\n",
       " (datetime.datetime(2007, 12, 7, 15, 30, 39), 'zqian@umich.edu'),\n",
       " (datetime.datetime(2007, 12, 7, 15, 26, 54), 'zqian@umich.edu'),\n",
       " (datetime.datetime(2007, 12, 7, 15, 23, 30), 'zqian@umich.edu'),\n",
       " (datetime.datetime(2007, 12, 7, 15, 1, 8), 'zqian@umich.edu'),\n",
       " (datetime.datetime(2007, 12, 7, 14, 55, 19), 'zqian@umich.edu'),\n",
       " (datetime.datetime(2007, 12, 7, 14, 52, 9), 'zqian@umich.edu'),\n",
       " (datetime.datetime(2007, 12, 7, 14, 35, 50), 'zqian@umich.edu'),\n",
       " (datetime.datetime(2007, 12, 7, 14, 31, 26), 'zqian@umich.edu'),\n",
       " (datetime.datetime(2007, 12, 7, 14, 29, 7), 'zqian@umich.edu'),\n",
       " (datetime.datetime(2007, 12, 7, 14, 26, 1), 'zqian@umich.edu'),\n",
       " (datetime.datetime(2007, 12, 7, 14, 13, 28), 'zqian@umich.edu'),\n",
       " (datetime.datetime(2007, 12, 7, 13, 55, 12), 'zqian@umich.edu'),\n",
       " (datetime.datetime(2007, 12, 7, 13, 51, 45), 'zqian@umich.edu'),\n",
       " (datetime.datetime(2007, 12, 7, 13, 36, 13), 'zqian@umich.edu'),\n",
       " (datetime.datetime(2007, 12, 7, 13, 32, 30), 'zqian@umich.edu'),\n",
       " (datetime.datetime(2007, 12, 7, 13, 32, 14), 'zqian@umich.edu'),\n",
       " (datetime.datetime(2007, 12, 7, 13, 31, 33), 'chmaurer@iupui.edu'),\n",
       " (datetime.datetime(2007, 12, 7, 12, 57, 39), 'chmaurer@iupui.edu'),\n",
       " (datetime.datetime(2007, 12, 7, 12, 19, 23), 'zqian@umich.edu'),\n",
       " (datetime.datetime(2007, 12, 7, 12, 10, 24), 'zqian@umich.edu'),\n",
       " (datetime.datetime(2007, 12, 7, 11, 13, 51), 'zqian@umich.edu'),\n",
       " (datetime.datetime(2007, 12, 7, 11, 10, 56), 'ian@caret.cam.ac.uk'),\n",
       " (datetime.datetime(2007, 12, 7, 11, 10, 8), 'zqian@umich.edu'),\n",
       " (datetime.datetime(2007, 12, 7, 11, 3, 52), 'zqian@umich.edu'),\n",
       " (datetime.datetime(2007, 12, 7, 10, 59, 11), 'josrodri@iupui.edu'),\n",
       " (datetime.datetime(2007, 12, 7, 10, 58, 25), 'chmaurer@iupui.edu'),\n",
       " (datetime.datetime(2007, 12, 7, 10, 57, 39), 'chmaurer@iupui.edu'),\n",
       " (datetime.datetime(2007, 12, 7, 10, 25, 30), 'zqian@umich.edu'),\n",
       " (datetime.datetime(2007, 12, 7, 10, 16, 6), 'zqian@umich.edu'),\n",
       " (datetime.datetime(2007, 12, 7, 10, 13, 50), 'zqian@umich.edu'),\n",
       " (datetime.datetime(2007, 12, 7, 9, 47, 19), 'chmaurer@iupui.edu'),\n",
       " (datetime.datetime(2007, 12, 7, 9, 42, 39), 'chmaurer@iupui.edu'),\n",
       " (datetime.datetime(2007, 12, 7, 9, 32, 2), 'ray@media.berkeley.edu'),\n",
       " (datetime.datetime(2007, 12, 7, 9, 22, 41), 'chmaurer@iupui.edu'),\n",
       " (datetime.datetime(2007, 12, 7, 7, 16, 25), 'gopal.ramasammycook@gmail.com'),\n",
       " (datetime.datetime(2007, 12, 7, 5, 1, 19), 'david.horwitz@uct.ac.za'),\n",
       " (datetime.datetime(2007, 12, 7, 3, 28, 37), 'david.horwitz@uct.ac.za'),\n",
       " (datetime.datetime(2007, 12, 7, 1, 46, 16), 'rjlowe@iupui.edu'),\n",
       " (datetime.datetime(2007, 12, 6, 19, 54, 45), 'ian@caret.cam.ac.uk'),\n",
       " (datetime.datetime(2007, 12, 6, 17, 47, 36), 'gjthomas@iupui.edu'),\n",
       " (datetime.datetime(2007, 12, 6, 17, 47, 35), 'gjthomas@iupui.edu'),\n",
       " (datetime.datetime(2007, 12, 6, 17, 46, 56), 'gjthomas@iupui.edu'),\n",
       " (datetime.datetime(2007, 12, 6, 17, 7, 49), 'zqian@umich.edu'),\n",
       " (datetime.datetime(2007, 12, 6, 16, 48, 30), 'zqian@umich.edu'),\n",
       " (datetime.datetime(2007, 12, 6, 16, 45, 16), 'zqian@umich.edu'),\n",
       " (datetime.datetime(2007, 12, 6, 16, 24, 55), 'zqian@umich.edu'),\n",
       " (datetime.datetime(2007, 12, 6, 16, 9, 50), 'zqian@umich.edu'),\n",
       " (datetime.datetime(2007, 12, 6, 15, 43, 50), 'chmaurer@iupui.edu'),\n",
       " (datetime.datetime(2007, 12, 6, 15, 39, 18), 'zqian@umich.edu'),\n",
       " (datetime.datetime(2007, 12, 6, 15, 31, 3), 'zqian@umich.edu'),\n",
       " (datetime.datetime(2007, 12, 6, 15, 25, 23), 'chmaurer@iupui.edu'),\n",
       " (datetime.datetime(2007, 12, 6, 15, 21, 21), 'chmaurer@iupui.edu'),\n",
       " (datetime.datetime(2007, 12, 6, 15, 19, 13), 'chmaurer@iupui.edu'),\n",
       " (datetime.datetime(2007, 12, 6, 15, 17, 13), 'chmaurer@iupui.edu'),\n",
       " (datetime.datetime(2007, 12, 6, 15, 14, 27), 'chmaurer@iupui.edu'),\n",
       " (datetime.datetime(2007, 12, 6, 15, 14, 13), 'chmaurer@iupui.edu'),\n",
       " (datetime.datetime(2007, 12, 6, 15, 13, 46), 'chmaurer@iupui.edu'),\n",
       " (datetime.datetime(2007, 12, 6, 15, 10, 3), 'chmaurer@iupui.edu'),\n",
       " (datetime.datetime(2007, 12, 6, 15, 7, 48), 'chmaurer@iupui.edu'),\n",
       " (datetime.datetime(2007, 12, 6, 14, 50, 46), 'chmaurer@iupui.edu'),\n",
       " (datetime.datetime(2007, 12, 6, 12, 51, 6), 'aaronz@vt.edu'),\n",
       " (datetime.datetime(2007, 12, 6, 12, 37, 41), 'gjthomas@iupui.edu'),\n",
       " (datetime.datetime(2007, 12, 6, 12, 37, 40), 'gjthomas@iupui.edu'),\n",
       " (datetime.datetime(2007, 12, 6, 12, 37, 12), 'gjthomas@iupui.edu'),\n",
       " (datetime.datetime(2007, 12, 6, 12, 1, 42), 'zqian@umich.edu'),\n",
       " (datetime.datetime(2007, 12, 6, 11, 59, 2), 'zqian@umich.edu'),\n",
       " (datetime.datetime(2007, 12, 6, 11, 47), 'zqian@umich.edu'),\n",
       " (datetime.datetime(2007, 12, 6, 11, 42, 52), 'chmaurer@iupui.edu'),\n",
       " (datetime.datetime(2007, 12, 6, 11, 26, 54), 'zqian@umich.edu'),\n",
       " (datetime.datetime(2007, 12, 6, 11, 19, 33), 'zqian@umich.edu'),\n",
       " (datetime.datetime(2007, 12, 6, 11, 11, 35), 'zqian@umich.edu'),\n",
       " (datetime.datetime(2007, 12, 6, 10, 25, 19), 'zqian@umich.edu'),\n",
       " (datetime.datetime(2007, 12, 6, 8, 17, 32), 'chmaurer@iupui.edu'),\n",
       " (datetime.datetime(2007, 12, 6, 8, 13, 50), 'gopal.ramasammycook@gmail.com'),\n",
       " (datetime.datetime(2007, 12, 6, 5, 27, 28), 'david.horwitz@uct.ac.za'),\n",
       " (datetime.datetime(2007, 12, 6, 3, 57, 3), 'david.horwitz@uct.ac.za'),\n",
       " (datetime.datetime(2007, 12, 5, 21, 26, 30), 'chmaurer@iupui.edu'),\n",
       " (datetime.datetime(2007, 12, 5, 19, 41, 19), 'ian@caret.cam.ac.uk'),\n",
       " (datetime.datetime(2007, 12, 5, 11, 52, 47), 'zqian@umich.edu'),\n",
       " (datetime.datetime(2007, 12, 5, 9, 7, 17), 'a.fish@lancaster.ac.uk'),\n",
       " (datetime.datetime(2007, 12, 5, 8, 47, 38), 'a.fish@lancaster.ac.uk'),\n",
       " (datetime.datetime(2007, 12, 5, 8, 33, 51), 'a.fish@lancaster.ac.uk'),\n",
       " (datetime.datetime(2007, 12, 5, 8, 28, 30), 'a.fish@lancaster.ac.uk'),\n",
       " (datetime.datetime(2007, 12, 5, 8, 16, 42), 'jimeng@umich.edu'),\n",
       " (datetime.datetime(2007, 12, 5, 7, 41, 10), 'chmaurer@iupui.edu'),\n",
       " (datetime.datetime(2007, 12, 4, 23, 39, 21), 'wagnermr@iupui.edu'),\n",
       " (datetime.datetime(2007, 12, 4, 15, 44, 13), 'josrodri@iupui.edu'),\n",
       " (datetime.datetime(2007, 12, 4, 14, 47, 35), 'aaronz@vt.edu'),\n",
       " (datetime.datetime(2007, 12, 4, 14, 40, 11), 'aaronz@vt.edu'),\n",
       " (datetime.datetime(2007, 12, 4, 14, 15, 15), 'josrodri@iupui.edu'),\n",
       " (datetime.datetime(2007, 12, 4, 13, 58, 51), 'chmaurer@iupui.edu'),\n",
       " (datetime.datetime(2007, 12, 4, 13, 58, 31), 'chmaurer@iupui.edu'),\n",
       " (datetime.datetime(2007, 12, 4, 10, 23, 50), 'chmaurer@iupui.edu'),\n",
       " (datetime.datetime(2007, 12, 4, 9, 56, 43), 'gopal.ramasammycook@gmail.com'),\n",
       " (datetime.datetime(2007, 12, 3, 20, 21, 11), 'ostermmg@whitman.edu'),\n",
       " (datetime.datetime(2007, 12, 3, 20, 7, 25), 'ostermmg@whitman.edu'),\n",
       " (datetime.datetime(2007, 12, 3, 16, 29, 47), 'ian@caret.cam.ac.uk'),\n",
       " (datetime.datetime(2007, 12, 3, 13, 32, 15), 'jimeng@umich.edu'),\n",
       " (datetime.datetime(2007, 12, 3, 12, 45, 34), 'chmaurer@iupui.edu'),\n",
       " (datetime.datetime(2007, 12, 3, 12, 36, 43), 'zqian@umich.edu'),\n",
       " (datetime.datetime(2007, 12, 3, 12, 32, 30), 'zqian@umich.edu'),\n",
       " (datetime.datetime(2007, 12, 3, 12, 5, 33), 'chmaurer@iupui.edu'),\n",
       " (datetime.datetime(2007, 12, 3, 11, 37, 24), 'chmaurer@iupui.edu'),\n",
       " (datetime.datetime(2007, 12, 3, 11, 18, 22), 'chmaurer@iupui.edu'),\n",
       " (datetime.datetime(2007, 12, 3, 10, 58, 17), 'chmaurer@iupui.edu'),\n",
       " (datetime.datetime(2007, 12, 3, 10, 25, 25), 'david.horwitz@uct.ac.za'),\n",
       " (datetime.datetime(2007, 12, 3, 9, 54, 17), 'gopal.ramasammycook@gmail.com'),\n",
       " (datetime.datetime(2007, 12, 3, 8, 31, 16), 'chmaurer@iupui.edu'),\n",
       " (datetime.datetime(2007, 12, 3, 8, 29, 35), 'chmaurer@iupui.edu'),\n",
       " (datetime.datetime(2007, 12, 3, 8, 3, 48), 'gopal.ramasammycook@gmail.com'),\n",
       " (datetime.datetime(2007, 12, 3, 4, 49, 50), 'a.fish@lancaster.ac.uk'),\n",
       " (datetime.datetime(2007, 12, 2, 13, 25, 49), 'stuart.freeman@et.gatech.edu'),\n",
       " (datetime.datetime(2007, 12, 2, 13, 21, 35), 'stuart.freeman@et.gatech.edu'),\n",
       " (datetime.datetime(2007, 12, 2, 13, 18, 41), 'stuart.freeman@et.gatech.edu'),\n",
       " (datetime.datetime(2007, 12, 2, 3, 21, 14), 'sgithens@caret.cam.ac.uk'),\n",
       " (datetime.datetime(2007, 12, 1, 21, 21, 59), 'sgithens@caret.cam.ac.uk'),\n",
       " (datetime.datetime(2007, 12, 1, 18, 17, 26), 'aaronz@vt.edu'),\n",
       " (datetime.datetime(2007, 12, 1, 18, 9, 40), 'aaronz@vt.edu'),\n",
       " (datetime.datetime(2007, 12, 1, 18, 9, 32), 'aaronz@vt.edu'),\n",
       " (datetime.datetime(2007, 12, 1, 18, 9, 24), 'aaronz@vt.edu'),\n",
       " (datetime.datetime(2007, 12, 1, 18, 9, 13), 'aaronz@vt.edu'),\n",
       " (datetime.datetime(2007, 12, 1, 18, 9, 10), 'aaronz@vt.edu'),\n",
       " (datetime.datetime(2007, 12, 1, 14, 18, 55), 'ian@caret.cam.ac.uk'),\n",
       " (datetime.datetime(2007, 12, 1, 0, 17, 2), 'sgithens@caret.cam.ac.uk'),\n",
       " (datetime.datetime(2007, 11, 30, 20, 8, 51), 'sgithens@caret.cam.ac.uk'),\n",
       " (datetime.datetime(2007, 11, 30, 17, 10, 48), 'zqian@umich.edu'),\n",
       " (datetime.datetime(2007, 11, 30, 17, 2, 54), 'zqian@umich.edu'),\n",
       " (datetime.datetime(2007, 11, 30, 17, 0, 13), 'zqian@umich.edu'),\n",
       " (datetime.datetime(2007, 11, 30, 16, 19, 32), 'gjthomas@iupui.edu'),\n",
       " (datetime.datetime(2007, 11, 30, 16, 0, 14), 'gjthomas@iupui.edu'),\n",
       " (datetime.datetime(2007, 11, 30, 15, 34, 5), 'chmaurer@iupui.edu'),\n",
       " (datetime.datetime(2007, 11, 30, 15, 23, 16), 'chmaurer@iupui.edu'),\n",
       " (datetime.datetime(2007, 11, 30, 15, 13, 45), 'cwen@iupui.edu'),\n",
       " (datetime.datetime(2007, 11, 30, 14, 28, 31), 'chmaurer@iupui.edu'),\n",
       " (datetime.datetime(2007, 11, 30, 14, 27, 18), 'chmaurer@iupui.edu'),\n",
       " (datetime.datetime(2007, 11, 30, 12, 14, 5), 'cwen@iupui.edu'),\n",
       " (datetime.datetime(2007, 11, 30, 11, 26, 20), 'gjthomas@iupui.edu'),\n",
       " (datetime.datetime(2007, 11, 30, 11, 25, 57), 'gjthomas@iupui.edu'),\n",
       " (datetime.datetime(2007, 11, 30, 11, 14, 44), 'cwen@iupui.edu'),\n",
       " (datetime.datetime(2007, 11, 30, 11, 0, 57), 'chmaurer@iupui.edu'),\n",
       " (datetime.datetime(2007, 11, 30, 10, 59, 49), 'chmaurer@iupui.edu'),\n",
       " (datetime.datetime(2007, 11, 30, 10, 40, 21), 'chmaurer@iupui.edu'),\n",
       " (datetime.datetime(2007, 11, 30, 10, 37, 5), 'chmaurer@iupui.edu'),\n",
       " (datetime.datetime(2007, 11, 30, 10, 21, 12), 'david.horwitz@uct.ac.za'),\n",
       " (datetime.datetime(2007, 11, 30, 9, 56, 53), 'cwen@iupui.edu'),\n",
       " (datetime.datetime(2007, 11, 30, 9, 54, 42), 'cwen@iupui.edu'),\n",
       " (datetime.datetime(2007, 11, 30, 9, 47, 14), 'cwen@iupui.edu'),\n",
       " (datetime.datetime(2007, 11, 30, 9, 32, 19), 'chmaurer@iupui.edu'),\n",
       " (datetime.datetime(2007, 11, 30, 9, 31, 31), 'chmaurer@iupui.edu'),\n",
       " (datetime.datetime(2007, 11, 30, 9, 31, 20), 'gopal.ramasammycook@gmail.com'),\n",
       " (datetime.datetime(2007, 11, 30, 9, 12, 58), 'cwen@iupui.edu'),\n",
       " (datetime.datetime(2007, 11, 30, 9, 4), 'cwen@iupui.edu'),\n",
       " (datetime.datetime(2007, 11, 30, 8, 50, 35), 'chmaurer@iupui.edu'),\n",
       " (datetime.datetime(2007, 11, 30, 8, 49, 25), 'chmaurer@iupui.edu'),\n",
       " (datetime.datetime(2007, 11, 29, 22, 23, 25), 'chmaurer@iupui.edu'),\n",
       " (datetime.datetime(2007, 11, 29, 21, 31, 50), 'jimeng@umich.edu'),\n",
       " (datetime.datetime(2007, 11, 29, 21, 22, 45), 'jimeng@umich.edu'),\n",
       " (datetime.datetime(2007, 11, 29, 21, 21, 53), 'jimeng@umich.edu'),\n",
       " (datetime.datetime(2007, 11, 29, 20, 29, 10), 'jimeng@umich.edu'),\n",
       " (datetime.datetime(2007, 11, 29, 20, 16, 7), 'jimeng@umich.edu'),\n",
       " (datetime.datetime(2007, 11, 29, 19, 39, 16), 'ian@caret.cam.ac.uk'),\n",
       " (datetime.datetime(2007, 11, 29, 19, 36, 27), 'ian@caret.cam.ac.uk'),\n",
       " (datetime.datetime(2007, 11, 29, 19, 36), 'ian@caret.cam.ac.uk'),\n",
       " (datetime.datetime(2007, 11, 29, 19, 32, 21), 'jimeng@umich.edu'),\n",
       " (datetime.datetime(2007, 11, 29, 17, 44, 50), 'mmmay@indiana.edu'),\n",
       " (datetime.datetime(2007, 11, 29, 17, 22, 49), 'jimeng@umich.edu'),\n",
       " (datetime.datetime(2007, 11, 29, 16, 47, 55), 'mmmay@indiana.edu'),\n",
       " (datetime.datetime(2007, 11, 29, 16, 43, 24), 'mmmay@indiana.edu'),\n",
       " (datetime.datetime(2007, 11, 29, 16, 43, 9), 'wagnermr@iupui.edu'),\n",
       " (datetime.datetime(2007, 11, 29, 16, 37, 38), 'mmmay@indiana.edu'),\n",
       " (datetime.datetime(2007, 11, 29, 16, 17, 13), 'chmaurer@iupui.edu'),\n",
       " (datetime.datetime(2007, 11, 29, 16, 14, 20), 'chmaurer@iupui.edu'),\n",
       " (datetime.datetime(2007, 11, 29, 16, 12, 51), 'mmmay@indiana.edu'),\n",
       " (datetime.datetime(2007, 11, 29, 15, 47, 21), 'mmmay@indiana.edu'),\n",
       " (datetime.datetime(2007, 11, 29, 15, 32, 58), 'mmmay@indiana.edu'),\n",
       " (datetime.datetime(2007, 11, 29, 15, 26, 53), 'cwen@iupui.edu'),\n",
       " (datetime.datetime(2007, 11, 29, 15, 25, 7), 'chmaurer@iupui.edu'),\n",
       " (datetime.datetime(2007, 11, 29, 15, 12, 6), 'zqian@umich.edu'),\n",
       " (datetime.datetime(2007, 11, 29, 15, 10, 56), 'chmaurer@iupui.edu'),\n",
       " (datetime.datetime(2007, 11, 29, 14, 42, 25), 'cwen@iupui.edu'),\n",
       " (datetime.datetime(2007, 11, 29, 14, 30, 17), 'cwen@iupui.edu'),\n",
       " (datetime.datetime(2007, 11, 29, 14, 11, 43), 'chmaurer@iupui.edu'),\n",
       " (datetime.datetime(2007, 11, 29, 13, 24, 43), 'dlhaines@umich.edu'),\n",
       " (datetime.datetime(2007, 11, 29, 12, 59, 59), 'dlhaines@umich.edu'),\n",
       " (datetime.datetime(2007, 11, 29, 12, 58, 53), 'zqian@umich.edu'),\n",
       " (datetime.datetime(2007, 11, 29, 12, 56, 1), 'dlhaines@umich.edu'),\n",
       " (datetime.datetime(2007, 11, 29, 12, 52, 23), 'zqian@umich.edu'),\n",
       " (datetime.datetime(2007, 11, 29, 12, 49, 55), 'zqian@umich.edu'),\n",
       " (datetime.datetime(2007, 11, 29, 12, 35, 26), 'john.ellis@rsmart.com'),\n",
       " (datetime.datetime(2007, 11, 29, 11, 48, 28), 'chmaurer@iupui.edu'),\n",
       " (datetime.datetime(2007, 11, 29, 11, 43, 11), 'chmaurer@iupui.edu'),\n",
       " (datetime.datetime(2007, 11, 29, 11, 40, 23), 'chmaurer@iupui.edu'),\n",
       " (datetime.datetime(2007, 11, 29, 11, 37, 34), 'chmaurer@iupui.edu'),\n",
       " (datetime.datetime(2007, 11, 29, 11, 35, 37), 'chmaurer@iupui.edu'),\n",
       " (datetime.datetime(2007, 11, 29, 11, 32, 27), 'chmaurer@iupui.edu'),\n",
       " (datetime.datetime(2007, 11, 29, 11, 27, 20), 'chmaurer@iupui.edu'),\n",
       " (datetime.datetime(2007, 11, 29, 11, 20, 58), 'chmaurer@iupui.edu'),\n",
       " (datetime.datetime(2007, 11, 29, 10, 54, 46), 'chmaurer@iupui.edu'),\n",
       " (datetime.datetime(2007, 11, 29, 10, 3, 5), 'stuart.freeman@et.gatech.edu'),\n",
       " (datetime.datetime(2007, 11, 29, 9, 51, 43), 'stuart.freeman@et.gatech.edu'),\n",
       " (datetime.datetime(2007, 11, 29, 9, 46, 57), 'zqian@umich.edu'),\n",
       " (datetime.datetime(2007, 11, 29, 9, 29, 26), 'jleasia@umich.edu'),\n",
       " (datetime.datetime(2007, 11, 29, 9, 26, 10), 'chmaurer@iupui.edu'),\n",
       " (datetime.datetime(2007, 11, 29, 9, 23, 55), 'chmaurer@iupui.edu'),\n",
       " (datetime.datetime(2007, 11, 29, 9, 12, 52), 'chmaurer@iupui.edu'),\n",
       " (datetime.datetime(2007, 11, 29, 2, 49, 16), 'gopal.ramasammycook@gmail.com'),\n",
       " (datetime.datetime(2007, 11, 28, 22, 22, 31), 'dlhaines@umich.edu'),\n",
       " (datetime.datetime(2007, 11, 28, 16, 53, 34), 'sgithens@caret.cam.ac.uk'),\n",
       " (datetime.datetime(2007, 11, 28, 16, 25, 48), 'dlhaines@umich.edu'),\n",
       " (datetime.datetime(2007, 11, 28, 16, 25, 45), 'aaronz@vt.edu'),\n",
       " (datetime.datetime(2007, 11, 28, 16, 0, 39), 'dlhaines@umich.edu'),\n",
       " (datetime.datetime(2007, 11, 28, 15, 58, 46), 'dlhaines@umich.edu'),\n",
       " (datetime.datetime(2007, 11, 28, 15, 51), 'cwen@iupui.edu'),\n",
       " (datetime.datetime(2007, 11, 28, 15, 11, 53), 'dlhaines@umich.edu'),\n",
       " (datetime.datetime(2007, 11, 28, 14, 42, 6), 'zqian@umich.edu'),\n",
       " (datetime.datetime(2007, 11, 28, 14, 17, 2), 'dlhaines@umich.edu'),\n",
       " (datetime.datetime(2007, 11, 28, 13, 35, 51), 'antranig@caret.cam.ac.uk'),\n",
       " (datetime.datetime(2007, 11, 28, 13, 12, 49), 'ian@caret.cam.ac.uk'),\n",
       " (datetime.datetime(2007, 11, 28, 12, 42, 44), 'zach.thomas@txstate.edu'),\n",
       " (datetime.datetime(2007, 11, 28, 12, 35, 49), 'dlhaines@umich.edu'),\n",
       " (datetime.datetime(2007, 11, 28, 12, 34, 37), 'aaronz@vt.edu'),\n",
       " (datetime.datetime(2007, 11, 28, 11, 26, 15), 'jimeng@umich.edu'),\n",
       " (datetime.datetime(2007, 11, 28, 11, 26, 15), 'jimeng@umich.edu'),\n",
       " (datetime.datetime(2007, 11, 28, 11, 25, 28), 'jimeng@umich.edu'),\n",
       " (datetime.datetime(2007, 11, 28, 11, 25, 16), 'jimeng@umich.edu'),\n",
       " (datetime.datetime(2007, 11, 28, 11, 23, 13), 'jimeng@umich.edu'),\n",
       " (datetime.datetime(2007, 11, 28, 11, 22, 22), 'jimeng@umich.edu'),\n",
       " (datetime.datetime(2007, 11, 28, 11, 22, 4), 'jimeng@umich.edu'),\n",
       " (datetime.datetime(2007, 11, 28, 11, 21, 51), 'jimeng@umich.edu'),\n",
       " (datetime.datetime(2007, 11, 28, 11, 5, 56), 'aaronz@vt.edu'),\n",
       " (datetime.datetime(2007, 11, 28, 11, 5, 7), 'ssmail@indiana.edu'),\n",
       " (datetime.datetime(2007, 11, 28, 10, 29, 22), 'zqian@umich.edu'),\n",
       " (datetime.datetime(2007, 11, 28, 8, 43, 56), 'aaronz@vt.edu'),\n",
       " (datetime.datetime(2007, 11, 28, 8, 36, 19), 'ian@caret.cam.ac.uk'),\n",
       " (datetime.datetime(2007, 11, 28, 6, 44, 18), 'ian@caret.cam.ac.uk'),\n",
       " (datetime.datetime(2007, 11, 28, 6, 38, 28), 'ian@caret.cam.ac.uk'),\n",
       " (datetime.datetime(2007, 11, 28, 6, 35, 51), 'ian@caret.cam.ac.uk'),\n",
       " (datetime.datetime(2007, 11, 27, 20, 40, 43), 'sgithens@caret.cam.ac.uk'),\n",
       " (datetime.datetime(2007, 11, 27, 20, 39, 51), 'ian@caret.cam.ac.uk'),\n",
       " (datetime.datetime(2007, 11, 27, 20, 27, 46), 'ian@caret.cam.ac.uk'),\n",
       " (datetime.datetime(2007, 11, 27, 17, 15, 38), 'ssmail@indiana.edu'),\n",
       " (datetime.datetime(2007, 11, 27, 16, 45, 32), 'zqian@umich.edu'),\n",
       " (datetime.datetime(2007, 11, 27, 16, 44, 48), 'stuart.freeman@et.gatech.edu'),\n",
       " (datetime.datetime(2007, 11, 27, 16, 40, 54), 'dlhaines@umich.edu'),\n",
       " (datetime.datetime(2007, 11, 27, 16, 20, 54), 'dlhaines@umich.edu'),\n",
       " (datetime.datetime(2007, 11, 27, 16, 13, 53), 'stuart.freeman@et.gatech.edu'),\n",
       " (datetime.datetime(2007, 11, 27, 13, 39, 19), 'chmaurer@iupui.edu'),\n",
       " (datetime.datetime(2007, 11, 27, 13, 31, 53), 'chmaurer@iupui.edu'),\n",
       " (datetime.datetime(2007, 11, 27, 13, 21, 20), 'cwen@iupui.edu'),\n",
       " (datetime.datetime(2007, 11, 27, 13, 20, 23), 'cwen@iupui.edu'),\n",
       " (datetime.datetime(2007, 11, 27, 13, 20, 19), 'cwen@iupui.edu'),\n",
       " (datetime.datetime(2007, 11, 27, 12, 40, 19), 'ian@caret.cam.ac.uk'),\n",
       " (datetime.datetime(2007, 11, 27, 11, 37, 5), 'dlhaines@umich.edu'),\n",
       " (datetime.datetime(2007, 11, 27, 11, 2, 51), 'zqian@umich.edu'),\n",
       " (datetime.datetime(2007, 11, 27, 10, 52), 'zqian@umich.edu'),\n",
       " (datetime.datetime(2007, 11, 27, 10, 36, 49), 'zqian@umich.edu'),\n",
       " (datetime.datetime(2007, 11, 27, 10, 5, 11), 'gopal.ramasammycook@gmail.com'),\n",
       " (datetime.datetime(2007, 11, 27, 9, 52, 53), 'dlhaines@umich.edu'),\n",
       " (datetime.datetime(2007, 11, 27, 9, 43, 30), 'zqian@umich.edu'),\n",
       " (datetime.datetime(2007, 11, 27, 5, 57, 15), 'ian@caret.cam.ac.uk'),\n",
       " (datetime.datetime(2007, 11, 26, 17, 58), 'aaronz@vt.edu'),\n",
       " (datetime.datetime(2007, 11, 26, 12, 57, 38), 'john.ellis@rsmart.com'),\n",
       " (datetime.datetime(2007, 11, 26, 12, 56, 36), 'john.ellis@rsmart.com'),\n",
       " (datetime.datetime(2007, 11, 26, 12, 55, 30), 'aaronz@vt.edu'),\n",
       " (datetime.datetime(2007, 11, 26, 11, 28, 25), 'cwen@iupui.edu'),\n",
       " (datetime.datetime(2007, 11, 26, 10, 33, 38), 'zqian@umich.edu'),\n",
       " (datetime.datetime(2007, 11, 26, 10, 32, 59), 'wagnermr@iupui.edu'),\n",
       " (datetime.datetime(2007, 11, 26, 10, 29, 33), 'aaronz@vt.edu'),\n",
       " (datetime.datetime(2007, 11, 26, 10, 2, 31), 'wagnermr@iupui.edu'),\n",
       " (datetime.datetime(2007, 11, 26, 9, 56, 39), 'gopal.ramasammycook@gmail.com'),\n",
       " (datetime.datetime(2007, 11, 26, 9, 42, 30), 'lance@indiana.edu'),\n",
       " (datetime.datetime(2007, 11, 26, 6, 25, 13), 'sgithens@caret.cam.ac.uk'),\n",
       " (datetime.datetime(2007, 11, 25, 15, 55, 31), 'ggolden@umich.edu'),\n",
       " (datetime.datetime(2007, 11, 25, 15, 53, 29), 'ggolden@umich.edu'),\n",
       " (datetime.datetime(2007, 11, 25, 1, 56, 34), 'cwen@iupui.edu'),\n",
       " (datetime.datetime(2007, 11, 24, 23, 24, 19), 'ggolden@umich.edu'),\n",
       " (datetime.datetime(2007, 11, 24, 23, 0, 11), 'ggolden@umich.edu'),\n",
       " (datetime.datetime(2007, 11, 24, 21, 35, 30), 'ggolden@umich.edu'),\n",
       " (datetime.datetime(2007, 11, 24, 21, 29, 1), 'ggolden@umich.edu'),\n",
       " (datetime.datetime(2007, 11, 23, 4, 27, 2), 'david.horwitz@uct.ac.za'),\n",
       " (datetime.datetime(2007, 11, 21, 13, 31, 53), 'antranig@caret.cam.ac.uk'),\n",
       " (datetime.datetime(2007, 11, 21, 12, 40, 55), 'ian@caret.cam.ac.uk'),\n",
       " (datetime.datetime(2007, 11, 21, 12, 29, 22), 'ian@caret.cam.ac.uk'),\n",
       " (datetime.datetime(2007, 11, 21, 12, 20, 3), 'ian@caret.cam.ac.uk'),\n",
       " (datetime.datetime(2007, 11, 21, 12, 16, 38), 'antranig@caret.cam.ac.uk'),\n",
       " (datetime.datetime(2007, 11, 21, 12, 7, 17), 'ian@caret.cam.ac.uk'),\n",
       " (datetime.datetime(2007, 11, 21, 11, 59, 21), 'ian@caret.cam.ac.uk'),\n",
       " (datetime.datetime(2007, 11, 21, 11, 45, 20), 'ian@caret.cam.ac.uk'),\n",
       " (datetime.datetime(2007, 11, 21, 11, 26, 30), 'david.horwitz@uct.ac.za'),\n",
       " (datetime.datetime(2007, 11, 21, 11, 0, 16), 'ian@caret.cam.ac.uk'),\n",
       " (datetime.datetime(2007, 11, 21, 10, 19, 57), 'aaronz@vt.edu'),\n",
       " (datetime.datetime(2007, 11, 21, 10, 4, 8), 'aaronz@vt.edu'),\n",
       " (datetime.datetime(2007, 11, 21, 9, 16, 50), 'rjlowe@iupui.edu'),\n",
       " (datetime.datetime(2007, 11, 21, 9, 14, 35), 'rjlowe@iupui.edu'),\n",
       " (datetime.datetime(2007, 11, 21, 9, 12, 7), 'rjlowe@iupui.edu'),\n",
       " (datetime.datetime(2007, 11, 21, 7, 54, 2), 'ian@caret.cam.ac.uk'),\n",
       " (datetime.datetime(2007, 11, 21, 7, 34, 15), 'gopal.ramasammycook@gmail.com'),\n",
       " (datetime.datetime(2007, 11, 21, 7, 7, 44), 'ian@caret.cam.ac.uk'),\n",
       " (datetime.datetime(2007, 11, 21, 5, 48, 24), 'david.horwitz@uct.ac.za'),\n",
       " (datetime.datetime(2007, 11, 21, 2, 56, 22), 'gopal.ramasammycook@gmail.com'),\n",
       " (datetime.datetime(2007, 11, 20, 23, 14, 5), 'antranig@caret.cam.ac.uk'),\n",
       " (datetime.datetime(2007, 11, 20, 21, 44, 6), 'arwhyte@umich.edu'),\n",
       " (datetime.datetime(2007, 11, 20, 21, 40, 17), 'arwhyte@umich.edu'),\n",
       " (datetime.datetime(2007, 11, 20, 21, 37, 30), 'arwhyte@umich.edu'),\n",
       " (datetime.datetime(2007, 11, 20, 19, 42, 25), 'ian@caret.cam.ac.uk'),\n",
       " (datetime.datetime(2007, 11, 20, 19, 14, 38), 'ian@caret.cam.ac.uk'),\n",
       " (datetime.datetime(2007, 11, 20, 18, 14, 42), 'ray@media.berkeley.edu'),\n",
       " (datetime.datetime(2007, 11, 20, 17, 50, 15), 'ktsao@stanford.edu'),\n",
       " (datetime.datetime(2007, 11, 20, 16, 20), 'sgithens@caret.cam.ac.uk'),\n",
       " (datetime.datetime(2007, 11, 20, 16, 15, 3), 'zqian@umich.edu'),\n",
       " (datetime.datetime(2007, 11, 20, 16, 13, 24), 'cwen@iupui.edu'),\n",
       " (datetime.datetime(2007, 11, 20, 14, 31, 37), 'antranig@caret.cam.ac.uk'),\n",
       " (datetime.datetime(2007, 11, 20, 14, 27, 28), 'zqian@umich.edu'),\n",
       " (datetime.datetime(2007, 11, 20, 14, 27, 19), 'jimeng@umich.edu'),\n",
       " (datetime.datetime(2007, 11, 20, 14, 3, 31), 'jimeng@umich.edu'),\n",
       " (datetime.datetime(2007, 11, 20, 13, 44, 39), 'antranig@caret.cam.ac.uk'),\n",
       " (datetime.datetime(2007, 11, 20, 13, 42, 11), 'antranig@caret.cam.ac.uk'),\n",
       " (datetime.datetime(2007, 11, 20, 13, 33, 21), 'ssmail@indiana.edu'),\n",
       " (datetime.datetime(2007, 11, 20, 13, 23, 19), 'ian@caret.cam.ac.uk'),\n",
       " ...]"
      ]
     },
     "execution_count": 218,
     "metadata": {},
     "output_type": "execute_result"
    }
   ],
   "source": [
    "times"
   ]
  },
  {
   "cell_type": "code",
   "execution_count": 207,
   "metadata": {
    "collapsed": false
   },
   "outputs": [
    {
     "data": {
      "text/plain": [
       "[(datetime.datetime(2008, 1, 3, 16, 23, 48), 'cwen@iupui.edu'),\n",
       " (datetime.datetime(2008, 1, 3, 16, 29, 7), 'cwen@iupui.edu'),\n",
       " (datetime.datetime(2008, 1, 3, 16, 34, 40), 'cwen@iupui.edu'),\n",
       " (datetime.datetime(2008, 1, 3, 17, 7), 'ray@media.berkeley.edu'),\n",
       " (datetime.datetime(2008, 1, 3, 17, 18, 23), 'louis@media.berkeley.edu'),\n",
       " (datetime.datetime(2008, 1, 3, 19, 51, 21), 'louis@media.berkeley.edu'),\n",
       " (datetime.datetime(2008, 1, 4, 4, 7, 34), 'stephen.marquard@uct.ac.za'),\n",
       " (datetime.datetime(2008, 1, 4, 4, 33, 44), 'david.horwitz@uct.ac.za'),\n",
       " (datetime.datetime(2008, 1, 4, 4, 49, 8), 'david.horwitz@uct.ac.za'),\n",
       " (datetime.datetime(2008, 1, 4, 6, 8, 27), 'david.horwitz@uct.ac.za'),\n",
       " (datetime.datetime(2008, 1, 4, 7, 2, 32), 'david.horwitz@uct.ac.za'),\n",
       " (datetime.datetime(2008, 1, 4, 9, 5, 31), 'gopal.ramasammycook@gmail.com'),\n",
       " (datetime.datetime(2008, 1, 4, 10, 4, 14), 'antranig@caret.cam.ac.uk'),\n",
       " (datetime.datetime(2008, 1, 4, 10, 17, 43), 'zqian@umich.edu'),\n",
       " (datetime.datetime(2008, 1, 4, 10, 38, 42), 'wagnermr@iupui.edu'),\n",
       " (datetime.datetime(2008, 1, 4, 11, 10, 22), 'gsilver@umich.edu'),\n",
       " (datetime.datetime(2008, 1, 4, 11, 11, 3), 'zqian@umich.edu'),\n",
       " (datetime.datetime(2008, 1, 4, 11, 11, 52), 'gsilver@umich.edu'),\n",
       " (datetime.datetime(2008, 1, 4, 11, 12, 37), 'gsilver@umich.edu'),\n",
       " (datetime.datetime(2008, 1, 4, 11, 35, 8), 'cwen@iupui.edu'),\n",
       " (datetime.datetime(2008, 1, 4, 11, 37, 30), 'cwen@iupui.edu'),\n",
       " (datetime.datetime(2008, 1, 4, 14, 50, 18), 'rjlowe@iupui.edu'),\n",
       " (datetime.datetime(2008, 1, 4, 15, 3, 18), 'zqian@umich.edu'),\n",
       " (datetime.datetime(2008, 1, 4, 15, 46, 24), 'rjlowe@iupui.edu'),\n",
       " (datetime.datetime(2008, 1, 4, 16, 10, 39), 'zqian@umich.edu'),\n",
       " (datetime.datetime(2008, 1, 4, 18, 10, 48), 'louis@media.berkeley.edu'),\n",
       " (datetime.datetime(2008, 1, 5, 9, 14, 16), 'stephen.marquard@uct.ac.za')]"
      ]
     },
     "execution_count": 207,
     "metadata": {},
     "output_type": "execute_result"
    }
   ],
   "source": [
    "sorted(times)"
   ]
  },
  {
   "cell_type": "code",
   "execution_count": 223,
   "metadata": {
    "collapsed": false
   },
   "outputs": [
    {
     "data": {
      "text/plain": [
       "[('Oct 18 2007', 'dlhaines@umich.edu'),\n",
       " ('Oct 18 2007', 'zach.thomas@txstate.edu'),\n",
       " ('Oct 18 2007', 'chmaurer@iupui.edu'),\n",
       " ('Oct 18 2007', 'dlhaines@umich.edu'),\n",
       " ('Oct 18 2007', 'jzaremba@unicon.net'),\n",
       " ('Oct 18 2007', 'aaronz@vt.edu'),\n",
       " ('Oct 18 2007', 'aaronz@vt.edu'),\n",
       " ('Oct 18 2007', 'zqian@umich.edu'),\n",
       " ('Oct 18 2007', 'zqian@umich.edu'),\n",
       " ('Oct 18 2007', 'zqian@umich.edu'),\n",
       " ('Oct 18 2007', 'zqian@umich.edu'),\n",
       " ('Oct 18 2007', 'zqian@umich.edu'),\n",
       " ('Oct 18 2007', 'ian@caret.cam.ac.uk'),\n",
       " ('Oct 19 2007', 'ktsao@stanford.edu'),\n",
       " ('Oct 19 2007', 'aaronz@vt.edu'),\n",
       " ('Oct 19 2007', 'aaronz@vt.edu'),\n",
       " ('Oct 19 2007', 'ian@caret.cam.ac.uk'),\n",
       " ('Oct 19 2007', 'aaronz@vt.edu'),\n",
       " ('Oct 19 2007', 'aaronz@vt.edu'),\n",
       " ('Oct 19 2007', 'aaronz@vt.edu'),\n",
       " ('Oct 19 2007', 'aaronz@vt.edu'),\n",
       " ('Oct 19 2007', 'aaronz@vt.edu'),\n",
       " ('Oct 19 2007', 'aaronz@vt.edu'),\n",
       " ('Oct 19 2007', 'dlhaines@umich.edu'),\n",
       " ('Oct 19 2007', 'rjlowe@iupui.edu'),\n",
       " ('Oct 19 2007', 'rjlowe@iupui.edu'),\n",
       " ('Oct 19 2007', 'rjlowe@iupui.edu'),\n",
       " ('Oct 19 2007', 'ajpoland@iupui.edu'),\n",
       " ('Oct 19 2007', 'dlhaines@umich.edu'),\n",
       " ('Oct 19 2007', 'dlhaines@umich.edu'),\n",
       " ('Oct 19 2007', 'dlhaines@umich.edu'),\n",
       " ('Oct 19 2007', 'aaronz@vt.edu'),\n",
       " ('Oct 19 2007', 'aaronz@vt.edu'),\n",
       " ('Oct 19 2007', 'jzaremba@unicon.net'),\n",
       " ('Oct 19 2007', 'zqian@umich.edu'),\n",
       " ('Oct 19 2007', 'gsilver@umich.edu'),\n",
       " ('Oct 19 2007', 'gsilver@umich.edu'),\n",
       " ('Oct 19 2007', 'aaronz@vt.edu'),\n",
       " ('Oct 19 2007', 'aaronz@vt.edu'),\n",
       " ('Oct 19 2007', 'ktsao@stanford.edu'),\n",
       " ('Oct 19 2007', 'cwen@iupui.edu'),\n",
       " ('Oct 22 2007', 'aaronz@vt.edu'),\n",
       " ('Oct 22 2007', 'aaronz@vt.edu'),\n",
       " ('Oct 22 2007', 'rjlowe@iupui.edu'),\n",
       " ('Oct 22 2007', 'rjlowe@iupui.edu'),\n",
       " ('Oct 22 2007', 'dlhaines@umich.edu'),\n",
       " ('Oct 22 2007', 'rjlowe@iupui.edu'),\n",
       " ('Oct 22 2007', 'rjlowe@iupui.edu'),\n",
       " ('Oct 22 2007', 'gjthomas@iupui.edu'),\n",
       " ('Oct 22 2007', 'zqian@umich.edu'),\n",
       " ('Oct 22 2007', 'zqian@umich.edu'),\n",
       " ('Oct 22 2007', 'zqian@umich.edu'),\n",
       " ('Oct 22 2007', 'ajpoland@iupui.edu'),\n",
       " ('Oct 22 2007', 'zach.thomas@txstate.edu'),\n",
       " ('Oct 23 2007', 'aaronz@vt.edu'),\n",
       " ('Oct 23 2007', 'aaronz@vt.edu'),\n",
       " ('Oct 23 2007', 'aaronz@vt.edu'),\n",
       " ('Oct 23 2007', 'ajpoland@iupui.edu'),\n",
       " ('Oct 23 2007', 'ian@caret.cam.ac.uk'),\n",
       " ('Oct 23 2007', 'gsilver@umich.edu'),\n",
       " ('Oct 23 2007', 'gjthomas@iupui.edu'),\n",
       " ('Oct 23 2007', 'zqian@umich.edu'),\n",
       " ('Oct 23 2007', 'chmaurer@iupui.edu'),\n",
       " ('Oct 23 2007', 'chmaurer@iupui.edu'),\n",
       " ('Oct 23 2007', 'zqian@umich.edu'),\n",
       " ('Oct 23 2007', 'zqian@umich.edu'),\n",
       " ('Oct 23 2007', 'zqian@umich.edu'),\n",
       " ('Oct 23 2007', 'aaronz@vt.edu'),\n",
       " ('Oct 23 2007', 'ian@caret.cam.ac.uk'),\n",
       " ('Oct 23 2007', 'zqian@umich.edu'),\n",
       " ('Oct 23 2007', 'ian@caret.cam.ac.uk'),\n",
       " ('Oct 23 2007', 'ian@caret.cam.ac.uk'),\n",
       " ('Oct 23 2007', 'ian@caret.cam.ac.uk'),\n",
       " ('Oct 23 2007', 'dlhaines@umich.edu'),\n",
       " ('Oct 23 2007', 'ian@caret.cam.ac.uk'),\n",
       " ('Oct 23 2007', 'ian@caret.cam.ac.uk'),\n",
       " ('Oct 23 2007', 'ian@caret.cam.ac.uk'),\n",
       " ('Oct 23 2007', 'ian@caret.cam.ac.uk'),\n",
       " ('Oct 23 2007', 'zqian@umich.edu'),\n",
       " ('Oct 23 2007', 'zqian@umich.edu'),\n",
       " ('Oct 24 2007', 'ian@caret.cam.ac.uk'),\n",
       " ('Oct 24 2007', 'mbreuker@loi.nl'),\n",
       " ('Oct 24 2007', 'aaronz@vt.edu'),\n",
       " ('Oct 24 2007', 'aaronz@vt.edu'),\n",
       " ('Oct 24 2007', 'zqian@umich.edu'),\n",
       " ('Oct 24 2007', 'aaronz@vt.edu'),\n",
       " ('Oct 24 2007', 'aaronz@vt.edu'),\n",
       " ('Oct 24 2007', 'ian@caret.cam.ac.uk'),\n",
       " ('Oct 24 2007', 'aaronz@vt.edu'),\n",
       " ('Oct 24 2007', 'gjthomas@iupui.edu'),\n",
       " ('Oct 24 2007', 'gjthomas@iupui.edu'),\n",
       " ('Oct 24 2007', 'ian@caret.cam.ac.uk'),\n",
       " ('Oct 24 2007', 'chmaurer@iupui.edu'),\n",
       " ('Oct 24 2007', 'ian@caret.cam.ac.uk'),\n",
       " ('Oct 24 2007', 'zqian@umich.edu'),\n",
       " ('Oct 24 2007', 'ktsao@stanford.edu'),\n",
       " ('Oct 24 2007', 'ray@media.berkeley.edu'),\n",
       " ('Oct 25 2007', 'ian@caret.cam.ac.uk'),\n",
       " ('Oct 25 2007', 'ian@caret.cam.ac.uk'),\n",
       " ('Oct 25 2007', 'zach.thomas@txstate.edu'),\n",
       " ('Oct 25 2007', 'rjlowe@iupui.edu'),\n",
       " ('Oct 25 2007', 'rjlowe@iupui.edu'),\n",
       " ('Oct 25 2007', 'ajpoland@iupui.edu'),\n",
       " ('Oct 25 2007', 'bkirschn@umich.edu'),\n",
       " ('Oct 25 2007', 'bkirschn@umich.edu'),\n",
       " ('Oct 25 2007', 'louis@media.berkeley.edu'),\n",
       " ('Oct 25 2007', 'gsilver@umich.edu'),\n",
       " ('Oct 25 2007', 'zqian@umich.edu'),\n",
       " ('Oct 25 2007', 'mbreuker@loi.nl'),\n",
       " ('Oct 25 2007', 'bkirschn@umich.edu'),\n",
       " ('Oct 25 2007', 'zqian@umich.edu'),\n",
       " ('Oct 25 2007', 'ray@media.berkeley.edu'),\n",
       " ('Oct 25 2007', 'rjlowe@iupui.edu'),\n",
       " ('Oct 25 2007', 'ajpoland@iupui.edu'),\n",
       " ('Oct 25 2007', 'ray@media.berkeley.edu'),\n",
       " ('Oct 25 2007', 'ajpoland@iupui.edu'),\n",
       " ('Oct 25 2007', 'rjlowe@iupui.edu'),\n",
       " ('Oct 25 2007', 'louis@media.berkeley.edu'),\n",
       " ('Oct 25 2007', 'jzaremba@unicon.net'),\n",
       " ('Oct 25 2007', 'ray@media.berkeley.edu'),\n",
       " ('Oct 25 2007', 'zqian@umich.edu'),\n",
       " ('Oct 25 2007', 'louis@media.berkeley.edu'),\n",
       " ('Oct 25 2007', 'zqian@umich.edu'),\n",
       " ('Oct 25 2007', 'zqian@umich.edu'),\n",
       " ('Oct 26 2007', 'ray@media.berkeley.edu'),\n",
       " ('Oct 26 2007', 'bahollad@indiana.edu'),\n",
       " ('Oct 26 2007', 'zqian@umich.edu'),\n",
       " ('Oct 26 2007', 'zqian@umich.edu'),\n",
       " ('Oct 26 2007', 'zqian@umich.edu'),\n",
       " ('Oct 26 2007', 'ray@media.berkeley.edu'),\n",
       " ('Oct 26 2007', 'zqian@umich.edu'),\n",
       " ('Oct 26 2007', 'aaronz@vt.edu'),\n",
       " ('Oct 26 2007', 'bahollad@indiana.edu'),\n",
       " ('Oct 26 2007', 'aaronz@vt.edu'),\n",
       " ('Oct 26 2007', 'zqian@umich.edu'),\n",
       " ('Oct 26 2007', 'aaronz@vt.edu'),\n",
       " ('Oct 26 2007', 'ray@media.berkeley.edu'),\n",
       " ('Oct 26 2007', 'ktsao@stanford.edu'),\n",
       " ('Oct 26 2007', 'zqian@umich.edu'),\n",
       " ('Oct 26 2007', 'wagnermr@iupui.edu'),\n",
       " ('Oct 26 2007', 'ajpoland@iupui.edu'),\n",
       " ('Oct 26 2007', 'dlhaines@umich.edu'),\n",
       " ('Oct 26 2007', 'dlhaines@umich.edu'),\n",
       " ('Oct 26 2007', 'dlhaines@umich.edu'),\n",
       " ('Oct 26 2007', 'dlhaines@umich.edu'),\n",
       " ('Oct 26 2007', 'louis@media.berkeley.edu'),\n",
       " ('Oct 26 2007', 'ray@media.berkeley.edu'),\n",
       " ('Oct 26 2007', 'ray@media.berkeley.edu'),\n",
       " ('Oct 26 2007', 'ray@media.berkeley.edu'),\n",
       " ('Oct 26 2007', 'ray@media.berkeley.edu'),\n",
       " ('Oct 26 2007', 'colin.clark@utoronto.ca'),\n",
       " ('Oct 26 2007', 'jzaremba@unicon.net'),\n",
       " ('Oct 26 2007', 'zqian@umich.edu'),\n",
       " ('Oct 28 2007', 'jimeng@umich.edu'),\n",
       " ('Oct 29 2007', 'zach.thomas@txstate.edu'),\n",
       " ('Oct 29 2007', 'david.horwitz@uct.ac.za'),\n",
       " ('Oct 29 2007', 'mbreuker@loi.nl'),\n",
       " ('Oct 29 2007', 'dlhaines@umich.edu'),\n",
       " ('Oct 29 2007', 'a.fish@lancaster.ac.uk'),\n",
       " ('Oct 29 2007', 'a.fish@lancaster.ac.uk'),\n",
       " ('Oct 29 2007', 'a.fish@lancaster.ac.uk'),\n",
       " ('Oct 29 2007', 'rjlowe@iupui.edu'),\n",
       " ('Oct 29 2007', 'rjlowe@iupui.edu'),\n",
       " ('Oct 29 2007', 'ajpoland@iupui.edu'),\n",
       " ('Oct 29 2007', 'mbreuker@loi.nl'),\n",
       " ('Oct 29 2007', 'mbreuker@loi.nl'),\n",
       " ('Oct 29 2007', 'mbreuker@loi.nl'),\n",
       " ('Oct 29 2007', 'mbreuker@loi.nl'),\n",
       " ('Oct 29 2007', 'mbreuker@loi.nl'),\n",
       " ('Oct 29 2007', 'mbreuker@loi.nl'),\n",
       " ('Oct 29 2007', 'gsilver@umich.edu'),\n",
       " ('Oct 29 2007', 'a.fish@lancaster.ac.uk'),\n",
       " ('Oct 29 2007', 'a.fish@lancaster.ac.uk'),\n",
       " ('Oct 29 2007', 'a.fish@lancaster.ac.uk'),\n",
       " ('Oct 29 2007', 'dlhaines@umich.edu'),\n",
       " ('Oct 29 2007', 'hu2@iupui.edu'),\n",
       " ('Oct 29 2007', 'rjlowe@iupui.edu'),\n",
       " ('Oct 29 2007', 'rjlowe@iupui.edu'),\n",
       " ('Oct 29 2007', 'ajpoland@iupui.edu'),\n",
       " ('Oct 29 2007', 'rjlowe@iupui.edu'),\n",
       " ('Oct 29 2007', 'aaronz@vt.edu'),\n",
       " ('Oct 29 2007', 'aaronz@vt.edu'),\n",
       " ('Oct 29 2007', 'aaronz@vt.edu'),\n",
       " ('Oct 29 2007', 'kimsooil@bu.edu'),\n",
       " ('Oct 29 2007', 'zqian@umich.edu'),\n",
       " ('Oct 29 2007', 'hu2@iupui.edu'),\n",
       " ('Oct 29 2007', 'kimsooil@bu.edu'),\n",
       " ('Oct 29 2007', 'kimsooil@bu.edu'),\n",
       " ('Oct 29 2007', 'kimsooil@bu.edu'),\n",
       " ('Oct 29 2007', 'cwen@iupui.edu'),\n",
       " ('Oct 29 2007', 'dlhaines@umich.edu'),\n",
       " ('Oct 29 2007', 'mmmay@indiana.edu'),\n",
       " ('Oct 29 2007', 'zqian@umich.edu'),\n",
       " ('Oct 29 2007', 'dlhaines@umich.edu'),\n",
       " ('Oct 29 2007', 'aaronz@vt.edu'),\n",
       " ('Oct 29 2007', 'kimsooil@bu.edu'),\n",
       " ('Oct 29 2007', 'mmmay@indiana.edu'),\n",
       " ('Oct 29 2007', 'mmmay@indiana.edu'),\n",
       " ('Oct 29 2007', 'mmmay@indiana.edu'),\n",
       " ('Oct 29 2007', 'mmmay@indiana.edu'),\n",
       " ('Oct 29 2007', 'mmmay@indiana.edu'),\n",
       " ('Oct 29 2007', 'mmmay@indiana.edu'),\n",
       " ('Oct 29 2007', 'mmmay@indiana.edu'),\n",
       " ('Oct 29 2007', 'mmmay@indiana.edu'),\n",
       " ('Oct 29 2007', 'mmmay@indiana.edu'),\n",
       " ('Oct 29 2007', 'mmmay@indiana.edu'),\n",
       " ('Oct 29 2007', 'zqian@umich.edu'),\n",
       " ('Oct 29 2007', 'mmmay@indiana.edu'),\n",
       " ('Oct 29 2007', 'kimsooil@bu.edu'),\n",
       " ('Oct 29 2007', 'mmmay@indiana.edu'),\n",
       " ('Oct 29 2007', 'mmmay@indiana.edu'),\n",
       " ('Oct 29 2007', 'mmmay@indiana.edu'),\n",
       " ('Oct 29 2007', 'cwen@iupui.edu'),\n",
       " ('Oct 29 2007', 'mmmay@indiana.edu'),\n",
       " ('Oct 29 2007', 'mmmay@indiana.edu'),\n",
       " ('Oct 29 2007', 'mmmay@indiana.edu'),\n",
       " ('Oct 29 2007', 'mmmay@indiana.edu'),\n",
       " ('Oct 29 2007', 'mmmay@indiana.edu'),\n",
       " ('Oct 29 2007', 'mmmay@indiana.edu'),\n",
       " ('Oct 29 2007', 'mmmay@indiana.edu'),\n",
       " ('Oct 29 2007', 'mmmay@indiana.edu'),\n",
       " ('Oct 29 2007', 'mmmay@indiana.edu'),\n",
       " ('Oct 29 2007', 'mmmay@indiana.edu'),\n",
       " ('Oct 29 2007', 'mmmay@indiana.edu'),\n",
       " ('Oct 29 2007', 'mmmay@indiana.edu'),\n",
       " ('Oct 29 2007', 'mmmay@indiana.edu'),\n",
       " ('Oct 29 2007', 'mmmay@indiana.edu'),\n",
       " ('Oct 29 2007', 'mmmay@indiana.edu'),\n",
       " ('Oct 29 2007', 'mmmay@indiana.edu'),\n",
       " ('Oct 29 2007', 'mmmay@indiana.edu'),\n",
       " ('Oct 29 2007', 'mmmay@indiana.edu'),\n",
       " ('Oct 29 2007', 'mmmay@indiana.edu'),\n",
       " ('Oct 29 2007', 'mmmay@indiana.edu'),\n",
       " ('Oct 29 2007', 'mmmay@indiana.edu'),\n",
       " ('Oct 29 2007', 'mmmay@indiana.edu'),\n",
       " ('Oct 29 2007', 'mmmay@indiana.edu'),\n",
       " ('Oct 29 2007', 'mmmay@indiana.edu'),\n",
       " ('Oct 29 2007', 'mmmay@indiana.edu'),\n",
       " ('Oct 30 2007', 'david.horwitz@uct.ac.za'),\n",
       " ('Oct 30 2007', 'jleasia@umich.edu'),\n",
       " ('Oct 30 2007', 'david.horwitz@uct.ac.za'),\n",
       " ('Oct 30 2007', 'wagnermr@iupui.edu'),\n",
       " ('Oct 30 2007', 'rjlowe@iupui.edu'),\n",
       " ('Oct 30 2007', 'rjlowe@iupui.edu'),\n",
       " ('Oct 30 2007', 'dlhaines@umich.edu'),\n",
       " ('Oct 30 2007', 'ajpoland@iupui.edu'),\n",
       " ('Oct 30 2007', 'ajpoland@iupui.edu'),\n",
       " ('Oct 30 2007', 'ajpoland@iupui.edu'),\n",
       " ('Oct 30 2007', 'ajpoland@iupui.edu'),\n",
       " ('Oct 30 2007', 'ajpoland@iupui.edu'),\n",
       " ('Oct 30 2007', 'ajpoland@iupui.edu'),\n",
       " ('Oct 30 2007', 'ajpoland@iupui.edu'),\n",
       " ('Oct 30 2007', 'ajpoland@iupui.edu'),\n",
       " ('Oct 30 2007', 'ajpoland@iupui.edu'),\n",
       " ('Oct 30 2007', 'ajpoland@iupui.edu'),\n",
       " ('Oct 30 2007', 'ajpoland@iupui.edu'),\n",
       " ('Oct 30 2007', 'ajpoland@iupui.edu'),\n",
       " ('Oct 30 2007', 'ajpoland@iupui.edu'),\n",
       " ('Oct 30 2007', 'ajpoland@iupui.edu'),\n",
       " ('Oct 30 2007', 'ajpoland@iupui.edu'),\n",
       " ('Oct 30 2007', 'ajpoland@iupui.edu'),\n",
       " ('Oct 30 2007', 'ajpoland@iupui.edu'),\n",
       " ('Oct 30 2007', 'ajpoland@iupui.edu'),\n",
       " ('Oct 30 2007', 'ajpoland@iupui.edu'),\n",
       " ('Oct 30 2007', 'chmaurer@iupui.edu'),\n",
       " ('Oct 30 2007', 'ajpoland@iupui.edu'),\n",
       " ('Oct 30 2007', 'kimsooil@bu.edu'),\n",
       " ('Oct 30 2007', 'nuno@ufp.pt'),\n",
       " ('Oct 30 2007', 'kimsooil@bu.edu'),\n",
       " ('Oct 30 2007', 'zqian@umich.edu'),\n",
       " ('Oct 30 2007', 'dlhaines@umich.edu'),\n",
       " ('Oct 30 2007', 'dlhaines@umich.edu'),\n",
       " ('Oct 30 2007', 'dlhaines@umich.edu'),\n",
       " ('Oct 30 2007', 'kimsooil@bu.edu'),\n",
       " ('Oct 30 2007', 'rjlowe@iupui.edu'),\n",
       " ('Oct 30 2007', 'ajpoland@iupui.edu'),\n",
       " ('Oct 30 2007', 'chmaurer@iupui.edu'),\n",
       " ('Oct 30 2007', 'rjlowe@iupui.edu'),\n",
       " ('Oct 30 2007', 'ajpoland@iupui.edu'),\n",
       " ('Oct 30 2007', 'john.ellis@rsmart.com'),\n",
       " ('Oct 30 2007', 'chmaurer@iupui.edu'),\n",
       " ('Oct 30 2007', 'zqian@umich.edu'),\n",
       " ('Oct 30 2007', 'dlhaines@umich.edu'),\n",
       " ('Oct 30 2007', 'dlhaines@umich.edu'),\n",
       " ('Oct 30 2007', 'dlhaines@umich.edu'),\n",
       " ('Oct 30 2007', 'dlhaines@umich.edu'),\n",
       " ('Oct 30 2007', 'dlhaines@umich.edu'),\n",
       " ('Oct 30 2007', 'dlhaines@umich.edu'),\n",
       " ('Oct 30 2007', 'dlhaines@umich.edu'),\n",
       " ('Oct 30 2007', 'jzaremba@unicon.net'),\n",
       " ('Oct 30 2007', 'zach.thomas@txstate.edu'),\n",
       " ('Oct 30 2007', 'jzaremba@unicon.net'),\n",
       " ('Oct 30 2007', 'zqian@umich.edu'),\n",
       " ('Oct 31 2007', 'david.horwitz@uct.ac.za'),\n",
       " ('Oct 31 2007', 'david.horwitz@uct.ac.za'),\n",
       " ('Oct 31 2007', 'aaronz@vt.edu'),\n",
       " ('Oct 31 2007', 'a.fish@lancaster.ac.uk'),\n",
       " ('Oct 31 2007', 'sgithens@caret.cam.ac.uk'),\n",
       " ('Oct 31 2007', 'aaronz@vt.edu'),\n",
       " ('Oct 31 2007', 'wagnermr@iupui.edu'),\n",
       " ('Oct 31 2007', 'wagnermr@iupui.edu'),\n",
       " ('Oct 31 2007', 'ajpoland@iupui.edu'),\n",
       " ('Oct 31 2007', 'cwen@iupui.edu'),\n",
       " ('Oct 31 2007', 'zach.thomas@txstate.edu'),\n",
       " ('Oct 31 2007', 'bahollad@indiana.edu'),\n",
       " ('Oct 31 2007', 'ktsao@stanford.edu'),\n",
       " ('Oct 31 2007', 'cwen@iupui.edu'),\n",
       " ('Oct 31 2007', 'jzaremba@unicon.net'),\n",
       " ('Oct 31 2007', 'zqian@umich.edu'),\n",
       " ('Nov 01 2007', 'david.horwitz@uct.ac.za'),\n",
       " ('Nov 01 2007', 'wagnermr@iupui.edu'),\n",
       " ('Nov 01 2007', 'ajpoland@iupui.edu'),\n",
       " ('Nov 01 2007', 'hu2@iupui.edu'),\n",
       " ('Nov 01 2007', 'gjthomas@iupui.edu'),\n",
       " ('Nov 01 2007', 'gjthomas@iupui.edu'),\n",
       " ('Nov 01 2007', 'gsilver@umich.edu'),\n",
       " ('Nov 01 2007', 'wagnermr@iupui.edu'),\n",
       " ('Nov 01 2007', 'zach.thomas@txstate.edu'),\n",
       " ('Nov 01 2007', 'mmmay@indiana.edu'),\n",
       " ('Nov 01 2007', 'mmmay@indiana.edu'),\n",
       " ('Nov 01 2007', 'mmmay@indiana.edu'),\n",
       " ('Nov 01 2007', 'wagnermr@iupui.edu'),\n",
       " ('Nov 01 2007', 'mmmay@indiana.edu'),\n",
       " ('Nov 01 2007', 'mmmay@indiana.edu'),\n",
       " ('Nov 01 2007', 'mmmay@indiana.edu'),\n",
       " ('Nov 01 2007', 'bkirschn@umich.edu'),\n",
       " ('Nov 01 2007', 'ostermmg@whitman.edu'),\n",
       " ('Nov 01 2007', 'zach.thomas@txstate.edu'),\n",
       " ('Nov 02 2007', 'ian@caret.cam.ac.uk'),\n",
       " ('Nov 02 2007', 'ian@caret.cam.ac.uk'),\n",
       " ('Nov 04 2007', 'ray@media.berkeley.edu'),\n",
       " ('Nov 04 2007', 'bkirschn@umich.edu'),\n",
       " ('Nov 04 2007', 'zqian@umich.edu'),\n",
       " ('Nov 04 2007', 'bkirschn@umich.edu'),\n",
       " ('Nov 04 2007', 'dlhaines@umich.edu'),\n",
       " ('Nov 04 2007', 'zqian@umich.edu'),\n",
       " ('Nov 04 2007', 'dlhaines@umich.edu'),\n",
       " ('Nov 04 2007', 'mmmay@indiana.edu'),\n",
       " ('Nov 04 2007', 'ktsao@stanford.edu'),\n",
       " ('Nov 04 2007', 'zqian@umich.edu'),\n",
       " ('Nov 04 2007', 'bkirschn@umich.edu'),\n",
       " ('Nov 04 2007', 'bkirschn@umich.edu'),\n",
       " ('Nov 04 2007', 'bkirschn@umich.edu'),\n",
       " ('Nov 04 2007', 'bkirschn@umich.edu'),\n",
       " ('Nov 04 2007', 'jimeng@umich.edu'),\n",
       " ('Nov 04 2007', 'jzaremba@unicon.net'),\n",
       " ('Nov 04 2007', 'zqian@umich.edu'),\n",
       " ('Nov 04 2007', 'john.ellis@rsmart.com'),\n",
       " ('Nov 04 2007', 'aaronz@vt.edu'),\n",
       " ('Nov 04 2007', 'zqian@umich.edu'),\n",
       " ('Nov 04 2007', 'zqian@umich.edu'),\n",
       " ('Nov 04 2007', 'bkirschn@umich.edu'),\n",
       " ('Nov 04 2007', 'bkirschn@umich.edu'),\n",
       " ('Nov 04 2007', 'jimeng@umich.edu'),\n",
       " ('Nov 04 2007', 'bkirschn@umich.edu'),\n",
       " ('Nov 04 2007', 'mmmay@indiana.edu'),\n",
       " ('Nov 05 2007', 'nuno@ufp.pt'),\n",
       " ('Nov 05 2007', 'nuno@ufp.pt'),\n",
       " ('Nov 05 2007', 'rjlowe@iupui.edu'),\n",
       " ('Nov 05 2007', 'csev@umich.edu'),\n",
       " ('Nov 05 2007', 'aaronz@vt.edu'),\n",
       " ('Nov 05 2007', 'ajpoland@iupui.edu'),\n",
       " ('Nov 05 2007', 'jzaremba@unicon.net'),\n",
       " ('Nov 05 2007', 'aaronz@vt.edu'),\n",
       " ('Nov 05 2007', 'bahollad@indiana.edu'),\n",
       " ('Nov 05 2007', 'zqian@umich.edu'),\n",
       " ('Nov 05 2007', 'csev@umich.edu'),\n",
       " ('Nov 05 2007', 'josrodri@iupui.edu'),\n",
       " ('Nov 05 2007', 'csev@umich.edu'),\n",
       " ('Nov 05 2007', 'zqian@umich.edu'),\n",
       " ('Nov 05 2007', 'zqian@umich.edu'),\n",
       " ('Nov 05 2007', 'ray@media.berkeley.edu'),\n",
       " ('Nov 05 2007', 'ray@media.berkeley.edu'),\n",
       " ('Nov 05 2007', 'zqian@umich.edu'),\n",
       " ('Nov 05 2007', 'zqian@umich.edu'),\n",
       " ('Nov 05 2007', 'zqian@umich.edu'),\n",
       " ('Nov 05 2007', 'mmmay@indiana.edu'),\n",
       " ('Nov 05 2007', 'mmmay@indiana.edu'),\n",
       " ('Nov 05 2007', 'mmmay@indiana.edu'),\n",
       " ('Nov 05 2007', 'mmmay@indiana.edu'),\n",
       " ('Nov 05 2007', 'mmmay@indiana.edu'),\n",
       " ('Nov 05 2007', 'bkirschn@umich.edu'),\n",
       " ('Nov 05 2007', 'mmmay@indiana.edu'),\n",
       " ('Nov 05 2007', 'hu2@iupui.edu'),\n",
       " ('Nov 05 2007', 'ray@media.berkeley.edu'),\n",
       " ('Nov 05 2007', 'ian@caret.cam.ac.uk'),\n",
       " ('Nov 05 2007', 'zqian@umich.edu'),\n",
       " ('Nov 05 2007', 'zqian@umich.edu'),\n",
       " ('Nov 06 2007', 'david.horwitz@uct.ac.za'),\n",
       " ('Nov 06 2007', 'gopal.ramasammycook@gmail.com'),\n",
       " ('Nov 06 2007', 'rjlowe@iupui.edu'),\n",
       " ('Nov 06 2007', 'wagnermr@iupui.edu'),\n",
       " ('Nov 06 2007', 'mmmay@indiana.edu'),\n",
       " ('Nov 06 2007', 'mmmay@indiana.edu'),\n",
       " ('Nov 06 2007', 'mmmay@indiana.edu'),\n",
       " ('Nov 06 2007', 'mmmay@indiana.edu'),\n",
       " ('Nov 06 2007', 'mmmay@indiana.edu'),\n",
       " ('Nov 06 2007', 'mmmay@indiana.edu'),\n",
       " ('Nov 06 2007', 'mmmay@indiana.edu'),\n",
       " ('Nov 06 2007', 'mmmay@indiana.edu'),\n",
       " ('Nov 06 2007', 'mmmay@indiana.edu'),\n",
       " ('Nov 06 2007', 'david.horwitz@uct.ac.za'),\n",
       " ('Nov 06 2007', 'mmmay@indiana.edu'),\n",
       " ('Nov 06 2007', 'mmmay@indiana.edu'),\n",
       " ('Nov 06 2007', 'ggolden@umich.edu'),\n",
       " ('Nov 06 2007', 'antranig@caret.cam.ac.uk'),\n",
       " ('Nov 06 2007', 'ggolden@umich.edu'),\n",
       " ('Nov 06 2007', 'antranig@caret.cam.ac.uk'),\n",
       " ('Nov 06 2007', 'david.horwitz@uct.ac.za'),\n",
       " ('Nov 06 2007', 'mmmay@indiana.edu'),\n",
       " ('Nov 06 2007', 'mmmay@indiana.edu'),\n",
       " ('Nov 06 2007', 'ray@media.berkeley.edu'),\n",
       " ('Nov 06 2007', 'mmmay@indiana.edu'),\n",
       " ('Nov 06 2007', 'mmmay@indiana.edu'),\n",
       " ('Nov 06 2007', 'mmmay@indiana.edu'),\n",
       " ('Nov 06 2007', 'sgithens@caret.cam.ac.uk'),\n",
       " ('Nov 06 2007', 'mmmay@indiana.edu'),\n",
       " ('Nov 06 2007', 'mmmay@indiana.edu'),\n",
       " ('Nov 06 2007', 'mmmay@indiana.edu'),\n",
       " ('Nov 06 2007', 'mmmay@indiana.edu'),\n",
       " ('Nov 06 2007', 'mmmay@indiana.edu'),\n",
       " ('Nov 06 2007', 'mmmay@indiana.edu'),\n",
       " ('Nov 06 2007', 'mmmay@indiana.edu'),\n",
       " ('Nov 06 2007', 'mmmay@indiana.edu'),\n",
       " ('Nov 06 2007', 'gjthomas@iupui.edu'),\n",
       " ('Nov 06 2007', 'josrodri@iupui.edu'),\n",
       " ('Nov 06 2007', 'mmmay@indiana.edu'),\n",
       " ('Nov 06 2007', 'zqian@umich.edu'),\n",
       " ('Nov 06 2007', 'zqian@umich.edu'),\n",
       " ('Nov 06 2007', 'wagnermr@iupui.edu'),\n",
       " ('Nov 06 2007', 'arwhyte@umich.edu'),\n",
       " ('Nov 06 2007', 'arwhyte@umich.edu'),\n",
       " ('Nov 06 2007', 'arwhyte@umich.edu'),\n",
       " ('Nov 06 2007', 'arwhyte@umich.edu'),\n",
       " ('Nov 06 2007', 'arwhyte@umich.edu'),\n",
       " ('Nov 06 2007', 'dlhaines@umich.edu'),\n",
       " ('Nov 06 2007', 'dlhaines@umich.edu'),\n",
       " ('Nov 06 2007', 'arwhyte@umich.edu'),\n",
       " ('Nov 06 2007', 'arwhyte@umich.edu'),\n",
       " ('Nov 06 2007', 'arwhyte@umich.edu'),\n",
       " ('Nov 06 2007', 'arwhyte@umich.edu'),\n",
       " ('Nov 06 2007', 'dlhaines@umich.edu'),\n",
       " ('Nov 06 2007', 'rjlowe@iupui.edu'),\n",
       " ('Nov 06 2007', 'arwhyte@umich.edu'),\n",
       " ('Nov 06 2007', 'zqian@umich.edu'),\n",
       " ('Nov 06 2007', 'josrodri@iupui.edu'),\n",
       " ('Nov 06 2007', 'dlhaines@umich.edu'),\n",
       " ('Nov 06 2007', 'dlhaines@umich.edu'),\n",
       " ('Nov 06 2007', 'mmmay@indiana.edu'),\n",
       " ('Nov 06 2007', 'mmmay@indiana.edu'),\n",
       " ('Nov 06 2007', 'mmmay@indiana.edu'),\n",
       " ('Nov 06 2007', 'mmmay@indiana.edu'),\n",
       " ('Nov 06 2007', 'josrodri@iupui.edu'),\n",
       " ('Nov 06 2007', 'josrodri@iupui.edu'),\n",
       " ('Nov 06 2007', 'mmmay@indiana.edu'),\n",
       " ('Nov 06 2007', 'mmmay@indiana.edu'),\n",
       " ('Nov 06 2007', 'mmmay@indiana.edu'),\n",
       " ('Nov 06 2007', 'ian@caret.cam.ac.uk'),\n",
       " ('Nov 07 2007', 'sgithens@caret.cam.ac.uk'),\n",
       " ('Nov 07 2007', 'aaronz@vt.edu'),\n",
       " ('Nov 07 2007', 'aaronz@vt.edu'),\n",
       " ('Nov 07 2007', 'aaronz@vt.edu'),\n",
       " ('Nov 07 2007', 'aaronz@vt.edu'),\n",
       " ('Nov 07 2007', 'aaronz@vt.edu'),\n",
       " ('Nov 07 2007', 'aaronz@vt.edu'),\n",
       " ('Nov 07 2007', 'aaronz@vt.edu'),\n",
       " ('Nov 07 2007', 'aaronz@vt.edu'),\n",
       " ('Nov 07 2007', 'aaronz@vt.edu'),\n",
       " ('Nov 07 2007', 'wagnermr@iupui.edu'),\n",
       " ('Nov 07 2007', 'ajpoland@iupui.edu'),\n",
       " ('Nov 07 2007', 'aaronz@vt.edu'),\n",
       " ('Nov 07 2007', 'aaronz@vt.edu'),\n",
       " ('Nov 07 2007', 'aaronz@vt.edu'),\n",
       " ('Nov 07 2007', 'rjlowe@iupui.edu'),\n",
       " ('Nov 07 2007', 'rjlowe@iupui.edu'),\n",
       " ('Nov 07 2007', 'ajpoland@iupui.edu'),\n",
       " ('Nov 07 2007', 'mmmay@indiana.edu'),\n",
       " ('Nov 07 2007', 'zqian@umich.edu'),\n",
       " ('Nov 07 2007', 'mmmay@indiana.edu'),\n",
       " ('Nov 07 2007', 'ajpoland@iupui.edu'),\n",
       " ('Nov 07 2007', 'dlhaines@umich.edu'),\n",
       " ('Nov 07 2007', 'dlhaines@umich.edu'),\n",
       " ('Nov 07 2007', 'arwhyte@umich.edu'),\n",
       " ('Nov 07 2007', 'nuno@ufp.pt'),\n",
       " ('Nov 07 2007', 'aaronz@vt.edu'),\n",
       " ('Nov 07 2007', 'kimsooil@bu.edu'),\n",
       " ('Nov 07 2007', 'kimsooil@bu.edu'),\n",
       " ('Nov 07 2007', 'aaronz@vt.edu'),\n",
       " ('Nov 07 2007', 'aaronz@vt.edu'),\n",
       " ('Nov 07 2007', 'aaronz@vt.edu'),\n",
       " ('Nov 07 2007', 'zqian@umich.edu'),\n",
       " ('Nov 08 2007', 'aaronz@vt.edu'),\n",
       " ('Nov 08 2007', 'aaronz@vt.edu'),\n",
       " ('Nov 08 2007', 'aaronz@vt.edu'),\n",
       " ('Nov 08 2007', 'ian@caret.cam.ac.uk'),\n",
       " ('Nov 08 2007', 'aaronz@vt.edu'),\n",
       " ('Nov 08 2007', 'aaronz@vt.edu'),\n",
       " ('Nov 08 2007', 'ian@caret.cam.ac.uk'),\n",
       " ('Nov 08 2007', 'wagnermr@iupui.edu'),\n",
       " ('Nov 08 2007', 'chmaurer@iupui.edu'),\n",
       " ('Nov 08 2007', 'chmaurer@iupui.edu'),\n",
       " ('Nov 08 2007', 'aaronz@vt.edu'),\n",
       " ('Nov 08 2007', 'wagnermr@iupui.edu'),\n",
       " ('Nov 08 2007', 'dlhaines@umich.edu'),\n",
       " ('Nov 08 2007', 'chmaurer@iupui.edu'),\n",
       " ('Nov 08 2007', 'chmaurer@iupui.edu'),\n",
       " ('Nov 08 2007', 'zqian@umich.edu'),\n",
       " ('Nov 08 2007', 'gopal.ramasammycook@gmail.com'),\n",
       " ('Nov 08 2007', 'dlhaines@umich.edu'),\n",
       " ('Nov 08 2007', 'dlhaines@umich.edu'),\n",
       " ('Nov 08 2007', 'sgithens@caret.cam.ac.uk'),\n",
       " ('Nov 08 2007', 'dlhaines@umich.edu'),\n",
       " ('Nov 08 2007', 'dlhaines@umich.edu'),\n",
       " ('Nov 08 2007', 'dlhaines@umich.edu'),\n",
       " ('Nov 08 2007', 'dlhaines@umich.edu'),\n",
       " ('Nov 08 2007', 'dlhaines@umich.edu'),\n",
       " ('Nov 08 2007', 'aaronz@vt.edu'),\n",
       " ('Nov 08 2007', 'aaronz@vt.edu'),\n",
       " ('Nov 08 2007', 'jimeng@umich.edu'),\n",
       " ('Nov 08 2007', 'ostermmg@whitman.edu'),\n",
       " ('Nov 08 2007', 'ostermmg@whitman.edu'),\n",
       " ('Nov 09 2007', 'jimeng@umich.edu'),\n",
       " ('Nov 09 2007', 'aaronz@vt.edu'),\n",
       " ('Nov 09 2007', 'sgithens@caret.cam.ac.uk'),\n",
       " ('Nov 09 2007', 'aaronz@vt.edu'),\n",
       " ('Nov 09 2007', 'ajpoland@iupui.edu'),\n",
       " ('Nov 09 2007', 'dlhaines@umich.edu'),\n",
       " ('Nov 09 2007', 'dlhaines@umich.edu'),\n",
       " ('Nov 09 2007', 'chmaurer@iupui.edu'),\n",
       " ('Nov 09 2007', 'chmaurer@iupui.edu'),\n",
       " ('Nov 09 2007', 'chmaurer@iupui.edu'),\n",
       " ('Nov 09 2007', 'gopal.ramasammycook@gmail.com'),\n",
       " ('Nov 09 2007', 'bkirschn@umich.edu'),\n",
       " ('Nov 09 2007', 'aaronz@vt.edu'),\n",
       " ('Nov 09 2007', 'john.ellis@rsmart.com'),\n",
       " ('Nov 09 2007', 'gsilver@umich.edu'),\n",
       " ('Nov 09 2007', 'bkirschn@umich.edu'),\n",
       " ('Nov 09 2007', 'cwen@iupui.edu'),\n",
       " ('Nov 09 2007', 'rjlowe@iupui.edu'),\n",
       " ('Nov 09 2007', 'rjlowe@iupui.edu'),\n",
       " ('Nov 09 2007', 'rjlowe@iupui.edu'),\n",
       " ('Nov 09 2007', 'ajpoland@iupui.edu'),\n",
       " ('Nov 09 2007', 'rjlowe@iupui.edu'),\n",
       " ('Nov 09 2007', 'ajpoland@iupui.edu'),\n",
       " ('Nov 09 2007', 'ray@media.berkeley.edu'),\n",
       " ('Nov 09 2007', 'rjlowe@iupui.edu'),\n",
       " ('Nov 09 2007', 'rjlowe@iupui.edu'),\n",
       " ('Nov 09 2007', 'rjlowe@iupui.edu'),\n",
       " ('Nov 10 2007', 'aaronz@vt.edu'),\n",
       " ('Nov 10 2007', 'aaronz@vt.edu'),\n",
       " ('Nov 10 2007', 'aaronz@vt.edu'),\n",
       " ('Nov 10 2007', 'aaronz@vt.edu'),\n",
       " ('Nov 10 2007', 'aaronz@vt.edu'),\n",
       " ('Nov 10 2007', 'aaronz@vt.edu'),\n",
       " ('Nov 10 2007', 'aaronz@vt.edu'),\n",
       " ('Nov 10 2007', 'sgithens@caret.cam.ac.uk'),\n",
       " ('Nov 10 2007', 'sgithens@caret.cam.ac.uk'),\n",
       " ('Nov 10 2007', 'jimeng@umich.edu'),\n",
       " ('Nov 10 2007', 'rjlowe@iupui.edu'),\n",
       " ('Nov 10 2007', 'aaronz@vt.edu'),\n",
       " ('Nov 10 2007', 'aaronz@vt.edu'),\n",
       " ('Nov 10 2007', 'aaronz@vt.edu'),\n",
       " ('Nov 10 2007', 'jimeng@umich.edu'),\n",
       " ('Nov 11 2007', 'aaronz@vt.edu'),\n",
       " ('Nov 11 2007', 'aaronz@vt.edu'),\n",
       " ('Nov 11 2007', 'aaronz@vt.edu'),\n",
       " ('Nov 11 2007', 'ajpoland@iupui.edu'),\n",
       " ('Nov 11 2007', 'ian@caret.cam.ac.uk'),\n",
       " ('Nov 12 2007', 'david.horwitz@uct.ac.za'),\n",
       " ('Nov 12 2007', 'david.horwitz@uct.ac.za'),\n",
       " ('Nov 12 2007', 'david.horwitz@uct.ac.za'),\n",
       " ('Nov 12 2007', 'david.horwitz@uct.ac.za'),\n",
       " ('Nov 12 2007', 'gopal.ramasammycook@gmail.com'),\n",
       " ('Nov 12 2007', 'zqian@umich.edu'),\n",
       " ('Nov 12 2007', 'zqian@umich.edu'),\n",
       " ('Nov 12 2007', 'rjlowe@iupui.edu'),\n",
       " ('Nov 12 2007', 'wagnermr@iupui.edu'),\n",
       " ('Nov 12 2007', 'josrodri@iupui.edu'),\n",
       " ('Nov 13 2007', 'hu2@iupui.edu'),\n",
       " ('Nov 13 2007', 'wagnermr@iupui.edu'),\n",
       " ('Nov 13 2007', 'aaronz@vt.edu'),\n",
       " ('Nov 13 2007', 'aaronz@vt.edu'),\n",
       " ('Nov 13 2007', 'zqian@umich.edu'),\n",
       " ('Nov 13 2007', 'zqian@umich.edu'),\n",
       " ('Nov 13 2007', 'zqian@umich.edu'),\n",
       " ('Nov 13 2007', 'josrodri@iupui.edu'),\n",
       " ('Nov 13 2007', 'jimeng@umich.edu'),\n",
       " ('Nov 13 2007', 'cwen@iupui.edu'),\n",
       " ('Nov 13 2007', 'ostermmg@whitman.edu'),\n",
       " ('Nov 13 2007', 'ajpoland@iupui.edu'),\n",
       " ('Nov 13 2007', 'ostermmg@whitman.edu'),\n",
       " ('Nov 13 2007', 'ostermmg@whitman.edu'),\n",
       " ('Nov 13 2007', 'ostermmg@whitman.edu'),\n",
       " ('Nov 13 2007', 'ostermmg@whitman.edu'),\n",
       " ('Nov 13 2007', 'ostermmg@whitman.edu'),\n",
       " ('Nov 13 2007', 'ray@media.berkeley.edu'),\n",
       " ('Nov 14 2007', 'david.horwitz@uct.ac.za'),\n",
       " ('Nov 14 2007', 'wagnermr@iupui.edu'),\n",
       " ('Nov 14 2007', 'wagnermr@iupui.edu'),\n",
       " ('Nov 14 2007', 'ajpoland@iupui.edu'),\n",
       " ('Nov 14 2007', 'aaronz@vt.edu'),\n",
       " ('Nov 14 2007', 'aaronz@vt.edu'),\n",
       " ('Nov 14 2007', 'wagnermr@iupui.edu'),\n",
       " ('Nov 14 2007', 'wagnermr@iupui.edu'),\n",
       " ('Nov 14 2007', 'ajpoland@iupui.edu'),\n",
       " ('Nov 14 2007', 'gopal.ramasammycook@gmail.com'),\n",
       " ('Nov 14 2007', 'gsilver@umich.edu'),\n",
       " ('Nov 14 2007', 'wagnermr@iupui.edu'),\n",
       " ('Nov 14 2007', 'zqian@umich.edu'),\n",
       " ('Nov 14 2007', 'antranig@caret.cam.ac.uk'),\n",
       " ('Nov 14 2007', 'ian@caret.cam.ac.uk'),\n",
       " ('Nov 14 2007', 'rjlowe@iupui.edu'),\n",
       " ('Nov 14 2007', 'zqian@umich.edu'),\n",
       " ('Nov 14 2007', 'josrodri@iupui.edu'),\n",
       " ('Nov 14 2007', 'antranig@caret.cam.ac.uk'),\n",
       " ('Nov 14 2007', 'antranig@caret.cam.ac.uk'),\n",
       " ('Nov 14 2007', 'rjlowe@iupui.edu'),\n",
       " ('Nov 14 2007', 'ostermmg@whitman.edu'),\n",
       " ('Nov 14 2007', 'ostermmg@whitman.edu'),\n",
       " ('Nov 14 2007', 'ostermmg@whitman.edu'),\n",
       " ('Nov 14 2007', 'josrodri@iupui.edu'),\n",
       " ('Nov 14 2007', 'ostermmg@whitman.edu'),\n",
       " ('Nov 14 2007', 'ray@media.berkeley.edu'),\n",
       " ('Nov 14 2007', 'jimeng@umich.edu'),\n",
       " ('Nov 14 2007', 'jimeng@umich.edu'),\n",
       " ('Nov 14 2007', 'jimeng@umich.edu'),\n",
       " ('Nov 14 2007', 'jimeng@umich.edu'),\n",
       " ('Nov 14 2007', 'zqian@umich.edu'),\n",
       " ('Nov 14 2007', 'jimeng@umich.edu'),\n",
       " ('Nov 14 2007', 'jimeng@umich.edu'),\n",
       " ('Nov 14 2007', 'jimeng@umich.edu'),\n",
       " ('Nov 14 2007', 'jimeng@umich.edu'),\n",
       " ('Nov 14 2007', 'jimeng@umich.edu'),\n",
       " ('Nov 14 2007', 'jimeng@umich.edu'),\n",
       " ('Nov 14 2007', 'ostermmg@whitman.edu'),\n",
       " ('Nov 14 2007', 'zqian@umich.edu'),\n",
       " ('Nov 15 2007', 'kimsooil@bu.edu'),\n",
       " ('Nov 15 2007', 'kimsooil@bu.edu'),\n",
       " ('Nov 15 2007', 'kimsooil@bu.edu'),\n",
       " ('Nov 15 2007', 'zqian@umich.edu'),\n",
       " ('Nov 15 2007', 'gopal.ramasammycook@gmail.com'),\n",
       " ('Nov 15 2007', 'rjlowe@iupui.edu'),\n",
       " ('Nov 15 2007', 'zqian@umich.edu'),\n",
       " ('Nov 15 2007', 'zqian@umich.edu'),\n",
       " ('Nov 15 2007', 'rjlowe@iupui.edu'),\n",
       " ('Nov 15 2007', 'zqian@umich.edu'),\n",
       " ('Nov 15 2007', 'antranig@caret.cam.ac.uk'),\n",
       " ('Nov 15 2007', 'zqian@umich.edu'),\n",
       " ('Nov 15 2007', 'rjlowe@iupui.edu'),\n",
       " ('Nov 15 2007', 'rjlowe@iupui.edu'),\n",
       " ('Nov 15 2007', 'rjlowe@iupui.edu'),\n",
       " ('Nov 15 2007', 'rjlowe@iupui.edu'),\n",
       " ('Nov 15 2007', 'rjlowe@iupui.edu'),\n",
       " ('Nov 15 2007', 'rjlowe@iupui.edu'),\n",
       " ('Nov 15 2007', 'rjlowe@iupui.edu'),\n",
       " ('Nov 15 2007', 'rjlowe@iupui.edu'),\n",
       " ('Nov 15 2007', 'rjlowe@iupui.edu'),\n",
       " ('Nov 15 2007', 'rjlowe@iupui.edu'),\n",
       " ('Nov 15 2007', 'rjlowe@iupui.edu'),\n",
       " ('Nov 15 2007', 'rjlowe@iupui.edu'),\n",
       " ('Nov 15 2007', 'antranig@caret.cam.ac.uk'),\n",
       " ('Nov 15 2007', 'antranig@caret.cam.ac.uk'),\n",
       " ('Nov 15 2007', 'chmaurer@iupui.edu'),\n",
       " ('Nov 15 2007', 'ajpoland@iupui.edu'),\n",
       " ('Nov 15 2007', 'john.ellis@rsmart.com'),\n",
       " ('Nov 15 2007', 'jimeng@umich.edu'),\n",
       " ('Nov 15 2007', 'jimeng@umich.edu'),\n",
       " ('Nov 15 2007', 'jimeng@umich.edu'),\n",
       " ('Nov 15 2007', 'jimeng@umich.edu'),\n",
       " ('Nov 15 2007', 'jimeng@umich.edu'),\n",
       " ('Nov 15 2007', 'jimeng@umich.edu'),\n",
       " ('Nov 15 2007', 'jimeng@umich.edu'),\n",
       " ('Nov 15 2007', 'jimeng@umich.edu'),\n",
       " ('Nov 15 2007', 'zqian@umich.edu'),\n",
       " ('Nov 16 2007', 'gopal.ramasammycook@gmail.com'),\n",
       " ('Nov 16 2007', 'jimeng@umich.edu'),\n",
       " ('Nov 16 2007', 'jimeng@umich.edu'),\n",
       " ('Nov 16 2007', 'jimeng@umich.edu'),\n",
       " ('Nov 16 2007', 'zqian@umich.edu'),\n",
       " ('Nov 16 2007', 'antranig@caret.cam.ac.uk'),\n",
       " ('Nov 16 2007', 'antranig@caret.cam.ac.uk'),\n",
       " ('Nov 16 2007', 'bkirschn@umich.edu'),\n",
       " ('Nov 16 2007', 'ian@caret.cam.ac.uk'),\n",
       " ('Nov 16 2007', 'ian@caret.cam.ac.uk'),\n",
       " ('Nov 16 2007', 'aaronz@vt.edu'),\n",
       " ('Nov 16 2007', 'aaronz@vt.edu'),\n",
       " ('Nov 16 2007', 'sgithens@caret.cam.ac.uk'),\n",
       " ('Nov 16 2007', 'sgithens@caret.cam.ac.uk'),\n",
       " ('Nov 16 2007', 'zqian@umich.edu'),\n",
       " ('Nov 16 2007', 'jimeng@umich.edu'),\n",
       " ('Nov 16 2007', 'sgithens@caret.cam.ac.uk'),\n",
       " ('Nov 16 2007', 'gsilver@umich.edu'),\n",
       " ('Nov 16 2007', 'cwen@iupui.edu'),\n",
       " ('Nov 16 2007', 'ajpoland@iupui.edu'),\n",
       " ('Nov 16 2007', 'sgithens@caret.cam.ac.uk'),\n",
       " ('Nov 16 2007', 'zqian@umich.edu'),\n",
       " ('Nov 18 2007', 'david.horwitz@uct.ac.za'),\n",
       " ('Nov 19 2007', 'sgithens@caret.cam.ac.uk'),\n",
       " ('Nov 19 2007', 'aaronz@vt.edu'),\n",
       " ('Nov 19 2007', 'aaronz@vt.edu'),\n",
       " ('Nov 19 2007', 'chmaurer@iupui.edu'),\n",
       " ('Nov 19 2007', 'chmaurer@iupui.edu'),\n",
       " ('Nov 19 2007', 'chmaurer@iupui.edu'),\n",
       " ('Nov 19 2007', 'zqian@umich.edu'),\n",
       " ('Nov 19 2007', 'gsilver@umich.edu'),\n",
       " ('Nov 19 2007', 'chmaurer@iupui.edu'),\n",
       " ('Nov 19 2007', 'sgithens@caret.cam.ac.uk'),\n",
       " ('Nov 19 2007', 'chmaurer@iupui.edu'),\n",
       " ('Nov 19 2007', 'mmmay@indiana.edu'),\n",
       " ('Nov 19 2007', 'mmmay@indiana.edu'),\n",
       " ('Nov 19 2007', 'mmmay@indiana.edu'),\n",
       " ('Nov 19 2007', 'mmmay@indiana.edu'),\n",
       " ('Nov 19 2007', 'mmmay@indiana.edu'),\n",
       " ('Nov 19 2007', 'mmmay@indiana.edu'),\n",
       " ('Nov 19 2007', 'mmmay@indiana.edu'),\n",
       " ('Nov 19 2007', 'mmmay@indiana.edu'),\n",
       " ('Nov 19 2007', 'chmaurer@iupui.edu'),\n",
       " ('Nov 19 2007', 'thoppaymallika@fhda.edu'),\n",
       " ('Nov 19 2007', 'mmmay@indiana.edu'),\n",
       " ('Nov 19 2007', 'mmmay@indiana.edu'),\n",
       " ('Nov 19 2007', 'mmmay@indiana.edu'),\n",
       " ('Nov 19 2007', 'mmmay@indiana.edu'),\n",
       " ('Nov 19 2007', 'mmmay@indiana.edu'),\n",
       " ('Nov 19 2007', 'mmmay@indiana.edu'),\n",
       " ('Nov 19 2007', 'mmmay@indiana.edu'),\n",
       " ('Nov 19 2007', 'mmmay@indiana.edu'),\n",
       " ('Nov 19 2007', 'mmmay@indiana.edu'),\n",
       " ('Nov 19 2007', 'zqian@umich.edu'),\n",
       " ('Nov 19 2007', 'mmmay@indiana.edu'),\n",
       " ('Nov 19 2007', 'cwen@iupui.edu'),\n",
       " ('Nov 19 2007', 'jimeng@umich.edu'),\n",
       " ('Nov 19 2007', 'jimeng@umich.edu'),\n",
       " ('Nov 19 2007', 'jimeng@umich.edu'),\n",
       " ('Nov 19 2007', 'ktsao@stanford.edu'),\n",
       " ('Nov 19 2007', 'mmmay@indiana.edu'),\n",
       " ('Nov 19 2007', 'mmmay@indiana.edu'),\n",
       " ('Nov 19 2007', 'mmmay@indiana.edu'),\n",
       " ('Nov 19 2007', 'mmmay@indiana.edu'),\n",
       " ('Nov 19 2007', 'john.ellis@rsmart.com'),\n",
       " ('Nov 19 2007', 'jimeng@umich.edu'),\n",
       " ('Nov 19 2007', 'jimeng@umich.edu'),\n",
       " ('Nov 19 2007', 'jimeng@umich.edu'),\n",
       " ('Nov 19 2007', 'jimeng@umich.edu'),\n",
       " ('Nov 19 2007', 'jimeng@umich.edu'),\n",
       " ('Nov 19 2007', 'jimeng@umich.edu'),\n",
       " ('Nov 19 2007', 'jimeng@umich.edu'),\n",
       " ('Nov 19 2007', 'jimeng@umich.edu'),\n",
       " ('Nov 19 2007', 'jimeng@umich.edu'),\n",
       " ('Nov 19 2007', 'jimeng@umich.edu'),\n",
       " ('Nov 20 2007', 'rjlowe@iupui.edu'),\n",
       " ('Nov 20 2007', 'rjlowe@iupui.edu'),\n",
       " ('Nov 20 2007', 'rjlowe@iupui.edu'),\n",
       " ('Nov 20 2007', 'rjlowe@iupui.edu'),\n",
       " ('Nov 20 2007', 'rjlowe@iupui.edu'),\n",
       " ('Nov 20 2007', 'rjlowe@iupui.edu'),\n",
       " ('Nov 20 2007', 'rjlowe@iupui.edu'),\n",
       " ('Nov 20 2007', 'rjlowe@iupui.edu'),\n",
       " ('Nov 20 2007', 'rjlowe@iupui.edu'),\n",
       " ('Nov 20 2007', 'rjlowe@iupui.edu'),\n",
       " ('Nov 20 2007', 'rjlowe@iupui.edu'),\n",
       " ('Nov 20 2007', 'rjlowe@iupui.edu'),\n",
       " ('Nov 20 2007', 'rjlowe@iupui.edu'),\n",
       " ('Nov 20 2007', 'rjlowe@iupui.edu'),\n",
       " ('Nov 20 2007', 'rjlowe@iupui.edu'),\n",
       " ('Nov 20 2007', 'rjlowe@iupui.edu'),\n",
       " ('Nov 20 2007', 'rjlowe@iupui.edu'),\n",
       " ('Nov 20 2007', 'rjlowe@iupui.edu'),\n",
       " ('Nov 20 2007', 'aaronz@vt.edu'),\n",
       " ('Nov 20 2007', 'sgithens@caret.cam.ac.uk'),\n",
       " ('Nov 20 2007', 'lance@indiana.edu'),\n",
       " ('Nov 20 2007', 'mmmay@indiana.edu'),\n",
       " ('Nov 20 2007', 'mmmay@indiana.edu'),\n",
       " ('Nov 20 2007', 'mmmay@indiana.edu'),\n",
       " ('Nov 20 2007', 'mmmay@indiana.edu'),\n",
       " ('Nov 20 2007', 'mmmay@indiana.edu'),\n",
       " ('Nov 20 2007', 'mmmay@indiana.edu'),\n",
       " ('Nov 20 2007', 'mmmay@indiana.edu'),\n",
       " ('Nov 20 2007', 'mmmay@indiana.edu'),\n",
       " ('Nov 20 2007', 'mmmay@indiana.edu'),\n",
       " ('Nov 20 2007', 'mmmay@indiana.edu'),\n",
       " ('Nov 20 2007', 'mmmay@indiana.edu'),\n",
       " ('Nov 20 2007', 'jimeng@umich.edu'),\n",
       " ('Nov 20 2007', 'mmmay@indiana.edu'),\n",
       " ('Nov 20 2007', 'ian@caret.cam.ac.uk'),\n",
       " ('Nov 20 2007', 'mmmay@indiana.edu'),\n",
       " ('Nov 20 2007', 'mmmay@indiana.edu'),\n",
       " ('Nov 20 2007', 'mmmay@indiana.edu'),\n",
       " ('Nov 20 2007', 'aaronz@vt.edu'),\n",
       " ('Nov 20 2007', 'gopal.ramasammycook@gmail.com'),\n",
       " ('Nov 20 2007', 'mmmay@indiana.edu'),\n",
       " ('Nov 20 2007', 'aaronz@vt.edu'),\n",
       " ('Nov 20 2007', 'ian@caret.cam.ac.uk'),\n",
       " ('Nov 20 2007', 'zqian@umich.edu'),\n",
       " ('Nov 20 2007', 'aaronz@vt.edu'),\n",
       " ('Nov 20 2007', 'ian@caret.cam.ac.uk'),\n",
       " ('Nov 20 2007', 'zqian@umich.edu'),\n",
       " ('Nov 20 2007', 'ian@caret.cam.ac.uk'),\n",
       " ('Nov 20 2007', 'ian@caret.cam.ac.uk'),\n",
       " ('Nov 20 2007', 'ssmail@indiana.edu'),\n",
       " ('Nov 20 2007', 'antranig@caret.cam.ac.uk'),\n",
       " ('Nov 20 2007', 'antranig@caret.cam.ac.uk'),\n",
       " ('Nov 20 2007', 'jimeng@umich.edu'),\n",
       " ('Nov 20 2007', 'jimeng@umich.edu'),\n",
       " ('Nov 20 2007', 'zqian@umich.edu'),\n",
       " ('Nov 20 2007', 'antranig@caret.cam.ac.uk'),\n",
       " ('Nov 20 2007', 'cwen@iupui.edu'),\n",
       " ('Nov 20 2007', 'zqian@umich.edu'),\n",
       " ('Nov 20 2007', 'sgithens@caret.cam.ac.uk'),\n",
       " ('Nov 20 2007', 'ktsao@stanford.edu'),\n",
       " ('Nov 20 2007', 'ray@media.berkeley.edu'),\n",
       " ('Nov 20 2007', 'ian@caret.cam.ac.uk'),\n",
       " ('Nov 20 2007', 'ian@caret.cam.ac.uk'),\n",
       " ('Nov 20 2007', 'arwhyte@umich.edu'),\n",
       " ('Nov 20 2007', 'arwhyte@umich.edu'),\n",
       " ('Nov 20 2007', 'arwhyte@umich.edu'),\n",
       " ('Nov 20 2007', 'antranig@caret.cam.ac.uk'),\n",
       " ('Nov 21 2007', 'gopal.ramasammycook@gmail.com'),\n",
       " ('Nov 21 2007', 'david.horwitz@uct.ac.za'),\n",
       " ('Nov 21 2007', 'ian@caret.cam.ac.uk'),\n",
       " ('Nov 21 2007', 'gopal.ramasammycook@gmail.com'),\n",
       " ('Nov 21 2007', 'ian@caret.cam.ac.uk'),\n",
       " ('Nov 21 2007', 'rjlowe@iupui.edu'),\n",
       " ('Nov 21 2007', 'rjlowe@iupui.edu'),\n",
       " ('Nov 21 2007', 'rjlowe@iupui.edu'),\n",
       " ('Nov 21 2007', 'aaronz@vt.edu'),\n",
       " ('Nov 21 2007', 'aaronz@vt.edu'),\n",
       " ('Nov 21 2007', 'ian@caret.cam.ac.uk'),\n",
       " ('Nov 21 2007', 'david.horwitz@uct.ac.za'),\n",
       " ('Nov 21 2007', 'ian@caret.cam.ac.uk'),\n",
       " ('Nov 21 2007', 'ian@caret.cam.ac.uk'),\n",
       " ('Nov 21 2007', 'ian@caret.cam.ac.uk'),\n",
       " ('Nov 21 2007', 'antranig@caret.cam.ac.uk'),\n",
       " ('Nov 21 2007', 'ian@caret.cam.ac.uk'),\n",
       " ('Nov 21 2007', 'ian@caret.cam.ac.uk'),\n",
       " ('Nov 21 2007', 'ian@caret.cam.ac.uk'),\n",
       " ('Nov 21 2007', 'antranig@caret.cam.ac.uk'),\n",
       " ('Nov 23 2007', 'david.horwitz@uct.ac.za'),\n",
       " ('Nov 24 2007', 'ggolden@umich.edu'),\n",
       " ('Nov 24 2007', 'ggolden@umich.edu'),\n",
       " ('Nov 24 2007', 'ggolden@umich.edu'),\n",
       " ('Nov 24 2007', 'ggolden@umich.edu'),\n",
       " ('Nov 25 2007', 'cwen@iupui.edu'),\n",
       " ('Nov 25 2007', 'ggolden@umich.edu'),\n",
       " ('Nov 25 2007', 'ggolden@umich.edu'),\n",
       " ('Nov 26 2007', 'sgithens@caret.cam.ac.uk'),\n",
       " ('Nov 26 2007', 'lance@indiana.edu'),\n",
       " ('Nov 26 2007', 'gopal.ramasammycook@gmail.com'),\n",
       " ('Nov 26 2007', 'wagnermr@iupui.edu'),\n",
       " ('Nov 26 2007', 'aaronz@vt.edu'),\n",
       " ('Nov 26 2007', 'wagnermr@iupui.edu'),\n",
       " ('Nov 26 2007', 'zqian@umich.edu'),\n",
       " ('Nov 26 2007', 'cwen@iupui.edu'),\n",
       " ('Nov 26 2007', 'aaronz@vt.edu'),\n",
       " ('Nov 26 2007', 'john.ellis@rsmart.com'),\n",
       " ('Nov 26 2007', 'john.ellis@rsmart.com'),\n",
       " ('Nov 26 2007', 'aaronz@vt.edu'),\n",
       " ('Nov 27 2007', 'ian@caret.cam.ac.uk'),\n",
       " ('Nov 27 2007', 'zqian@umich.edu'),\n",
       " ('Nov 27 2007', 'dlhaines@umich.edu'),\n",
       " ('Nov 27 2007', 'gopal.ramasammycook@gmail.com'),\n",
       " ('Nov 27 2007', 'zqian@umich.edu'),\n",
       " ('Nov 27 2007', 'zqian@umich.edu'),\n",
       " ('Nov 27 2007', 'zqian@umich.edu'),\n",
       " ('Nov 27 2007', 'dlhaines@umich.edu'),\n",
       " ('Nov 27 2007', 'ian@caret.cam.ac.uk'),\n",
       " ('Nov 27 2007', 'cwen@iupui.edu'),\n",
       " ('Nov 27 2007', 'cwen@iupui.edu'),\n",
       " ('Nov 27 2007', 'cwen@iupui.edu'),\n",
       " ('Nov 27 2007', 'chmaurer@iupui.edu'),\n",
       " ('Nov 27 2007', 'chmaurer@iupui.edu'),\n",
       " ('Nov 27 2007', 'stuart.freeman@et.gatech.edu'),\n",
       " ('Nov 27 2007', 'dlhaines@umich.edu'),\n",
       " ('Nov 27 2007', 'dlhaines@umich.edu'),\n",
       " ('Nov 27 2007', 'stuart.freeman@et.gatech.edu'),\n",
       " ('Nov 27 2007', 'zqian@umich.edu'),\n",
       " ('Nov 27 2007', 'ssmail@indiana.edu'),\n",
       " ('Nov 27 2007', 'ian@caret.cam.ac.uk'),\n",
       " ('Nov 27 2007', 'ian@caret.cam.ac.uk'),\n",
       " ('Nov 27 2007', 'sgithens@caret.cam.ac.uk'),\n",
       " ('Nov 28 2007', 'ian@caret.cam.ac.uk'),\n",
       " ('Nov 28 2007', 'ian@caret.cam.ac.uk'),\n",
       " ('Nov 28 2007', 'ian@caret.cam.ac.uk'),\n",
       " ('Nov 28 2007', 'ian@caret.cam.ac.uk'),\n",
       " ('Nov 28 2007', 'aaronz@vt.edu'),\n",
       " ('Nov 28 2007', 'zqian@umich.edu'),\n",
       " ('Nov 28 2007', 'ssmail@indiana.edu'),\n",
       " ('Nov 28 2007', 'aaronz@vt.edu'),\n",
       " ('Nov 28 2007', 'jimeng@umich.edu'),\n",
       " ('Nov 28 2007', 'jimeng@umich.edu'),\n",
       " ('Nov 28 2007', 'jimeng@umich.edu'),\n",
       " ('Nov 28 2007', 'jimeng@umich.edu'),\n",
       " ('Nov 28 2007', 'jimeng@umich.edu'),\n",
       " ('Nov 28 2007', 'jimeng@umich.edu'),\n",
       " ('Nov 28 2007', 'jimeng@umich.edu'),\n",
       " ('Nov 28 2007', 'jimeng@umich.edu'),\n",
       " ('Nov 28 2007', 'aaronz@vt.edu'),\n",
       " ('Nov 28 2007', 'dlhaines@umich.edu'),\n",
       " ('Nov 28 2007', 'zach.thomas@txstate.edu'),\n",
       " ('Nov 28 2007', 'ian@caret.cam.ac.uk'),\n",
       " ('Nov 28 2007', 'antranig@caret.cam.ac.uk'),\n",
       " ('Nov 28 2007', 'dlhaines@umich.edu'),\n",
       " ('Nov 28 2007', 'zqian@umich.edu'),\n",
       " ('Nov 28 2007', 'dlhaines@umich.edu'),\n",
       " ('Nov 28 2007', 'cwen@iupui.edu'),\n",
       " ('Nov 28 2007', 'dlhaines@umich.edu'),\n",
       " ('Nov 28 2007', 'dlhaines@umich.edu'),\n",
       " ('Nov 28 2007', 'aaronz@vt.edu'),\n",
       " ('Nov 28 2007', 'dlhaines@umich.edu'),\n",
       " ('Nov 28 2007', 'sgithens@caret.cam.ac.uk'),\n",
       " ('Nov 28 2007', 'dlhaines@umich.edu'),\n",
       " ('Nov 29 2007', 'gopal.ramasammycook@gmail.com'),\n",
       " ('Nov 29 2007', 'chmaurer@iupui.edu'),\n",
       " ('Nov 29 2007', 'chmaurer@iupui.edu'),\n",
       " ('Nov 29 2007', 'chmaurer@iupui.edu'),\n",
       " ('Nov 29 2007', 'jleasia@umich.edu'),\n",
       " ('Nov 29 2007', 'zqian@umich.edu'),\n",
       " ('Nov 29 2007', 'stuart.freeman@et.gatech.edu'),\n",
       " ('Nov 29 2007', 'stuart.freeman@et.gatech.edu'),\n",
       " ('Nov 29 2007', 'chmaurer@iupui.edu'),\n",
       " ('Nov 29 2007', 'chmaurer@iupui.edu'),\n",
       " ('Nov 29 2007', 'chmaurer@iupui.edu'),\n",
       " ('Nov 29 2007', 'chmaurer@iupui.edu'),\n",
       " ('Nov 29 2007', 'chmaurer@iupui.edu'),\n",
       " ('Nov 29 2007', 'chmaurer@iupui.edu'),\n",
       " ('Nov 29 2007', 'chmaurer@iupui.edu'),\n",
       " ('Nov 29 2007', 'chmaurer@iupui.edu'),\n",
       " ('Nov 29 2007', 'chmaurer@iupui.edu'),\n",
       " ('Nov 29 2007', 'john.ellis@rsmart.com'),\n",
       " ('Nov 29 2007', 'zqian@umich.edu'),\n",
       " ('Nov 29 2007', 'zqian@umich.edu'),\n",
       " ('Nov 29 2007', 'dlhaines@umich.edu'),\n",
       " ('Nov 29 2007', 'zqian@umich.edu'),\n",
       " ('Nov 29 2007', 'dlhaines@umich.edu'),\n",
       " ('Nov 29 2007', 'dlhaines@umich.edu'),\n",
       " ('Nov 29 2007', 'chmaurer@iupui.edu'),\n",
       " ('Nov 29 2007', 'cwen@iupui.edu'),\n",
       " ('Nov 29 2007', 'cwen@iupui.edu'),\n",
       " ('Nov 29 2007', 'chmaurer@iupui.edu'),\n",
       " ('Nov 29 2007', 'zqian@umich.edu'),\n",
       " ('Nov 29 2007', 'chmaurer@iupui.edu'),\n",
       " ('Nov 29 2007', 'cwen@iupui.edu'),\n",
       " ('Nov 29 2007', 'mmmay@indiana.edu'),\n",
       " ('Nov 29 2007', 'mmmay@indiana.edu'),\n",
       " ('Nov 29 2007', 'mmmay@indiana.edu'),\n",
       " ('Nov 29 2007', 'chmaurer@iupui.edu'),\n",
       " ('Nov 29 2007', 'chmaurer@iupui.edu'),\n",
       " ('Nov 29 2007', 'mmmay@indiana.edu'),\n",
       " ('Nov 29 2007', 'wagnermr@iupui.edu'),\n",
       " ('Nov 29 2007', 'mmmay@indiana.edu'),\n",
       " ('Nov 29 2007', 'mmmay@indiana.edu'),\n",
       " ('Nov 29 2007', 'jimeng@umich.edu'),\n",
       " ('Nov 29 2007', 'mmmay@indiana.edu'),\n",
       " ('Nov 29 2007', 'jimeng@umich.edu'),\n",
       " ('Nov 29 2007', 'ian@caret.cam.ac.uk'),\n",
       " ('Nov 29 2007', 'ian@caret.cam.ac.uk'),\n",
       " ('Nov 29 2007', 'ian@caret.cam.ac.uk'),\n",
       " ('Nov 29 2007', 'jimeng@umich.edu'),\n",
       " ('Nov 29 2007', 'jimeng@umich.edu'),\n",
       " ('Nov 29 2007', 'jimeng@umich.edu'),\n",
       " ('Nov 29 2007', 'jimeng@umich.edu'),\n",
       " ('Nov 29 2007', 'jimeng@umich.edu'),\n",
       " ('Nov 29 2007', 'chmaurer@iupui.edu'),\n",
       " ('Nov 30 2007', 'chmaurer@iupui.edu'),\n",
       " ('Nov 30 2007', 'chmaurer@iupui.edu'),\n",
       " ('Nov 30 2007', 'cwen@iupui.edu'),\n",
       " ('Nov 30 2007', 'cwen@iupui.edu'),\n",
       " ('Nov 30 2007', 'gopal.ramasammycook@gmail.com'),\n",
       " ('Nov 30 2007', 'chmaurer@iupui.edu'),\n",
       " ('Nov 30 2007', 'chmaurer@iupui.edu'),\n",
       " ('Nov 30 2007', 'cwen@iupui.edu'),\n",
       " ('Nov 30 2007', 'cwen@iupui.edu'),\n",
       " ('Nov 30 2007', 'cwen@iupui.edu'),\n",
       " ('Nov 30 2007', 'david.horwitz@uct.ac.za'),\n",
       " ('Nov 30 2007', 'chmaurer@iupui.edu'),\n",
       " ('Nov 30 2007', 'chmaurer@iupui.edu'),\n",
       " ('Nov 30 2007', 'chmaurer@iupui.edu'),\n",
       " ('Nov 30 2007', 'chmaurer@iupui.edu'),\n",
       " ('Nov 30 2007', 'cwen@iupui.edu'),\n",
       " ('Nov 30 2007', 'gjthomas@iupui.edu'),\n",
       " ('Nov 30 2007', 'gjthomas@iupui.edu'),\n",
       " ('Nov 30 2007', 'cwen@iupui.edu'),\n",
       " ('Nov 30 2007', 'chmaurer@iupui.edu'),\n",
       " ('Nov 30 2007', 'chmaurer@iupui.edu'),\n",
       " ('Nov 30 2007', 'cwen@iupui.edu'),\n",
       " ('Nov 30 2007', 'chmaurer@iupui.edu'),\n",
       " ('Nov 30 2007', 'chmaurer@iupui.edu'),\n",
       " ('Nov 30 2007', 'gjthomas@iupui.edu'),\n",
       " ('Nov 30 2007', 'gjthomas@iupui.edu'),\n",
       " ('Nov 30 2007', 'zqian@umich.edu'),\n",
       " ('Nov 30 2007', 'zqian@umich.edu'),\n",
       " ('Nov 30 2007', 'zqian@umich.edu'),\n",
       " ('Nov 30 2007', 'sgithens@caret.cam.ac.uk'),\n",
       " ('Dec 01 2007', 'sgithens@caret.cam.ac.uk'),\n",
       " ('Dec 01 2007', 'ian@caret.cam.ac.uk'),\n",
       " ('Dec 01 2007', 'aaronz@vt.edu'),\n",
       " ('Dec 01 2007', 'aaronz@vt.edu'),\n",
       " ('Dec 01 2007', 'aaronz@vt.edu'),\n",
       " ('Dec 01 2007', 'aaronz@vt.edu'),\n",
       " ('Dec 01 2007', 'aaronz@vt.edu'),\n",
       " ('Dec 01 2007', 'aaronz@vt.edu'),\n",
       " ...]"
      ]
     },
     "execution_count": 223,
     "metadata": {},
     "output_type": "execute_result"
    }
   ],
   "source": [
    "#this worked for mbox-short.txt but for the large one we'll discard hours\n",
    "short_date=[(date.strftime(\"%b %d %Y %H\")+\":00\",email) for date,email in sorted(times)]\n",
    "short_date=[(date.strftime(\"%b %d %Y\"),email) for date,email in sorted(times)]\n",
    "short_date"
   ]
  },
  {
   "cell_type": "code",
   "execution_count": 224,
   "metadata": {
    "collapsed": false
   },
   "outputs": [
    {
     "data": {
      "text/plain": [
       "{'Dec 01 2007': 9,\n",
       " 'Dec 02 2007': 4,\n",
       " 'Dec 03 2007': 17,\n",
       " 'Dec 04 2007': 9,\n",
       " 'Dec 05 2007': 9,\n",
       " 'Dec 06 2007': 38,\n",
       " 'Dec 07 2007': 56,\n",
       " 'Dec 08 2007': 2,\n",
       " 'Dec 09 2007': 3,\n",
       " 'Dec 10 2007': 12,\n",
       " 'Dec 11 2007': 32,\n",
       " 'Dec 12 2007': 46,\n",
       " 'Dec 13 2007': 60,\n",
       " 'Dec 14 2007': 56,\n",
       " 'Dec 15 2007': 24,\n",
       " 'Dec 16 2007': 15,\n",
       " 'Dec 17 2007': 58,\n",
       " 'Dec 18 2007': 69,\n",
       " 'Dec 19 2007': 43,\n",
       " 'Dec 20 2007': 56,\n",
       " 'Dec 21 2007': 38,\n",
       " 'Dec 22 2007': 2,\n",
       " 'Dec 23 2007': 1,\n",
       " 'Dec 24 2007': 2,\n",
       " 'Dec 25 2007': 1,\n",
       " 'Dec 26 2007': 3,\n",
       " 'Dec 27 2007': 17,\n",
       " 'Dec 28 2007': 6,\n",
       " 'Dec 29 2007': 4,\n",
       " 'Dec 30 2007': 7,\n",
       " 'Dec 31 2007': 7,\n",
       " 'Jan 01 2008': 2,\n",
       " 'Jan 02 2008': 34,\n",
       " 'Jan 03 2008': 42,\n",
       " 'Jan 04 2008': 20,\n",
       " 'Jan 05 2008': 1,\n",
       " 'Nov 01 2007': 19,\n",
       " 'Nov 02 2007': 2,\n",
       " 'Nov 04 2007': 26,\n",
       " 'Nov 05 2007': 32,\n",
       " 'Nov 06 2007': 70,\n",
       " 'Nov 07 2007': 33,\n",
       " 'Nov 08 2007': 30,\n",
       " 'Nov 09 2007': 27,\n",
       " 'Nov 10 2007': 15,\n",
       " 'Nov 11 2007': 5,\n",
       " 'Nov 12 2007': 10,\n",
       " 'Nov 13 2007': 18,\n",
       " 'Nov 14 2007': 40,\n",
       " 'Nov 15 2007': 38,\n",
       " 'Nov 16 2007': 22,\n",
       " 'Nov 18 2007': 1,\n",
       " 'Nov 19 2007': 52,\n",
       " 'Nov 20 2007': 67,\n",
       " 'Nov 21 2007': 20,\n",
       " 'Nov 23 2007': 1,\n",
       " 'Nov 24 2007': 4,\n",
       " 'Nov 25 2007': 3,\n",
       " 'Nov 26 2007': 12,\n",
       " 'Nov 27 2007': 23,\n",
       " 'Nov 28 2007': 31,\n",
       " 'Nov 29 2007': 52,\n",
       " 'Nov 30 2007': 30,\n",
       " 'Oct 18 2007': 13,\n",
       " 'Oct 19 2007': 28,\n",
       " 'Oct 22 2007': 13,\n",
       " 'Oct 23 2007': 26,\n",
       " 'Oct 24 2007': 17,\n",
       " 'Oct 25 2007': 27,\n",
       " 'Oct 26 2007': 29,\n",
       " 'Oct 28 2007': 1,\n",
       " 'Oct 29 2007': 84,\n",
       " 'Oct 30 2007': 55,\n",
       " 'Oct 31 2007': 16}"
      ]
     },
     "execution_count": 224,
     "metadata": {},
     "output_type": "execute_result"
    }
   ],
   "source": [
    "counts=dict()\n",
    "for date,email in short_date:\n",
    "    counts[date]=counts.get(date,0)+1\n",
    "counts"
   ]
  },
  {
   "cell_type": "code",
   "execution_count": 244,
   "metadata": {
    "collapsed": false
   },
   "outputs": [
    {
     "data": {
      "image/png": "[encoded data removed]",
      "text/plain": [
       "<matplotlib.figure.Figure at 0xd6831d99e8>"
      ]
     },
     "metadata": {},
     "output_type": "display_data"
    }
   ],
   "source": [
    "import numpy as np\n",
    "import matplotlib.pyplot as plt\n",
    "\n",
    "x_val=range(len(counts.keys()))\n",
    "labels=list(counts.keys())\n",
    "plt.bar(x_val, list(counts.values()), align='center')\n",
    "plt.xticks(x_val, labels, rotation = 90)\n",
    "plt.ylim(0,max(counts.values())*1.1)\n",
    "#plt.xlim(0,len(x_val)*1.5)\n",
    "\n",
    "fig = plt.gcf()\n",
    "fig.set_size_inches(18.5, 10.5)\n",
    "plt.show()"
   ]
  },
  {
   "cell_type": "code",
   "execution_count": null,
   "metadata": {
    "collapsed": true
   },
   "outputs": [],
   "source": []
  }
 ],
 "metadata": {
  "anaconda-cloud": {},
  "kernelspec": {
   "display_name": "Python [conda env:python3]",
   "language": "python",
   "name": "conda-env-python3-py"
  },
  "language_info": {
   "codemirror_mode": {
    "name": "ipython",
    "version": 3
   },
   "file_extension": ".py",
   "mimetype": "text/x-python",
   "name": "python",
   "nbconvert_exporter": "python",
   "pygments_lexer": "ipython3",
   "version": "3.5.2"
  }
 },
 "nbformat": 4,
 "nbformat_minor": 0
}
